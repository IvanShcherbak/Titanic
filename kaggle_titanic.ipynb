{
  "nbformat": 4,
  "nbformat_minor": 0,
  "metadata": {
    "colab": {
      "provenance": [],
      "authorship_tag": "ABX9TyN6DGL8x7FTNBZSxx0xm0EJ"
    },
    "kernelspec": {
      "name": "python3",
      "display_name": "Python 3"
    },
    "language_info": {
      "name": "python"
    }
  },
  "cells": [
    {
      "cell_type": "markdown",
      "source": [
        "Импортируем нужные библиотеки\n"
      ],
      "metadata": {
        "id": "QKZKgiUCfKxA"
      }
    },
    {
      "cell_type": "code",
      "execution_count": 175,
      "metadata": {
        "id": "hbrBEEzaB-Yn"
      },
      "outputs": [],
      "source": [
        "import pandas as pd\n",
        "import numpy as np\n",
        "import matplotlib.pyplot as plt\n",
        "import seaborn as sns\n",
        "from imblearn.over_sampling import SMOTE\n",
        "from sklearn.impute import KNNImputer\n",
        "from sklearn import preprocessing\n",
        "from sklearn.model_selection import train_test_split, GridSearchCV\n",
        "from sklearn.ensemble import RandomForestClassifier\n",
        "from sklearn.metrics import accuracy_score, classification_report\n",
        "from sklearn.linear_model import LogisticRegression\n",
        "import xgboost as xgb\n",
        "%matplotlib inline"
      ]
    },
    {
      "cell_type": "markdown",
      "source": [
        "Считываем данные\n"
      ],
      "metadata": {
        "id": "axCx3mhgfC27"
      }
    },
    {
      "cell_type": "code",
      "source": [
        "train_df = pd.read_csv('train.csv')\n",
        "test_df = pd.read_csv('test.csv')\n",
        "print(f'Train shape: {train_df.shape}')\n",
        "print(f'Test shape: {test_df.shape}')\n",
        "train_df"
      ],
      "metadata": {
        "colab": {
          "base_uri": "https://localhost:8080/",
          "height": 1000
        },
        "id": "KIXStjtlDhk9",
        "outputId": "4ebd0635-17d7-4021-f7b7-fcfdbfd3c886"
      },
      "execution_count": 176,
      "outputs": [
        {
          "output_type": "stream",
          "name": "stdout",
          "text": [
            "Train shape: (891, 12)\n",
            "Test shape: (418, 11)\n"
          ]
        },
        {
          "output_type": "execute_result",
          "data": {
            "text/plain": [
              "     PassengerId  Survived  Pclass  \\\n",
              "0              1         0       3   \n",
              "1              2         1       1   \n",
              "2              3         1       3   \n",
              "3              4         1       1   \n",
              "4              5         0       3   \n",
              "..           ...       ...     ...   \n",
              "886          887         0       2   \n",
              "887          888         1       1   \n",
              "888          889         0       3   \n",
              "889          890         1       1   \n",
              "890          891         0       3   \n",
              "\n",
              "                                                  Name     Sex   Age  SibSp  \\\n",
              "0                              Braund, Mr. Owen Harris    male  22.0      1   \n",
              "1    Cumings, Mrs. John Bradley (Florence Briggs Th...  female  38.0      1   \n",
              "2                               Heikkinen, Miss. Laina  female  26.0      0   \n",
              "3         Futrelle, Mrs. Jacques Heath (Lily May Peel)  female  35.0      1   \n",
              "4                             Allen, Mr. William Henry    male  35.0      0   \n",
              "..                                                 ...     ...   ...    ...   \n",
              "886                              Montvila, Rev. Juozas    male  27.0      0   \n",
              "887                       Graham, Miss. Margaret Edith  female  19.0      0   \n",
              "888           Johnston, Miss. Catherine Helen \"Carrie\"  female   NaN      1   \n",
              "889                              Behr, Mr. Karl Howell    male  26.0      0   \n",
              "890                                Dooley, Mr. Patrick    male  32.0      0   \n",
              "\n",
              "     Parch            Ticket     Fare Cabin Embarked  \n",
              "0        0         A/5 21171   7.2500   NaN        S  \n",
              "1        0          PC 17599  71.2833   C85        C  \n",
              "2        0  STON/O2. 3101282   7.9250   NaN        S  \n",
              "3        0            113803  53.1000  C123        S  \n",
              "4        0            373450   8.0500   NaN        S  \n",
              "..     ...               ...      ...   ...      ...  \n",
              "886      0            211536  13.0000   NaN        S  \n",
              "887      0            112053  30.0000   B42        S  \n",
              "888      2        W./C. 6607  23.4500   NaN        S  \n",
              "889      0            111369  30.0000  C148        C  \n",
              "890      0            370376   7.7500   NaN        Q  \n",
              "\n",
              "[891 rows x 12 columns]"
            ],
            "text/html": [
              "\n",
              "  <div id=\"df-e044b2fa-eaf0-412d-8125-8119b2ecd603\">\n",
              "    <div class=\"colab-df-container\">\n",
              "      <div>\n",
              "<style scoped>\n",
              "    .dataframe tbody tr th:only-of-type {\n",
              "        vertical-align: middle;\n",
              "    }\n",
              "\n",
              "    .dataframe tbody tr th {\n",
              "        vertical-align: top;\n",
              "    }\n",
              "\n",
              "    .dataframe thead th {\n",
              "        text-align: right;\n",
              "    }\n",
              "</style>\n",
              "<table border=\"1\" class=\"dataframe\">\n",
              "  <thead>\n",
              "    <tr style=\"text-align: right;\">\n",
              "      <th></th>\n",
              "      <th>PassengerId</th>\n",
              "      <th>Survived</th>\n",
              "      <th>Pclass</th>\n",
              "      <th>Name</th>\n",
              "      <th>Sex</th>\n",
              "      <th>Age</th>\n",
              "      <th>SibSp</th>\n",
              "      <th>Parch</th>\n",
              "      <th>Ticket</th>\n",
              "      <th>Fare</th>\n",
              "      <th>Cabin</th>\n",
              "      <th>Embarked</th>\n",
              "    </tr>\n",
              "  </thead>\n",
              "  <tbody>\n",
              "    <tr>\n",
              "      <th>0</th>\n",
              "      <td>1</td>\n",
              "      <td>0</td>\n",
              "      <td>3</td>\n",
              "      <td>Braund, Mr. Owen Harris</td>\n",
              "      <td>male</td>\n",
              "      <td>22.0</td>\n",
              "      <td>1</td>\n",
              "      <td>0</td>\n",
              "      <td>A/5 21171</td>\n",
              "      <td>7.2500</td>\n",
              "      <td>NaN</td>\n",
              "      <td>S</td>\n",
              "    </tr>\n",
              "    <tr>\n",
              "      <th>1</th>\n",
              "      <td>2</td>\n",
              "      <td>1</td>\n",
              "      <td>1</td>\n",
              "      <td>Cumings, Mrs. John Bradley (Florence Briggs Th...</td>\n",
              "      <td>female</td>\n",
              "      <td>38.0</td>\n",
              "      <td>1</td>\n",
              "      <td>0</td>\n",
              "      <td>PC 17599</td>\n",
              "      <td>71.2833</td>\n",
              "      <td>C85</td>\n",
              "      <td>C</td>\n",
              "    </tr>\n",
              "    <tr>\n",
              "      <th>2</th>\n",
              "      <td>3</td>\n",
              "      <td>1</td>\n",
              "      <td>3</td>\n",
              "      <td>Heikkinen, Miss. Laina</td>\n",
              "      <td>female</td>\n",
              "      <td>26.0</td>\n",
              "      <td>0</td>\n",
              "      <td>0</td>\n",
              "      <td>STON/O2. 3101282</td>\n",
              "      <td>7.9250</td>\n",
              "      <td>NaN</td>\n",
              "      <td>S</td>\n",
              "    </tr>\n",
              "    <tr>\n",
              "      <th>3</th>\n",
              "      <td>4</td>\n",
              "      <td>1</td>\n",
              "      <td>1</td>\n",
              "      <td>Futrelle, Mrs. Jacques Heath (Lily May Peel)</td>\n",
              "      <td>female</td>\n",
              "      <td>35.0</td>\n",
              "      <td>1</td>\n",
              "      <td>0</td>\n",
              "      <td>113803</td>\n",
              "      <td>53.1000</td>\n",
              "      <td>C123</td>\n",
              "      <td>S</td>\n",
              "    </tr>\n",
              "    <tr>\n",
              "      <th>4</th>\n",
              "      <td>5</td>\n",
              "      <td>0</td>\n",
              "      <td>3</td>\n",
              "      <td>Allen, Mr. William Henry</td>\n",
              "      <td>male</td>\n",
              "      <td>35.0</td>\n",
              "      <td>0</td>\n",
              "      <td>0</td>\n",
              "      <td>373450</td>\n",
              "      <td>8.0500</td>\n",
              "      <td>NaN</td>\n",
              "      <td>S</td>\n",
              "    </tr>\n",
              "    <tr>\n",
              "      <th>...</th>\n",
              "      <td>...</td>\n",
              "      <td>...</td>\n",
              "      <td>...</td>\n",
              "      <td>...</td>\n",
              "      <td>...</td>\n",
              "      <td>...</td>\n",
              "      <td>...</td>\n",
              "      <td>...</td>\n",
              "      <td>...</td>\n",
              "      <td>...</td>\n",
              "      <td>...</td>\n",
              "      <td>...</td>\n",
              "    </tr>\n",
              "    <tr>\n",
              "      <th>886</th>\n",
              "      <td>887</td>\n",
              "      <td>0</td>\n",
              "      <td>2</td>\n",
              "      <td>Montvila, Rev. Juozas</td>\n",
              "      <td>male</td>\n",
              "      <td>27.0</td>\n",
              "      <td>0</td>\n",
              "      <td>0</td>\n",
              "      <td>211536</td>\n",
              "      <td>13.0000</td>\n",
              "      <td>NaN</td>\n",
              "      <td>S</td>\n",
              "    </tr>\n",
              "    <tr>\n",
              "      <th>887</th>\n",
              "      <td>888</td>\n",
              "      <td>1</td>\n",
              "      <td>1</td>\n",
              "      <td>Graham, Miss. Margaret Edith</td>\n",
              "      <td>female</td>\n",
              "      <td>19.0</td>\n",
              "      <td>0</td>\n",
              "      <td>0</td>\n",
              "      <td>112053</td>\n",
              "      <td>30.0000</td>\n",
              "      <td>B42</td>\n",
              "      <td>S</td>\n",
              "    </tr>\n",
              "    <tr>\n",
              "      <th>888</th>\n",
              "      <td>889</td>\n",
              "      <td>0</td>\n",
              "      <td>3</td>\n",
              "      <td>Johnston, Miss. Catherine Helen \"Carrie\"</td>\n",
              "      <td>female</td>\n",
              "      <td>NaN</td>\n",
              "      <td>1</td>\n",
              "      <td>2</td>\n",
              "      <td>W./C. 6607</td>\n",
              "      <td>23.4500</td>\n",
              "      <td>NaN</td>\n",
              "      <td>S</td>\n",
              "    </tr>\n",
              "    <tr>\n",
              "      <th>889</th>\n",
              "      <td>890</td>\n",
              "      <td>1</td>\n",
              "      <td>1</td>\n",
              "      <td>Behr, Mr. Karl Howell</td>\n",
              "      <td>male</td>\n",
              "      <td>26.0</td>\n",
              "      <td>0</td>\n",
              "      <td>0</td>\n",
              "      <td>111369</td>\n",
              "      <td>30.0000</td>\n",
              "      <td>C148</td>\n",
              "      <td>C</td>\n",
              "    </tr>\n",
              "    <tr>\n",
              "      <th>890</th>\n",
              "      <td>891</td>\n",
              "      <td>0</td>\n",
              "      <td>3</td>\n",
              "      <td>Dooley, Mr. Patrick</td>\n",
              "      <td>male</td>\n",
              "      <td>32.0</td>\n",
              "      <td>0</td>\n",
              "      <td>0</td>\n",
              "      <td>370376</td>\n",
              "      <td>7.7500</td>\n",
              "      <td>NaN</td>\n",
              "      <td>Q</td>\n",
              "    </tr>\n",
              "  </tbody>\n",
              "</table>\n",
              "<p>891 rows × 12 columns</p>\n",
              "</div>\n",
              "      <button class=\"colab-df-convert\" onclick=\"convertToInteractive('df-e044b2fa-eaf0-412d-8125-8119b2ecd603')\"\n",
              "              title=\"Convert this dataframe to an interactive table.\"\n",
              "              style=\"display:none;\">\n",
              "        \n",
              "  <svg xmlns=\"http://www.w3.org/2000/svg\" height=\"24px\"viewBox=\"0 0 24 24\"\n",
              "       width=\"24px\">\n",
              "    <path d=\"M0 0h24v24H0V0z\" fill=\"none\"/>\n",
              "    <path d=\"M18.56 5.44l.94 2.06.94-2.06 2.06-.94-2.06-.94-.94-2.06-.94 2.06-2.06.94zm-11 1L8.5 8.5l.94-2.06 2.06-.94-2.06-.94L8.5 2.5l-.94 2.06-2.06.94zm10 10l.94 2.06.94-2.06 2.06-.94-2.06-.94-.94-2.06-.94 2.06-2.06.94z\"/><path d=\"M17.41 7.96l-1.37-1.37c-.4-.4-.92-.59-1.43-.59-.52 0-1.04.2-1.43.59L10.3 9.45l-7.72 7.72c-.78.78-.78 2.05 0 2.83L4 21.41c.39.39.9.59 1.41.59.51 0 1.02-.2 1.41-.59l7.78-7.78 2.81-2.81c.8-.78.8-2.07 0-2.86zM5.41 20L4 18.59l7.72-7.72 1.47 1.35L5.41 20z\"/>\n",
              "  </svg>\n",
              "      </button>\n",
              "      \n",
              "  <style>\n",
              "    .colab-df-container {\n",
              "      display:flex;\n",
              "      flex-wrap:wrap;\n",
              "      gap: 12px;\n",
              "    }\n",
              "\n",
              "    .colab-df-convert {\n",
              "      background-color: #E8F0FE;\n",
              "      border: none;\n",
              "      border-radius: 50%;\n",
              "      cursor: pointer;\n",
              "      display: none;\n",
              "      fill: #1967D2;\n",
              "      height: 32px;\n",
              "      padding: 0 0 0 0;\n",
              "      width: 32px;\n",
              "    }\n",
              "\n",
              "    .colab-df-convert:hover {\n",
              "      background-color: #E2EBFA;\n",
              "      box-shadow: 0px 1px 2px rgba(60, 64, 67, 0.3), 0px 1px 3px 1px rgba(60, 64, 67, 0.15);\n",
              "      fill: #174EA6;\n",
              "    }\n",
              "\n",
              "    [theme=dark] .colab-df-convert {\n",
              "      background-color: #3B4455;\n",
              "      fill: #D2E3FC;\n",
              "    }\n",
              "\n",
              "    [theme=dark] .colab-df-convert:hover {\n",
              "      background-color: #434B5C;\n",
              "      box-shadow: 0px 1px 3px 1px rgba(0, 0, 0, 0.15);\n",
              "      filter: drop-shadow(0px 1px 2px rgba(0, 0, 0, 0.3));\n",
              "      fill: #FFFFFF;\n",
              "    }\n",
              "  </style>\n",
              "\n",
              "      <script>\n",
              "        const buttonEl =\n",
              "          document.querySelector('#df-e044b2fa-eaf0-412d-8125-8119b2ecd603 button.colab-df-convert');\n",
              "        buttonEl.style.display =\n",
              "          google.colab.kernel.accessAllowed ? 'block' : 'none';\n",
              "\n",
              "        async function convertToInteractive(key) {\n",
              "          const element = document.querySelector('#df-e044b2fa-eaf0-412d-8125-8119b2ecd603');\n",
              "          const dataTable =\n",
              "            await google.colab.kernel.invokeFunction('convertToInteractive',\n",
              "                                                     [key], {});\n",
              "          if (!dataTable) return;\n",
              "\n",
              "          const docLinkHtml = 'Like what you see? Visit the ' +\n",
              "            '<a target=\"_blank\" href=https://colab.research.google.com/notebooks/data_table.ipynb>data table notebook</a>'\n",
              "            + ' to learn more about interactive tables.';\n",
              "          element.innerHTML = '';\n",
              "          dataTable['output_type'] = 'display_data';\n",
              "          await google.colab.output.renderOutput(dataTable, element);\n",
              "          const docLink = document.createElement('div');\n",
              "          docLink.innerHTML = docLinkHtml;\n",
              "          element.appendChild(docLink);\n",
              "        }\n",
              "      </script>\n",
              "    </div>\n",
              "  </div>\n",
              "  "
            ]
          },
          "metadata": {},
          "execution_count": 176
        }
      ]
    },
    {
      "cell_type": "markdown",
      "source": [
        "Анализируем данные на пропуски, категориальные признаки. Визуализиируем данные. Проверяем баланс классов, так как используется метрика accuracy\n"
      ],
      "metadata": {
        "id": "KTix5sosfS2M"
      }
    },
    {
      "cell_type": "code",
      "source": [
        "train_df['Survived'].value_counts()"
      ],
      "metadata": {
        "colab": {
          "base_uri": "https://localhost:8080/"
        },
        "id": "ERHy6n7LEfTV",
        "outputId": "18f001b8-9cd5-4d16-fd4f-b1adde6f889d"
      },
      "execution_count": 177,
      "outputs": [
        {
          "output_type": "execute_result",
          "data": {
            "text/plain": [
              "0    549\n",
              "1    342\n",
              "Name: Survived, dtype: int64"
            ]
          },
          "metadata": {},
          "execution_count": 177
        }
      ]
    },
    {
      "cell_type": "code",
      "source": [
        "train_df.info()"
      ],
      "metadata": {
        "colab": {
          "base_uri": "https://localhost:8080/"
        },
        "id": "We3-uJrPT_Y2",
        "outputId": "589114d2-8ed4-48dc-8b56-d87c21351667"
      },
      "execution_count": 178,
      "outputs": [
        {
          "output_type": "stream",
          "name": "stdout",
          "text": [
            "<class 'pandas.core.frame.DataFrame'>\n",
            "RangeIndex: 891 entries, 0 to 890\n",
            "Data columns (total 12 columns):\n",
            " #   Column       Non-Null Count  Dtype  \n",
            "---  ------       --------------  -----  \n",
            " 0   PassengerId  891 non-null    int64  \n",
            " 1   Survived     891 non-null    int64  \n",
            " 2   Pclass       891 non-null    int64  \n",
            " 3   Name         891 non-null    object \n",
            " 4   Sex          891 non-null    object \n",
            " 5   Age          714 non-null    float64\n",
            " 6   SibSp        891 non-null    int64  \n",
            " 7   Parch        891 non-null    int64  \n",
            " 8   Ticket       891 non-null    object \n",
            " 9   Fare         891 non-null    float64\n",
            " 10  Cabin        204 non-null    object \n",
            " 11  Embarked     889 non-null    object \n",
            "dtypes: float64(2), int64(5), object(5)\n",
            "memory usage: 83.7+ KB\n"
          ]
        }
      ]
    },
    {
      "cell_type": "code",
      "source": [
        "train_df.describe()"
      ],
      "metadata": {
        "colab": {
          "base_uri": "https://localhost:8080/",
          "height": 300
        },
        "id": "GgmPJUhLe08D",
        "outputId": "a475c8b4-5d2b-4bbd-da43-66246b6a21e4"
      },
      "execution_count": 179,
      "outputs": [
        {
          "output_type": "execute_result",
          "data": {
            "text/plain": [
              "       PassengerId    Survived      Pclass         Age       SibSp  \\\n",
              "count   891.000000  891.000000  891.000000  714.000000  891.000000   \n",
              "mean    446.000000    0.383838    2.308642   29.699118    0.523008   \n",
              "std     257.353842    0.486592    0.836071   14.526497    1.102743   \n",
              "min       1.000000    0.000000    1.000000    0.420000    0.000000   \n",
              "25%     223.500000    0.000000    2.000000   20.125000    0.000000   \n",
              "50%     446.000000    0.000000    3.000000   28.000000    0.000000   \n",
              "75%     668.500000    1.000000    3.000000   38.000000    1.000000   \n",
              "max     891.000000    1.000000    3.000000   80.000000    8.000000   \n",
              "\n",
              "            Parch        Fare  \n",
              "count  891.000000  891.000000  \n",
              "mean     0.381594   32.204208  \n",
              "std      0.806057   49.693429  \n",
              "min      0.000000    0.000000  \n",
              "25%      0.000000    7.910400  \n",
              "50%      0.000000   14.454200  \n",
              "75%      0.000000   31.000000  \n",
              "max      6.000000  512.329200  "
            ],
            "text/html": [
              "\n",
              "  <div id=\"df-a0c2f09c-3fa2-43c1-a5f5-bca49dc21a65\">\n",
              "    <div class=\"colab-df-container\">\n",
              "      <div>\n",
              "<style scoped>\n",
              "    .dataframe tbody tr th:only-of-type {\n",
              "        vertical-align: middle;\n",
              "    }\n",
              "\n",
              "    .dataframe tbody tr th {\n",
              "        vertical-align: top;\n",
              "    }\n",
              "\n",
              "    .dataframe thead th {\n",
              "        text-align: right;\n",
              "    }\n",
              "</style>\n",
              "<table border=\"1\" class=\"dataframe\">\n",
              "  <thead>\n",
              "    <tr style=\"text-align: right;\">\n",
              "      <th></th>\n",
              "      <th>PassengerId</th>\n",
              "      <th>Survived</th>\n",
              "      <th>Pclass</th>\n",
              "      <th>Age</th>\n",
              "      <th>SibSp</th>\n",
              "      <th>Parch</th>\n",
              "      <th>Fare</th>\n",
              "    </tr>\n",
              "  </thead>\n",
              "  <tbody>\n",
              "    <tr>\n",
              "      <th>count</th>\n",
              "      <td>891.000000</td>\n",
              "      <td>891.000000</td>\n",
              "      <td>891.000000</td>\n",
              "      <td>714.000000</td>\n",
              "      <td>891.000000</td>\n",
              "      <td>891.000000</td>\n",
              "      <td>891.000000</td>\n",
              "    </tr>\n",
              "    <tr>\n",
              "      <th>mean</th>\n",
              "      <td>446.000000</td>\n",
              "      <td>0.383838</td>\n",
              "      <td>2.308642</td>\n",
              "      <td>29.699118</td>\n",
              "      <td>0.523008</td>\n",
              "      <td>0.381594</td>\n",
              "      <td>32.204208</td>\n",
              "    </tr>\n",
              "    <tr>\n",
              "      <th>std</th>\n",
              "      <td>257.353842</td>\n",
              "      <td>0.486592</td>\n",
              "      <td>0.836071</td>\n",
              "      <td>14.526497</td>\n",
              "      <td>1.102743</td>\n",
              "      <td>0.806057</td>\n",
              "      <td>49.693429</td>\n",
              "    </tr>\n",
              "    <tr>\n",
              "      <th>min</th>\n",
              "      <td>1.000000</td>\n",
              "      <td>0.000000</td>\n",
              "      <td>1.000000</td>\n",
              "      <td>0.420000</td>\n",
              "      <td>0.000000</td>\n",
              "      <td>0.000000</td>\n",
              "      <td>0.000000</td>\n",
              "    </tr>\n",
              "    <tr>\n",
              "      <th>25%</th>\n",
              "      <td>223.500000</td>\n",
              "      <td>0.000000</td>\n",
              "      <td>2.000000</td>\n",
              "      <td>20.125000</td>\n",
              "      <td>0.000000</td>\n",
              "      <td>0.000000</td>\n",
              "      <td>7.910400</td>\n",
              "    </tr>\n",
              "    <tr>\n",
              "      <th>50%</th>\n",
              "      <td>446.000000</td>\n",
              "      <td>0.000000</td>\n",
              "      <td>3.000000</td>\n",
              "      <td>28.000000</td>\n",
              "      <td>0.000000</td>\n",
              "      <td>0.000000</td>\n",
              "      <td>14.454200</td>\n",
              "    </tr>\n",
              "    <tr>\n",
              "      <th>75%</th>\n",
              "      <td>668.500000</td>\n",
              "      <td>1.000000</td>\n",
              "      <td>3.000000</td>\n",
              "      <td>38.000000</td>\n",
              "      <td>1.000000</td>\n",
              "      <td>0.000000</td>\n",
              "      <td>31.000000</td>\n",
              "    </tr>\n",
              "    <tr>\n",
              "      <th>max</th>\n",
              "      <td>891.000000</td>\n",
              "      <td>1.000000</td>\n",
              "      <td>3.000000</td>\n",
              "      <td>80.000000</td>\n",
              "      <td>8.000000</td>\n",
              "      <td>6.000000</td>\n",
              "      <td>512.329200</td>\n",
              "    </tr>\n",
              "  </tbody>\n",
              "</table>\n",
              "</div>\n",
              "      <button class=\"colab-df-convert\" onclick=\"convertToInteractive('df-a0c2f09c-3fa2-43c1-a5f5-bca49dc21a65')\"\n",
              "              title=\"Convert this dataframe to an interactive table.\"\n",
              "              style=\"display:none;\">\n",
              "        \n",
              "  <svg xmlns=\"http://www.w3.org/2000/svg\" height=\"24px\"viewBox=\"0 0 24 24\"\n",
              "       width=\"24px\">\n",
              "    <path d=\"M0 0h24v24H0V0z\" fill=\"none\"/>\n",
              "    <path d=\"M18.56 5.44l.94 2.06.94-2.06 2.06-.94-2.06-.94-.94-2.06-.94 2.06-2.06.94zm-11 1L8.5 8.5l.94-2.06 2.06-.94-2.06-.94L8.5 2.5l-.94 2.06-2.06.94zm10 10l.94 2.06.94-2.06 2.06-.94-2.06-.94-.94-2.06-.94 2.06-2.06.94z\"/><path d=\"M17.41 7.96l-1.37-1.37c-.4-.4-.92-.59-1.43-.59-.52 0-1.04.2-1.43.59L10.3 9.45l-7.72 7.72c-.78.78-.78 2.05 0 2.83L4 21.41c.39.39.9.59 1.41.59.51 0 1.02-.2 1.41-.59l7.78-7.78 2.81-2.81c.8-.78.8-2.07 0-2.86zM5.41 20L4 18.59l7.72-7.72 1.47 1.35L5.41 20z\"/>\n",
              "  </svg>\n",
              "      </button>\n",
              "      \n",
              "  <style>\n",
              "    .colab-df-container {\n",
              "      display:flex;\n",
              "      flex-wrap:wrap;\n",
              "      gap: 12px;\n",
              "    }\n",
              "\n",
              "    .colab-df-convert {\n",
              "      background-color: #E8F0FE;\n",
              "      border: none;\n",
              "      border-radius: 50%;\n",
              "      cursor: pointer;\n",
              "      display: none;\n",
              "      fill: #1967D2;\n",
              "      height: 32px;\n",
              "      padding: 0 0 0 0;\n",
              "      width: 32px;\n",
              "    }\n",
              "\n",
              "    .colab-df-convert:hover {\n",
              "      background-color: #E2EBFA;\n",
              "      box-shadow: 0px 1px 2px rgba(60, 64, 67, 0.3), 0px 1px 3px 1px rgba(60, 64, 67, 0.15);\n",
              "      fill: #174EA6;\n",
              "    }\n",
              "\n",
              "    [theme=dark] .colab-df-convert {\n",
              "      background-color: #3B4455;\n",
              "      fill: #D2E3FC;\n",
              "    }\n",
              "\n",
              "    [theme=dark] .colab-df-convert:hover {\n",
              "      background-color: #434B5C;\n",
              "      box-shadow: 0px 1px 3px 1px rgba(0, 0, 0, 0.15);\n",
              "      filter: drop-shadow(0px 1px 2px rgba(0, 0, 0, 0.3));\n",
              "      fill: #FFFFFF;\n",
              "    }\n",
              "  </style>\n",
              "\n",
              "      <script>\n",
              "        const buttonEl =\n",
              "          document.querySelector('#df-a0c2f09c-3fa2-43c1-a5f5-bca49dc21a65 button.colab-df-convert');\n",
              "        buttonEl.style.display =\n",
              "          google.colab.kernel.accessAllowed ? 'block' : 'none';\n",
              "\n",
              "        async function convertToInteractive(key) {\n",
              "          const element = document.querySelector('#df-a0c2f09c-3fa2-43c1-a5f5-bca49dc21a65');\n",
              "          const dataTable =\n",
              "            await google.colab.kernel.invokeFunction('convertToInteractive',\n",
              "                                                     [key], {});\n",
              "          if (!dataTable) return;\n",
              "\n",
              "          const docLinkHtml = 'Like what you see? Visit the ' +\n",
              "            '<a target=\"_blank\" href=https://colab.research.google.com/notebooks/data_table.ipynb>data table notebook</a>'\n",
              "            + ' to learn more about interactive tables.';\n",
              "          element.innerHTML = '';\n",
              "          dataTable['output_type'] = 'display_data';\n",
              "          await google.colab.output.renderOutput(dataTable, element);\n",
              "          const docLink = document.createElement('div');\n",
              "          docLink.innerHTML = docLinkHtml;\n",
              "          element.appendChild(docLink);\n",
              "        }\n",
              "      </script>\n",
              "    </div>\n",
              "  </div>\n",
              "  "
            ]
          },
          "metadata": {},
          "execution_count": 179
        }
      ]
    },
    {
      "cell_type": "code",
      "source": [
        "print(f'Count of NaN in train dataset:\\n{train_df.isna().sum()}')"
      ],
      "metadata": {
        "colab": {
          "base_uri": "https://localhost:8080/"
        },
        "id": "jMR2A0sNUDEw",
        "outputId": "e2fa478f-cdc6-406b-de1b-3729f0fc6419"
      },
      "execution_count": 180,
      "outputs": [
        {
          "output_type": "stream",
          "name": "stdout",
          "text": [
            "Count of NaN in train dataset:\n",
            "PassengerId      0\n",
            "Survived         0\n",
            "Pclass           0\n",
            "Name             0\n",
            "Sex              0\n",
            "Age            177\n",
            "SibSp            0\n",
            "Parch            0\n",
            "Ticket           0\n",
            "Fare             0\n",
            "Cabin          687\n",
            "Embarked         2\n",
            "dtype: int64\n"
          ]
        }
      ]
    },
    {
      "cell_type": "code",
      "source": [
        "train_df = train_df.drop(columns = ['Cabin','Ticket','Name'])\n",
        "test_df = test_df.drop(columns = ['Cabin','Ticket','Name'])\n",
        "print(f'Count of NaN in train dataset:\\n{train_df.isna().sum()}')"
      ],
      "metadata": {
        "colab": {
          "base_uri": "https://localhost:8080/"
        },
        "id": "NrGDhgEZUx7l",
        "outputId": "098dedcf-7591-477a-c871-af3e37c07d2e"
      },
      "execution_count": 181,
      "outputs": [
        {
          "output_type": "stream",
          "name": "stdout",
          "text": [
            "Count of NaN in train dataset:\n",
            "PassengerId      0\n",
            "Survived         0\n",
            "Pclass           0\n",
            "Sex              0\n",
            "Age            177\n",
            "SibSp            0\n",
            "Parch            0\n",
            "Fare             0\n",
            "Embarked         2\n",
            "dtype: int64\n"
          ]
        }
      ]
    },
    {
      "cell_type": "code",
      "source": [
        "print(f'Count of NaN in test dataset:\\n{test_df.isna().sum()}')"
      ],
      "metadata": {
        "colab": {
          "base_uri": "https://localhost:8080/"
        },
        "id": "T0BrjuLkUgl3",
        "outputId": "2a31425f-de48-4e04-86f5-3d93d382c404"
      },
      "execution_count": 182,
      "outputs": [
        {
          "output_type": "stream",
          "name": "stdout",
          "text": [
            "Count of NaN in test dataset:\n",
            "PassengerId     0\n",
            "Pclass          0\n",
            "Sex             0\n",
            "Age            86\n",
            "SibSp           0\n",
            "Parch           0\n",
            "Fare            1\n",
            "Embarked        0\n",
            "dtype: int64\n"
          ]
        }
      ]
    },
    {
      "cell_type": "code",
      "source": [
        "y_data = pd.DataFrame(train_df['Survived']) # Смотрим на балансировку классов\n",
        "sns.set(style='whitegrid')\n",
        "sns.countplot(x = 'Survived', data = y_data, palette='hls')"
      ],
      "metadata": {
        "colab": {
          "base_uri": "https://localhost:8080/",
          "height": 302
        },
        "id": "s1y64XsNPc1_",
        "outputId": "113fb5bd-d9d9-45af-a544-aa88078a2870"
      },
      "execution_count": 183,
      "outputs": [
        {
          "output_type": "execute_result",
          "data": {
            "text/plain": [
              "<matplotlib.axes._subplots.AxesSubplot at 0x7f40bb47cc10>"
            ]
          },
          "metadata": {},
          "execution_count": 183
        },
        {
          "output_type": "display_data",
          "data": {
            "text/plain": [
              "<Figure size 432x288 with 1 Axes>"
            ],
            "image/png": "[encoded data removed]"
          },
          "metadata": {}
        }
      ]
    },
    {
      "cell_type": "code",
      "source": [
        "sns.heatmap(train_df.corr())"
      ],
      "metadata": {
        "colab": {
          "base_uri": "https://localhost:8080/",
          "height": 346
        },
        "id": "M5r5kAI2fkW-",
        "outputId": "5152fd73-7e13-4376-8084-2ec36aaa78bf"
      },
      "execution_count": 184,
      "outputs": [
        {
          "output_type": "execute_result",
          "data": {
            "text/plain": [
              "<matplotlib.axes._subplots.AxesSubplot at 0x7f40bb3e16a0>"
            ]
          },
          "metadata": {},
          "execution_count": 184
        },
        {
          "output_type": "display_data",
          "data": {
            "text/plain": [
              "<Figure size 432x288 with 2 Axes>"
            ],
            "image/png": "[encoded data removed]"
          },
          "metadata": {}
        }
      ]
    },
    {
      "cell_type": "code",
      "source": [
        "cols = ['Sex','Embarked']\n",
        "for col in cols:\n",
        "  le = preprocessing.LabelEncoder() # Преобразуем категориальные признаки\n",
        "  train_df[col] = le.fit_transform(train_df[col])\n",
        "  test_df[col] = le.fit_transform(test_df[col])"
      ],
      "metadata": {
        "id": "cTZZoNF_dErJ"
      },
      "execution_count": 185,
      "outputs": []
    },
    {
      "cell_type": "code",
      "source": [
        "knn = KNNImputer(n_neighbors=15) # Заполним пропуски методом k-ближайших соседей\n",
        "df = knn.fit_transform(train_df)\n",
        "df_test = knn.fit_transform(test_df)\n",
        "train_df = pd.DataFrame(data=df,columns=train_df.columns)\n",
        "test_df = pd.DataFrame(data=df_test,columns=test_df.columns)"
      ],
      "metadata": {
        "id": "xWceuwyLfC5V"
      },
      "execution_count": 186,
      "outputs": []
    },
    {
      "cell_type": "code",
      "source": [
        "new = ['PassengerId', 'Survived', 'Pclass', 'Sex', 'Age', 'SibSp', 'Parch', 'Embarked']\n",
        "try:\n",
        "  for i in new:\n",
        "     train_df[i] = train_df[i].astype(int)\n",
        "     test_df[i] = test_df[i].astype(int)\n",
        "except KeyError:\n",
        "  pass"
      ],
      "metadata": {
        "id": "S3AtDdYZhsJ0"
      },
      "execution_count": 187,
      "outputs": []
    },
    {
      "cell_type": "code",
      "source": [
        "X = train_df.drop(columns=['Survived'])\n",
        "y = train_df['Survived']"
      ],
      "metadata": {
        "id": "G2S1fWE3gsTo"
      },
      "execution_count": 188,
      "outputs": []
    },
    {
      "cell_type": "code",
      "source": [
        "smote = SMOTE(random_state = 0)"
      ],
      "metadata": {
        "id": "RaMQlls4SRxC"
      },
      "execution_count": 189,
      "outputs": []
    },
    {
      "cell_type": "code",
      "source": [
        "column = X.columns\n",
        "print('Before balance')\n",
        "print(X.shape)\n",
        "print(y.value_counts())"
      ],
      "metadata": {
        "colab": {
          "base_uri": "https://localhost:8080/"
        },
        "id": "uSjvcwvDSlYE",
        "outputId": "e253cec5-54c4-410b-dfb9-e1035934459f"
      },
      "execution_count": 190,
      "outputs": [
        {
          "output_type": "stream",
          "name": "stdout",
          "text": [
            "Before balance\n",
            "(891, 8)\n",
            "0    549\n",
            "1    342\n",
            "Name: Survived, dtype: int64\n"
          ]
        }
      ]
    },
    {
      "cell_type": "code",
      "source": [
        "smote_X, smote_y = smote.fit_resample(X, y) # Балансировка классов\n",
        "smote_X = pd.DataFrame(data = smote_X, columns = column)\n",
        "smote_y = pd.DataFrame(data = smote_y, columns = ['Survived'])"
      ],
      "metadata": {
        "id": "IE-2vOpFTGjd"
      },
      "execution_count": 191,
      "outputs": []
    },
    {
      "cell_type": "code",
      "source": [
        "print('After balance')\n",
        "print(smote_X.shape)\n",
        "print(smote_y.value_counts())"
      ],
      "metadata": {
        "colab": {
          "base_uri": "https://localhost:8080/"
        },
        "id": "Q9BSYqjVTGuh",
        "outputId": "68c4da81-dc5e-49ce-9112-c410fce25871"
      },
      "execution_count": 192,
      "outputs": [
        {
          "output_type": "stream",
          "name": "stdout",
          "text": [
            "After balance\n",
            "(1098, 8)\n",
            "Survived\n",
            "0           549\n",
            "1           549\n",
            "dtype: int64\n"
          ]
        }
      ]
    },
    {
      "cell_type": "code",
      "source": [
        "y_data = pd.DataFrame(train_df['Survived'])\n",
        "sns.set(style='whitegrid')\n",
        "sns.countplot(x = 'Survived', data = smote_y, palette='hls')"
      ],
      "metadata": {
        "colab": {
          "base_uri": "https://localhost:8080/",
          "height": 302
        },
        "id": "55ozVBSxz60F",
        "outputId": "8b51a46a-db58-4a63-aa9d-a95b72d2ab65"
      },
      "execution_count": 193,
      "outputs": [
        {
          "output_type": "execute_result",
          "data": {
            "text/plain": [
              "<matplotlib.axes._subplots.AxesSubplot at 0x7f40bb363b50>"
            ]
          },
          "metadata": {},
          "execution_count": 193
        },
        {
          "output_type": "display_data",
          "data": {
            "text/plain": [
              "<Figure size 432x288 with 1 Axes>"
            ],
            "image/png": "[encoded data removed]"
          },
          "metadata": {}
        }
      ]
    },
    {
      "cell_type": "code",
      "source": [
        "train_df"
      ],
      "metadata": {
        "colab": {
          "base_uri": "https://localhost:8080/",
          "height": 424
        },
        "id": "J1M_eqPgrGL4",
        "outputId": "d6c0f18e-fa5c-4ce4-8c91-cd1e405c062d"
      },
      "execution_count": 194,
      "outputs": [
        {
          "output_type": "execute_result",
          "data": {
            "text/plain": [
              "     PassengerId  Survived  Pclass  Sex   Age  SibSp  Parch     Fare  Embarked\n",
              "0              1         0     3.0  1.0  22.0    1.0    0.0   7.2500       2.0\n",
              "1              2         1     1.0  0.0  38.0    1.0    0.0  71.2833       0.0\n",
              "2              3         1     3.0  0.0  26.0    0.0    0.0   7.9250       2.0\n",
              "3              4         1     1.0  0.0  35.0    1.0    0.0  53.1000       2.0\n",
              "4              5         0     3.0  1.0  35.0    0.0    0.0   8.0500       2.0\n",
              "..           ...       ...     ...  ...   ...    ...    ...      ...       ...\n",
              "886          887         0     2.0  1.0  27.0    0.0    0.0  13.0000       2.0\n",
              "887          888         1     1.0  0.0  19.0    0.0    0.0  30.0000       2.0\n",
              "888          889         0     3.0  0.0  27.0    1.0    2.0  23.4500       2.0\n",
              "889          890         1     1.0  1.0  26.0    0.0    0.0  30.0000       0.0\n",
              "890          891         0     3.0  1.0  32.0    0.0    0.0   7.7500       1.0\n",
              "\n",
              "[891 rows x 9 columns]"
            ],
            "text/html": [
              "\n",
              "  <div id=\"df-b43af295-1a73-4e1f-9f5d-ea592cdb0f8a\">\n",
              "    <div class=\"colab-df-container\">\n",
              "      <div>\n",
              "<style scoped>\n",
              "    .dataframe tbody tr th:only-of-type {\n",
              "        vertical-align: middle;\n",
              "    }\n",
              "\n",
              "    .dataframe tbody tr th {\n",
              "        vertical-align: top;\n",
              "    }\n",
              "\n",
              "    .dataframe thead th {\n",
              "        text-align: right;\n",
              "    }\n",
              "</style>\n",
              "<table border=\"1\" class=\"dataframe\">\n",
              "  <thead>\n",
              "    <tr style=\"text-align: right;\">\n",
              "      <th></th>\n",
              "      <th>PassengerId</th>\n",
              "      <th>Survived</th>\n",
              "      <th>Pclass</th>\n",
              "      <th>Sex</th>\n",
              "      <th>Age</th>\n",
              "      <th>SibSp</th>\n",
              "      <th>Parch</th>\n",
              "      <th>Fare</th>\n",
              "      <th>Embarked</th>\n",
              "    </tr>\n",
              "  </thead>\n",
              "  <tbody>\n",
              "    <tr>\n",
              "      <th>0</th>\n",
              "      <td>1</td>\n",
              "      <td>0</td>\n",
              "      <td>3.0</td>\n",
              "      <td>1.0</td>\n",
              "      <td>22.0</td>\n",
              "      <td>1.0</td>\n",
              "      <td>0.0</td>\n",
              "      <td>7.2500</td>\n",
              "      <td>2.0</td>\n",
              "    </tr>\n",
              "    <tr>\n",
              "      <th>1</th>\n",
              "      <td>2</td>\n",
              "      <td>1</td>\n",
              "      <td>1.0</td>\n",
              "      <td>0.0</td>\n",
              "      <td>38.0</td>\n",
              "      <td>1.0</td>\n",
              "      <td>0.0</td>\n",
              "      <td>71.2833</td>\n",
              "      <td>0.0</td>\n",
              "    </tr>\n",
              "    <tr>\n",
              "      <th>2</th>\n",
              "      <td>3</td>\n",
              "      <td>1</td>\n",
              "      <td>3.0</td>\n",
              "      <td>0.0</td>\n",
              "      <td>26.0</td>\n",
              "      <td>0.0</td>\n",
              "      <td>0.0</td>\n",
              "      <td>7.9250</td>\n",
              "      <td>2.0</td>\n",
              "    </tr>\n",
              "    <tr>\n",
              "      <th>3</th>\n",
              "      <td>4</td>\n",
              "      <td>1</td>\n",
              "      <td>1.0</td>\n",
              "      <td>0.0</td>\n",
              "      <td>35.0</td>\n",
              "      <td>1.0</td>\n",
              "      <td>0.0</td>\n",
              "      <td>53.1000</td>\n",
              "      <td>2.0</td>\n",
              "    </tr>\n",
              "    <tr>\n",
              "      <th>4</th>\n",
              "      <td>5</td>\n",
              "      <td>0</td>\n",
              "      <td>3.0</td>\n",
              "      <td>1.0</td>\n",
              "      <td>35.0</td>\n",
              "      <td>0.0</td>\n",
              "      <td>0.0</td>\n",
              "      <td>8.0500</td>\n",
              "      <td>2.0</td>\n",
              "    </tr>\n",
              "    <tr>\n",
              "      <th>...</th>\n",
              "      <td>...</td>\n",
              "      <td>...</td>\n",
              "      <td>...</td>\n",
              "      <td>...</td>\n",
              "      <td>...</td>\n",
              "      <td>...</td>\n",
              "      <td>...</td>\n",
              "      <td>...</td>\n",
              "      <td>...</td>\n",
              "    </tr>\n",
              "    <tr>\n",
              "      <th>886</th>\n",
              "      <td>887</td>\n",
              "      <td>0</td>\n",
              "      <td>2.0</td>\n",
              "      <td>1.0</td>\n",
              "      <td>27.0</td>\n",
              "      <td>0.0</td>\n",
              "      <td>0.0</td>\n",
              "      <td>13.0000</td>\n",
              "      <td>2.0</td>\n",
              "    </tr>\n",
              "    <tr>\n",
              "      <th>887</th>\n",
              "      <td>888</td>\n",
              "      <td>1</td>\n",
              "      <td>1.0</td>\n",
              "      <td>0.0</td>\n",
              "      <td>19.0</td>\n",
              "      <td>0.0</td>\n",
              "      <td>0.0</td>\n",
              "      <td>30.0000</td>\n",
              "      <td>2.0</td>\n",
              "    </tr>\n",
              "    <tr>\n",
              "      <th>888</th>\n",
              "      <td>889</td>\n",
              "      <td>0</td>\n",
              "      <td>3.0</td>\n",
              "      <td>0.0</td>\n",
              "      <td>27.0</td>\n",
              "      <td>1.0</td>\n",
              "      <td>2.0</td>\n",
              "      <td>23.4500</td>\n",
              "      <td>2.0</td>\n",
              "    </tr>\n",
              "    <tr>\n",
              "      <th>889</th>\n",
              "      <td>890</td>\n",
              "      <td>1</td>\n",
              "      <td>1.0</td>\n",
              "      <td>1.0</td>\n",
              "      <td>26.0</td>\n",
              "      <td>0.0</td>\n",
              "      <td>0.0</td>\n",
              "      <td>30.0000</td>\n",
              "      <td>0.0</td>\n",
              "    </tr>\n",
              "    <tr>\n",
              "      <th>890</th>\n",
              "      <td>891</td>\n",
              "      <td>0</td>\n",
              "      <td>3.0</td>\n",
              "      <td>1.0</td>\n",
              "      <td>32.0</td>\n",
              "      <td>0.0</td>\n",
              "      <td>0.0</td>\n",
              "      <td>7.7500</td>\n",
              "      <td>1.0</td>\n",
              "    </tr>\n",
              "  </tbody>\n",
              "</table>\n",
              "<p>891 rows × 9 columns</p>\n",
              "</div>\n",
              "      <button class=\"colab-df-convert\" onclick=\"convertToInteractive('df-b43af295-1a73-4e1f-9f5d-ea592cdb0f8a')\"\n",
              "              title=\"Convert this dataframe to an interactive table.\"\n",
              "              style=\"display:none;\">\n",
              "        \n",
              "  <svg xmlns=\"http://www.w3.org/2000/svg\" height=\"24px\"viewBox=\"0 0 24 24\"\n",
              "       width=\"24px\">\n",
              "    <path d=\"M0 0h24v24H0V0z\" fill=\"none\"/>\n",
              "    <path d=\"M18.56 5.44l.94 2.06.94-2.06 2.06-.94-2.06-.94-.94-2.06-.94 2.06-2.06.94zm-11 1L8.5 8.5l.94-2.06 2.06-.94-2.06-.94L8.5 2.5l-.94 2.06-2.06.94zm10 10l.94 2.06.94-2.06 2.06-.94-2.06-.94-.94-2.06-.94 2.06-2.06.94z\"/><path d=\"M17.41 7.96l-1.37-1.37c-.4-.4-.92-.59-1.43-.59-.52 0-1.04.2-1.43.59L10.3 9.45l-7.72 7.72c-.78.78-.78 2.05 0 2.83L4 21.41c.39.39.9.59 1.41.59.51 0 1.02-.2 1.41-.59l7.78-7.78 2.81-2.81c.8-.78.8-2.07 0-2.86zM5.41 20L4 18.59l7.72-7.72 1.47 1.35L5.41 20z\"/>\n",
              "  </svg>\n",
              "      </button>\n",
              "      \n",
              "  <style>\n",
              "    .colab-df-container {\n",
              "      display:flex;\n",
              "      flex-wrap:wrap;\n",
              "      gap: 12px;\n",
              "    }\n",
              "\n",
              "    .colab-df-convert {\n",
              "      background-color: #E8F0FE;\n",
              "      border: none;\n",
              "      border-radius: 50%;\n",
              "      cursor: pointer;\n",
              "      display: none;\n",
              "      fill: #1967D2;\n",
              "      height: 32px;\n",
              "      padding: 0 0 0 0;\n",
              "      width: 32px;\n",
              "    }\n",
              "\n",
              "    .colab-df-convert:hover {\n",
              "      background-color: #E2EBFA;\n",
              "      box-shadow: 0px 1px 2px rgba(60, 64, 67, 0.3), 0px 1px 3px 1px rgba(60, 64, 67, 0.15);\n",
              "      fill: #174EA6;\n",
              "    }\n",
              "\n",
              "    [theme=dark] .colab-df-convert {\n",
              "      background-color: #3B4455;\n",
              "      fill: #D2E3FC;\n",
              "    }\n",
              "\n",
              "    [theme=dark] .colab-df-convert:hover {\n",
              "      background-color: #434B5C;\n",
              "      box-shadow: 0px 1px 3px 1px rgba(0, 0, 0, 0.15);\n",
              "      filter: drop-shadow(0px 1px 2px rgba(0, 0, 0, 0.3));\n",
              "      fill: #FFFFFF;\n",
              "    }\n",
              "  </style>\n",
              "\n",
              "      <script>\n",
              "        const buttonEl =\n",
              "          document.querySelector('#df-b43af295-1a73-4e1f-9f5d-ea592cdb0f8a button.colab-df-convert');\n",
              "        buttonEl.style.display =\n",
              "          google.colab.kernel.accessAllowed ? 'block' : 'none';\n",
              "\n",
              "        async function convertToInteractive(key) {\n",
              "          const element = document.querySelector('#df-b43af295-1a73-4e1f-9f5d-ea592cdb0f8a');\n",
              "          const dataTable =\n",
              "            await google.colab.kernel.invokeFunction('convertToInteractive',\n",
              "                                                     [key], {});\n",
              "          if (!dataTable) return;\n",
              "\n",
              "          const docLinkHtml = 'Like what you see? Visit the ' +\n",
              "            '<a target=\"_blank\" href=https://colab.research.google.com/notebooks/data_table.ipynb>data table notebook</a>'\n",
              "            + ' to learn more about interactive tables.';\n",
              "          element.innerHTML = '';\n",
              "          dataTable['output_type'] = 'display_data';\n",
              "          await google.colab.output.renderOutput(dataTable, element);\n",
              "          const docLink = document.createElement('div');\n",
              "          docLink.innerHTML = docLinkHtml;\n",
              "          element.appendChild(docLink);\n",
              "        }\n",
              "      </script>\n",
              "    </div>\n",
              "  </div>\n",
              "  "
            ]
          },
          "metadata": {},
          "execution_count": 194
        }
      ]
    },
    {
      "cell_type": "markdown",
      "source": [
        "Разделяем тренировочные данные на тренировочную и валидационную часть"
      ],
      "metadata": {
        "id": "fvd8cRoLhF0x"
      }
    },
    {
      "cell_type": "code",
      "source": [
        "X_train, X_test, y_train, y_test = train_test_split(smote_X, smote_y, test_size=0.25)"
      ],
      "metadata": {
        "id": "cShywmB0ii-X"
      },
      "execution_count": 195,
      "outputs": []
    },
    {
      "cell_type": "code",
      "source": [
        "model = RandomForestClassifier() # Случайный лес\n",
        "model.fit(X_train,y_train)\n",
        "y_pred = model.predict(X_test)"
      ],
      "metadata": {
        "colab": {
          "base_uri": "https://localhost:8080/"
        },
        "id": "375LUU1ziuGa",
        "outputId": "842a09d9-2223-45df-8fb4-c695faea863a"
      },
      "execution_count": 196,
      "outputs": [
        {
          "output_type": "stream",
          "name": "stderr",
          "text": [
            "<ipython-input-196-2ecdc51fd77f>:2: DataConversionWarning: A column-vector y was passed when a 1d array was expected. Please change the shape of y to (n_samples,), for example using ravel().\n",
            "  model.fit(X_train,y_train)\n"
          ]
        }
      ]
    },
    {
      "cell_type": "code",
      "source": [
        "print(accuracy_score(y_test,y_pred))"
      ],
      "metadata": {
        "colab": {
          "base_uri": "https://localhost:8080/"
        },
        "id": "iB3qdPmqzDng",
        "outputId": "0203f1ba-733f-43ed-d7a1-cc24282f5c23"
      },
      "execution_count": 197,
      "outputs": [
        {
          "output_type": "stream",
          "name": "stdout",
          "text": [
            "0.8690909090909091\n"
          ]
        }
      ]
    },
    {
      "cell_type": "code",
      "source": [
        "model_xgb = xgb.XGBClassifier() # Градиентный бустинг\n",
        "model_xgb.fit(X_train, y_train)\n",
        "y_pred_new = model_xgb.predict(X_test)\n",
        "print(accuracy_score(y_test,y_pred_new))"
      ],
      "metadata": {
        "colab": {
          "base_uri": "https://localhost:8080/"
        },
        "id": "fFfeobm9exQP",
        "outputId": "84f13321-d121-4b83-cb13-43befd85967e"
      },
      "execution_count": 198,
      "outputs": [
        {
          "output_type": "stream",
          "name": "stderr",
          "text": [
            "/usr/local/lib/python3.8/dist-packages/sklearn/preprocessing/_label.py:98: DataConversionWarning: A column-vector y was passed when a 1d array was expected. Please change the shape of y to (n_samples, ), for example using ravel().\n",
            "  y = column_or_1d(y, warn=True)\n",
            "/usr/local/lib/python3.8/dist-packages/sklearn/preprocessing/_label.py:133: DataConversionWarning: A column-vector y was passed when a 1d array was expected. Please change the shape of y to (n_samples, ), for example using ravel().\n",
            "  y = column_or_1d(y, warn=True)\n"
          ]
        },
        {
          "output_type": "stream",
          "name": "stdout",
          "text": [
            "0.8654545454545455\n"
          ]
        }
      ]
    },
    {
      "cell_type": "markdown",
      "source": [
        "Используем подбор гиперпараметров для оптимизации модели с помощью GridSearchCV"
      ],
      "metadata": {
        "id": "yXjWUQTXhw_M"
      }
    },
    {
      "cell_type": "code",
      "source": [
        "params = {\n",
        "    'max_depth' : np.arange(1,6),\n",
        "    'n_estimators' : np.arange(50,300,50),\n",
        "}\n",
        "model_xgb_new = GridSearchCV(model_xgb, param_grid = params, cv = 5)\n",
        "model_xgb_new.fit(X_train, y_train)\n",
        "model_xgb_new.best_params_"
      ],
      "metadata": {
        "colab": {
          "base_uri": "https://localhost:8080/"
        },
        "id": "OVnVOm7ifTqB",
        "outputId": "1a1144c9-b45b-43a8-d53c-223c2e373d77"
      },
      "execution_count": 199,
      "outputs": [
        {
          "output_type": "stream",
          "name": "stderr",
          "text": [
            "/usr/local/lib/python3.8/dist-packages/sklearn/preprocessing/_label.py:98: DataConversionWarning: A column-vector y was passed when a 1d array was expected. Please change the shape of y to (n_samples, ), for example using ravel().\n",
            "  y = column_or_1d(y, warn=True)\n",
            "/usr/local/lib/python3.8/dist-packages/sklearn/preprocessing/_label.py:133: DataConversionWarning: A column-vector y was passed when a 1d array was expected. Please change the shape of y to (n_samples, ), for example using ravel().\n",
            "  y = column_or_1d(y, warn=True)\n",
            "/usr/local/lib/python3.8/dist-packages/sklearn/preprocessing/_label.py:98: DataConversionWarning: A column-vector y was passed when a 1d array was expected. Please change the shape of y to (n_samples, ), for example using ravel().\n",
            "  y = column_or_1d(y, warn=True)\n",
            "/usr/local/lib/python3.8/dist-packages/sklearn/preprocessing/_label.py:133: DataConversionWarning: A column-vector y was passed when a 1d array was expected. Please change the shape of y to (n_samples, ), for example using ravel().\n",
            "  y = column_or_1d(y, warn=True)\n",
            "/usr/local/lib/python3.8/dist-packages/sklearn/preprocessing/_label.py:98: DataConversionWarning: A column-vector y was passed when a 1d array was expected. Please change the shape of y to (n_samples, ), for example using ravel().\n",
            "  y = column_or_1d(y, warn=True)\n",
            "/usr/local/lib/python3.8/dist-packages/sklearn/preprocessing/_label.py:133: DataConversionWarning: A column-vector y was passed when a 1d array was expected. Please change the shape of y to (n_samples, ), for example using ravel().\n",
            "  y = column_or_1d(y, warn=True)\n",
            "/usr/local/lib/python3.8/dist-packages/sklearn/preprocessing/_label.py:98: DataConversionWarning: A column-vector y was passed when a 1d array was expected. Please change the shape of y to (n_samples, ), for example using ravel().\n",
            "  y = column_or_1d(y, warn=True)\n",
            "/usr/local/lib/python3.8/dist-packages/sklearn/preprocessing/_label.py:133: DataConversionWarning: A column-vector y was passed when a 1d array was expected. Please change the shape of y to (n_samples, ), for example using ravel().\n",
            "  y = column_or_1d(y, warn=True)\n",
            "/usr/local/lib/python3.8/dist-packages/sklearn/preprocessing/_label.py:98: DataConversionWarning: A column-vector y was passed when a 1d array was expected. Please change the shape of y to (n_samples, ), for example using ravel().\n",
            "  y = column_or_1d(y, warn=True)\n",
            "/usr/local/lib/python3.8/dist-packages/sklearn/preprocessing/_label.py:133: DataConversionWarning: A column-vector y was passed when a 1d array was expected. Please change the shape of y to (n_samples, ), for example using ravel().\n",
            "  y = column_or_1d(y, warn=True)\n",
            "/usr/local/lib/python3.8/dist-packages/sklearn/preprocessing/_label.py:98: DataConversionWarning: A column-vector y was passed when a 1d array was expected. Please change the shape of y to (n_samples, ), for example using ravel().\n",
            "  y = column_or_1d(y, warn=True)\n",
            "/usr/local/lib/python3.8/dist-packages/sklearn/preprocessing/_label.py:133: DataConversionWarning: A column-vector y was passed when a 1d array was expected. Please change the shape of y to (n_samples, ), for example using ravel().\n",
            "  y = column_or_1d(y, warn=True)\n",
            "/usr/local/lib/python3.8/dist-packages/sklearn/preprocessing/_label.py:98: DataConversionWarning: A column-vector y was passed when a 1d array was expected. Please change the shape of y to (n_samples, ), for example using ravel().\n",
            "  y = column_or_1d(y, warn=True)\n",
            "/usr/local/lib/python3.8/dist-packages/sklearn/preprocessing/_label.py:133: DataConversionWarning: A column-vector y was passed when a 1d array was expected. Please change the shape of y to (n_samples, ), for example using ravel().\n",
            "  y = column_or_1d(y, warn=True)\n",
            "/usr/local/lib/python3.8/dist-packages/sklearn/preprocessing/_label.py:98: DataConversionWarning: A column-vector y was passed when a 1d array was expected. Please change the shape of y to (n_samples, ), for example using ravel().\n",
            "  y = column_or_1d(y, warn=True)\n",
            "/usr/local/lib/python3.8/dist-packages/sklearn/preprocessing/_label.py:133: DataConversionWarning: A column-vector y was passed when a 1d array was expected. Please change the shape of y to (n_samples, ), for example using ravel().\n",
            "  y = column_or_1d(y, warn=True)\n",
            "/usr/local/lib/python3.8/dist-packages/sklearn/preprocessing/_label.py:98: DataConversionWarning: A column-vector y was passed when a 1d array was expected. Please change the shape of y to (n_samples, ), for example using ravel().\n",
            "  y = column_or_1d(y, warn=True)\n",
            "/usr/local/lib/python3.8/dist-packages/sklearn/preprocessing/_label.py:133: DataConversionWarning: A column-vector y was passed when a 1d array was expected. Please change the shape of y to (n_samples, ), for example using ravel().\n",
            "  y = column_or_1d(y, warn=True)\n",
            "/usr/local/lib/python3.8/dist-packages/sklearn/preprocessing/_label.py:98: DataConversionWarning: A column-vector y was passed when a 1d array was expected. Please change the shape of y to (n_samples, ), for example using ravel().\n",
            "  y = column_or_1d(y, warn=True)\n",
            "/usr/local/lib/python3.8/dist-packages/sklearn/preprocessing/_label.py:133: DataConversionWarning: A column-vector y was passed when a 1d array was expected. Please change the shape of y to (n_samples, ), for example using ravel().\n",
            "  y = column_or_1d(y, warn=True)\n",
            "/usr/local/lib/python3.8/dist-packages/sklearn/preprocessing/_label.py:98: DataConversionWarning: A column-vector y was passed when a 1d array was expected. Please change the shape of y to (n_samples, ), for example using ravel().\n",
            "  y = column_or_1d(y, warn=True)\n",
            "/usr/local/lib/python3.8/dist-packages/sklearn/preprocessing/_label.py:133: DataConversionWarning: A column-vector y was passed when a 1d array was expected. Please change the shape of y to (n_samples, ), for example using ravel().\n",
            "  y = column_or_1d(y, warn=True)\n",
            "/usr/local/lib/python3.8/dist-packages/sklearn/preprocessing/_label.py:98: DataConversionWarning: A column-vector y was passed when a 1d array was expected. Please change the shape of y to (n_samples, ), for example using ravel().\n",
            "  y = column_or_1d(y, warn=True)\n",
            "/usr/local/lib/python3.8/dist-packages/sklearn/preprocessing/_label.py:133: DataConversionWarning: A column-vector y was passed when a 1d array was expected. Please change the shape of y to (n_samples, ), for example using ravel().\n",
            "  y = column_or_1d(y, warn=True)\n",
            "/usr/local/lib/python3.8/dist-packages/sklearn/preprocessing/_label.py:98: DataConversionWarning: A column-vector y was passed when a 1d array was expected. Please change the shape of y to (n_samples, ), for example using ravel().\n",
            "  y = column_or_1d(y, warn=True)\n",
            "/usr/local/lib/python3.8/dist-packages/sklearn/preprocessing/_label.py:133: DataConversionWarning: A column-vector y was passed when a 1d array was expected. Please change the shape of y to (n_samples, ), for example using ravel().\n",
            "  y = column_or_1d(y, warn=True)\n",
            "/usr/local/lib/python3.8/dist-packages/sklearn/preprocessing/_label.py:98: DataConversionWarning: A column-vector y was passed when a 1d array was expected. Please change the shape of y to (n_samples, ), for example using ravel().\n",
            "  y = column_or_1d(y, warn=True)\n",
            "/usr/local/lib/python3.8/dist-packages/sklearn/preprocessing/_label.py:133: DataConversionWarning: A column-vector y was passed when a 1d array was expected. Please change the shape of y to (n_samples, ), for example using ravel().\n",
            "  y = column_or_1d(y, warn=True)\n",
            "/usr/local/lib/python3.8/dist-packages/sklearn/preprocessing/_label.py:98: DataConversionWarning: A column-vector y was passed when a 1d array was expected. Please change the shape of y to (n_samples, ), for example using ravel().\n",
            "  y = column_or_1d(y, warn=True)\n",
            "/usr/local/lib/python3.8/dist-packages/sklearn/preprocessing/_label.py:133: DataConversionWarning: A column-vector y was passed when a 1d array was expected. Please change the shape of y to (n_samples, ), for example using ravel().\n",
            "  y = column_or_1d(y, warn=True)\n",
            "/usr/local/lib/python3.8/dist-packages/sklearn/preprocessing/_label.py:98: DataConversionWarning: A column-vector y was passed when a 1d array was expected. Please change the shape of y to (n_samples, ), for example using ravel().\n",
            "  y = column_or_1d(y, warn=True)\n",
            "/usr/local/lib/python3.8/dist-packages/sklearn/preprocessing/_label.py:133: DataConversionWarning: A column-vector y was passed when a 1d array was expected. Please change the shape of y to (n_samples, ), for example using ravel().\n",
            "  y = column_or_1d(y, warn=True)\n",
            "/usr/local/lib/python3.8/dist-packages/sklearn/preprocessing/_label.py:98: DataConversionWarning: A column-vector y was passed when a 1d array was expected. Please change the shape of y to (n_samples, ), for example using ravel().\n",
            "  y = column_or_1d(y, warn=True)\n",
            "/usr/local/lib/python3.8/dist-packages/sklearn/preprocessing/_label.py:133: DataConversionWarning: A column-vector y was passed when a 1d array was expected. Please change the shape of y to (n_samples, ), for example using ravel().\n",
            "  y = column_or_1d(y, warn=True)\n",
            "/usr/local/lib/python3.8/dist-packages/sklearn/preprocessing/_label.py:98: DataConversionWarning: A column-vector y was passed when a 1d array was expected. Please change the shape of y to (n_samples, ), for example using ravel().\n",
            "  y = column_or_1d(y, warn=True)\n",
            "/usr/local/lib/python3.8/dist-packages/sklearn/preprocessing/_label.py:133: DataConversionWarning: A column-vector y was passed when a 1d array was expected. Please change the shape of y to (n_samples, ), for example using ravel().\n",
            "  y = column_or_1d(y, warn=True)\n",
            "/usr/local/lib/python3.8/dist-packages/sklearn/preprocessing/_label.py:98: DataConversionWarning: A column-vector y was passed when a 1d array was expected. Please change the shape of y to (n_samples, ), for example using ravel().\n",
            "  y = column_or_1d(y, warn=True)\n",
            "/usr/local/lib/python3.8/dist-packages/sklearn/preprocessing/_label.py:133: DataConversionWarning: A column-vector y was passed when a 1d array was expected. Please change the shape of y to (n_samples, ), for example using ravel().\n",
            "  y = column_or_1d(y, warn=True)\n",
            "/usr/local/lib/python3.8/dist-packages/sklearn/preprocessing/_label.py:98: DataConversionWarning: A column-vector y was passed when a 1d array was expected. Please change the shape of y to (n_samples, ), for example using ravel().\n",
            "  y = column_or_1d(y, warn=True)\n",
            "/usr/local/lib/python3.8/dist-packages/sklearn/preprocessing/_label.py:133: DataConversionWarning: A column-vector y was passed when a 1d array was expected. Please change the shape of y to (n_samples, ), for example using ravel().\n",
            "  y = column_or_1d(y, warn=True)\n",
            "/usr/local/lib/python3.8/dist-packages/sklearn/preprocessing/_label.py:98: DataConversionWarning: A column-vector y was passed when a 1d array was expected. Please change the shape of y to (n_samples, ), for example using ravel().\n",
            "  y = column_or_1d(y, warn=True)\n",
            "/usr/local/lib/python3.8/dist-packages/sklearn/preprocessing/_label.py:133: DataConversionWarning: A column-vector y was passed when a 1d array was expected. Please change the shape of y to (n_samples, ), for example using ravel().\n",
            "  y = column_or_1d(y, warn=True)\n",
            "/usr/local/lib/python3.8/dist-packages/sklearn/preprocessing/_label.py:98: DataConversionWarning: A column-vector y was passed when a 1d array was expected. Please change the shape of y to (n_samples, ), for example using ravel().\n",
            "  y = column_or_1d(y, warn=True)\n",
            "/usr/local/lib/python3.8/dist-packages/sklearn/preprocessing/_label.py:133: DataConversionWarning: A column-vector y was passed when a 1d array was expected. Please change the shape of y to (n_samples, ), for example using ravel().\n",
            "  y = column_or_1d(y, warn=True)\n",
            "/usr/local/lib/python3.8/dist-packages/sklearn/preprocessing/_label.py:98: DataConversionWarning: A column-vector y was passed when a 1d array was expected. Please change the shape of y to (n_samples, ), for example using ravel().\n",
            "  y = column_or_1d(y, warn=True)\n",
            "/usr/local/lib/python3.8/dist-packages/sklearn/preprocessing/_label.py:133: DataConversionWarning: A column-vector y was passed when a 1d array was expected. Please change the shape of y to (n_samples, ), for example using ravel().\n",
            "  y = column_or_1d(y, warn=True)\n",
            "/usr/local/lib/python3.8/dist-packages/sklearn/preprocessing/_label.py:98: DataConversionWarning: A column-vector y was passed when a 1d array was expected. Please change the shape of y to (n_samples, ), for example using ravel().\n",
            "  y = column_or_1d(y, warn=True)\n",
            "/usr/local/lib/python3.8/dist-packages/sklearn/preprocessing/_label.py:133: DataConversionWarning: A column-vector y was passed when a 1d array was expected. Please change the shape of y to (n_samples, ), for example using ravel().\n",
            "  y = column_or_1d(y, warn=True)\n",
            "/usr/local/lib/python3.8/dist-packages/sklearn/preprocessing/_label.py:98: DataConversionWarning: A column-vector y was passed when a 1d array was expected. Please change the shape of y to (n_samples, ), for example using ravel().\n",
            "  y = column_or_1d(y, warn=True)\n",
            "/usr/local/lib/python3.8/dist-packages/sklearn/preprocessing/_label.py:133: DataConversionWarning: A column-vector y was passed when a 1d array was expected. Please change the shape of y to (n_samples, ), for example using ravel().\n",
            "  y = column_or_1d(y, warn=True)\n",
            "/usr/local/lib/python3.8/dist-packages/sklearn/preprocessing/_label.py:98: DataConversionWarning: A column-vector y was passed when a 1d array was expected. Please change the shape of y to (n_samples, ), for example using ravel().\n",
            "  y = column_or_1d(y, warn=True)\n",
            "/usr/local/lib/python3.8/dist-packages/sklearn/preprocessing/_label.py:133: DataConversionWarning: A column-vector y was passed when a 1d array was expected. Please change the shape of y to (n_samples, ), for example using ravel().\n",
            "  y = column_or_1d(y, warn=True)\n",
            "/usr/local/lib/python3.8/dist-packages/sklearn/preprocessing/_label.py:98: DataConversionWarning: A column-vector y was passed when a 1d array was expected. Please change the shape of y to (n_samples, ), for example using ravel().\n",
            "  y = column_or_1d(y, warn=True)\n",
            "/usr/local/lib/python3.8/dist-packages/sklearn/preprocessing/_label.py:133: DataConversionWarning: A column-vector y was passed when a 1d array was expected. Please change the shape of y to (n_samples, ), for example using ravel().\n",
            "  y = column_or_1d(y, warn=True)\n",
            "/usr/local/lib/python3.8/dist-packages/sklearn/preprocessing/_label.py:98: DataConversionWarning: A column-vector y was passed when a 1d array was expected. Please change the shape of y to (n_samples, ), for example using ravel().\n",
            "  y = column_or_1d(y, warn=True)\n",
            "/usr/local/lib/python3.8/dist-packages/sklearn/preprocessing/_label.py:133: DataConversionWarning: A column-vector y was passed when a 1d array was expected. Please change the shape of y to (n_samples, ), for example using ravel().\n",
            "  y = column_or_1d(y, warn=True)\n",
            "/usr/local/lib/python3.8/dist-packages/sklearn/preprocessing/_label.py:98: DataConversionWarning: A column-vector y was passed when a 1d array was expected. Please change the shape of y to (n_samples, ), for example using ravel().\n",
            "  y = column_or_1d(y, warn=True)\n",
            "/usr/local/lib/python3.8/dist-packages/sklearn/preprocessing/_label.py:133: DataConversionWarning: A column-vector y was passed when a 1d array was expected. Please change the shape of y to (n_samples, ), for example using ravel().\n",
            "  y = column_or_1d(y, warn=True)\n",
            "/usr/local/lib/python3.8/dist-packages/sklearn/preprocessing/_label.py:98: DataConversionWarning: A column-vector y was passed when a 1d array was expected. Please change the shape of y to (n_samples, ), for example using ravel().\n",
            "  y = column_or_1d(y, warn=True)\n",
            "/usr/local/lib/python3.8/dist-packages/sklearn/preprocessing/_label.py:133: DataConversionWarning: A column-vector y was passed when a 1d array was expected. Please change the shape of y to (n_samples, ), for example using ravel().\n",
            "  y = column_or_1d(y, warn=True)\n",
            "/usr/local/lib/python3.8/dist-packages/sklearn/preprocessing/_label.py:98: DataConversionWarning: A column-vector y was passed when a 1d array was expected. Please change the shape of y to (n_samples, ), for example using ravel().\n",
            "  y = column_or_1d(y, warn=True)\n",
            "/usr/local/lib/python3.8/dist-packages/sklearn/preprocessing/_label.py:133: DataConversionWarning: A column-vector y was passed when a 1d array was expected. Please change the shape of y to (n_samples, ), for example using ravel().\n",
            "  y = column_or_1d(y, warn=True)\n",
            "/usr/local/lib/python3.8/dist-packages/sklearn/preprocessing/_label.py:98: DataConversionWarning: A column-vector y was passed when a 1d array was expected. Please change the shape of y to (n_samples, ), for example using ravel().\n",
            "  y = column_or_1d(y, warn=True)\n",
            "/usr/local/lib/python3.8/dist-packages/sklearn/preprocessing/_label.py:133: DataConversionWarning: A column-vector y was passed when a 1d array was expected. Please change the shape of y to (n_samples, ), for example using ravel().\n",
            "  y = column_or_1d(y, warn=True)\n",
            "/usr/local/lib/python3.8/dist-packages/sklearn/preprocessing/_label.py:98: DataConversionWarning: A column-vector y was passed when a 1d array was expected. Please change the shape of y to (n_samples, ), for example using ravel().\n",
            "  y = column_or_1d(y, warn=True)\n",
            "/usr/local/lib/python3.8/dist-packages/sklearn/preprocessing/_label.py:133: DataConversionWarning: A column-vector y was passed when a 1d array was expected. Please change the shape of y to (n_samples, ), for example using ravel().\n",
            "  y = column_or_1d(y, warn=True)\n",
            "/usr/local/lib/python3.8/dist-packages/sklearn/preprocessing/_label.py:98: DataConversionWarning: A column-vector y was passed when a 1d array was expected. Please change the shape of y to (n_samples, ), for example using ravel().\n",
            "  y = column_or_1d(y, warn=True)\n",
            "/usr/local/lib/python3.8/dist-packages/sklearn/preprocessing/_label.py:133: DataConversionWarning: A column-vector y was passed when a 1d array was expected. Please change the shape of y to (n_samples, ), for example using ravel().\n",
            "  y = column_or_1d(y, warn=True)\n",
            "/usr/local/lib/python3.8/dist-packages/sklearn/preprocessing/_label.py:98: DataConversionWarning: A column-vector y was passed when a 1d array was expected. Please change the shape of y to (n_samples, ), for example using ravel().\n",
            "  y = column_or_1d(y, warn=True)\n",
            "/usr/local/lib/python3.8/dist-packages/sklearn/preprocessing/_label.py:133: DataConversionWarning: A column-vector y was passed when a 1d array was expected. Please change the shape of y to (n_samples, ), for example using ravel().\n",
            "  y = column_or_1d(y, warn=True)\n",
            "/usr/local/lib/python3.8/dist-packages/sklearn/preprocessing/_label.py:98: DataConversionWarning: A column-vector y was passed when a 1d array was expected. Please change the shape of y to (n_samples, ), for example using ravel().\n",
            "  y = column_or_1d(y, warn=True)\n",
            "/usr/local/lib/python3.8/dist-packages/sklearn/preprocessing/_label.py:133: DataConversionWarning: A column-vector y was passed when a 1d array was expected. Please change the shape of y to (n_samples, ), for example using ravel().\n",
            "  y = column_or_1d(y, warn=True)\n",
            "/usr/local/lib/python3.8/dist-packages/sklearn/preprocessing/_label.py:98: DataConversionWarning: A column-vector y was passed when a 1d array was expected. Please change the shape of y to (n_samples, ), for example using ravel().\n",
            "  y = column_or_1d(y, warn=True)\n",
            "/usr/local/lib/python3.8/dist-packages/sklearn/preprocessing/_label.py:133: DataConversionWarning: A column-vector y was passed when a 1d array was expected. Please change the shape of y to (n_samples, ), for example using ravel().\n",
            "  y = column_or_1d(y, warn=True)\n",
            "/usr/local/lib/python3.8/dist-packages/sklearn/preprocessing/_label.py:98: DataConversionWarning: A column-vector y was passed when a 1d array was expected. Please change the shape of y to (n_samples, ), for example using ravel().\n",
            "  y = column_or_1d(y, warn=True)\n",
            "/usr/local/lib/python3.8/dist-packages/sklearn/preprocessing/_label.py:133: DataConversionWarning: A column-vector y was passed when a 1d array was expected. Please change the shape of y to (n_samples, ), for example using ravel().\n",
            "  y = column_or_1d(y, warn=True)\n",
            "/usr/local/lib/python3.8/dist-packages/sklearn/preprocessing/_label.py:98: DataConversionWarning: A column-vector y was passed when a 1d array was expected. Please change the shape of y to (n_samples, ), for example using ravel().\n",
            "  y = column_or_1d(y, warn=True)\n",
            "/usr/local/lib/python3.8/dist-packages/sklearn/preprocessing/_label.py:133: DataConversionWarning: A column-vector y was passed when a 1d array was expected. Please change the shape of y to (n_samples, ), for example using ravel().\n",
            "  y = column_or_1d(y, warn=True)\n",
            "/usr/local/lib/python3.8/dist-packages/sklearn/preprocessing/_label.py:98: DataConversionWarning: A column-vector y was passed when a 1d array was expected. Please change the shape of y to (n_samples, ), for example using ravel().\n",
            "  y = column_or_1d(y, warn=True)\n",
            "/usr/local/lib/python3.8/dist-packages/sklearn/preprocessing/_label.py:133: DataConversionWarning: A column-vector y was passed when a 1d array was expected. Please change the shape of y to (n_samples, ), for example using ravel().\n",
            "  y = column_or_1d(y, warn=True)\n",
            "/usr/local/lib/python3.8/dist-packages/sklearn/preprocessing/_label.py:98: DataConversionWarning: A column-vector y was passed when a 1d array was expected. Please change the shape of y to (n_samples, ), for example using ravel().\n",
            "  y = column_or_1d(y, warn=True)\n",
            "/usr/local/lib/python3.8/dist-packages/sklearn/preprocessing/_label.py:133: DataConversionWarning: A column-vector y was passed when a 1d array was expected. Please change the shape of y to (n_samples, ), for example using ravel().\n",
            "  y = column_or_1d(y, warn=True)\n",
            "/usr/local/lib/python3.8/dist-packages/sklearn/preprocessing/_label.py:98: DataConversionWarning: A column-vector y was passed when a 1d array was expected. Please change the shape of y to (n_samples, ), for example using ravel().\n",
            "  y = column_or_1d(y, warn=True)\n",
            "/usr/local/lib/python3.8/dist-packages/sklearn/preprocessing/_label.py:133: DataConversionWarning: A column-vector y was passed when a 1d array was expected. Please change the shape of y to (n_samples, ), for example using ravel().\n",
            "  y = column_or_1d(y, warn=True)\n",
            "/usr/local/lib/python3.8/dist-packages/sklearn/preprocessing/_label.py:98: DataConversionWarning: A column-vector y was passed when a 1d array was expected. Please change the shape of y to (n_samples, ), for example using ravel().\n",
            "  y = column_or_1d(y, warn=True)\n",
            "/usr/local/lib/python3.8/dist-packages/sklearn/preprocessing/_label.py:133: DataConversionWarning: A column-vector y was passed when a 1d array was expected. Please change the shape of y to (n_samples, ), for example using ravel().\n",
            "  y = column_or_1d(y, warn=True)\n",
            "/usr/local/lib/python3.8/dist-packages/sklearn/preprocessing/_label.py:98: DataConversionWarning: A column-vector y was passed when a 1d array was expected. Please change the shape of y to (n_samples, ), for example using ravel().\n",
            "  y = column_or_1d(y, warn=True)\n",
            "/usr/local/lib/python3.8/dist-packages/sklearn/preprocessing/_label.py:133: DataConversionWarning: A column-vector y was passed when a 1d array was expected. Please change the shape of y to (n_samples, ), for example using ravel().\n",
            "  y = column_or_1d(y, warn=True)\n",
            "/usr/local/lib/python3.8/dist-packages/sklearn/preprocessing/_label.py:98: DataConversionWarning: A column-vector y was passed when a 1d array was expected. Please change the shape of y to (n_samples, ), for example using ravel().\n",
            "  y = column_or_1d(y, warn=True)\n",
            "/usr/local/lib/python3.8/dist-packages/sklearn/preprocessing/_label.py:133: DataConversionWarning: A column-vector y was passed when a 1d array was expected. Please change the shape of y to (n_samples, ), for example using ravel().\n",
            "  y = column_or_1d(y, warn=True)\n",
            "/usr/local/lib/python3.8/dist-packages/sklearn/preprocessing/_label.py:98: DataConversionWarning: A column-vector y was passed when a 1d array was expected. Please change the shape of y to (n_samples, ), for example using ravel().\n",
            "  y = column_or_1d(y, warn=True)\n",
            "/usr/local/lib/python3.8/dist-packages/sklearn/preprocessing/_label.py:133: DataConversionWarning: A column-vector y was passed when a 1d array was expected. Please change the shape of y to (n_samples, ), for example using ravel().\n",
            "  y = column_or_1d(y, warn=True)\n",
            "/usr/local/lib/python3.8/dist-packages/sklearn/preprocessing/_label.py:98: DataConversionWarning: A column-vector y was passed when a 1d array was expected. Please change the shape of y to (n_samples, ), for example using ravel().\n",
            "  y = column_or_1d(y, warn=True)\n",
            "/usr/local/lib/python3.8/dist-packages/sklearn/preprocessing/_label.py:133: DataConversionWarning: A column-vector y was passed when a 1d array was expected. Please change the shape of y to (n_samples, ), for example using ravel().\n",
            "  y = column_or_1d(y, warn=True)\n",
            "/usr/local/lib/python3.8/dist-packages/sklearn/preprocessing/_label.py:98: DataConversionWarning: A column-vector y was passed when a 1d array was expected. Please change the shape of y to (n_samples, ), for example using ravel().\n",
            "  y = column_or_1d(y, warn=True)\n",
            "/usr/local/lib/python3.8/dist-packages/sklearn/preprocessing/_label.py:133: DataConversionWarning: A column-vector y was passed when a 1d array was expected. Please change the shape of y to (n_samples, ), for example using ravel().\n",
            "  y = column_or_1d(y, warn=True)\n",
            "/usr/local/lib/python3.8/dist-packages/sklearn/preprocessing/_label.py:98: DataConversionWarning: A column-vector y was passed when a 1d array was expected. Please change the shape of y to (n_samples, ), for example using ravel().\n",
            "  y = column_or_1d(y, warn=True)\n",
            "/usr/local/lib/python3.8/dist-packages/sklearn/preprocessing/_label.py:133: DataConversionWarning: A column-vector y was passed when a 1d array was expected. Please change the shape of y to (n_samples, ), for example using ravel().\n",
            "  y = column_or_1d(y, warn=True)\n",
            "/usr/local/lib/python3.8/dist-packages/sklearn/preprocessing/_label.py:98: DataConversionWarning: A column-vector y was passed when a 1d array was expected. Please change the shape of y to (n_samples, ), for example using ravel().\n",
            "  y = column_or_1d(y, warn=True)\n",
            "/usr/local/lib/python3.8/dist-packages/sklearn/preprocessing/_label.py:133: DataConversionWarning: A column-vector y was passed when a 1d array was expected. Please change the shape of y to (n_samples, ), for example using ravel().\n",
            "  y = column_or_1d(y, warn=True)\n",
            "/usr/local/lib/python3.8/dist-packages/sklearn/preprocessing/_label.py:98: DataConversionWarning: A column-vector y was passed when a 1d array was expected. Please change the shape of y to (n_samples, ), for example using ravel().\n",
            "  y = column_or_1d(y, warn=True)\n",
            "/usr/local/lib/python3.8/dist-packages/sklearn/preprocessing/_label.py:133: DataConversionWarning: A column-vector y was passed when a 1d array was expected. Please change the shape of y to (n_samples, ), for example using ravel().\n",
            "  y = column_or_1d(y, warn=True)\n",
            "/usr/local/lib/python3.8/dist-packages/sklearn/preprocessing/_label.py:98: DataConversionWarning: A column-vector y was passed when a 1d array was expected. Please change the shape of y to (n_samples, ), for example using ravel().\n",
            "  y = column_or_1d(y, warn=True)\n",
            "/usr/local/lib/python3.8/dist-packages/sklearn/preprocessing/_label.py:133: DataConversionWarning: A column-vector y was passed when a 1d array was expected. Please change the shape of y to (n_samples, ), for example using ravel().\n",
            "  y = column_or_1d(y, warn=True)\n",
            "/usr/local/lib/python3.8/dist-packages/sklearn/preprocessing/_label.py:98: DataConversionWarning: A column-vector y was passed when a 1d array was expected. Please change the shape of y to (n_samples, ), for example using ravel().\n",
            "  y = column_or_1d(y, warn=True)\n",
            "/usr/local/lib/python3.8/dist-packages/sklearn/preprocessing/_label.py:133: DataConversionWarning: A column-vector y was passed when a 1d array was expected. Please change the shape of y to (n_samples, ), for example using ravel().\n",
            "  y = column_or_1d(y, warn=True)\n",
            "/usr/local/lib/python3.8/dist-packages/sklearn/preprocessing/_label.py:98: DataConversionWarning: A column-vector y was passed when a 1d array was expected. Please change the shape of y to (n_samples, ), for example using ravel().\n",
            "  y = column_or_1d(y, warn=True)\n",
            "/usr/local/lib/python3.8/dist-packages/sklearn/preprocessing/_label.py:133: DataConversionWarning: A column-vector y was passed when a 1d array was expected. Please change the shape of y to (n_samples, ), for example using ravel().\n",
            "  y = column_or_1d(y, warn=True)\n",
            "/usr/local/lib/python3.8/dist-packages/sklearn/preprocessing/_label.py:98: DataConversionWarning: A column-vector y was passed when a 1d array was expected. Please change the shape of y to (n_samples, ), for example using ravel().\n",
            "  y = column_or_1d(y, warn=True)\n",
            "/usr/local/lib/python3.8/dist-packages/sklearn/preprocessing/_label.py:133: DataConversionWarning: A column-vector y was passed when a 1d array was expected. Please change the shape of y to (n_samples, ), for example using ravel().\n",
            "  y = column_or_1d(y, warn=True)\n",
            "/usr/local/lib/python3.8/dist-packages/sklearn/preprocessing/_label.py:98: DataConversionWarning: A column-vector y was passed when a 1d array was expected. Please change the shape of y to (n_samples, ), for example using ravel().\n",
            "  y = column_or_1d(y, warn=True)\n",
            "/usr/local/lib/python3.8/dist-packages/sklearn/preprocessing/_label.py:133: DataConversionWarning: A column-vector y was passed when a 1d array was expected. Please change the shape of y to (n_samples, ), for example using ravel().\n",
            "  y = column_or_1d(y, warn=True)\n",
            "/usr/local/lib/python3.8/dist-packages/sklearn/preprocessing/_label.py:98: DataConversionWarning: A column-vector y was passed when a 1d array was expected. Please change the shape of y to (n_samples, ), for example using ravel().\n",
            "  y = column_or_1d(y, warn=True)\n",
            "/usr/local/lib/python3.8/dist-packages/sklearn/preprocessing/_label.py:133: DataConversionWarning: A column-vector y was passed when a 1d array was expected. Please change the shape of y to (n_samples, ), for example using ravel().\n",
            "  y = column_or_1d(y, warn=True)\n",
            "/usr/local/lib/python3.8/dist-packages/sklearn/preprocessing/_label.py:98: DataConversionWarning: A column-vector y was passed when a 1d array was expected. Please change the shape of y to (n_samples, ), for example using ravel().\n",
            "  y = column_or_1d(y, warn=True)\n",
            "/usr/local/lib/python3.8/dist-packages/sklearn/preprocessing/_label.py:133: DataConversionWarning: A column-vector y was passed when a 1d array was expected. Please change the shape of y to (n_samples, ), for example using ravel().\n",
            "  y = column_or_1d(y, warn=True)\n",
            "/usr/local/lib/python3.8/dist-packages/sklearn/preprocessing/_label.py:98: DataConversionWarning: A column-vector y was passed when a 1d array was expected. Please change the shape of y to (n_samples, ), for example using ravel().\n",
            "  y = column_or_1d(y, warn=True)\n",
            "/usr/local/lib/python3.8/dist-packages/sklearn/preprocessing/_label.py:133: DataConversionWarning: A column-vector y was passed when a 1d array was expected. Please change the shape of y to (n_samples, ), for example using ravel().\n",
            "  y = column_or_1d(y, warn=True)\n",
            "/usr/local/lib/python3.8/dist-packages/sklearn/preprocessing/_label.py:98: DataConversionWarning: A column-vector y was passed when a 1d array was expected. Please change the shape of y to (n_samples, ), for example using ravel().\n",
            "  y = column_or_1d(y, warn=True)\n",
            "/usr/local/lib/python3.8/dist-packages/sklearn/preprocessing/_label.py:133: DataConversionWarning: A column-vector y was passed when a 1d array was expected. Please change the shape of y to (n_samples, ), for example using ravel().\n",
            "  y = column_or_1d(y, warn=True)\n",
            "/usr/local/lib/python3.8/dist-packages/sklearn/preprocessing/_label.py:98: DataConversionWarning: A column-vector y was passed when a 1d array was expected. Please change the shape of y to (n_samples, ), for example using ravel().\n",
            "  y = column_or_1d(y, warn=True)\n",
            "/usr/local/lib/python3.8/dist-packages/sklearn/preprocessing/_label.py:133: DataConversionWarning: A column-vector y was passed when a 1d array was expected. Please change the shape of y to (n_samples, ), for example using ravel().\n",
            "  y = column_or_1d(y, warn=True)\n",
            "/usr/local/lib/python3.8/dist-packages/sklearn/preprocessing/_label.py:98: DataConversionWarning: A column-vector y was passed when a 1d array was expected. Please change the shape of y to (n_samples, ), for example using ravel().\n",
            "  y = column_or_1d(y, warn=True)\n",
            "/usr/local/lib/python3.8/dist-packages/sklearn/preprocessing/_label.py:133: DataConversionWarning: A column-vector y was passed when a 1d array was expected. Please change the shape of y to (n_samples, ), for example using ravel().\n",
            "  y = column_or_1d(y, warn=True)\n",
            "/usr/local/lib/python3.8/dist-packages/sklearn/preprocessing/_label.py:98: DataConversionWarning: A column-vector y was passed when a 1d array was expected. Please change the shape of y to (n_samples, ), for example using ravel().\n",
            "  y = column_or_1d(y, warn=True)\n",
            "/usr/local/lib/python3.8/dist-packages/sklearn/preprocessing/_label.py:133: DataConversionWarning: A column-vector y was passed when a 1d array was expected. Please change the shape of y to (n_samples, ), for example using ravel().\n",
            "  y = column_or_1d(y, warn=True)\n",
            "/usr/local/lib/python3.8/dist-packages/sklearn/preprocessing/_label.py:98: DataConversionWarning: A column-vector y was passed when a 1d array was expected. Please change the shape of y to (n_samples, ), for example using ravel().\n",
            "  y = column_or_1d(y, warn=True)\n",
            "/usr/local/lib/python3.8/dist-packages/sklearn/preprocessing/_label.py:133: DataConversionWarning: A column-vector y was passed when a 1d array was expected. Please change the shape of y to (n_samples, ), for example using ravel().\n",
            "  y = column_or_1d(y, warn=True)\n",
            "/usr/local/lib/python3.8/dist-packages/sklearn/preprocessing/_label.py:98: DataConversionWarning: A column-vector y was passed when a 1d array was expected. Please change the shape of y to (n_samples, ), for example using ravel().\n",
            "  y = column_or_1d(y, warn=True)\n",
            "/usr/local/lib/python3.8/dist-packages/sklearn/preprocessing/_label.py:133: DataConversionWarning: A column-vector y was passed when a 1d array was expected. Please change the shape of y to (n_samples, ), for example using ravel().\n",
            "  y = column_or_1d(y, warn=True)\n",
            "/usr/local/lib/python3.8/dist-packages/sklearn/preprocessing/_label.py:98: DataConversionWarning: A column-vector y was passed when a 1d array was expected. Please change the shape of y to (n_samples, ), for example using ravel().\n",
            "  y = column_or_1d(y, warn=True)\n",
            "/usr/local/lib/python3.8/dist-packages/sklearn/preprocessing/_label.py:133: DataConversionWarning: A column-vector y was passed when a 1d array was expected. Please change the shape of y to (n_samples, ), for example using ravel().\n",
            "  y = column_or_1d(y, warn=True)\n",
            "/usr/local/lib/python3.8/dist-packages/sklearn/preprocessing/_label.py:98: DataConversionWarning: A column-vector y was passed when a 1d array was expected. Please change the shape of y to (n_samples, ), for example using ravel().\n",
            "  y = column_or_1d(y, warn=True)\n",
            "/usr/local/lib/python3.8/dist-packages/sklearn/preprocessing/_label.py:133: DataConversionWarning: A column-vector y was passed when a 1d array was expected. Please change the shape of y to (n_samples, ), for example using ravel().\n",
            "  y = column_or_1d(y, warn=True)\n",
            "/usr/local/lib/python3.8/dist-packages/sklearn/preprocessing/_label.py:98: DataConversionWarning: A column-vector y was passed when a 1d array was expected. Please change the shape of y to (n_samples, ), for example using ravel().\n",
            "  y = column_or_1d(y, warn=True)\n",
            "/usr/local/lib/python3.8/dist-packages/sklearn/preprocessing/_label.py:133: DataConversionWarning: A column-vector y was passed when a 1d array was expected. Please change the shape of y to (n_samples, ), for example using ravel().\n",
            "  y = column_or_1d(y, warn=True)\n",
            "/usr/local/lib/python3.8/dist-packages/sklearn/preprocessing/_label.py:98: DataConversionWarning: A column-vector y was passed when a 1d array was expected. Please change the shape of y to (n_samples, ), for example using ravel().\n",
            "  y = column_or_1d(y, warn=True)\n",
            "/usr/local/lib/python3.8/dist-packages/sklearn/preprocessing/_label.py:133: DataConversionWarning: A column-vector y was passed when a 1d array was expected. Please change the shape of y to (n_samples, ), for example using ravel().\n",
            "  y = column_or_1d(y, warn=True)\n",
            "/usr/local/lib/python3.8/dist-packages/sklearn/preprocessing/_label.py:98: DataConversionWarning: A column-vector y was passed when a 1d array was expected. Please change the shape of y to (n_samples, ), for example using ravel().\n",
            "  y = column_or_1d(y, warn=True)\n",
            "/usr/local/lib/python3.8/dist-packages/sklearn/preprocessing/_label.py:133: DataConversionWarning: A column-vector y was passed when a 1d array was expected. Please change the shape of y to (n_samples, ), for example using ravel().\n",
            "  y = column_or_1d(y, warn=True)\n",
            "/usr/local/lib/python3.8/dist-packages/sklearn/preprocessing/_label.py:98: DataConversionWarning: A column-vector y was passed when a 1d array was expected. Please change the shape of y to (n_samples, ), for example using ravel().\n",
            "  y = column_or_1d(y, warn=True)\n",
            "/usr/local/lib/python3.8/dist-packages/sklearn/preprocessing/_label.py:133: DataConversionWarning: A column-vector y was passed when a 1d array was expected. Please change the shape of y to (n_samples, ), for example using ravel().\n",
            "  y = column_or_1d(y, warn=True)\n",
            "/usr/local/lib/python3.8/dist-packages/sklearn/preprocessing/_label.py:98: DataConversionWarning: A column-vector y was passed when a 1d array was expected. Please change the shape of y to (n_samples, ), for example using ravel().\n",
            "  y = column_or_1d(y, warn=True)\n",
            "/usr/local/lib/python3.8/dist-packages/sklearn/preprocessing/_label.py:133: DataConversionWarning: A column-vector y was passed when a 1d array was expected. Please change the shape of y to (n_samples, ), for example using ravel().\n",
            "  y = column_or_1d(y, warn=True)\n",
            "/usr/local/lib/python3.8/dist-packages/sklearn/preprocessing/_label.py:98: DataConversionWarning: A column-vector y was passed when a 1d array was expected. Please change the shape of y to (n_samples, ), for example using ravel().\n",
            "  y = column_or_1d(y, warn=True)\n",
            "/usr/local/lib/python3.8/dist-packages/sklearn/preprocessing/_label.py:133: DataConversionWarning: A column-vector y was passed when a 1d array was expected. Please change the shape of y to (n_samples, ), for example using ravel().\n",
            "  y = column_or_1d(y, warn=True)\n",
            "/usr/local/lib/python3.8/dist-packages/sklearn/preprocessing/_label.py:98: DataConversionWarning: A column-vector y was passed when a 1d array was expected. Please change the shape of y to (n_samples, ), for example using ravel().\n",
            "  y = column_or_1d(y, warn=True)\n",
            "/usr/local/lib/python3.8/dist-packages/sklearn/preprocessing/_label.py:133: DataConversionWarning: A column-vector y was passed when a 1d array was expected. Please change the shape of y to (n_samples, ), for example using ravel().\n",
            "  y = column_or_1d(y, warn=True)\n",
            "/usr/local/lib/python3.8/dist-packages/sklearn/preprocessing/_label.py:98: DataConversionWarning: A column-vector y was passed when a 1d array was expected. Please change the shape of y to (n_samples, ), for example using ravel().\n",
            "  y = column_or_1d(y, warn=True)\n",
            "/usr/local/lib/python3.8/dist-packages/sklearn/preprocessing/_label.py:133: DataConversionWarning: A column-vector y was passed when a 1d array was expected. Please change the shape of y to (n_samples, ), for example using ravel().\n",
            "  y = column_or_1d(y, warn=True)\n",
            "/usr/local/lib/python3.8/dist-packages/sklearn/preprocessing/_label.py:98: DataConversionWarning: A column-vector y was passed when a 1d array was expected. Please change the shape of y to (n_samples, ), for example using ravel().\n",
            "  y = column_or_1d(y, warn=True)\n",
            "/usr/local/lib/python3.8/dist-packages/sklearn/preprocessing/_label.py:133: DataConversionWarning: A column-vector y was passed when a 1d array was expected. Please change the shape of y to (n_samples, ), for example using ravel().\n",
            "  y = column_or_1d(y, warn=True)\n",
            "/usr/local/lib/python3.8/dist-packages/sklearn/preprocessing/_label.py:98: DataConversionWarning: A column-vector y was passed when a 1d array was expected. Please change the shape of y to (n_samples, ), for example using ravel().\n",
            "  y = column_or_1d(y, warn=True)\n",
            "/usr/local/lib/python3.8/dist-packages/sklearn/preprocessing/_label.py:133: DataConversionWarning: A column-vector y was passed when a 1d array was expected. Please change the shape of y to (n_samples, ), for example using ravel().\n",
            "  y = column_or_1d(y, warn=True)\n",
            "/usr/local/lib/python3.8/dist-packages/sklearn/preprocessing/_label.py:98: DataConversionWarning: A column-vector y was passed when a 1d array was expected. Please change the shape of y to (n_samples, ), for example using ravel().\n",
            "  y = column_or_1d(y, warn=True)\n",
            "/usr/local/lib/python3.8/dist-packages/sklearn/preprocessing/_label.py:133: DataConversionWarning: A column-vector y was passed when a 1d array was expected. Please change the shape of y to (n_samples, ), for example using ravel().\n",
            "  y = column_or_1d(y, warn=True)\n",
            "/usr/local/lib/python3.8/dist-packages/sklearn/preprocessing/_label.py:98: DataConversionWarning: A column-vector y was passed when a 1d array was expected. Please change the shape of y to (n_samples, ), for example using ravel().\n",
            "  y = column_or_1d(y, warn=True)\n",
            "/usr/local/lib/python3.8/dist-packages/sklearn/preprocessing/_label.py:133: DataConversionWarning: A column-vector y was passed when a 1d array was expected. Please change the shape of y to (n_samples, ), for example using ravel().\n",
            "  y = column_or_1d(y, warn=True)\n",
            "/usr/local/lib/python3.8/dist-packages/sklearn/preprocessing/_label.py:98: DataConversionWarning: A column-vector y was passed when a 1d array was expected. Please change the shape of y to (n_samples, ), for example using ravel().\n",
            "  y = column_or_1d(y, warn=True)\n",
            "/usr/local/lib/python3.8/dist-packages/sklearn/preprocessing/_label.py:133: DataConversionWarning: A column-vector y was passed when a 1d array was expected. Please change the shape of y to (n_samples, ), for example using ravel().\n",
            "  y = column_or_1d(y, warn=True)\n",
            "/usr/local/lib/python3.8/dist-packages/sklearn/preprocessing/_label.py:98: DataConversionWarning: A column-vector y was passed when a 1d array was expected. Please change the shape of y to (n_samples, ), for example using ravel().\n",
            "  y = column_or_1d(y, warn=True)\n",
            "/usr/local/lib/python3.8/dist-packages/sklearn/preprocessing/_label.py:133: DataConversionWarning: A column-vector y was passed when a 1d array was expected. Please change the shape of y to (n_samples, ), for example using ravel().\n",
            "  y = column_or_1d(y, warn=True)\n",
            "/usr/local/lib/python3.8/dist-packages/sklearn/preprocessing/_label.py:98: DataConversionWarning: A column-vector y was passed when a 1d array was expected. Please change the shape of y to (n_samples, ), for example using ravel().\n",
            "  y = column_or_1d(y, warn=True)\n",
            "/usr/local/lib/python3.8/dist-packages/sklearn/preprocessing/_label.py:133: DataConversionWarning: A column-vector y was passed when a 1d array was expected. Please change the shape of y to (n_samples, ), for example using ravel().\n",
            "  y = column_or_1d(y, warn=True)\n",
            "/usr/local/lib/python3.8/dist-packages/sklearn/preprocessing/_label.py:98: DataConversionWarning: A column-vector y was passed when a 1d array was expected. Please change the shape of y to (n_samples, ), for example using ravel().\n",
            "  y = column_or_1d(y, warn=True)\n",
            "/usr/local/lib/python3.8/dist-packages/sklearn/preprocessing/_label.py:133: DataConversionWarning: A column-vector y was passed when a 1d array was expected. Please change the shape of y to (n_samples, ), for example using ravel().\n",
            "  y = column_or_1d(y, warn=True)\n",
            "/usr/local/lib/python3.8/dist-packages/sklearn/preprocessing/_label.py:98: DataConversionWarning: A column-vector y was passed when a 1d array was expected. Please change the shape of y to (n_samples, ), for example using ravel().\n",
            "  y = column_or_1d(y, warn=True)\n",
            "/usr/local/lib/python3.8/dist-packages/sklearn/preprocessing/_label.py:133: DataConversionWarning: A column-vector y was passed when a 1d array was expected. Please change the shape of y to (n_samples, ), for example using ravel().\n",
            "  y = column_or_1d(y, warn=True)\n",
            "/usr/local/lib/python3.8/dist-packages/sklearn/preprocessing/_label.py:98: DataConversionWarning: A column-vector y was passed when a 1d array was expected. Please change the shape of y to (n_samples, ), for example using ravel().\n",
            "  y = column_or_1d(y, warn=True)\n",
            "/usr/local/lib/python3.8/dist-packages/sklearn/preprocessing/_label.py:133: DataConversionWarning: A column-vector y was passed when a 1d array was expected. Please change the shape of y to (n_samples, ), for example using ravel().\n",
            "  y = column_or_1d(y, warn=True)\n",
            "/usr/local/lib/python3.8/dist-packages/sklearn/preprocessing/_label.py:98: DataConversionWarning: A column-vector y was passed when a 1d array was expected. Please change the shape of y to (n_samples, ), for example using ravel().\n",
            "  y = column_or_1d(y, warn=True)\n",
            "/usr/local/lib/python3.8/dist-packages/sklearn/preprocessing/_label.py:133: DataConversionWarning: A column-vector y was passed when a 1d array was expected. Please change the shape of y to (n_samples, ), for example using ravel().\n",
            "  y = column_or_1d(y, warn=True)\n",
            "/usr/local/lib/python3.8/dist-packages/sklearn/preprocessing/_label.py:98: DataConversionWarning: A column-vector y was passed when a 1d array was expected. Please change the shape of y to (n_samples, ), for example using ravel().\n",
            "  y = column_or_1d(y, warn=True)\n",
            "/usr/local/lib/python3.8/dist-packages/sklearn/preprocessing/_label.py:133: DataConversionWarning: A column-vector y was passed when a 1d array was expected. Please change the shape of y to (n_samples, ), for example using ravel().\n",
            "  y = column_or_1d(y, warn=True)\n",
            "/usr/local/lib/python3.8/dist-packages/sklearn/preprocessing/_label.py:98: DataConversionWarning: A column-vector y was passed when a 1d array was expected. Please change the shape of y to (n_samples, ), for example using ravel().\n",
            "  y = column_or_1d(y, warn=True)\n",
            "/usr/local/lib/python3.8/dist-packages/sklearn/preprocessing/_label.py:133: DataConversionWarning: A column-vector y was passed when a 1d array was expected. Please change the shape of y to (n_samples, ), for example using ravel().\n",
            "  y = column_or_1d(y, warn=True)\n",
            "/usr/local/lib/python3.8/dist-packages/sklearn/preprocessing/_label.py:98: DataConversionWarning: A column-vector y was passed when a 1d array was expected. Please change the shape of y to (n_samples, ), for example using ravel().\n",
            "  y = column_or_1d(y, warn=True)\n",
            "/usr/local/lib/python3.8/dist-packages/sklearn/preprocessing/_label.py:133: DataConversionWarning: A column-vector y was passed when a 1d array was expected. Please change the shape of y to (n_samples, ), for example using ravel().\n",
            "  y = column_or_1d(y, warn=True)\n",
            "/usr/local/lib/python3.8/dist-packages/sklearn/preprocessing/_label.py:98: DataConversionWarning: A column-vector y was passed when a 1d array was expected. Please change the shape of y to (n_samples, ), for example using ravel().\n",
            "  y = column_or_1d(y, warn=True)\n",
            "/usr/local/lib/python3.8/dist-packages/sklearn/preprocessing/_label.py:133: DataConversionWarning: A column-vector y was passed when a 1d array was expected. Please change the shape of y to (n_samples, ), for example using ravel().\n",
            "  y = column_or_1d(y, warn=True)\n",
            "/usr/local/lib/python3.8/dist-packages/sklearn/preprocessing/_label.py:98: DataConversionWarning: A column-vector y was passed when a 1d array was expected. Please change the shape of y to (n_samples, ), for example using ravel().\n",
            "  y = column_or_1d(y, warn=True)\n",
            "/usr/local/lib/python3.8/dist-packages/sklearn/preprocessing/_label.py:133: DataConversionWarning: A column-vector y was passed when a 1d array was expected. Please change the shape of y to (n_samples, ), for example using ravel().\n",
            "  y = column_or_1d(y, warn=True)\n",
            "/usr/local/lib/python3.8/dist-packages/sklearn/preprocessing/_label.py:98: DataConversionWarning: A column-vector y was passed when a 1d array was expected. Please change the shape of y to (n_samples, ), for example using ravel().\n",
            "  y = column_or_1d(y, warn=True)\n",
            "/usr/local/lib/python3.8/dist-packages/sklearn/preprocessing/_label.py:133: DataConversionWarning: A column-vector y was passed when a 1d array was expected. Please change the shape of y to (n_samples, ), for example using ravel().\n",
            "  y = column_or_1d(y, warn=True)\n",
            "/usr/local/lib/python3.8/dist-packages/sklearn/preprocessing/_label.py:98: DataConversionWarning: A column-vector y was passed when a 1d array was expected. Please change the shape of y to (n_samples, ), for example using ravel().\n",
            "  y = column_or_1d(y, warn=True)\n",
            "/usr/local/lib/python3.8/dist-packages/sklearn/preprocessing/_label.py:133: DataConversionWarning: A column-vector y was passed when a 1d array was expected. Please change the shape of y to (n_samples, ), for example using ravel().\n",
            "  y = column_or_1d(y, warn=True)\n",
            "/usr/local/lib/python3.8/dist-packages/sklearn/preprocessing/_label.py:98: DataConversionWarning: A column-vector y was passed when a 1d array was expected. Please change the shape of y to (n_samples, ), for example using ravel().\n",
            "  y = column_or_1d(y, warn=True)\n",
            "/usr/local/lib/python3.8/dist-packages/sklearn/preprocessing/_label.py:133: DataConversionWarning: A column-vector y was passed when a 1d array was expected. Please change the shape of y to (n_samples, ), for example using ravel().\n",
            "  y = column_or_1d(y, warn=True)\n",
            "/usr/local/lib/python3.8/dist-packages/sklearn/preprocessing/_label.py:98: DataConversionWarning: A column-vector y was passed when a 1d array was expected. Please change the shape of y to (n_samples, ), for example using ravel().\n",
            "  y = column_or_1d(y, warn=True)\n",
            "/usr/local/lib/python3.8/dist-packages/sklearn/preprocessing/_label.py:133: DataConversionWarning: A column-vector y was passed when a 1d array was expected. Please change the shape of y to (n_samples, ), for example using ravel().\n",
            "  y = column_or_1d(y, warn=True)\n",
            "/usr/local/lib/python3.8/dist-packages/sklearn/preprocessing/_label.py:98: DataConversionWarning: A column-vector y was passed when a 1d array was expected. Please change the shape of y to (n_samples, ), for example using ravel().\n",
            "  y = column_or_1d(y, warn=True)\n",
            "/usr/local/lib/python3.8/dist-packages/sklearn/preprocessing/_label.py:133: DataConversionWarning: A column-vector y was passed when a 1d array was expected. Please change the shape of y to (n_samples, ), for example using ravel().\n",
            "  y = column_or_1d(y, warn=True)\n",
            "/usr/local/lib/python3.8/dist-packages/sklearn/preprocessing/_label.py:98: DataConversionWarning: A column-vector y was passed when a 1d array was expected. Please change the shape of y to (n_samples, ), for example using ravel().\n",
            "  y = column_or_1d(y, warn=True)\n",
            "/usr/local/lib/python3.8/dist-packages/sklearn/preprocessing/_label.py:133: DataConversionWarning: A column-vector y was passed when a 1d array was expected. Please change the shape of y to (n_samples, ), for example using ravel().\n",
            "  y = column_or_1d(y, warn=True)\n",
            "/usr/local/lib/python3.8/dist-packages/sklearn/preprocessing/_label.py:98: DataConversionWarning: A column-vector y was passed when a 1d array was expected. Please change the shape of y to (n_samples, ), for example using ravel().\n",
            "  y = column_or_1d(y, warn=True)\n",
            "/usr/local/lib/python3.8/dist-packages/sklearn/preprocessing/_label.py:133: DataConversionWarning: A column-vector y was passed when a 1d array was expected. Please change the shape of y to (n_samples, ), for example using ravel().\n",
            "  y = column_or_1d(y, warn=True)\n",
            "/usr/local/lib/python3.8/dist-packages/sklearn/preprocessing/_label.py:98: DataConversionWarning: A column-vector y was passed when a 1d array was expected. Please change the shape of y to (n_samples, ), for example using ravel().\n",
            "  y = column_or_1d(y, warn=True)\n",
            "/usr/local/lib/python3.8/dist-packages/sklearn/preprocessing/_label.py:133: DataConversionWarning: A column-vector y was passed when a 1d array was expected. Please change the shape of y to (n_samples, ), for example using ravel().\n",
            "  y = column_or_1d(y, warn=True)\n",
            "/usr/local/lib/python3.8/dist-packages/sklearn/preprocessing/_label.py:98: DataConversionWarning: A column-vector y was passed when a 1d array was expected. Please change the shape of y to (n_samples, ), for example using ravel().\n",
            "  y = column_or_1d(y, warn=True)\n",
            "/usr/local/lib/python3.8/dist-packages/sklearn/preprocessing/_label.py:133: DataConversionWarning: A column-vector y was passed when a 1d array was expected. Please change the shape of y to (n_samples, ), for example using ravel().\n",
            "  y = column_or_1d(y, warn=True)\n",
            "/usr/local/lib/python3.8/dist-packages/sklearn/preprocessing/_label.py:98: DataConversionWarning: A column-vector y was passed when a 1d array was expected. Please change the shape of y to (n_samples, ), for example using ravel().\n",
            "  y = column_or_1d(y, warn=True)\n",
            "/usr/local/lib/python3.8/dist-packages/sklearn/preprocessing/_label.py:133: DataConversionWarning: A column-vector y was passed when a 1d array was expected. Please change the shape of y to (n_samples, ), for example using ravel().\n",
            "  y = column_or_1d(y, warn=True)\n",
            "/usr/local/lib/python3.8/dist-packages/sklearn/preprocessing/_label.py:98: DataConversionWarning: A column-vector y was passed when a 1d array was expected. Please change the shape of y to (n_samples, ), for example using ravel().\n",
            "  y = column_or_1d(y, warn=True)\n",
            "/usr/local/lib/python3.8/dist-packages/sklearn/preprocessing/_label.py:133: DataConversionWarning: A column-vector y was passed when a 1d array was expected. Please change the shape of y to (n_samples, ), for example using ravel().\n",
            "  y = column_or_1d(y, warn=True)\n",
            "/usr/local/lib/python3.8/dist-packages/sklearn/preprocessing/_label.py:98: DataConversionWarning: A column-vector y was passed when a 1d array was expected. Please change the shape of y to (n_samples, ), for example using ravel().\n",
            "  y = column_or_1d(y, warn=True)\n",
            "/usr/local/lib/python3.8/dist-packages/sklearn/preprocessing/_label.py:133: DataConversionWarning: A column-vector y was passed when a 1d array was expected. Please change the shape of y to (n_samples, ), for example using ravel().\n",
            "  y = column_or_1d(y, warn=True)\n",
            "/usr/local/lib/python3.8/dist-packages/sklearn/preprocessing/_label.py:98: DataConversionWarning: A column-vector y was passed when a 1d array was expected. Please change the shape of y to (n_samples, ), for example using ravel().\n",
            "  y = column_or_1d(y, warn=True)\n",
            "/usr/local/lib/python3.8/dist-packages/sklearn/preprocessing/_label.py:133: DataConversionWarning: A column-vector y was passed when a 1d array was expected. Please change the shape of y to (n_samples, ), for example using ravel().\n",
            "  y = column_or_1d(y, warn=True)\n",
            "/usr/local/lib/python3.8/dist-packages/sklearn/preprocessing/_label.py:98: DataConversionWarning: A column-vector y was passed when a 1d array was expected. Please change the shape of y to (n_samples, ), for example using ravel().\n",
            "  y = column_or_1d(y, warn=True)\n",
            "/usr/local/lib/python3.8/dist-packages/sklearn/preprocessing/_label.py:133: DataConversionWarning: A column-vector y was passed when a 1d array was expected. Please change the shape of y to (n_samples, ), for example using ravel().\n",
            "  y = column_or_1d(y, warn=True)\n",
            "/usr/local/lib/python3.8/dist-packages/sklearn/preprocessing/_label.py:98: DataConversionWarning: A column-vector y was passed when a 1d array was expected. Please change the shape of y to (n_samples, ), for example using ravel().\n",
            "  y = column_or_1d(y, warn=True)\n",
            "/usr/local/lib/python3.8/dist-packages/sklearn/preprocessing/_label.py:133: DataConversionWarning: A column-vector y was passed when a 1d array was expected. Please change the shape of y to (n_samples, ), for example using ravel().\n",
            "  y = column_or_1d(y, warn=True)\n",
            "/usr/local/lib/python3.8/dist-packages/sklearn/preprocessing/_label.py:98: DataConversionWarning: A column-vector y was passed when a 1d array was expected. Please change the shape of y to (n_samples, ), for example using ravel().\n",
            "  y = column_or_1d(y, warn=True)\n",
            "/usr/local/lib/python3.8/dist-packages/sklearn/preprocessing/_label.py:133: DataConversionWarning: A column-vector y was passed when a 1d array was expected. Please change the shape of y to (n_samples, ), for example using ravel().\n",
            "  y = column_or_1d(y, warn=True)\n",
            "/usr/local/lib/python3.8/dist-packages/sklearn/preprocessing/_label.py:98: DataConversionWarning: A column-vector y was passed when a 1d array was expected. Please change the shape of y to (n_samples, ), for example using ravel().\n",
            "  y = column_or_1d(y, warn=True)\n",
            "/usr/local/lib/python3.8/dist-packages/sklearn/preprocessing/_label.py:133: DataConversionWarning: A column-vector y was passed when a 1d array was expected. Please change the shape of y to (n_samples, ), for example using ravel().\n",
            "  y = column_or_1d(y, warn=True)\n",
            "/usr/local/lib/python3.8/dist-packages/sklearn/preprocessing/_label.py:98: DataConversionWarning: A column-vector y was passed when a 1d array was expected. Please change the shape of y to (n_samples, ), for example using ravel().\n",
            "  y = column_or_1d(y, warn=True)\n",
            "/usr/local/lib/python3.8/dist-packages/sklearn/preprocessing/_label.py:133: DataConversionWarning: A column-vector y was passed when a 1d array was expected. Please change the shape of y to (n_samples, ), for example using ravel().\n",
            "  y = column_or_1d(y, warn=True)\n",
            "/usr/local/lib/python3.8/dist-packages/sklearn/preprocessing/_label.py:98: DataConversionWarning: A column-vector y was passed when a 1d array was expected. Please change the shape of y to (n_samples, ), for example using ravel().\n",
            "  y = column_or_1d(y, warn=True)\n",
            "/usr/local/lib/python3.8/dist-packages/sklearn/preprocessing/_label.py:133: DataConversionWarning: A column-vector y was passed when a 1d array was expected. Please change the shape of y to (n_samples, ), for example using ravel().\n",
            "  y = column_or_1d(y, warn=True)\n",
            "/usr/local/lib/python3.8/dist-packages/sklearn/preprocessing/_label.py:98: DataConversionWarning: A column-vector y was passed when a 1d array was expected. Please change the shape of y to (n_samples, ), for example using ravel().\n",
            "  y = column_or_1d(y, warn=True)\n",
            "/usr/local/lib/python3.8/dist-packages/sklearn/preprocessing/_label.py:133: DataConversionWarning: A column-vector y was passed when a 1d array was expected. Please change the shape of y to (n_samples, ), for example using ravel().\n",
            "  y = column_or_1d(y, warn=True)\n",
            "/usr/local/lib/python3.8/dist-packages/sklearn/preprocessing/_label.py:98: DataConversionWarning: A column-vector y was passed when a 1d array was expected. Please change the shape of y to (n_samples, ), for example using ravel().\n",
            "  y = column_or_1d(y, warn=True)\n",
            "/usr/local/lib/python3.8/dist-packages/sklearn/preprocessing/_label.py:133: DataConversionWarning: A column-vector y was passed when a 1d array was expected. Please change the shape of y to (n_samples, ), for example using ravel().\n",
            "  y = column_or_1d(y, warn=True)\n",
            "/usr/local/lib/python3.8/dist-packages/sklearn/preprocessing/_label.py:98: DataConversionWarning: A column-vector y was passed when a 1d array was expected. Please change the shape of y to (n_samples, ), for example using ravel().\n",
            "  y = column_or_1d(y, warn=True)\n",
            "/usr/local/lib/python3.8/dist-packages/sklearn/preprocessing/_label.py:133: DataConversionWarning: A column-vector y was passed when a 1d array was expected. Please change the shape of y to (n_samples, ), for example using ravel().\n",
            "  y = column_or_1d(y, warn=True)\n",
            "/usr/local/lib/python3.8/dist-packages/sklearn/preprocessing/_label.py:98: DataConversionWarning: A column-vector y was passed when a 1d array was expected. Please change the shape of y to (n_samples, ), for example using ravel().\n",
            "  y = column_or_1d(y, warn=True)\n",
            "/usr/local/lib/python3.8/dist-packages/sklearn/preprocessing/_label.py:133: DataConversionWarning: A column-vector y was passed when a 1d array was expected. Please change the shape of y to (n_samples, ), for example using ravel().\n",
            "  y = column_or_1d(y, warn=True)\n",
            "/usr/local/lib/python3.8/dist-packages/sklearn/preprocessing/_label.py:98: DataConversionWarning: A column-vector y was passed when a 1d array was expected. Please change the shape of y to (n_samples, ), for example using ravel().\n",
            "  y = column_or_1d(y, warn=True)\n",
            "/usr/local/lib/python3.8/dist-packages/sklearn/preprocessing/_label.py:133: DataConversionWarning: A column-vector y was passed when a 1d array was expected. Please change the shape of y to (n_samples, ), for example using ravel().\n",
            "  y = column_or_1d(y, warn=True)\n",
            "/usr/local/lib/python3.8/dist-packages/sklearn/preprocessing/_label.py:98: DataConversionWarning: A column-vector y was passed when a 1d array was expected. Please change the shape of y to (n_samples, ), for example using ravel().\n",
            "  y = column_or_1d(y, warn=True)\n",
            "/usr/local/lib/python3.8/dist-packages/sklearn/preprocessing/_label.py:133: DataConversionWarning: A column-vector y was passed when a 1d array was expected. Please change the shape of y to (n_samples, ), for example using ravel().\n",
            "  y = column_or_1d(y, warn=True)\n",
            "/usr/local/lib/python3.8/dist-packages/sklearn/preprocessing/_label.py:98: DataConversionWarning: A column-vector y was passed when a 1d array was expected. Please change the shape of y to (n_samples, ), for example using ravel().\n",
            "  y = column_or_1d(y, warn=True)\n",
            "/usr/local/lib/python3.8/dist-packages/sklearn/preprocessing/_label.py:133: DataConversionWarning: A column-vector y was passed when a 1d array was expected. Please change the shape of y to (n_samples, ), for example using ravel().\n",
            "  y = column_or_1d(y, warn=True)\n",
            "/usr/local/lib/python3.8/dist-packages/sklearn/preprocessing/_label.py:98: DataConversionWarning: A column-vector y was passed when a 1d array was expected. Please change the shape of y to (n_samples, ), for example using ravel().\n",
            "  y = column_or_1d(y, warn=True)\n",
            "/usr/local/lib/python3.8/dist-packages/sklearn/preprocessing/_label.py:133: DataConversionWarning: A column-vector y was passed when a 1d array was expected. Please change the shape of y to (n_samples, ), for example using ravel().\n",
            "  y = column_or_1d(y, warn=True)\n",
            "/usr/local/lib/python3.8/dist-packages/sklearn/preprocessing/_label.py:98: DataConversionWarning: A column-vector y was passed when a 1d array was expected. Please change the shape of y to (n_samples, ), for example using ravel().\n",
            "  y = column_or_1d(y, warn=True)\n",
            "/usr/local/lib/python3.8/dist-packages/sklearn/preprocessing/_label.py:133: DataConversionWarning: A column-vector y was passed when a 1d array was expected. Please change the shape of y to (n_samples, ), for example using ravel().\n",
            "  y = column_or_1d(y, warn=True)\n",
            "/usr/local/lib/python3.8/dist-packages/sklearn/preprocessing/_label.py:98: DataConversionWarning: A column-vector y was passed when a 1d array was expected. Please change the shape of y to (n_samples, ), for example using ravel().\n",
            "  y = column_or_1d(y, warn=True)\n",
            "/usr/local/lib/python3.8/dist-packages/sklearn/preprocessing/_label.py:133: DataConversionWarning: A column-vector y was passed when a 1d array was expected. Please change the shape of y to (n_samples, ), for example using ravel().\n",
            "  y = column_or_1d(y, warn=True)\n",
            "/usr/local/lib/python3.8/dist-packages/sklearn/preprocessing/_label.py:98: DataConversionWarning: A column-vector y was passed when a 1d array was expected. Please change the shape of y to (n_samples, ), for example using ravel().\n",
            "  y = column_or_1d(y, warn=True)\n",
            "/usr/local/lib/python3.8/dist-packages/sklearn/preprocessing/_label.py:133: DataConversionWarning: A column-vector y was passed when a 1d array was expected. Please change the shape of y to (n_samples, ), for example using ravel().\n",
            "  y = column_or_1d(y, warn=True)\n",
            "/usr/local/lib/python3.8/dist-packages/sklearn/preprocessing/_label.py:98: DataConversionWarning: A column-vector y was passed when a 1d array was expected. Please change the shape of y to (n_samples, ), for example using ravel().\n",
            "  y = column_or_1d(y, warn=True)\n",
            "/usr/local/lib/python3.8/dist-packages/sklearn/preprocessing/_label.py:133: DataConversionWarning: A column-vector y was passed when a 1d array was expected. Please change the shape of y to (n_samples, ), for example using ravel().\n",
            "  y = column_or_1d(y, warn=True)\n",
            "/usr/local/lib/python3.8/dist-packages/sklearn/preprocessing/_label.py:98: DataConversionWarning: A column-vector y was passed when a 1d array was expected. Please change the shape of y to (n_samples, ), for example using ravel().\n",
            "  y = column_or_1d(y, warn=True)\n",
            "/usr/local/lib/python3.8/dist-packages/sklearn/preprocessing/_label.py:133: DataConversionWarning: A column-vector y was passed when a 1d array was expected. Please change the shape of y to (n_samples, ), for example using ravel().\n",
            "  y = column_or_1d(y, warn=True)\n",
            "/usr/local/lib/python3.8/dist-packages/sklearn/preprocessing/_label.py:98: DataConversionWarning: A column-vector y was passed when a 1d array was expected. Please change the shape of y to (n_samples, ), for example using ravel().\n",
            "  y = column_or_1d(y, warn=True)\n",
            "/usr/local/lib/python3.8/dist-packages/sklearn/preprocessing/_label.py:133: DataConversionWarning: A column-vector y was passed when a 1d array was expected. Please change the shape of y to (n_samples, ), for example using ravel().\n",
            "  y = column_or_1d(y, warn=True)\n",
            "/usr/local/lib/python3.8/dist-packages/sklearn/preprocessing/_label.py:98: DataConversionWarning: A column-vector y was passed when a 1d array was expected. Please change the shape of y to (n_samples, ), for example using ravel().\n",
            "  y = column_or_1d(y, warn=True)\n",
            "/usr/local/lib/python3.8/dist-packages/sklearn/preprocessing/_label.py:133: DataConversionWarning: A column-vector y was passed when a 1d array was expected. Please change the shape of y to (n_samples, ), for example using ravel().\n",
            "  y = column_or_1d(y, warn=True)\n",
            "/usr/local/lib/python3.8/dist-packages/sklearn/preprocessing/_label.py:98: DataConversionWarning: A column-vector y was passed when a 1d array was expected. Please change the shape of y to (n_samples, ), for example using ravel().\n",
            "  y = column_or_1d(y, warn=True)\n",
            "/usr/local/lib/python3.8/dist-packages/sklearn/preprocessing/_label.py:133: DataConversionWarning: A column-vector y was passed when a 1d array was expected. Please change the shape of y to (n_samples, ), for example using ravel().\n",
            "  y = column_or_1d(y, warn=True)\n"
          ]
        },
        {
          "output_type": "execute_result",
          "data": {
            "text/plain": [
              "{'max_depth': 5, 'n_estimators': 50}"
            ]
          },
          "metadata": {},
          "execution_count": 199
        }
      ]
    },
    {
      "cell_type": "code",
      "source": [
        "model_xgb_new = xgb.XGBClassifier(max_depth = 4, n_estimators= 150) # Обновленная модель бустинга\n",
        "model_xgb_new.fit(X_train, y_train)\n",
        "y_pred = model_xgb_new.predict(X_test)\n",
        "print(accuracy_score(y_test,y_pred))"
      ],
      "metadata": {
        "colab": {
          "base_uri": "https://localhost:8080/"
        },
        "id": "Y27wGscqgabO",
        "outputId": "a981c76e-5d18-4eda-f7a6-8ef9f1db213d"
      },
      "execution_count": 200,
      "outputs": [
        {
          "output_type": "stream",
          "name": "stdout",
          "text": [
            "0.850909090909091\n"
          ]
        }
      ]
    },
    {
      "cell_type": "code",
      "source": [
        "clf = RandomForestClassifier(max_depth = 5, n_estimators = 150) # Новый случайный лес(ручная настройка)\n",
        "clf.fit(X_train, y_train)\n",
        "clf_pred = clf.predict(X_test)\n",
        "print(accuracy_score(y_test,clf_pred))"
      ],
      "metadata": {
        "colab": {
          "base_uri": "https://localhost:8080/"
        },
        "id": "U9UhlF0DjiXW",
        "outputId": "cd211759-7bbb-4497-9e32-75d5f937d99f"
      },
      "execution_count": 201,
      "outputs": [
        {
          "output_type": "stream",
          "name": "stdout",
          "text": [
            "0.8763636363636363\n"
          ]
        },
        {
          "output_type": "stream",
          "name": "stderr",
          "text": [
            "<ipython-input-201-fa414e37d7df>:2: DataConversionWarning: A column-vector y was passed when a 1d array was expected. Please change the shape of y to (n_samples,), for example using ravel().\n",
            "  clf.fit(X_train, y_train)\n"
          ]
        }
      ]
    },
    {
      "cell_type": "code",
      "source": [
        "y_ans = model_xgb.predict(test_df) # Предсказываем для тестовых данных"
      ],
      "metadata": {
        "id": "7V7knXBT27FS"
      },
      "execution_count": 202,
      "outputs": []
    },
    {
      "cell_type": "code",
      "source": [
        "y_pred"
      ],
      "metadata": {
        "colab": {
          "base_uri": "https://localhost:8080/"
        },
        "id": "STXWTEuI0ump",
        "outputId": "5f8caff4-0479-4602-ceaf-ed954a3701da"
      },
      "execution_count": 203,
      "outputs": [
        {
          "output_type": "execute_result",
          "data": {
            "text/plain": [
              "array([1, 0, 0, 1, 0, 1, 0, 0, 0, 1, 0, 0, 1, 1, 0, 0, 1, 0, 0, 1, 1, 1,\n",
              "       0, 0, 1, 0, 1, 1, 1, 1, 1, 0, 0, 0, 1, 0, 0, 0, 0, 1, 0, 0, 0, 1,\n",
              "       0, 0, 1, 1, 1, 1, 1, 1, 1, 1, 1, 0, 0, 1, 1, 0, 0, 0, 1, 0, 0, 1,\n",
              "       0, 1, 0, 1, 0, 0, 1, 1, 0, 1, 0, 0, 1, 0, 1, 1, 0, 0, 1, 0, 1, 0,\n",
              "       0, 1, 0, 1, 1, 0, 0, 0, 1, 1, 0, 0, 1, 0, 0, 0, 0, 0, 1, 0, 0, 0,\n",
              "       0, 1, 1, 1, 0, 1, 0, 1, 1, 0, 1, 1, 0, 0, 1, 0, 0, 1, 0, 0, 0, 0,\n",
              "       1, 1, 1, 0, 0, 0, 0, 0, 1, 1, 0, 0, 0, 0, 1, 0, 1, 1, 0, 1, 1, 1,\n",
              "       0, 1, 1, 0, 0, 0, 1, 1, 1, 0, 1, 0, 1, 0, 1, 1, 0, 1, 1, 0, 1, 1,\n",
              "       0, 1, 0, 0, 1, 1, 1, 1, 1, 0, 1, 0, 1, 0, 1, 1, 1, 0, 0, 0, 1, 0,\n",
              "       1, 1, 0, 1, 0, 1, 1, 0, 1, 1, 1, 1, 0, 1, 1, 0, 0, 0, 1, 1, 1, 0,\n",
              "       0, 0, 1, 0, 1, 0, 0, 0, 0, 0, 1, 1, 0, 0, 1, 1, 0, 0, 1, 0, 1, 0,\n",
              "       0, 1, 1, 1, 1, 1, 1, 0, 1, 0, 0, 1, 0, 1, 0, 0, 0, 0, 1, 1, 0, 0,\n",
              "       1, 0, 0, 1, 0, 1, 0, 0, 1, 0, 1])"
            ]
          },
          "metadata": {},
          "execution_count": 203
        }
      ]
    },
    {
      "cell_type": "markdown",
      "source": [
        "Подготавливаем ответы"
      ],
      "metadata": {
        "id": "xj4CYktPi7w3"
      }
    },
    {
      "cell_type": "code",
      "source": [
        "answer = pd.DataFrame(data = y_ans ,columns=['Survived'])\n",
        "con = pd.DataFrame(data=test_df['PassengerId'],columns=['PassengerId'])\n",
        "result = pd.concat([con, answer],axis=1)\n",
        "result = result.reset_index(drop=True)\n",
        "result"
      ],
      "metadata": {
        "colab": {
          "base_uri": "https://localhost:8080/",
          "height": 424
        },
        "id": "hQX-1d2p014d",
        "outputId": "ccc3734c-0e7b-40c5-f28e-54b936368596"
      },
      "execution_count": 204,
      "outputs": [
        {
          "output_type": "execute_result",
          "data": {
            "text/plain": [
              "     PassengerId  Survived\n",
              "0            892         0\n",
              "1            893         0\n",
              "2            894         0\n",
              "3            895         0\n",
              "4            896         0\n",
              "..           ...       ...\n",
              "413         1305         0\n",
              "414         1306         1\n",
              "415         1307         0\n",
              "416         1308         0\n",
              "417         1309         0\n",
              "\n",
              "[418 rows x 2 columns]"
            ],
            "text/html": [
              "\n",
              "  <div id=\"df-dffd4eb5-b448-47eb-8154-cfb7456c952a\">\n",
              "    <div class=\"colab-df-container\">\n",
              "      <div>\n",
              "<style scoped>\n",
              "    .dataframe tbody tr th:only-of-type {\n",
              "        vertical-align: middle;\n",
              "    }\n",
              "\n",
              "    .dataframe tbody tr th {\n",
              "        vertical-align: top;\n",
              "    }\n",
              "\n",
              "    .dataframe thead th {\n",
              "        text-align: right;\n",
              "    }\n",
              "</style>\n",
              "<table border=\"1\" class=\"dataframe\">\n",
              "  <thead>\n",
              "    <tr style=\"text-align: right;\">\n",
              "      <th></th>\n",
              "      <th>PassengerId</th>\n",
              "      <th>Survived</th>\n",
              "    </tr>\n",
              "  </thead>\n",
              "  <tbody>\n",
              "    <tr>\n",
              "      <th>0</th>\n",
              "      <td>892</td>\n",
              "      <td>0</td>\n",
              "    </tr>\n",
              "    <tr>\n",
              "      <th>1</th>\n",
              "      <td>893</td>\n",
              "      <td>0</td>\n",
              "    </tr>\n",
              "    <tr>\n",
              "      <th>2</th>\n",
              "      <td>894</td>\n",
              "      <td>0</td>\n",
              "    </tr>\n",
              "    <tr>\n",
              "      <th>3</th>\n",
              "      <td>895</td>\n",
              "      <td>0</td>\n",
              "    </tr>\n",
              "    <tr>\n",
              "      <th>4</th>\n",
              "      <td>896</td>\n",
              "      <td>0</td>\n",
              "    </tr>\n",
              "    <tr>\n",
              "      <th>...</th>\n",
              "      <td>...</td>\n",
              "      <td>...</td>\n",
              "    </tr>\n",
              "    <tr>\n",
              "      <th>413</th>\n",
              "      <td>1305</td>\n",
              "      <td>0</td>\n",
              "    </tr>\n",
              "    <tr>\n",
              "      <th>414</th>\n",
              "      <td>1306</td>\n",
              "      <td>1</td>\n",
              "    </tr>\n",
              "    <tr>\n",
              "      <th>415</th>\n",
              "      <td>1307</td>\n",
              "      <td>0</td>\n",
              "    </tr>\n",
              "    <tr>\n",
              "      <th>416</th>\n",
              "      <td>1308</td>\n",
              "      <td>0</td>\n",
              "    </tr>\n",
              "    <tr>\n",
              "      <th>417</th>\n",
              "      <td>1309</td>\n",
              "      <td>0</td>\n",
              "    </tr>\n",
              "  </tbody>\n",
              "</table>\n",
              "<p>418 rows × 2 columns</p>\n",
              "</div>\n",
              "      <button class=\"colab-df-convert\" onclick=\"convertToInteractive('df-dffd4eb5-b448-47eb-8154-cfb7456c952a')\"\n",
              "              title=\"Convert this dataframe to an interactive table.\"\n",
              "              style=\"display:none;\">\n",
              "        \n",
              "  <svg xmlns=\"http://www.w3.org/2000/svg\" height=\"24px\"viewBox=\"0 0 24 24\"\n",
              "       width=\"24px\">\n",
              "    <path d=\"M0 0h24v24H0V0z\" fill=\"none\"/>\n",
              "    <path d=\"M18.56 5.44l.94 2.06.94-2.06 2.06-.94-2.06-.94-.94-2.06-.94 2.06-2.06.94zm-11 1L8.5 8.5l.94-2.06 2.06-.94-2.06-.94L8.5 2.5l-.94 2.06-2.06.94zm10 10l.94 2.06.94-2.06 2.06-.94-2.06-.94-.94-2.06-.94 2.06-2.06.94z\"/><path d=\"M17.41 7.96l-1.37-1.37c-.4-.4-.92-.59-1.43-.59-.52 0-1.04.2-1.43.59L10.3 9.45l-7.72 7.72c-.78.78-.78 2.05 0 2.83L4 21.41c.39.39.9.59 1.41.59.51 0 1.02-.2 1.41-.59l7.78-7.78 2.81-2.81c.8-.78.8-2.07 0-2.86zM5.41 20L4 18.59l7.72-7.72 1.47 1.35L5.41 20z\"/>\n",
              "  </svg>\n",
              "      </button>\n",
              "      \n",
              "  <style>\n",
              "    .colab-df-container {\n",
              "      display:flex;\n",
              "      flex-wrap:wrap;\n",
              "      gap: 12px;\n",
              "    }\n",
              "\n",
              "    .colab-df-convert {\n",
              "      background-color: #E8F0FE;\n",
              "      border: none;\n",
              "      border-radius: 50%;\n",
              "      cursor: pointer;\n",
              "      display: none;\n",
              "      fill: #1967D2;\n",
              "      height: 32px;\n",
              "      padding: 0 0 0 0;\n",
              "      width: 32px;\n",
              "    }\n",
              "\n",
              "    .colab-df-convert:hover {\n",
              "      background-color: #E2EBFA;\n",
              "      box-shadow: 0px 1px 2px rgba(60, 64, 67, 0.3), 0px 1px 3px 1px rgba(60, 64, 67, 0.15);\n",
              "      fill: #174EA6;\n",
              "    }\n",
              "\n",
              "    [theme=dark] .colab-df-convert {\n",
              "      background-color: #3B4455;\n",
              "      fill: #D2E3FC;\n",
              "    }\n",
              "\n",
              "    [theme=dark] .colab-df-convert:hover {\n",
              "      background-color: #434B5C;\n",
              "      box-shadow: 0px 1px 3px 1px rgba(0, 0, 0, 0.15);\n",
              "      filter: drop-shadow(0px 1px 2px rgba(0, 0, 0, 0.3));\n",
              "      fill: #FFFFFF;\n",
              "    }\n",
              "  </style>\n",
              "\n",
              "      <script>\n",
              "        const buttonEl =\n",
              "          document.querySelector('#df-dffd4eb5-b448-47eb-8154-cfb7456c952a button.colab-df-convert');\n",
              "        buttonEl.style.display =\n",
              "          google.colab.kernel.accessAllowed ? 'block' : 'none';\n",
              "\n",
              "        async function convertToInteractive(key) {\n",
              "          const element = document.querySelector('#df-dffd4eb5-b448-47eb-8154-cfb7456c952a');\n",
              "          const dataTable =\n",
              "            await google.colab.kernel.invokeFunction('convertToInteractive',\n",
              "                                                     [key], {});\n",
              "          if (!dataTable) return;\n",
              "\n",
              "          const docLinkHtml = 'Like what you see? Visit the ' +\n",
              "            '<a target=\"_blank\" href=https://colab.research.google.com/notebooks/data_table.ipynb>data table notebook</a>'\n",
              "            + ' to learn more about interactive tables.';\n",
              "          element.innerHTML = '';\n",
              "          dataTable['output_type'] = 'display_data';\n",
              "          await google.colab.output.renderOutput(dataTable, element);\n",
              "          const docLink = document.createElement('div');\n",
              "          docLink.innerHTML = docLinkHtml;\n",
              "          element.appendChild(docLink);\n",
              "        }\n",
              "      </script>\n",
              "    </div>\n",
              "  </div>\n",
              "  "
            ]
          },
          "metadata": {},
          "execution_count": 204
        }
      ]
    },
    {
      "cell_type": "code",
      "source": [
        "result.to_csv(\"predict.csv\",index=False)"
      ],
      "metadata": {
        "id": "kEw_lOIp4ME0"
      },
      "execution_count": 205,
      "outputs": []
    },
    {
      "cell_type": "code",
      "source": [
        "from google.colab import files\n",
        "files.download(\"predict.csv\")"
      ],
      "metadata": {
        "id": "PgIUwbAT4Ri6",
        "outputId": "f80cb0db-f31b-41d8-937b-f585a3aa0520",
        "colab": {
          "base_uri": "https://localhost:8080/",
          "height": 17
        }
      },
      "execution_count": 206,
      "outputs": [
        {
          "output_type": "display_data",
          "data": {
            "text/plain": [
              "<IPython.core.display.Javascript object>"
            ],
            "application/javascript": [
              "\n",
              "    async function download(id, filename, size) {\n",
              "      if (!google.colab.kernel.accessAllowed) {\n",
              "        return;\n",
              "      }\n",
              "      const div = document.createElement('div');\n",
              "      const label = document.createElement('label');\n",
              "      label.textContent = `Downloading \"${filename}\": `;\n",
              "      div.appendChild(label);\n",
              "      const progress = document.createElement('progress');\n",
              "      progress.max = size;\n",
              "      div.appendChild(progress);\n",
              "      document.body.appendChild(div);\n",
              "\n",
              "      const buffers = [];\n",
              "      let downloaded = 0;\n",
              "\n",
              "      const channel = await google.colab.kernel.comms.open(id);\n",
              "      // Send a message to notify the kernel that we're ready.\n",
              "      channel.send({})\n",
              "\n",
              "      for await (const message of channel.messages) {\n",
              "        // Send a message to notify the kernel that we're ready.\n",
              "        channel.send({})\n",
              "        if (message.buffers) {\n",
              "          for (const buffer of message.buffers) {\n",
              "            buffers.push(buffer);\n",
              "            downloaded += buffer.byteLength;\n",
              "            progress.value = downloaded;\n",
              "          }\n",
              "        }\n",
              "      }\n",
              "      const blob = new Blob(buffers, {type: 'application/binary'});\n",
              "      const a = document.createElement('a');\n",
              "      a.href = window.URL.createObjectURL(blob);\n",
              "      a.download = filename;\n",
              "      div.appendChild(a);\n",
              "      a.click();\n",
              "      div.remove();\n",
              "    }\n",
              "  "
            ]
          },
          "metadata": {}
        },
        {
          "output_type": "display_data",
          "data": {
            "text/plain": [
              "<IPython.core.display.Javascript object>"
            ],
            "application/javascript": [
              "download(\"download_e64cfa5c-e447-4224-a80f-8089e9be1a8f\", \"predict.csv\", 2839)"
            ]
          },
          "metadata": {}
        }
      ]
    },
    {
      "cell_type": "markdown",
      "source": [
        "С помощью данного бейзлайна на Kaggle удалось выбить accuracy = 77.990, что позволило попасть в топ 18%.\n",
        "Стоит отметить, что можно улучшить результат с помощью feature-engineering + масштабирования данных. Также стоило рассмотреть другие алгоритмы или другие библиотеки для бустинга, например - LightGBM, который работает быстрее, но хуже в точности, чем XGBoost. Также можно было бы использовать CatBoost в случае множественных категориальных признаков, создавшиеся, например, в процессе FE."
      ],
      "metadata": {
        "id": "soRzHRvukB5O"
      }
    },
    {
      "cell_type": "markdown",
      "source": [
        "![2022-12-08_00-55-33.png](data:image/png;base64,iVBORw0KGgoAAAANSUhEUgAABz4AAAOECAIAAABfIQAeAAAgAElEQVR4nOy9+1MbZ5q/7T+DH8OW57uVfWerxrtVW3FmM5VhvrNVcd7xO+tdT82y40p5zKTsuBKXQ4iHtcOwNj4E40McfAwmxgRwsMEeO/gUwAeMPD4gfOBgmzMyFoiDEKADEkLv3d1Sq7vVklq4pW6kz1V3uUzT6n66++mW7otH97Nk6f/5mSR+/W//HwKBQCAQCAQCgUAgEAgEAoFAIDSMJVC3CAQCgUAgEAgEAoFAIBAIBAKht4C6RSAQCAQCgUAgEAgEAoFAIBAI3QXULQKBQCAQCAQCgUAgEAgEAoFA6C6gbhEIBAKBQCAQCAQCgUAgEAgEQncho27HAABAO+4/bNW6CQAAAAAAAAAAAADaI6NufQAAoB0vuvu1bgIAAAAAAAAAAACA9kDdAgD0BdQtAAAAAAAAAAAAgA/qFgCgN6BuAQAAAAAAAAAAAHxQtwAAvQF1CwAAAAAAAAAAAOCDugUA6A2oWwAAAAAAAAAAAAAf1C0AQG9A3QIAAAAAAAAAAAD4oG4BAHoD6hYAAAAAAAAAAADAB3ULANAbULcAAAAAAAAAAAAAPqhbAIDegLoFAAAAAAAAAAAA8EHdAgD0BtQtAAAAAAAAAAAAgA/qFgCgN6BuAQAAAAAAAAAAAHxQtwAAvQF1qwSn0zVpm7KMjr98NdI/ONTTZ+rqGaBTh0AgEAgEAoFAIBAIyo8oS6JciTImypsoe6IcSus0DoCFAHULANAXL6Buw+B2e6yTNvrkQZ9CBkyvhi1j9OOM3eGadc/Nzc3Pz2vdQAAAAAAAAADQBZQfUZZEuRJlTJQ3UfZEORRlUpRP0Y+UW2ndQACUAnULANAXULeh2KamTUPDPX0m+sAxPWP3er1atwgAAAAAAAAAFhmUSVE+RVkV5VaUYVGepXWLAIgO1C0AQF9A3fLQB4vxiUn6VDFkttAnDK2bAwAAAAAAAABJAmVYlGdRtkU5FwbHAD0DdQsA0BdQtxwTVlt37+CwZcw169a6LQAAAAAAAACQhFC2RTkXZV6Uf2ndFgDkgboFAOgLqNsZu6N/cOjVsAXSFgAAAAAAAADiDWVelH9RFka5mNZtAUAK1C0AQF+kuLq1jI73DbxEeQQAAAAAAAAASCSUhVEuRhmZ1g0BQATULQBAX6SsunW5ZgdMr4YtY/Pz81q3BQAAAAAAAABSDsrFKCOjvIyyM63bAoAfqFsAgL5ITXU7PWPv6hmYtE1p3RAAAAAAAAAASGkoL6PsDF+FBDoB6hYAoC9SUN3SJ4OePpPd4dS6IQAAAAAAAAAAfJSdUY6GsTVAD0DdAgD0RaqpW+ukrW/gJWYkAwAAAAAAAAD9QDkaZWqUr2ndEJDqQN0CAPRFSqnbSdsUfRpwu+FtAQAAAAAAAEBfUKZG+RrG3gJtgboFAOiL1FG30zP2nj4TxtsCAAAAAAAAgD6hfI2yNtS99c7Puz0ep2vW7nBO2+1TM3bb9Mwbjb63m+dXP5z73UPv3q65prG5AQfm3FYfqFsAgL5IEXXrcs129Qygvi0AAAAAAAAA6BnK2ih3owxO64ZowPz8/KzbPeNw2KZnQuONRl9orH7orTLNDcLhqgfULQBAX6SIuh0wvcL3bgAAAAAAAABA/1DuRhmc1q1IKN75eadrVtbYRla3fGxu82IQripA3aqAsGt+1ql1a/TBgd7gOflXg8+EkYVAMamgbi2j48OWMa1bAQAAAAAAAABAEZTBUR6ndSsShGvWHSpq7Q4nLfd45rxe7/y838kOOuYN4/N3xrxFXd7fPfS+3TwvEbhVpjltjyUJgLpVAajbUITqlgLqFign6dUtveP1Dbzk3+oAAAAAAAAAAOgcyuAoj6NsTuuGxJc5r1dSHmHG4XS7PQoTWFrtjMn7c7HAXf3Q22/3xrvlSQzUrQpA3YYCdQsWTNKr2/7BIRS5BwAAAAAAAIDFBeVxlM1p3Yo44vZ4JNLW41ngmNk7Y1KB2zeN4bcLBOpWBaBuQ4G6BQsmudXthNX2atiidSsAAAAAAAAAAMQMZXOU02ndirgw6xYVSaAfJSt4PJ6ZmRmr1WqxWIaHh1+x0H/oR1pIv6IVJC8p6haVUEDxhIUBdasCULehQN2CBZPE6tbr9Xb3DrpmpW+BAAAAAAAAAAD0D2VzlNNRZqd1Q1RG6G1n7I458QE6HI6xsbFXCqDVaGXha5vH54XDb4u6k+3UJQCoWxWAug0F6hYsmCRWt+MTk5idDAAAAAAAAAAWL5TTUWandSvURFgnwe5wCsvaOp1Oi8WiRNoKoZfQC/mNDDpE9rZpDGNvYwPqVgWgbkOBugULJonVbU+fCUNuAQAAAAAAAGDxQjkdZXZat0I15rxeobcV/mpycjJWaSuEXi7cmtDeYtaymIC6VQGo21CgbsGCSVZ1a5uaHjJrXuXW7R7p6bh3//H1y/W37j9+1GOxQyUDAAAAAAAAQAxQZkf5ndatUIcZh4Ovk8CPt52bm1NYISEytBHaFLdN4djb1Q+90ETKgbpVAajbUKBuwYJJVnVrGhqenrFrtnv3aMfZ4tyP1n+wThpZH+VXGUY1axgAAAAAAAAALCoos6P8TutWqIBrNljilq9vOzc3F7VIgslk6mUZHByMvCZtire3/fbgrGVFXRh4qxSoWxWAug0F6hYsmKRUt263R8vv1Az+eGiTjLQVCdzcc/0YgAsAAAAAAAAACqD8jrI8rVvxWnjn53lvO+sOZoMRxtsODQ09fvz45s2bdXV1Dx48uH379g8st27d6u3tjTD2lt94UbeXN0UDjnm5dgEpULcqAHUbCtQtWDBJqW6tkzatJiizPynP+1Bgaddvzttz/HTJSYqjOzZnCQXupuKHE5q0EQAAAAAAAAAWE5TfUZandSteC6dr1l8qQVDiNkJ9W5PJdO/evUePHnV1dQ0ODk5MTHR0dDQ3N9+6dev8+fNVVVVPnjwJ91ph3Vu+bMLeLsxXpgioWxWIk7o1OX13rUws+OXcFl5fmy5gUwtQt9xeuACpTFKq25evRrSplmC+vIP3th9+vr/8vkUytHbyWf2+z4MCd8u5IQ1aCQAAAAAAAACLCcrvKMvTuhULZ14w5Nbj8StUp9MZYbztIxa73e52u2nNrq6u5ubmBw8etLe3t7S0fP/99z/88ENPT0+4LdBLuL3cGQsOvB3EwFsF6Ejdfl999o30pSrGn3O3ut2J+AKwQnVrcjK//b1RFKHrHOhllgu3SfGvBma5QsJtgfbOWVFuhXBtkDSGXijZjrAxwu2cfSVqg3J1G6HBCzbXYPGSlOq2q2fA6018KR/b3T28t91W9Sjc34TdQ+d38vZ2xyVzQtsIAAAAAAAAAIsNyu8oy9O6FQtn1u0OHXIbrsTt0NBQS0tLeXk5N66Wfrx58+bx48ePHDnS1NREvzIYDA0NDYcPH7537144dUsb53fED7ytMmHgbXSgblVAibo1OaVqkkLoJTmxG7pOTAKXNhLqQEO3ILSx9H9Zzr6K3hhJg4XHrlDdSlaTDd44gxQh+dSt0+kaML2Kvp7qDJ7L9QvZzfuvRxayjo6jmwOS92RHgtrn85iNl04e3L4thyM3f/vB8vqnYzqpGDVSv5caVfZU63YAAAAAAAAAdAhleZTrad2KBTLjcHDqlq/Y63A4wtVJePz48bVr165fv37w4MHKysrLly83Nzd/+eWXeXl5586dMxgM9+7dq62t/ctf/nL16lVaP5y9pV1w+9oXqHi7+iEmK4sO1K0KRFW3skZV6G2VGEw+wtlb2qDyjURWt1ElcjjHGu6IZN2r8r1QI2FvU4fkU7eTtilNCt12lW3myyD0R31DtN85GiitcLolEc0baTyY61e2edsLtlPkbuF+zjt+Rw/fPIK6BQAAAAAAAISFsjzK9bRuxUIQTlA2P+8vWSA7O9mzZ8/u3r17+fLl8fHxqampH374obS09MqVK3/729/u379fX1///Pnz4eFh+reurm7fvn3Hjh178eJFOHXLz1dGO307MPAWk5VFRUfqdvESWd1G9bY+X5ShsqERWkZAdlTvwtRt1PG2qqjbcIcsqc8Ae5uCJJ+6tYyOa1HA3ly/za9ic88OKljf/fCgf/1Pynvi3rrJWwdzcnK2HLzULfys45l6enb3Flpe3DwZ9qWJAuoWAAAAAAAAEBbK8ijX02TXxwd8v3ng+8kNJug/x2Os3OD2eDhvaw9US/B4PBLN+vz585aWlh9//PHKlSvNzc19fX39/f2lpaUHDhy4ceNGe3u7zWYzm820fHJy0mKx3Lt3r7q6urCw8NatW0NDQ+HsLe2I2yNfM6FpDDUTogB1qwIR1K0Sb+sTi1eupsHZV35Tyc0PFlpwVkLoCFZah3bNbYr+DTfENXRTsuvQFrhNceV6X1Pdho4ypl0IS+VyZXajNhUkJcmnbl++GqG3xITv1ng6UC3hdIui7x9Yzm/zj9LdezPeU6qNNzLmdvc1mdG1/Re25+Tknryf+DMmAeoWAAAAAAAAEBbK8hI/U9mAg3G1oUKGFg4oTqGcrllO3bpm/anizMyMULA+fvy4ubm5tbV1YGDg6dOnt27d6uzs7O/vb2pqOnbs2I0bN54/f261Wl0s9NqxsbH79+//8MMPJSUlBw4coFeFU7e0MrfHzW3+mgl7u6BuowB1qwLh9KVCb8vBjXUNVwyBNiWxt5I6uZK9yE4+psSHSlag38o2OLQ9ytVtaGsjFAiW7CXCLHAgaUg+dds/OMS/IyaQoLqtalf0AsulfL+63RN3dTt1pzgnJ2f7RWXX2jvVdbvsYH6uv7zCV2W3ukO+lzTVdatcUDZ3+8Gy211TfJmIp2WMhW0dv1e+ndnKtt0n/+b/8/h4e33ZV3n+Te8qPt8yHii1G1C3nnFj9UFujdx82my/5lIZAAAAAAAAoDmU5VGul+Cdynpb3t4qxO5wcurW4/FrU6vVytvV7u7upqam/v7+ubm5ycnJ69ev//jjj42NjbTwypUr+/btO3fu3OPHjzs7O/v6+mj9kZGRnp6e5ubma9eunT9/fvPmza2treHULe2I2+P3L/3q9ncodxsNqFsVkHWLod42nAZViKSOgVDySkbUynrbcNuRqNsIglhC6AEqVLcxtVbieTHwNhVIPnXb02ei97zE7/biZ/4CCIduKJKNfG3cDaXxH2k62VzMFEbYfvyHpyOzEdf0jtQfYMXqtr0nqyory4pZ+Zp7sFHw921z/cEtrLA9XFZJ65zcy5XNzTvX5V+BVbe7d+3OyWU2cnLfwavsR6yRH5nBvzlbaGllZRW9jPnp4I/cljl1m7edGQS8vbiM3TW72d0KjTMAAAAAAAAgeaEsj3K9RO7x+EBYb8uFwsoJ03Y7p269Xr82tVgsvF29f//+9evXGxsbS0tL//znP+/cufObb745cuTI3r17c3Nzt2/fTssvXbp069atO3fuPHz4sLW1tb29vaWl5fbt2+Xl5bTO+fPnw6lb2hG3R8O4v2DC6ocYdRsFHanbwUHTnTvNKsbz588T0/JQfam6t/WFSEyhupXcq5FrwkraJpShEqsbdYirZGI0heo2ptaGbircwGSQNCSfuu3qGeBLvyeQYO3aD45G/AuJn8ErW/zrf3k9EZV5Hc/O780NDJLN31tcdr6+tX88ROP2X9zN2NLqzqB+dvRfYmTu3nq/vPUYv2Uca9lTgaF23DvJqOFK/2OJVbc5W07eE0rsoUvMpvPLjPwQXsfTsnxG3t5iKu1y6jYn58DVl4GBuD7zVVbnnu3yAQAAAAAAAFIayvIo10vkHiMMuY1p4O3UjHSOsuHhYd6u9vX1PX369MmTJ48ePbp//z79e+3atS+++OL3v//9Bx98sH79+v/5n//Jz88vLy8/d+5cY2Mjt9qDBw+uX79+4sSJoqKikpKScOqWdsTtcdDhV7dvN2OasijoSN1+X332jfSlKsafc7e63Yn4knKovoyHtw3nSWP1rZLmCdWtZDxsVKkqsclK1O0CWis58MijdEESkHzqVqsjstcX+tXtup23JqKs7G45voFb+cOd9eaEtM/HTEvW/7dLJ7/azg2S9WvcfWeNwdZ2nc1jVGmn5Ds0rIoN1FvoPF+Ql8uLXD/iSrWcuj15zyNYo+tcHrOsRbjMN3X7YG7+9srHnsAWtl8SfRhDAVwAAAAAAACAnwTnej+5EUXd0gpK4LwtBb9EIliHWPgfX7582dnZeerUqQ8//PCPf/zjf//3f/+BZc+ePefPny8rKzt27NihQ4cqKioqKyv37t179OjRcOqW4HfKNxtEBupWBSQu8vW9LSdquZnBos4JJpGhwsm+whFO3Ur2paSdsarb0GoJ3GFGCMlLUDMh6YG6VQ3X/aMf+gfSZu25ORlhTbvx9Cb/mp8cvB9pzXjhcYz1G3+sLC5gB+JuOejXx/6iBQeZUgnC+PYgo10PN4tK3s46psb6O1vv1deWFe/iBvSK1K14VrRxtg7DwfqxcE3i9l0s3ge3MMKrAAAAAAAAAKlCsqrbcHR1dTU0NBw7dmzLli2fffZZbm5uVlbWRx999Mc//vGTTz758ssvv/rqqyNHjuzbtw/qVkV0pG5VL5jw5MmTxNSXjHznKHGpPCan1FSGC96TStZ/HXUrLHSrxJC+vrpdQEDdJj3Jp241KpjAMFlfmLUuYG93XLbI1n+fvH/600BphQ931r9MdCPFeF5eY+vPfmtkRsMGihbIw4+0nTCe3Zcr/E3urr2786Tqdu+PQnUbdfys7ArcQukQXwAAAAAAAECqsZgLJtgjFExQwr179zZs2PDxxx/v3bv322+//d///d+8vLy//OUvlCzt2LFj586d4V6IggkLQEfqdvGiimoMLY+7MHUbtcqBL7y6lYyHVdLmxKvbN/AHmWQn+dStRtOUcTg6jm4OlE1Y/8GHnx+69Mxi576O4HaP9NwtL/wsMDKXi7yzPfFvVef5/NycgkvyV9prLOPtKGdKxYUOpMx2VuazQ3Nrb3UOjE9NOdiVZQomiNWtwlG3ULcAAAAAAAAAGZJ1mjKF7Ny588SJEz/88MO5c+dqamq+/fbbsrKywsLCQ4cO/eUvfwn3Kn6asgG7l2vzz6FuowF1qwJRVWNUDSop5xpOAct6UonwVVKcQehPeXUr8bBxUrcx6Wmo29Qk+dRt/+CQazYRxVvk8Y4+PLRZKGejRvztrb8OQlmrQ+aXk7eYYbcH6seZxj8tY2YbO2kUT1/maTmZk5u3+wI7WxirZfOqxZWzuRdGUrf+WrfSYbfPzubl5u290g91CwAAAAAAAIgAZXmU6yV4pxEG3iocckvYHU5O3Xo8/jFGVqs1VnV74cKFffv2VVZWVlVVfffdd3v27Dl9+vT3339PCzds2BDuVbQjbo93xvzq9ncPZb8cCoJA3apAVM1KcaA30hZC1+c2Qq86+ypoY2U9qUSSLljd+rQomEB7+b0xtoh8JkESkHzq9uWrkRm7nKNMHG6LoTxvfVhXm7XteP31qh0fJs7eOu6fZGva7q5seekQDKn1mI2VXzK/Kb7jLzHLCda8cuMU/4bueFrGDrM9+4L9kZuC7Ni94Cn2ThnL80Jr3UrUrW/g0m5aml/2lH+ld4QdisttGeoWAAAAAAAAEBbK8ijXS/BOBxzy9pYWDihOOp2uWU7d8mOMZmZmYlW3nZ2d27ZtKykpOXHiRHFx8RdffHGAZevWrWvWrAn3KtoRt8eiLr+63dul1VdUFw1QtyoQqlx9Ie7yjfBVaEPX/KxTfk0l6laJ2QynbhMwTZlkebgjBalM8qlby+i4ddKmdSt8Pret/9a5k3vyP9v0MetnP/7ks51HS87d7fG3zf6kPC9x9tbR/8PBQHna3LyC7dsptvl/3l4VtKm+2f5LB9il2/Yyk5WVFW/PFa/jL5iQk1tQXMavsGX37l0Cxyqrbn2+kR/Zurq524vLKiurTu7dJtwy1C0AAAAAAAAgLJTlUa6nya6PDzCu9ic3mKD/KKyTwOP2eDh1a3f4ZY3H44lV3Q4NDW3fvv3KlSvV1dUnT54sKCjYvXv3jh07/vznP3/44YfhXkU74vb4u4d+dds0BnUbBR2p2++rz76RvlTF+HPuVrc7EV9SDvW2PrnatfQr2SGxkoGoEYbNykpPSbEFJYUOFKrbqAN4F6BuJa3FnGMglORTt5O2qWFL2IqquiKx9tbnGXtaX35w+/agwt17uPJW95R0Pe9U1+2yg4HVcncVn28ZF1W/nTCeP7w7dwtneHcX1957OeUb+ZEtk9vCrhhG3RLj7ZdO7s3Lldky1C0AAAAAAAAgLJTlUa6ndSsWgnd+nlO3wpnKxsbGYrW3e/furWE5duzYnj17jh49um/fPlpYUFAguz7tgtsXP0cZhVejOb0XEVC3KhBOX5qc0koIsqZSsk6sO5L403CCWEi4acrOvoptSGyE9cOpW0lrFQ4TBilF8qlbp9M1YAoz6l5/JNjeAgAAAAAAAMBihLI8yvW0bsUCmXE4OHXrdvvHrjgcjgWo2x9//PH06dPHjh07cOAAP1PZkSNHZNenXXD72teNOcpiAOpWBSLozlBTGToqVihSI4+ZDbcjyWjZyBuJMO41tLWRLbBkv0rUrS9E+CpxzSClSD51S3T1DPBzd+of2FsAAAAAAAAAiADld5Tlad2KhTPrdnPqdsYR9DUWiyUmdXvgwIGysjKuyu2pU6dqa2tLS0u//PLL/Pz80JVp4/yOft7sH3Vb1L1o0mQN0ZG6XbxEHqkqMZWh40wlY2CFlpOHFkaoEqt8KKvE24YOBA6dRkzWq4aWg1CubkNby03IFg76Fe1L9rSApCQp1e3LVyPTM3atWxEDsLcAAAAAAAAAEA7K7xI/R5mKzAtqJng8/mqzTqdTubft7++vqqq6c+fO999//+WXXx49erS8vHz//v2FhYX0Y+j6tHFuL3fG/ENu326en0e1BAVA3apA1CIDkacsk/yW85icqaR/Q6Wt7I5CRSpth/Zy18oE/Yc2IqnMIKtuQ70qty9uU9x2JHo3VnXrk9PZfIO5HdH63L6iSm2QfCSlurVO2hZLuVsesb39vKo9EV9iAAAAAAAAAAD9Q/mdLiajfg2crtnQgbeTk5MK1W1TU5PBYGhvbz9//nxxcfGxY8cKCwv37NlD/z948KBkZdosvwt+yO3eLkxQpgioWxWIqm5lpywTln+VlaqRI2plBoURWn5X1hTH2qTI6nZhe4G9TRGSUt263Z6ePpPWrYiZgL3dfOj6oNZtAQAAAAAAAAC9QPkdXyV2kSKcrGxWUG5U4XxlVVVVjx49am1tra6uPn369LfffnvixIljx4598803hw4dEq7Jz05GFHUHh9xigjKFQN2qQFR16wtTJSDCb2NVt74wQ1kXoG59C7W3ManbBewFVXFThKRUt4RpaHhx1UzgsLdUnYS3BQAAAAAAAIAAlNlRfqd1K1TANevm7e1cYHaWubm5qEVvh4aGysvLHz9+3NnZef78+XPnztGPX3311ddff33kyJFdu3bxa9KmaIPclvvtXt7wFHWhyq1SoG5VQIm69cmpVeHKd61Rxt5KfhtueG/UAby/N0qr68puJ6pX5Qo7vI66VXLUfEQohguSjGRVt7ap6SGzJfp6AAAAAAAAAAB0DGV2lN9p3Qp1mHE4/GUT7A6+8uzc3FzksbdPnjy5efMm/aelpeXSpUt//etfr1+/XlpaWllZuWvXruzsbH68Le9tBx3zfKkE+o92R7z4gLpVgd8bGf/IRQR16/P5C84KQzJ/l6ww5YrA+tg5xKLuiNtIaOlb4ajVqOqW35RsWVt+VjHJYGFhk6jB4Q4zdC+0smyD34g2gxlISpJV3frY79S4ZlExFgAAAAAAAAAWK5TTLcZqeOGY83r5gbd2h8jdRKh7e/XqVZPJNDs729TUVF9fX1dXd/ny5ePHj1dVVW3fvv2LL754Ja5vS/zuYXDIbfM41G0MQN3qEZPTP73Y65R25TbCz/olRKG6lTSG25TkVwpHHMfU4NAdgZQiidXt+MTkopusDAAAAAAAAAAAD+V0lNlp3Qo1cXs8Qns7LyhB63Q6Q4sn9PX13b59m37l9XpfvHjx/PnzJ0+enD59+rvvvjtw4MBXX3114cIF+i2/kUHHvNDbNo1hdrLYgLpNRYTqlv6/YCTqlhsaDMBrksTqlt7YunsHMfAWAAAAAAAAABYjlM1RTuf1Jlud1ll3sOjtjN0xJz5Ah8MhrJ/Q1NTU3t4+PDxss9lo+ejoaFdXV11d3ZUrV7777ruHDx8KX9s8Pi8UR1UmeNuYgbpNRYTlZV9nqKykei+GygJVSGJ1S0xYba+GUfEWAAAAAAAAABYflM1RTqd1K+KC0N5S0I+SFTwez8zMzPj4uMFgMJvN09PTo6OjExMTY2NjtHxkZGRqaip0m3ueuYPjbUc9iTqapALqNhVRa/ovibp9nfIOAPAkt7ol+geHpmfsWrcCAAAAAAAAAEAMUB5H2ZzWrYgjwsoJzPBbh9PjWeAgWXohvZzbDmdvUSdhwUDdJhUmZ3R/KvGt4aocKKl+IJlbDABVSHp1O2N39A28FNYPAgAAAAAAAACgZyiDozyOsjmtGxJf5rzeGYdDInDdbo/CBJZWo5V5aRvYggPzkr0OULfJw12rf9qxyANphbI13FBZzsnSpiKIYIkCfs05ygDgSXp1S1hGxzFfGQAAAAAAAAAsFiiDozxO61YkCNesqHgCP4MZLfd45rxeL29y6T/0Iy2kX9nFxpYLzPXy+kDdJgmct41cBsHklI6TlfWtwnX+1SA//Ja2L1HAKHQL1CIV1C0xYHo1aZNWAgIAAAAAAAAAoDcod6MMTutWJBTv/LzTNRuqYpUHvdyLL5uqAdRtkiARqZx1/ayTEa8UB3ql0jZciQPJWFrJpmg7FMJZzjDkFqhOiqhbl2u2q0QpIXMAACAASURBVGfA7kCJaAAAAAAAAADQL5S1Ue5GGZzWDdGA+fn5WbdbUkIhctDK9BJUCFQRqNskQVa5Rg7Z4bQmp8yI2qgBgIqkiLr1sUXue/pM+P4IAAAAAAAAAOgTytcoa8NE0975ebfH43TN2h3Oabt9asYvaqdm7PQjLeSKKWCYbTyAuk0eTE6Z8bDhInI9XOX2lvaIUglAXVJH3frY7930Dbx0u2FvAQAAAAAAAEBfUKZG+Roq3QFtgbpNKpSMmf29MdLkY8JNydZYUO5/AVgYKaVuCeukjT4NYOwtAAAAAAAAAOgHytEoU6N8TeuGgFQH6jYJMTmZYgifdfrd678amODK1MY6QpZzwbQdbjwv/Uv/5zalxP8CsABSTd362LG3PX0m1L0FAAAAAAAAAD1A2RnlaBhvC/QA1C0AQF+koLr1sXVvu3oG8MkAAAAAAAAAALSF8jLKzlDfFugEqFsAgL5ITXVLuFyzA6ZXw5YxzMUJAAAAAAAAAImHcjHKyCgvo+xM67YA4AfqFgCgL1JW3XJYRsf7Bl7iD7wAAAAAAAAAkEgoC6NcjDIyrRsCgAioWwCAvkhxdUvM2B39g0Ovhi2YuwwAAAAAAAAA4g1lXpR/URZGuZjWbQFACtQtAEBfQN1yTFht3b2Dw5YxCFwAAAAAAAAAiAeUbVHORZkX5V9atwUAeaBuAQD6AuqWx+v1jk9M9vSZhswWlFAAAAAAAAAAALWgDIvyLMq2KOeizEvr5gAQFqhbAIC+gLoNxTY1bRoapk8Vw5Yx+oSBDxYAAAAAAAAAECuUSVE+RVkV5VaUYVGepXWLAIgO1C0AQF9A3YbD7fZYJ20vX4109QwMmF7RBw76ccbucM265+bm5ufntW4gAAAAAAAAAOgCyo8oS6JciTImypsoe6IcijIpyqfoR8qttG4gAEqBugUA6AuoWyU4na5J25RldJw+efQPDvX0mehTCJ06BAKBQCAQCAQCgUBQfkRZEuVKlDFR3kTZE+VQWqdxACwEqFsAgL54AXULAAAAAAAAAAAAAHULANAbULcAAAAAAAAAAAAAPqhbAIDegLoFAAAAAAAAAAAA8EHdAgD0BtQtAAAAAAAAAAAAgA/qFgCgN6BuAQAAAAAAAAAAAHxQtwAAvQF1CwAAAAAAAAAAAOCDugUA6A2oWwAAAAAAAAAAAAAf1C0AQG9A3QIAAAAAAAAAAAD4oG4BAHoD6hYAAAAAAAAAAADAB3ULANAbULcAAAAAAAAAAAAAPqhbAIDegLoFAAAAAAAAAAAA8EHdAgD0BtQtAAAAAAAAAAAAgA/qFgCgNxadup1n8Xq93L9zc3Nuj2d2dtblcjkcjunp6QmrtbdvkR0UAAAAAAAAAAAQVyhTpnyZsmbKnSmDpjyasmnKqfn8mku3tW7mQrCpB9QtAEBfLF51y3lbj8fjdrvpXcfpdNI7kNU6OTw8DHULAAAAAAAAAAAIoUyZ8mXKmil3pgya8mjKpj0Bewt1C3ULANAji1XdiofcOtkht7apqdHR0cHBQahbAAAAAAAAAABACGXKlC9T1ky5M2XQTvHAW7+4hbqFugUA6IpFqm65gbceFv+Q25kZesgOWyw9vb1QtwAAAAAAAAAAgBDKlClfpqyZcmfKoLmBt1xaLTC3ULdQtwAAPbG41K2w0K2wWoLD4Zianp602YaHh190dUPdAgAAAAAAAAAAQihTpnyZsmbKnacCFW/5mgmLutwt1C0AIGlZpOpWWOjW6XLZ7Xam0O3kpHl4+PnzF1C3AAAAAAAAAACAEMqUKV+mrJlyZ8qgKY92Jku5W6hbAEDSsqjVLb3HcIVu6S1namrKarW+MpufQd0CAAAAAAAAAABiKFOmfJmyZsqdKYPm1C1T7tbthrqFugUA6JQkUbcOB73xTExMDL161fnsOdQtAAAAAAAAAAAghDJlypcpa6bcmVG3/ExlULdQtwAA3bK41a3Hw6hbp3PGbqcnLNQtAAAAAAAACaa19VFp6amcnC3/8Z+/e/vnv3jzH/4x/e9+8kb6UgRCw6BOSF2ROiR1S+qc1EWpo2p9r2iPUN1SBk15NGXTjLpFwQSoWwCAbkk2dTs0BHULAAAAAABAvLlx42ZOzpZ/+ud/0VzSIRAKg7ordVrqulrfPZrhV7dDQ1C3ULcAgEVD8qhbrmAC1C0AAAAAAADxpLT01K9+9W+aazgEYsFBHZi6sdZ3kgaI1O3UVKqp29/+9rdQtwCAxUcyqdvx8XGoWwAAAAAAAOJEZdWZt3/+C829GwKhSlBnpi6t9V2VUHh1S7lzqqnb3wZYZOp2HugbDfsGSB2gbgEAAAAAAACR6Xz27A9/+EBz14ZAqB7Usal7a32HJYiUVbe/FaNfdRvOD3qB/oDMBQkD6hYAAAAAAAAQgcqqM5h5DJHEQd07RYbfpqa6/a0c+lK3oZZ2jlUeHHRxPECHzAmQ87nx7jYgdYC6BQAAAAAAAIRj567dmps1BCIBQV1d67st7qSgupX1tpHtbeLUrVTXcqLW46Hr4Xa7XbOzLhYnhdPpcCB0FAyuAHQLEQKdK9G4ceo/IHWAugUAAAAAAADIkpOzRXOhhkAkLKjDa33PxZdUU7cRvG0Ee5sIdStRG5yunWVdrcPhtNvtMzMzU9PT1JpJm83KMsEH0JDAVeCYZHsMXSm6XnTV6NqxIneW17iL+qYC+gHqFgAAAAAAABAKvC0iBSO57W2qqduFEV91y0uNuYC0dbFSw263T09PT9psE1br5OTk1NQULXG5XG63m7sqKrYBvD7cRWQGR7tcdKXoetFVm2BlLl1HO3tr0ZX1j8NdzLcW0ANQtwAAAAAAAAAJqJOASNlI4soJULdaqtugtOWG2fLWb3qasX4T1qmpKVqyGM8+4KBrR1eQriNdTca/sw6X8+/8INxFeoMBbYG6BQAAAAAAAAiprDqjuT5DIDSMZJ21DOpWG3UrFBl0pt1ut5OVtqzFmLCxxlaVswD0A11T/voyg3A5gbvIbzOgFVC3AAAAAAAAAJ7OZ8/S/+4nmrszBELDoFuAbgSt70X1gbrVQN0KB9vSieZG2tJu6BpMTU/TcrVOAdAhdH3pKjP3m83mH4GL4bcgdqBuAQAAAAAAADx/+MMHmoszBELzoBtB63tRfaBuE61uubNJp5araWt3OKempsbGx+lfSNvUgRG4getOfcBfA3fR3mwg8UDdAgAAAAAAADhQKgGB4CP5yiZA3SZO3UoG2zpdrunp6Qkrw6zbrfrxA/1D152uPvUB6glODL8FsQB1CwAAAAAAAOB4++e/0NyXIRA6CbodtL4jVQbqNkHqVuht6fw6HE463aOjo9MzM/E4eLCIoD5APYH6A/UK6huwt0AJULcAAAAAAAAAorT0lOayDIHQVdBNofV9qSZQt4lQt7y28BdJsNsnJyfpjNOJjtPBg8UF9QTqD9QrmOq3bPGExXvjgcQAdQsAAAAAAAAgfvWrf9PclCEQugq6KbS+L9UE6jbu6lbkbV0uOsUTVuvExAQq2wIh1B+oV1DfmGHnLoO9BZGBugUAAAAAAADcuHFTc02m71i5duOad7RvxuvG+1kfZb6r2tbeyfxo7UrtDyquQbeG1nenakDdxlfdSr3tzMz4OFPeNq5HDhYv1Deoh1A/gb0FkYG6jSvO0Q5DY0MDE4aOUafWzZGn93rBurUFDX1at+M1cFpD0enZVoU49yunvs6fR+byOj3y6y7aztzbsH3duu0NvVq3IzZmpqyTM04Nxw94Z62TU1aXKi3wOqfocBxqbCoOqHmkUVDzcaqzZ0lk5A48dd5V4sZ0r9H/btVg7FvgGYxnP1L92bs4H+YCcnK2aODF3l2zvrD8Qu1FNqq/zl2gG30/a/OmT5lYn/luXNq5prrLxZwlV3f12pheuDKLa5gkEqM7Q07LmjPP/YdxJkuF7e+8YWH7jq15d3xOuz6Cbg0Nb0x1gbqNu7oVe9txeFsQGdbejkvsrdaNAroD6jZejBqKVqcvEZO+usgwqnXDpPSWvMe0bfmhDq1bsmDMFauXyLB0xcZDDeYwji8K03rN08P0qwazerswVaxasmRVpYpbfD3uFshd3bQ3/6ug5qnkg9Ci7cxdJSvYhhc/1bolsWCorl9SeLtCw55ibltVWL+qfkKNbU1UHKfDeWBQY1vqo+aRRtmT/OM0LSO7siPWxMNcyTxLKkxxaajaGGQfNEJ09FRcFHh6azZnpEn60S+za/pi3RDXJwvicm+q/uxdnA9zIf/0z/+SWCO2Mq+22xb6Uc3WfWFbzB7wTHfg1YbdcWltdWAHvu4zgYWKfHHwhVJcJsMJNfxpLKeluiuw967q2C7WWr90Fo7Y3d1si/Np10fQrfH695dOgLqNo7r1e9u5OXhbEBMiexuYtUzrRgF9AXUbF/oqMpl8JX3FhuKaux1mq7njbk3xn9gcJi2zok/j1klwtlYUFVYYp7Vux8Lh8rp1xYGhPRQ1pVs3vscqzre2NsSuyw3bl+jROMj2qw0r0tXtV7pUtxlf1PAXt+FyRXFO5pvc7XSiQ2jYF21ndhpPFxWdNurxrwXhgbpNHIlWt6LHaV1l0bpfMvfb8u2GmLroolK31g7BITdUb82gA/5TcYNgodG0uG5QbemtWJPGKP/NJYY+dsyyuaOhNJv5GJSWWRNbl4inulX/2bsoH+Y8ra2PEqvD3t1psIVvTsyjOOOubteUtLDtdT0PjrpVtNPw6pbdnDqjXxWfljUnjLYF7Zd3vrbmHcHlO6+amEG8Hktyj7qloBtkgbeWzoC6jZe65TwFncRZdl6yiYmJsfHxBBw2SA6ot1CfoZ5D/WcO9haEAHWrPk5jwVtMwlLQJP0bm7WpYDkjEwsW64d6nRI2r+ut3cic8PdKYv3qoh7Vbfh+5bzL9asioyo70qW6lWmP1Vj0G0YDZF/H7aQNULeJI9HqNvRx2ssuX1HSJfeicNtaTOpWDPsYXLJdp91B/zgbt9LTefl+6ZuSs2nrsiVLloUsj0hc1S0QUVp6KqEuLMf/TXvCZTZeOJK/6dP8r2uNFldgaf/FzFg2GHd1u+Cd8up2prvRXxfiWnO3QFt3V8d0pOq3UFHIq9vUCbpB4nLjJRyo27ioW+6UMYbC7bbb7Var1TI6innJgHKot1CfoZ5D/Yd6EfWlRXofgjgBdas6vaXMt+VWnZa3hb2nVwk9lLm1oaHRaA5RT06TkR3jI1pmbq0pKSwqKiyuaOywSr5cNtpB63eM+nzW3rpSWqeojvl4Ze1tou3LfMvV2smUSe218vsKbUP43Vl7mUKrnaKtBhos2oqzz8DvJZ5Eyut6TzCXY12tpBF0dHUVh5gTVVzJnjce9kwW/4kZ6Lm1mh1sJT5SWsFQW1LEnJmSmtbQSxcvovQr5jDTtjZKmiO4iJeN4WpHWLsauFNRUsuuE07dOs1G7sAPVUjPSVwJp26J6YbstCVLfhZ01rKdmRbWsDdFUWlNmHFzEW4up/lBQ8MD6YVm7yDJjviNsGdSZj8RVpDfi/Cc17WGnAH+rvdYOy4HLk1X4i5NDOp2wtxQ31pU01J09ZlxaFZuDY+1d6DmakvEdbzWge6KS8w6JbdM5tnwQjPS7mbNbd0NbWNOn8f8pK2YWWeAPWUCdTthrmNbUlzf3TER5rZxjRlvPWF2camt7lkYo0rr3GV3UdNa0WK2ihviHBpoaBkwu3y+kQH2oJ4YJmM/UvUJ+zh1Xs+mX2RW+6+3/BsH2yf5uyyMuo34XsZvp7JYg6cNTzR1S0+A4GMzzEPFeLmiOOpbtsdsYI+0uNLAbyfwTC6uuJu4txh1YS99hpzo761jHsUG/0Xlz4MQOnWid15Bnxzt4D7hSN+4Gdhx0+yrzHfZM3+owsA/8K29DSHn2b8zmWevjh/mtEJj+H712iS40O07tYGng6e9TDBl1jvH2wPy1l+XYMsRTndeLNu9JriFnMP+8rjf7ea8p9hRrsyrMrQ97+56YrhwaLOoeO6a3WXBF76bubu6+Ul313Nj46n897kV3t38da3/tWd2Cwrv8i+sPbwl8GNLQD+7um8wvzqSK3Ow1cGW7QwuFw467j7zruhIv85Z+s4nh688YBp25tPAS95ds/PUNba13W2Ga2W7ZYsCr8w7daPlOfPCK+yBh4663fldcC/C176fc/jMDWMX89r25rrynYISEJm7yy/UGvlj7boRfLn81aFYmft1FdcS2dbyzSjfuYZWzi/jdv3ghtxxrdxypLqRORsybUtYJE25W6jbeKlbrsQtnc1Jm808PEz/Scxhg6SB+gz1HOo/9B8UvQUSoG7Vprfk10uWpIUfHuJsYMaiBMaBWi9ulBOL1roNzOIaPjPpq8v+pbhk3NJ1JZ2CtwNWbxVU1qxb6v99wV1msXE/M8ClqFXSCGPRz4LCSya7jrI7QwH9crXI2Bi2s+vnNAjaxB1FdkPc37UiDslxNjC+YU1NsLWhR7ckfV11QImGVlYNZu9O46FVkkKzab8sMCTi6/nR+pWpgcnlLgvEbuhhpq0oapVcjN46cS1C5nA6ZdRt78VsSc3C9LUlHYmpSxBB3TLOOoM5Lw/8P4Z0Zqdhl6Th0hoLcr19VXHwRLG9a7XUT0rHZU8bCqRnO1N0h0ZZQWYvoec87TdFoloQ3F1/WbLltIxdsX2rfcEoU7cO46Xb6YW0ZjAyzrywCgchzJiKj4tWYNapEU9p5B2rO30zTbBC2tcPDN2hQjPq7lhFe/xJTU1ga8fbzPzywgd1jx9kFAlf3rixaUx8RN7eprviderTjrYYZ6Kss6SouWYo2A5z/W06eyU3WwKrBc6k0iONE+Efp+I7UV7LRl0n6nsZ9fzqdZLH7PLchkTr2wjqdtpYLCk4npax9bqogaE3Lx2mqMYrf/O+JVjnreyGUekjK31tzWKc8MpcnUmN33g52qOIOw93xQulJ9/fJ+vuFojP6vKNF4Xnhq1WvL3OsH25cJ3sRqtT8kLRtQh59ur5Yd4X/IwX6DMLKQkVgf/4z98lUoRtqucH3ZquiL65z9dUzXpfxsmG9aGC1aqvmF3CQ3OZb+zk7fCOgDG1GS40WUSrdVevzfLPRcZjadr9juSFnFPeIVfuobtasbpd+sZufgv+caz8IXRd5Zvh/9U7u28MuiQ787lMguOiyCpvE7fJ9bz6ivTsBavTCmrdZpU9CT0a12C9/9hlS1twL5e9OmtPtYeWMKbWFgVnZuObYWuuvmYJd87lDsrftrr8hU1nt+CgGyS0HYsRqFv11a2wxO3U9PSIZZQ2kbDDBskE9RzqP9SLUPQWSIC6VRlrHeNicyLoSmdDDpPR1Fn9PzEmd22NKO0brVlHq2zwr8LkCcw35VcUNPrHcVhbKzYySzbW8R/Z2c/9aWnpK3Y19DL5gNPJfWBiZ8xYVij+cmJrkfAbi9LsWsHuWFEbOAQG1gUvEbtFzplGOhVqEfnblOaaNfTbrf7fcmUHlizfejkwKMbaUcKU5BN9EVi2YALlosz389eUGAPnwXx5K+WIabnxP8bo/UpMuIsoPkzjfibFXZ5b51/Jaa7LXb7svRXLxKqUK8iQ9puCBm4Ek8dqrGQqUaRtqEuET4mobn0PmL8j8IORJZ3ZenEjc2kLDf6hSR7mAOmIg3/MkDlRJUxuHOztStSttW4Ds5+iu4HzYa7b+pawhEXUFaR7CXfORdU/2DOz7GfLM08YuQN0mtjNCg8wnihQt97e+ttphfXLT7cZueGrrrEG1pku/yt/d03UfMMIyswrJv+41NmJuspGWrL1AT9O1Wv8K7NkeeULs8vLbYfWWXb45jKR0FS0O0bRFtWnfXW34tmkkzbmmg0uL2xc/lXjxltmJ7PM6xx6sfVrZmFBW3DErPPxg+WMq33QwI3nnZ0y1t+lJUsOP+kNiFlnG7POkq/u1fnH/HqtL55kFrHrBLbDqtv6tKLGjfUmKx0UvZd5lR9p/Aj7OLXWMu9LGy/6+/BC1K2S97LWIurnyzbU9PIP6BP04E3j95sgwqpbroTr8o2V/E3XUMBUbgnedM4HXAWbrXWBIZ/WpyWZabI374qN/snfuMNckrY0PZ1/ixk1su9NoV+nWAyM1jEPX8G1licGdbt8+VvLN9Z2OPlnHWM5lxc8EPxRmdb62bIVH1f4zyl32tPS05dmlrSyi+hByp3n4Lu25Nmr54e5sYiW/GxjTZeoX6n7Rvz2z3+RSBH2xn5j0Ne5TC21h/OyVsquGau69blCHCctay+RGtiZ0PVcNpkHreXKp/FRt4f4MyBVt64Zvmnsr4RC2eOi37p4MWq6Fii8m3VFpkCNiz/I8OpWXHTYI9i4z9VVtSZWdfvOIcGVZVsbfM0Efwb4ZtAKMs1u2c+tltvI23WPy9LdPTgRuk6Cgm6Q0IYuDJuxfNOale+v390YzFldXRd3r1+5cv3ui132wLI5U+Puj95fuWbTd0bbnFo7h7pVW91KSiXQabWM6m5icrCIoP5DvQhlE4AEqFuVYVOOjBORRsmw4wT5bNbZkJsmGmDrz5CD2Rr7TfkQF8Plt3zBOO5z/xeho+16S94TfaOcMBYuEyo8SXatZHfcN2eDNUa7SjKowYUFy4QjfO8yTi0h+XaUQngiy+Zx9rbWVFwXXyDWZQvloKy6dTLf4a0RT4FlrVkbadeqoaBfCWEv4rKtTeLu0Mfmw/zfCbi/EKyuEG+Uq2gpPBtsFwoppMtq39AB3XEgsroVJ/mSzsxeR/G4b2evobHDGlgie6Io0xb0ByXqllUGYrHu7DI0dPL7ibqCZC/cbbtVMqCbK7cSHKTP/cFGIvTZzqy8q7wO0dWtq3trUX1a6TPxU2CqrpRe2FzH1Qfwzlp7uytuiStZjHesK6xfUt0n+vF4W69wrK53jJWtAqGpZHd+RXu7YkhSfIxbXr/iivh4xp9tLKpfUsKXnRkpOVy/5OA9g2SM7XXGw667NeVfMDNivNXWINqF13i+UXi6OHW76rp4SK/CI40jYR6nVm58aPCtagHqVsmbi9wX7c3Gy8beBM89GEbdsiVcQzwypymDf23tNdZWNPSJVmHfdgWni3vLFk371lvx79K/rrHvrbFWhtULztbiVdwQ0aXLV20oYor2hErcGNTtkhWSxxp32oN/+ebUbYHonLLPzBWlwheyX2H5WTjTquOHudzHAHNrnbFPTbP/5j/8Y0LVbXrWmech7tTjsnWLyxQsQN36XINX2eoH726+0M3vwnRhjcTA+mxPSja9u/T9nIuCkba2lpOb30lfueVUO7+aX3FK1G2EtilSt1ln+LZ52k9ID8FneVJdxAw9zt205t2y9sCBdV/cxA2zXbm/OfCe0HbqXYkKtxkOZ77LFFj4WqBcw6pbQdFhS9N+dqTzyqLggGC+zfK1bkPOgEC2mq7lsa19f3+wHYN/XSNphs9lusJccTrnxuCl4ba25tpgoGmNOWLR7HJRaxPZY+kG8alC++H/y2/2p5uvsNfRUpv194GFf591kT2Ftiub/h9+7//3SHvkrSoH6lZ9dSsslfDq1SuX3J+PAFAI9R/qRSibACRA3aoMO8o18hRP0oxX6g1ZG5i2NfARnk0zQsyRf/m/B7wb+7l/a5PM7jgRLEiN2BGyguEe4vYo2x07ojZN5MuyG6aZQgp8XsHWahAp6bgRi7qVpbM4Q4G6lcNZ93FC1K2CfiVAkpryiEZ8S/17AK6IR3BfrDuQ2TW3PEztXTV5DXXLFQzJvhjuvLEn6teRZ7FTom65CiTZdWGvT9QVxHsJ52u4key8IWLPjPQKcgO0EzK9UlR167x3d0lhfcFj6QwN3PKtreFnbph5sVGgbrn1s+9JC+Bam5qFQlPZ7lhFe7Qt5KJz6ra5RjoT8GzDdwLz2/cko7B+2V9DHg2uF9nUYKk1FuLtuHQzRN3erhiSaWrUI40n3ON0xUa2jicbWzeuXp7OfS28MnjaYle3it5c/M+fIzIl2hOKvLplH6EyhWu4R+vWCHddx5GMUHUrfsuWeyNb7LOleazG2qKNv3kzUAUgLeNPxQbhp4IY1G3oxwnxd5g4qfqF6FyxPVCyfcl5ljzhdfww535cXRzXeyP9736SWHXLKMK82u7Qb9b7xKUAYla3pmvBWb/WXAy4v1ADa7oQ2EVwVGn/xYA1DlGcr69uPbbB51zB1m6L4E+Argf7JVvztZcL5DXvTE1X1gQ3yxcLdhkP0495TYHWzRi/Dr52f0tgR+HUbfCFlhtb+Be+W902ww7vnWkvi0nd5vNniZetjG/l7XPgDAebMVgXLJJ7gl+NG78cVLe+wav7164Mc4YTEnSD+NTAcjZLuNmdTNUvV+M24b7yGxnzZxSN0V5bbYm2ZYVA3aqpbvkht67Z2enpaW68ZIIP+41GaYDFDjd2m3oU9SsMvAUcULcqw6YcabsijZEx7koTZ7xsJsB/0GfHQgpKHLDZyHsbi4KJtD+dzvyZIP2QzX8EG+Q1K2eKhdV1xdm1st1xdWz9cpD9P5OBsHmU/0DCZenxQIm6zawRNoWZBYWZY2TrhlUZv+ashFJ1a+001DGznWSv+3VGxk+5hDRBo24j9ysBMhksBzvSxz+izX/d+0JWkrhatmut2FAk7RK5mcsS4xQUqFv+zEh1kslfGTD9rVUbCyvqWnudovww7IkSoKjWrbmWq86Zvnz1xqJKmWFQ0VYQ7yXsX2LYcXm8a5a/67mCj7pQt6ydbMw8w04+JoxTN6Uicnaq48kLZmKu75ozvm58kyv/GlC3spaTgRWp/HaU7Y6rddsW0mrBNGUyR1Ff0Mb+8PhBGOk8VnG0fsnXTwRG2OscMjUwU5nd23j0ZsZBcUFb/qDE7VB4pPHEP8JRyi+za56KjFHs6lbZm4vTWMSW+0z7aca6nJKau8Ex8glF3pmyJ+dnmVulh1C08T3pWwYzjRszLdXWHL72OAAAIABJREFUjaszMt7yv8lI1G1EpRihGYsQp7X3bkXRn9iKr2mZwfedWGrdytybTAfja53LPPpiV7d6fpg7jYXcCXwzY212Sa2hY1T9e0MLdcvFyrX5hy8Y2gcnxAVqn1fLzT8W4kNlat0KLWpQEfqXyxnYoLoNVjyIg7qVxWKIIqkFw4Rdfp3KBn+22DYHta+4aEPINqXHFazSwCrg8KFM3fIHKzLIglnp/NdLtuRu6IVYc0GS1blcNlN7c+3hLQnXuGqpW4y6jR/aqFtuyK3D4bRarXRa6ccEHzbUbfJBvYj6EvUo6lcYeAs4oG5VRjKSQgZu8i7R8By2hMIKgVATfA+dG2exdHnGrzPkotivrCKoW/9AIf8wXrZMrWj0iii7Vrg7/2BeVgKyh8zl6uyAKXYIDDtKVPwtxfgRWd36J/gKtFww1RjlP7/OWJdTVHK6aJUSdSuYYCf9rYyM1Ru3HqopTsyo2+j9SkD4cZfCPJYdkSqnp02iacq4QXDM8cp2iUPx/yZvRHUrmfVeRidZe+sObVzxU37U15uZh4yBSoFKBqgqm6aMmRS+rnjDiuDosp9mFosnhYu4gmgv3DmXu53FXV336pYr2/rmVzczvpaJ7CZORIpm9Fr+9c1Vp+4V32oVjrpltyO3I7No8i5lu4uobkXuNbATTt0+Zv7PjX7l/i/zct78CiZeS9vfmPF1c3bNk4qa21HVrcIjjSchj1OnoeBn4nK03HqxqlvFby4+j9lQWbDuLX4qsPQVOXWJnqpL3pmyf2dl3zjkIjASUzCPWdpPafm67MKSisJVKa1uA1ib2ELAfJUD5epW7usRYjOrjrr16fthbr5bUbB2efDeeC+7ri904wsn4QUT5GJl/oXnvKi0NH4aXmgmgbq1WdquHt4kmGcsqrqVZ8KQp4a6jXQITMSobiWFfaXLFapbpjREo0nu2+cuS+PudxPZOVUrmMDo+hKu1u2FYM0QuVq39u4LXK3b4wYLat0qINHqVjLkdsRiSfyQWx/UbZJCfYl6FAbeAh6oW7XhzGz4QgGSKcg4gqIzNEWRKawmQyR16y/PxxbPZWoaSLYmMzBKyXRYfNk1pqZtoDQhuzD7ulOuXmH8iKhu2XPLz0nCngpuqjHBIYplpU9e3bIV65j5zUQjN9k1469uo/arpyWrfp2RWdrBNaogjOf111nuY/4v/SMBj0SVyn6RM5FEUrdcqeiwhZvF61p7W2vYCYX4UpVhT5QApepWuB9jbcGKNBnbFX4FmYFacnWiZcqk6FndsnbyZklfxK0MPFnBzehlcgiW9hVIR902Fj0LeS07BlY86jba7qKMur1nCBkp0XvlZnCz7B43Nk1JV/KZS77m6zDMNlQGJl5zBTcncbXhR91GP9J4IvM45ab7ExdmXeio25gmrvQ4zZ0NJR+zsykmuN5rhFG3UUqscA+lNGa+KcGhSk9XqqpbRcpSftStTD0K9h2N/6Shmrrl0fPD3GnuaChlpzsLqUT/OiR2mrL8RpN/9GhblVjAvcuXOHC1HQ/rFjPrJKM4w40ePcxXDLDUbw5nYBOkbiU2MyTkt/YpX4s2uN/QCJYaENaLSF9zxSTZpvS4hDUKBFUaVq5lKu1SZL3vX6JM3Z4Mbk7Y2k31Fn692NQtFyuz8o5UXzG0d5kFGtd8bVPieqya05RpC9StmupWOOTW9PIl/T/xhw11m5RQX6IehYG3gAfqVnU4Obh8e+iMYcwvDV8sk5swmv2s/15Jr8xgVWFpgvBEVLecsU3LbbAGHa5g36KUUtnuGFiVubqibv8ywfpMNpK2va5G6UZUIYK69c8GzgtKobsMomSaMm7cq/TL9ZxRTYC6jdKvGnLSBB6WbVWwXDIPe8n4Qo0PGI0fOjKaPUWCs8GOlRNU8Eg44dWtf+ZugXuV0UmSD1Civ52EOVFMPY0GQxe3VbZ3BUdtc3AeP9KO2GHp4ow90gribJ8954I50ANwf4fgM3ndq1vfs5Zlwsm7eATfJJOvezv5TDjq1tf2IK2wfsXVEclmWKkqEJoKdhdN3TYWdUjcLTsvWdEDv9JlG5ZW2S29NKyATvM3WKhxg0hG1MqqW6VHGkdkH6dchxfNoCX+rnpgPWYisnDqVvGbizTp4aqLJuwNhSWMM1VQw12s5EQvTB11y14y+eK/4u/BsOeB/9oEB/dmF6JuQ//QKH5HU1HdLp6HOTv9nZrzhf7Hf/4uYRbsjfR3g6NEJ4IVAyjWVvOzd9ma80Vy0Ge6tta/WhZvJGVq3braTwQ2+M4hfvIuV8shduGiU7dB+0yHENTc72wruVB7kaIsf+UbQpftM13JCrxWMAVZOHWbyRdw95guyLyQP1hl6lZUXJgvYiuYu6y9RP70yl6InMPcMV74bjfvo9delVjgBAXdIL6kAOpWTXVLp2zWP+R2dGRE+gEuMUDdJivUo6hfUe+aDQy81bpFQEugbuOAuYbRhWkr9hvFAy2sxv3s4Iw1NaGug6s/sHHDitBxTNyIp1USxcZ87k9fXhgQeVHULff5ft3GDWmhU6xIbJei3bGwjm/Zsp8J0g8uQU1LS0vopNhh1O2osWQt87VCoe6UG2rK6V2RHGTTbMmoYTaJCk5mzcCpw8So2wj9quNEZprYYDqvZ4d6XutldmHwuhiL3hKXHST6KjLZL4EK582r28D0CMlgxt4TK5YsXV7UFP/RuPLq1mm+vDUjTdp+cWc2Fr+VJpyRj0GcMMueKLYicPAvHGyNkbTsy1bBCv6T5N9Ra/HyNOns58z54acHjLqCVB9wLn55wV3RBazLEf0dYhGoW6+p6Kv6JQfvNUwKfaij4bv6tP3N/rPHjicV+1aHobpRWOvWv52i2xVDgu0MtWWyZRaCQlPJ7qKo2/q0b9p6g6/2WlvuLSusX3beJNzaksLGgseCMcLemTp2YdEzwUxoB1uMwlb4WxtN3So80jgi/zj1f19BOESd+b7FkrQcwZKQp0fsby70tEmnu61hWrDCdANzlyaocnqAcM60tYie+cu+aBA9hJkWpr25ltO1XD1csWj2n5nUUbfcR460zJB5LLmHZ1Blcgf4XnEHL0OthoK32FoAUnVLn51EQtzauHVZ6MQAr6ludfwwp9uHuTdE34DhNq5kSlWl5ORsSZgFY8zjyfbg+EmXpeuJ4coNY5dJUBtgxlgk0XnMiswcX4PCCgKh6pZZ2N1Ye/HCDcEcaIGtqatug0NWXabm2otnDm2Og7oVNM9laT6Vv+nTzXlHbgwGTp/l6maJM6XGtNRdvFBnHBQMUQ2nbt94t6SNX43OW1V5WdWNLv4Md1cHnGlJW+BkuvoNF2qrv5YvZ/HuCf7CeixtVfs35R++EiyCwWtfZep2f9C8c9OUvZ+1/0p/YFn/xcyI51PdoBvElxRA3aqjbvkht06Xa9JmoxM6MzMj26x4A3WbrFCPon5FvYv6GAbeAqjbuDBtLPoNm8IuXbHxC3Yaky82rmCnS0r7TZFxWu4lXB3AEDnIYq5hFGRaxp+KKi43NDQ21BxaJ5VW0dQtN7B0idzwyZCBigp2J96mKJfwL0yL1BiVCZkS/YuNq37JlaFLy5Dk2KYaJnFcuqqoljm0hssVBavTl61elSGWg867BUze+ct1WwuLSu5yG3AadzFDPDM2l9Q18qdl1aqIM6SpjGy/Yqu4hvQr/iIW1zCtravYzlb4favAIFjNr56XriqorKMjqqssWLU0bWNhgaR8hH+yr7SMdYUV7LHXFLOzzUgS6XjB9u1la7byMwJlr81Yzt5NS5auK+mMMIScy6iXpK8uYk8Cd4BLRAmz/0Tx69RV5K6QHhora5iCmxuYNmSvTqfTWJAjFDHcmMT0VYU1DaKzLRiNHmWFkJFf/Dk/VMN3VMnfIfShbuWmBatpqRvwr+Nsa2Hq2Bbdzr76rKGlu+FuWwFrSJdXByb3cQ0UMLLyZvbVF8wKLc+KS2+mHb+9SqhuaTuPHywvZLZTUM+sVlf/YFVR/cbzDyQVYKPvLrK6Pdpa/F19+vEHFXepJS8qqm+nM8UcHhiEn8TNHeuYXdxcdyncLnzmm7fTCmk7LTXMEXGtbVx1/GZ0dav4SONGuC8xhI58ZP/2w1Tb3MhM25VDXXp5wa7sCOpWyZsL99eUtF9ml7ArNNQWr/ulsMhJogjrTP1TRaWvzi6pFT1VeDdnrs5Mkz52lq1anZFS6tY37Tew1D2K/O8vxdlcCeC3shuCw5a5Pw0y5WKzmXc06g9pmbsKZAom/HtxcU5a+uoCtufIvqOpMupWxw9z7m8YaRnZpXUNwjdihUXwlVFaeiqR6vaN9Kyy9ghFXG3NfCXTrOouabFTV9fzsAUTbKbQ2qiurqrACFBV1a1IQPv4IaUqq9s33t3dbPHJIxizvLMp9HyaBgPdMay6TV+69lSYK+HqPsOPwxU6WZa2k2HanFXeFubCWpp2vxPu9MpfiKwz3XKFbtkdNie21i3dIGFassiAulVT3brdbrvdPjY+bnr5UpNj9kHdJjXUr6h3UR+jngZ1m+JA3cYNa0dldnByJCYzWZFd2RH+EzY7mZh8TTRma8ZSNsUNQAmMaG6KqOqW+5ai3Bfr5EoWRtudH+5LkdnirwKy5XRDxvbGE5kp0dPfYmYnbzDJjAl1thZnBq9LWsbmmt4+aa1bWosun/8MBIsk9NblrOCnB1mydFXxA2uiat3yKO9XVuOhzDeDK6avyKnoCPmzgfWB8GykrzpkdIZU/uU2VvInUY9Ytb2uNzHFnNi+LSLtzYzVG4tqjdaQBoR0ZmvwOnLtfi+7olPSK6yGQsmJqpEcmrWpaNVS/l4oMoyGlNSwdlRsFu1HerajrCD3pV2rsfi/BO1aylxoUdN1oW7lQzSR18CLguOC3xbdXHd1wCoakfos+3BwhfTjrcZJUa1bFq+1rTVzf3C1VZdMTtnJu6LsLqK6peUzQyUlwZe/+Q01JqT87eRA8TeNaYJdZNcPiXuVw3jp9ptFghVujfQqqHUb25HGhfD1Z7i/YawW/FVj1FAUmI+L+XtYkzVirVuO6G8u5sbg7cY+4jKZLSeYiM6093KBqIW/XFfyQPR9DNGzNy0ju7a3NwVr3U531GwXPloDzz2rdLXgs5HOFT3lZGvd0uNxuoP7Jo3/beC/isXfQFGpYIKeH+bmhuAdx56DzEKDuvdGa+ujxKpbxgbmfWccDNF8tu4bJz4RWbl3tl3r4v+K5rF11ea/E3GasrxawXhbl6n55OZgFVdV1e0b6SuLbphc/L7YGcPUV7eMvd18wiDYEXMeXJYH5cJZzpjzKTnw41lRpynj4v38i13iNxmXySC5CpIZw2xN+WHbLJpujmVGfBViqHWbdUI4epprm7n9wraEelsKukF8SQHUrWrqlpugbGp6enh4ZMQS7s8rcQfqNomhfkW9a0owWZnWLQKaAXUbb5ia5QyqfK9c1Y3pbncJxX9ssiOgxWtJj14fZ0VZ+4MrOiNqVqfCQ9LHscdOoN2RTlf0EyXXG+T3E3YjUVcI3y7FL9ArM1PWSQpHmF97nVPsClOzEbcSWM0VolNj2100uJfPRLxOrpkou5h1sCtMOSMfkzyKj1Rzot8Y8q+J3K/1/7CJ8hD2KHr2pgCBKxn5WjKnS9m1nlb43vd66PlhPh3fe+Of/vlfEqzDAqYva5N0UiyZeCfzo00b17yjdLPsRFsxrP86kbB9vZu5kT1Rkfb1Go0JXIi1K6Ossz5TiTkNzHWWtfL1j/39LK6HfJT57utuagFBt0Z87jkNgLpVQd0GqyU4nZOTk6aXQ1NToZPYJgj9q1v3y2e3zp48XcJG+eW77Wa37j/f6gTqV9S7qI9RT0PNhBQH6hYAAAAAAACQ4HK3CMRiiaQpdOuDulVX3drtdjqPfX39Xq9mMlLX6nb0ftW2jz9Yt14a6/PPPYpQMScRuKdt9kmHziUy9SvqXeNszQSo2xQH6hYAAAAAAABw48ZNzR0ZAqHDoFtD67tTNaBu1VG3c2yh25mZmRGLZdCk3oSRsaNfdfvy8o4P/aL25KU7j9sH7YPPHl8/d9Qvcz/+si6hk9CKMddvozbk12vYBGVQ76I+Rj2N+tsc1G0KA3ULAAAAAAAAIH71q3/TXJMhELoKuim0vi/VBOpWJXU7N+dyuaampl6Zza/Mw1ods0+36tb19PQmxtt+cuhOyLwRbsut4k8Ye7vtYo8mjfMtInVLvYv6GPU06m8od5vKQN0CAAAAAAAAiNLSU5qbMgRCV0E3hdb3pZpA3b6uuuXODp0sp8vFFrp9OTo+ruFh61PdDp3Z9sG69Vn5ly1hKhL4Vzh03y37a5fDPmmzT4f80s0up3DJvUqI3cat6ZbfgQJ1q3xf8YR6F/UxptxtQN0uxpsTvD5QtwAAAAAAAACOt3/+C81lGQKhk6DbQes7UmWgblVQt/wcZRNWa//AIL1Aw8PWo7r1Pq36mBlUe2Uw/DquO0eZgbfFDwNitOMoM0r3dIuj/2zhBq7SwrbLFn59e0/9wc+zBAVzN+SVPx4J9bJui6F8x0ei0rqf7bvcP8mvwElbSRzvEG5D6b4SAfUu6mPU0zBTWYoDdQsAAAAAAADgqKw6o7kvQyB0EnQ7aH1HqgzUrWrq1m63j42P9/b1ORwODQ9bj+q2vXyDRLwqgFO3hw4WZ61bn7Vp59GSk0eP3/QbV7uRK7+Q9VE+LT9dcnz/lo8ZtfrhtnPtQqPq7ijllOvHuXuOn+bW/IwtrbupvMs//tfWUUPLi3cwcnnzjkMn2dVuDvHbULqvBEG9i/rYGGYqS3mgbgEAAAAAAAA8f/jDB5orMwRC86AbQet7UX2gbtVRt2632263j46Odvf0usN8J3/BhNpY5fF7Y2zrx4PJup2M+ix5GtOrOHX7wbrNp+9JRjHb7u5hfpVX9tQuKL8weYctmBt0sj5fz7nPGMe68+ILgUz3jt5iX76/XrjZcAUTFO8rUVDvoj5GPY36G/0f6jZlgboFAAAAAAAA8HQ+e5b+dz/RXJwhEBoG3QJ0I2h9L6oP1K1q6pbO3cjo6IuubvpR3SNJmLeNk7q1XMr/YN36HZdimwKMU7cbSkOE7+C53HXrP9jx46T0F+6Hh5iXHDUI1LnL3NUTUr/i3nFGCh81ChaFUbcx7SshUO+iPkY9bQbqNrWBugUAAAAAAAAIQdkERIpH8pVK4IC6VUHdznHqdmZmxGJ53tWl+pEkzNvqUN2ebpEuHzrzOeNM78g4U/edYsb2lkX5G4v91gGF6vb19xUPqI9RT6P+Rr1uDuo2VYG6BQAAAAAAAEjYuWu35voMgdAkqPNrff/FC6hbNdTt3Jxf3Y6MPH+hC3W7MG8bV3Wbd14ddcstz93DFaUVx55tIU7Wx9QYGHz2+NblcyUnj+74/LNPP/ZPOKZA3ca+r0RAfYx6ml/dzs0txpsTvD5QtwAAAAAAAIBQcnK2aC7REIgEB3V7re+8OAJ1q7q6faF5wYQFe9s4qVt/gYLD92N6URh1yznWiJF/ma9vMHmvPG+96LcbPs3fvyPUusqq29j2lRiod1Efg7oFULcAAAAAAAAAWWBvESkVye1tfVC3cVC3XdpOU/Y63jZe6tZ8ece69R98HHlSL1v/vfuP7z21uPw/hxt1+/gwLf/49D2bfTJMTPvPv/vRSWYysXUf55X+2NEzarcHrkuL0lq3yveVMKh3YdQt8EHdAgAAAAAAAMKDygmIFIkkrpPAA3WrhroV17q12+0aHnaCbGxs2G7tYDzs/vqQGcN4npRv4PRuYEHkWreRNhWAFa/rv7wesqZidat8XwmDehdq3QIf1C0AAAAAAAAgIpVVZ9L/7ieamzUEIk5B3TtZ5yWTAHWrgrr1curWbh8ZHX3R1W2dTPB36EXoUt363C3HGTP74c76l3K/9prr89mqsmcH+WXh1K2vnZW82y5bQn4z+eTO3fbBwKBn2909tIXN515IV+uv/DyMuv38Ys/C9pU4qHdRH6OeRv2Nep0X6jZVgboFAAAAAAAARKbz2bM//OEDzRUbAqF6UMem7q31HZYgoG5VU7d2u310dLS7p3dkZETDw9anuvX5HB1HNzPC9MNtpw1mt6Bygvvl/dO5bN3YTaKKCmHVrc/vefPKntqFFRhG7xzdxLja0y1+n9pVxuwxt1KkY+2PyvM+DJ2mzD9Ed4d0LjWl+0oY1Luoj1FPs0PdpjZQtwAAAAAAAAAlVFadefvnv9DctSEQqgR15hQZbMsDdauOuvV4PHa7fWx8vLevb2BgQMPD1qu69fm8ow8Pf57Fze714cefffY5Ex/55/vK+vRkh7jORHh16/PZjac3sa/6KP9oycnTJSdP7tm2gRWynxw1BjdjvryDXbghr/g0u9rRvI+pAfv37AxVt4HCuOs3fPr5Z9vO9ce6r0RBvYv6GPU06m/U66BuUxaoWwAAAAAAAIBySktP/epX/6a5d0MgFhzUgakba30naQDUrWrqlk7chNXaPzD4vKsrQrPijX7VLcvko3NHt3zsF7jr/Er05PVn9pAZzCKpW8LeU3/wc+F2Plj/+dFLPRKXan9x+dCngnU+/PzQ9UG5WrcMlvri3PXcmuKit8r2lRiod1Efo55G/Q3qNpWBugUAAAAAAADEyo0bN3NytvzTP/+L5hoOgVAY1F2p01LX1fru0QyoWxXULTNT2dyc0+WanJw0vXz5tK2NzppWh61zdevH7bBP2piwv17BAX47k45Ia03bhtqf9o/YFJSmdbvDtUrZvuIK9SvqXdTHqKdRf6Net0hvTvD6QN0CAAAAAAAAFkxr66PS0lM5OVv+4z9/9/bPf/HmP/wj5jRDaB7UCakrUoekbkmdk7oodVSt7xXtgbp9XXXrY60EnSyXyzU1NfXKbO549mzCatXqsBeHugULgvoV9S7qY9TTXAF1q3WjgDZA3QIAAAAAAAAAAEkP1K1K6padqWxmZmbEYnnR1d0/MKjVYUPdJjHUr6h3UR+jnkb9bQ7VElIYqFsAAAAAAAAAACDpgbpVR93yM5XReezr62/r6NDqsKFukxjqV9S7xjFHGYC6BQAAAAAAAAAAUgCoWzXVLZ07ttztUFtbu1WjmglQt8kK9SjqV9S7mEK3mKMs5YG6BQAAAAAAAAAAkh6oWxXUrY8vdzs7OzU9PTw88vxFV09PryaHDXWbrFCPon5FvYv6GPU0FLpNcZJJ3U5MTEDdAgCAuiwprEfoObTuIAAAAABYNPDqlnJnqNvXUrdettyt3W4fY2smGB89ovOY+MOGuk1KqC9Rj6J+NcZWS6CehiG3KU7yqFubDeoWAABUR3M1iYgcWncQAAAAACwaROrWZoO6fS11y9RMcLkmbTY6oe0dnQMDA4k/bKjbpIT6EvUo6lfUu6iPoVoCSDZ1++rVs+cvoG4BAEAtNFeTiMihdQcBAAAAwKKBMmXKlylrhrp9LXXrC9RMoHM3PT09Yhnt7ultffSYzmOCDxvqNvmgXkR9iXoU9SvqXbOolgAWu7p1uxl163LZHY4prmACo24x6hYAAAAAAAAAABDBqtvnnLqlDJryaMqmGXXrdkPdxqxuuYG3dA6tVqvp5cu2tvbe/kSbCKjb5IN6ETtB2UvqV9S7MOQW+JJG3drt9MZDHfvV8PCL7m56Q0IgEAgEAoFAIBAIBAIhDMqXKWum3JlRt3Y71O3C1S0/WRk78NbS3d390GicmZlJ/MGDpIH6D/Ui6kvUo6YFE5QtxnsSqMiiVrcej4feYzh1Sz3cOjk5PDLS29d3s6n53v37Tc2GW7ebbt26fTMQN27eQiAQiKSJ6/UNl69e54JfePnK1drzF2TjXE3tNyUnvz1VVnXme/r/D3WXv/uu4tjxE4ePHP2ycG/Bzl1lp8vDvZY2y23/XP3l/7dy69+X/oni0/OHND8JCAQCgUAgEIjQ4LNgyogpL6bsmHJkypQpX6asmXJnyqA5dUs5tQcFE2JVtz65gbftHZ0dnc8SfOQgmaD+Q70IQ26BhEWqbrm/b3Hq1uVyORyO6ZmZSZttdHSUOvnfHhjb2jseP35ibH1E0WJsfdhibEEgEIjkiqY7Bi7uP3jILTEY7l6//mO4qK4+S0Hr3Lt3/+7dv128eOn06fLKyqra2vNnzny/b9/+w4eP/PBDXbiX0wu5vey/ceYnZ9ZTvH0uR/OTgEAgEAgEAoGQDSYLNrZySTFlx5QjU6ZM+TJlzZQ7UwZNebRLoG75XHsxmiJt1K1w4K1ldLSnt8/46NHLl0MJPniQHFDPof5DvYj6EobcAiGLS936Ao9H/u9bBL3ZcDOVMeVurVbq5E/aOvoHB3v7+np7e3t6ert7erjo6u6Oe7Q1Xz1be47i4o1HL8Ku1v7gxsWoq73ouH/jh3PsahdvPA6zu8ePjP8/e2/iFEW27/v+Iy/iiUPTO6TdEfbre0+fCM/1vSa292zOJvb2tnHOcbd7Q0urODTatgM2Aq0MioKCioCKIMiooigiiKAyyIwgiAwKgszzVFRBQb1fZkKSlVlVFJJQA99PrDCorF+utXKtZeZvfWvlb+lINfqLXs5UUymt21vdZpU6jmvZpAfvct4TlD5rVv9W6zK1P+bePuHkfCIuX9Zr4bss+VF2yTy1RUJahlT7ru511RsucUfq6utLy8peFRZKU8GrV6kPH14MDn6cns59TEhMPHP2rK+fX1JyMn11996923Fx9DHl/n2dOVCizKkIKiivtvzbJydWP9xP6W7Vc5M3BRIS0gpK9ZXZqdzjODP37XzGetwkLWfprRE2Okp/lF1uoJJvc9M5s3tP8g35DDX5mfN4ekjGJNYP1JHmHSEmr/N8DjAS0mISPwumGTFDUxPNkWmmTPPlfjZaArdHmZLdvp5f22e5MpEJpFuNYOEtNeXg0FA7u/dOcUkp5bKcFw+sABozNHJo/NAoorFEIwpd3xwBAAAgAElEQVRLbgGPhUq3U+wdkgl3OznJhbvlFt7SaB8cHKytf9/V3d3Z2dXR1dXe2UmpraNjydOnmju//eUPX3y5hk9//MtvKTUSs4qoX4wwK411+/OGNQKzP/zZ606NqNCa8B1fCm1mk1N41dJf7/xJT/W++T9HIouaRGY7brwxlNXHO0fYcw8m1XFHMr3o42+ZswZaHysu/ZUx/v+CiuS5kJo0/+3fiK7ij9vPpX5WIzc1NNS9+2jqrkGyhvS++WPd+/eU6A/uSOOHDxWVldJUVlHxLCcnISkpMTnZx8/vanj47fj41EePPL29jxw7duPmzYdpaY+fPImMijp6/Hh8YiLZ68yHEhXBlRX+NuP/fnqQ0u6iCJM3BRIS0gpJb1K8/vcftTwot9gKA/YZXjrdJC1n6U2kk34bgachLf2LDf/7l6TST+JCmwqu/viNyGcIfv5BUr0PRZd2fSMyy2gwfSNbYtLXiX+PlDjY5pHqXs4OknkcYCQkGRI3HaZ5Mc2OaY5MM2WaLw/NLrmdCXTLR0uAdPsZ0i238HZiYmJsbKyvr6+lpaW6uuZ1VRW16HJeP7BoaLTQmKGRQ+OHRhGNJS7+tOX+hwTyYqnSrXa4W27hLRfxlm619e+bBgYG+gcGevv6enp7mbTktGX7/WnN2q/+3SOupObDh8YP73JvHvr3r9as/VNAvpbZgyN08Ku/+qWKzHxy2uasWlKPbfhizYatPiml7xrJ7F1e1OF/pyPf+WW3CXPLD9j0xZr/8IpNe5KulXIqtcxMxbsbO75Ys/ani4K6PYjy28tc7xffBeZrme24+c5wZlWpF/1CHlTNfszyokxOZun+2JZ708fvZl6LHBdRdXMHtfzar/+6PyQ2i7rjXUlW3MX9W/+4ljrI6UbV/Blow7WJV7YcVQMrnA/NH7lEbjh3pKGhoUZCYWFhRkZGYmIifdvU1JSQkHD58uWkpKTMzMynT5+mpKQUFRW9ffuW/iUbX1/fCxcuFBcXS/PhoEy4sqraGz0rEqn05o+y/E8DAIB5aMvx+44evt8dvpH7jvGgSlN9tjI+1bFUvU7PhyKRg8SluGN/oof44aQPbLZVObpsUi/upOf1ny4WzZae5cWU/vX2AM43q8i5evg//rD2iz/svfNBWCTnNmz4j0PhOcyPXTWlD85uZ3yG787ndQrt3sU6cQ7hE8assSo7/DCT/1/DSrTMgFHkBf6vNWv/42ScuB+zq8zCIdai890DD3bk/Pt/MD0+rwMMwOJhp8M0L6bZMUEzZZovz0S5ZZfcWkegW42ppFsNv/BWrabWHGb2K2PCJryurHz7tnbZLh5YOjRaaMzQyKHxQ6OIWQzP/p+00P+NQHYsV7qd1l54y6u3I6Oj75taaLQPDQ8PsYtweQaWjpaUfWu+WL07oUV4sP2R+1dfrN6XMnewLvofa774w7FHXUIz9qDQrPGW8+o1du7aVuzBL/YlC0roeuROJ/7+UuZrkY3Gm//4YvWa31+IDvfWhDPHd8U3Ccz+Ed24oLxzfqfW8MrR81Euul76fvfF6q/+4vu0RfxNzu/fUeN/F1TYu6Ac9bQJAAuku7un5VMbl2aPdL/TprS09MWLFw8ePLh7925mZmZVVdWbN29CQ0PPnDnz6NGjwsLClpaWuro6Ov7x48fGxsZnz55FR0f7+Pg8fvy4trb2nR6oIK7Eto5OrgI0HzBdSwAAVgg14X+lJ7LzzRrBsfanXpu+WL1pgc/igqBNa7747kKhIZumBBdy2OZ8M12lD3S9+P1Pq9dsPl8wdyTzhN3qNX/yytFy4apvOf9hzRcuAiex68kJOvLd7y+FdtWRjKfnkiB2OcB8dD08ZinOVWO8M1X16/8KftnS+9JrzcIdYAAWgnAizOiRw8M0R6aZ8ohAtxUuubXoQLcaE0q3GknYhI7OzobGxvKK1/X1Dctz8cCioXFCo4XGDI0chEoAOrFQ6VYYM4ELzcOrtwqF4sPHT/RAIkZYhjnoj6VLL0+vXmv7z/gm7eNN0U62qzcE5IrMbovM6qL/23b1/3ORN8s9bbt67Y/R77WLqIv9r7W2fwzMnzvyPvafa23/HFG1tJf2+Ym9/LWncyVftd37mdph/732OTOn2A/MFZUmRAb4BwRcvp39ul37rNaqrKfZr1u1WtL7pe6PPXX5WU/za3slHwebipNvUP7+kcnFdb3zXkJt5PdMf0XX6fz2dQR9+9WJp72ieuZyRQTcSCiq6xmc+4qtRrK3I7XJnstPs+lycoV1GOytLUqPvjx7+a2i4tpf0ymvmRZrq0qPYPK/Gv20qm1QYqMr5dYZW0mt5nqfz9bnRq6gL9qqsrlKRiTni/sIaRlTT19fW2cXpe7emc7t7OoSRjd7VViY9exZfkHB29raouLiJxkZZeXlNW/fZj59GnLp0uP09IrXr5lNKtiFGHRu88ePL16+vHP3bujVq2cDAugsfXHTyFhUB/rD5A2ChIRk5anqxp/X2m4KLBUdZ5/UkmexodSe4Eq+2c8p4uesVioO/H9Xr90SWDpP6cPtqfvX2n7pkd3DfexNP7HWdrVrcps4w9LAf7NdvfVG7czH3jR3xhlIENWhN/vEBqEZkpGJ9SQdb7w2fU3mr2rC0aMJb7m/873XzjrAM6m3Nj87K7+uZ87Zu5FW1T7z7ZwTmy7xEjkD8iSTZ1zER6UfBhdTTyQrSjPzYAZmdjw6SjNlJk7CrG7LTaVF0RIsVC8ysXQrDJswMDDQ3t5eV99QWlZO3vPyXD+wUGiE0Dih0UJjhkYOQiUAnVicdKvRtfBWS71VKj+2ttMDaYxDoRgdGzNRqr7m+IWNY2QVf6Q68s9rvvjztWots+FXv2/4wmbnnebZI1XXHG3WOF6r1s4tz+fLNV/8M+Gj8IiN6Ih5pY+3nL6wWeOTL/2Kq3ncxzkzp9v5qUe/W0P2s2nD90HF/aJTfs8z6mNz3E6bNTtvfdD+WPnqd3tB/mu++rN3RvPwfN23wSdfn82HjCsBAUGPG2aP9Jdc+WGD8BLWfPGlQ0B+r7AaWt/OtsDYaMPDww5faX/79U8JDYLiXv1OB30y8gMcv9ST/4yNrjRX0HyV5JvrWkLwnzdwBrMt2Vt25YevtXPecjilQX8DIi1h6unr7+juoTQwOMQdaWtv5zejeFNd/TQr621t7dDwcHtHx8NHj9IeP05/8oQO3n/w4MzZs3Hx8UXFxeUVFWRD9k3NzdU1Nc+ys1MfPkxITPzZze1VYSGfmyhRQVyJVDRXB6qMyRsECQnJulNzAj2bvpp77vOJ9aw2hZQZm1VxMLPk1rB9252f6OF44GEHf0TLbxEm9sn7b8El3McPt//JPKxfScw4j8jtfufMWf4bGM+nWWzWn+4uNEMyMrG9IHCkzTrNeZVstbWGwYxL/Cxup8DZ++qvN6tHG+789LXQSXb0z9N+8ko9SZEjjbSy09js1JjmyDRTZlRbiW5r6UtuNaaVbjWzC2+pNallqa37+/s/tbW9q6srLWX2+V2G6weWCLPNdGkZjRMaLTRmaOTQ+FEjVAKQYLnSrVS9nWDj3tJQb/nUwWm4M8lUVITYr1m36UKF4FBr8k671V/tjK2bPTDaXR6+c/UauwP3u+esmu86fbXuy51xDaOzR7orQp3Wrf7KLbVjzqr7vtvqNes8kp6HHvz+f3y1bvWar+1/OHmjsHVJr2khtMZSndf4vJJ8MZh5kmrulNQ6Z7Zpi73DyeS3bCOMDtbcPUZNt/pvNxv4c/J96JRT+UZ9bI2nJt0Z2yz8uNne/msH78yGQfZQR0Xsr1volL9df6u3+t2PDlAdTmQOGnm1SeRnU6/dLJ/to9b0k3QVX558LshBV5sMFp61p4NbPNIbB7ke7664QeNkzfc3+HEyXniKKrNpsz2f/2BjxknmEuwvzQ2wwY7ubmFqLQz9fh0z3hoXUEm2uey+/GrLkfiK1kGmO5hajTbGMlViDnaPcuU/P/s9HbHzMLaFgJz09g909/ZSGhmduU18+vSpaZa8vLy0tLSMjIyIiIijR4+eOnXq6tWrly5dOnPmzLFjx7y8vOj4vXv3srKycnJyCgoKioqKKioqXr169ezZs5s3b5JNUlJSkx6oIK5EKpqrA1XGdC0BAFgRvPJZJ3yyzzH6nHk+HnjUreMkKd3JrmJvSkr5hc30vLsodN8qQjatWecg9RkGMz3WCB7rej2HtzccBfVvjnMiM59CadENMT+Qx6JVNJgXrtlP3s254va3fyXPZN0f7X/wiCpsHZ3/VJPCunZOcQLHnXOJN9t/fy5nZqhkejAu4td//HrWSxwdbGA9Ny0nua/wFJl99f3Z7BlPsrs07ghz4vc39Pu5YGUxOy8maKbMBEngAtzq0m0tVy8ysXSr0Q56Ozo62tfX1/qp7d27utKysuqat9TWS90EwIKg8UCjgsYGjRAaJzRaaMwgxC3QhyVKtxo96i0v4LZ1dE2wqEzIQPFp+3U2X3lmDoiOv76689svV9t94+DqccLV4Vs7m68cjyTUDmtbDZeFOzFffeuw29Njt+M3X6370uHY7WotK5oH2KxeR4k81J9/9/35hy1/ZD7aOSV8WOqLM462205UH98i0WHFh9s77WxWfx/ZIDT7PrJWaDT8wpNsfrjNX8orX7rS06+M+tiWsNNm9c7bLcKP62yc4ttE1XBiOuiFqOl5WuKdVq9zuFGr52sxw221LxLuVWh1d8+dvaIW0NUmiuH3ZfduP9HutbKQTavXOSXwVS4+vVoynBSvL25aZ+MY9VZPjYp8t9is3nL61dwVGlNJrrmcYrXqM5zj+aXkoGrg5WmqwKaQCoXuGoClo69/oKevnxI549yR1tbWj7PU19eXl5eXlZWVlJQUFBTQv2lpab/99tt//ud//uMf/9i9e/fx48c9PT2joqISExMzMzM5s1evXj1+/Pjq1asBAQHh4eEf9UAFcSVS0VwdqDKmawkAwIqgyJd5VL3Q8bhhn4+iR7w+2Ger/aXXhmy67u1eve7Ln9N6hAcVxae/oued7wvtu937WNbBWM37EtxTfudt7afl8EvfTavXzXk+rIPx37E6vDXuETzn3gBjqI1yYP1hm41b/vug7+mDP9hvZD5+uTP+vVn7J9KhOzt+WgRWLxkX90vPlwJ3dTjzBJm5PZwdo++jv7dZvfn0S22P9gMzzGz23tMayWBlw02QmZnyrGhrTbqtxhykW40g6K1Qva2rqysrr6BEWS9pEwBLgUYCNyRobGjptghxC/RgodKtRpd6ywu4n9q7uLc/uOfTBLcgdzmTsvm2i92q1VtOF46Kv/qUG+zyr7ar163i09dbdgfntiu1zNqfX3L6V7tVArMN9q7BuR1aWXXXFT3Pff1JmPkzD3sy3hJcteyXrCN13Hamyng97e7rnU0fKu4H7/iaLuc7v5IRoZljdK326e2JLmR2unD2SKGf8R/Zc11uf9LKyuOZuC96Hx5kzsrVU//30X9bvc4psUP3t0al0adHqAX8isRtIjyiJ72N+LNW6SXk36/67dmIllnfo5/15kZXR8Psu8CSkXnKEleSba4dt5u1bX4jm4OP+sSn10Y6rlq92TzG28pKvQODXOI+kjPe0toqTB9bWijxH5s/fnxTXX0jMvKnXbucf/xx+9///vcffqDk5+9/5+7dyJs3r4SGXgwOvhUTExMbezYg4PKVK6IMhUnF3leVqgmuDv2DQyZvECQkJKtOoy+89D3v2Oejc0L7/Jn03d27btVXBx91GzJ7HbxZpx/1IdGFnqq2LtGvudOVfa8Tj3+3est39loVGyn0+47qY+/1tJn1OpSjH54H/u0ru+/sN895JvodDLHzg2RMUvbVFua+qBC0p7LjqdcWxtu8XGX66ulN0qHLeonbEz4IzVgXVzRaivzWCRzdukjHdav+7dJrcf56nTeklZgm+FW2kzRT5kVba9JtNeYj3UrUWyZyQn1DQ/nr13kFr8hBX9JWAOYPjQEaCTQeaFTQ2KARItJtLf2/IlgKLFe61Wirt1P8H1NT7Z09alMyVuK3ZZXNeqfEZvE3n+472a1dtdH15uv+mSOqjtzAbbY2a+39SsdmrTru7KQjG/ZGV/HX8Snv3Lb1q2y2+BSNifMU8fryJpu1tn6l8lzKouiIc1q7ykaaNm4PzutQaZs5JXSITk7cScY+RbOfi/yM/8ieuzPuk/DjjjhJb6jrox1s1pI3rLv6nxKcqCUDF9aS/fWlWYnXzgV67XZ0dPh2PXu9fiWCy2LbRHhklrHmqhf3bwYG+hza4eC4ZQPbVoK6lfrQEUm3lvjpya05gUaa7c6EJpX0u3kqKWq9uWpvT2iS5pXHtPzJZ/MNSyA3/YNDXOI+0oO+1Tjq6uqePn169erVo0ePHj58+Pjx4zt37nR1dXV2dj5w4MCZM2cuXrx45cqV8+fPG8iEX6khqgYAACwR7PPuYFq/9Bv2+SjxIqSMFfmRg2R/5Y0hI+7R/3O6jnLIuwt0tNX2Z3bfac6VPIib7rhu0DJb7xBYWid8trKlbNJVE7HzAz4b1ZuQTWtX2fmV6HKEzAPp0NXlErMurshZZf878K4am8+pPGkBTbd3rLJxvFkvf9WBRUMz5TnR1op0W42ZSLcaqXo7NtY/MNDe0dH4/kPlmzeFRcWVVW+GR0aWriGA2UL9Tr3PjIE3b2g80KigsUEjBLotmBeLlm41AvWW121puHd09c59XG4UpX5bbFaTm16mkHxXFbzZZvWWkDfiU/JO0fFtUR/YTxPka66zsb9cNaFtNZLvQ8e33mqepwLs6c6JnZ9/CXLRGe+8zmb13vCX+Xl8Kq7vFLcLayapcGeSi83qdT7Fs5+L/Yz/yJ7rEt+m++McbYnOq9c5J+lpKkW25+p1Nm5PBoy83I9Pjjms50JYbLB3dNhxyCfsQfhR+uhXKrpYrSNMSVVhOzZw7/rZfevg6LjHIzAqLnC7Vt3KfOhbvzJRmaV+0txoqJT52FNWXs9GPqeSuppL/6BiW15vG4IlY3h0bGBomJJqYuZO0d7e/mkhFBYWurq6HjhwICAgIDIy0tvb29PT08vL68iRI6dOnfLx8dF3IhXElTg5qebqMDQsHWoAACAnpYH08NoR/1HyBfew9siWOl3asM9fu0OPew3YkAun00+bY6A+Pz4s8Fxg4LmwxFLmQdmZ4rLOZnui2Ddre5MSw5oF3npWPzBbf7887obd+YDcD5tT+dL862462qx2jKqf52KAMVRd2azb/TMXWNdOy7nS5RLrcrRY92/20gaeuOlyEaekvjQArC5EM+Wp2ZmycCpt6mm9DJiLdKsRqbfsrmWDg4OdXV1NHz/W1NaWlpXl5RfUNzROTEwsUVsAc4P6mnqc+p16n8ZAU3MzjQcaFTQ2lOyOgVPQbYFBLF261WirtxzMA8lENCcxC2a/8yvVNYXojOdWXEq/YZcuOt1l3bK2RCd2faXUKvcU8xt7yjwqWX3UX9aucjIP6Vbf9UrNJBXuTOIWnsx+nllXa9RH9tydAumWPv4vHTOx0kBbvtl1MPD4Z6q/a4q+0VR767//8henGG6C9THqb2T8p5NPPyoEmvvMqljRxWq3ieKFF1XDduetKqGqzQ4DpzlPfWbVragKkvy5aq+nmvgUScegUZUUtd5ctTddrpLkqMj2Ylo+T/IFWGKk0m1XV9eCpFvCx8cnPDz84cOHycnJd+7ciYyMjIqKOnv2bHBwsKenp76zqCCuRCqaqwNVxnQtAQBYEQw8Osi85CFVaN8wLxv9+eY8YqeCXXL73RX9ouzUzJPX9mejf7IlJkp97JhXneazE7k67ILQv9yqE5txjofXs/l0aGAMdTf/IvFnzApu1a22dCt1iblVt9rSLbfqdvbS2Hx0jVu2BX7Q8YMHWNlwi5xEmHpCLw9mJN1qBOqtWq1WqVQKxTj5zD09Pa2f2uobGqvevCkqKckveNXY2EjfLkVzADOB+pd6mfqaepz6nXqfxgCNBBoPNCroW/VszGmr+a8IlgIrkG45RNKt9IG0DHy8u3eDzVp7r+yuSZ3fd8U7MxpZnuTbcVb/cr7bxXxoT3Rm3nvKl5w+/syDTndJ6ZrJ7bG7o4PjtVKRVd+DPXS6R/b4Ii9GBmauV1xDnWbOiV2io0kujCZYPPu52M/4j+y5LvHtWlltjWkRFfwmePMqm80h1XprNv7Si41lUaarMak71jOnV3Kfsj119NrgYzdRC+hok/qbjqtsdsSLalfNzEWdk/hWKWOl2zJRJUr9xLl9THKhOjvHiS/W+EqKWo/jzRVqq21RTeIc87zWS43BMjCmGB8cHqGkUk1wR/r7+9sWSEpKyvnz52/fvh0XFxcTE+Pv7x8dHZ2QkEAHXV1d9Z1FBXElUtFcHagypmsJAMDKgPWObCXuzbyPchb24Wt36HGfAZvxUj/KaovurLqeeDo6OpzNF5VO/putzXrPl/zh6vBtjg57Ej+KTm+4tVXbDyn1W888VRu0zTgXzu3JoOGrAdp0PXJ3cHQMF7tIgyn7WB3cfB9QrGun5QDrcolZF1fgEDKw7h/vfbGOnJ1XnvhKW6K2MiEjSnXPSsDKRTRTNvUkXk7MS7rVaKu3E5OT40rlyMhI/8BAZ2dX88eWd3V1rysri4pLXubm1bx929vbK3uLANNCfUo9S/1LvUx9TT1O/U69T2OARgKNhwk2CB10W2AMViPdCunsNuSbLxHjxX72NKlwSfyo30P6GLNtlc16saw22hDOyHm8LsZ5Wi7x2jLZ+LtrjKS79RY/H6gPYyLqOicJcpsczDtFEw/hLMKEmJd0S07tM+FkqCXR2Y5pz3pDHm1XigtNrtZvvVI2KDSbHHxzk1FIbefmV6z/ve+BsARuSGi3AKeTak0k2OrNSsAz+bfEM+UuWLqdbxAaVUmd0i037RTn/O7aVq1GAMsHPes52ZT+4I6QA7BQ6fbt27ceHh7Xrl0LDw+/dOnSyZMng1h+++23HTt26DuLCuJK5OVjvg4AALBkcL+YbvEpFjxBm26JXKPpya68mGsp77S8IHrSsVFuDeq7nDSs94nG6YDbQioFOQ/m+9iLHQlWSl7v9kDg1HDPdHJCRgX5SZ+q5uXCWRTvrkmdn8GXTKfbeonVdnNCLumW+wlBvNRg8Cl70PCwBysSmimberK+VJiddMvBtbuaD56gGB8eHu7t62vv6Ghqbn5XV1dZ9aa4pDSvoOBVUVFtXV1XN7PfjYztApYT6jvqQepH6k3qU+pZ6l/qZepr6nHqd+p9GgNckAQ1RFtgNNYq3S5zicryKw525EVtdvYOOh8kSjFlQ7N2Y+XnHRgp8BsX74jknPzcnIRw7+0bmS0snJNb53IrCWJys/vW2eN6QlZBflZShMcOZssLO5eEVkGpY+W+9uz2F25BZJadHOTGZL7W3r9cuZwXr5fuBEa69S8zxsw5qVt0NJnRW31LZj+X+Bv/kT3XJaFD+HGHr7+L7cYdvkyzU1v5s82+xbdkvqYaq7m0jd3Ia+M2t9Nsh54+tJXd2st225XqMd5OWRbEKOkO7jHZuQVUxP3wQw52Ls6SFuCua8MOb8oqnfvP15HKiMgbd1xKZU6k7vbdsXGTs4sDeerJfKuU+1Id/MtFtSvzF+Q/lHGMGYTfbveQDMLY8iGjKylqvbkLDGG2Z9mww58ZkzPnSsYkWC4m1eqhkVFKI6Mzo1ClUrUvkLa2tlOnTqWnpyclJV2/ft3Hx8ff3//06dPHjx/ftWuXvrP4l7qoaK4OExOTpmsJAMCKoSN1z0Z2s1OPmPvkQQXpeAxVh25mf6wNEjx5WTfD7lB6v4GslWX+zJLbSzX6TVqTmIe1naNbUFK2ntIZZnwzrpIF92O99fgbM09VW4dD58kzSY3x3LHRnFw4y4K6b8sqvjGzks67sRvK2fuXjc1/sulgXTstB1iXS8y6uAKHkIF1/4SuWvf9fRvZGcH1+4yDl5Pgz04czL0FgGmAdLvc0q1GsvxWqVSOjY1RMZyA2/yxpb6hobqmprzidVFxSV7Bqxcvc0tKy96+rW1u/tjV3TM0PKJkX6uXq6WALFCPUL9Q71AfUU9Rf1GvUd9RD1I/Um9Sn1LPUv9yoi31+Bi7IxkW24LPANKtLHB6nJ6krYKpu/NDXL6xmzPYsPVQRG63OMeOgksu3wo2Mt649Zfr+WI1jR5QNQke2+Y2Mt64zTO5ZshcbupmJd3SR2V1+A6+rWwd3BPqjJsfqYeqk705uXbm3G91tbO6NV2rL3ZElA/l+0tagBkAM9XYHj8z4VNWXXeey3+9g3tqS3OS80Kl2w7mFN2DkG9eIyqpR7plaEn13rpxbsvsb1yu5EtGLlge6FHPyaaUJmcduT5y/xbIuXPn7rKEhYWdOXPm6tWrgYGBdNDHx0enPRXBlcVrx5RM1wwAgBVGt5Z3tGGr931tN1ZZHsQuwEzln07KHG9m7WGoAVFWo2mMYV8iyRgyZKTRNOf4sgKrvtJnGCqP5qTDGZ/BJaJcZ8bKhmTBU9XuW+fwcrNx4SwNzlWbc1E2bvVIqp6nO02OjNIt0wJl4cL5BdMCDdBtgS4g3ZpAutUI1FuC3OiJiYlxTsAdHu7r6+/s6mr91PahqamuvqGm5u3rysrS8vKi4pKCV4V5BQW5eXkvcnNfvMx9/vLlTHqBZLo02wvUI9Qv1DvUR9RT1F/Ua9R31IPUj9Sb1KfUs9S/1MvU10yEhImJSVa0hW4LFgqkW1Oh7B8aomRYPFQrh1gzpWFXfsYMCzV0o6VFKtlmn6fddUOnMuca9oO5/I3qMnEdZobEMvjZRlZS39nGDF2w9IwqxjnlVDm7DJZcgs+Qbp8+fXrr1q2wsLALFy7cvHkzOjo6ICAgNDRUpz0VwZWlGFdypdMfpmsDAMCKRGnwcalc4puS4dJ5ON/MiIelchFPZCBipRaxVuUAACAASURBVDemkRMHsLKxiJny52HW0i2HcPnt5OTkxMQEtwJ3eGRkcHCwt6+vs6urra2tuaXl/Yem+oaG2nfvat7WVlVXV755U1lZ9fp1ZQWSeSTqC+oR6hfqHeoj6inqL+o16jvqQepH6k3qU+rZmZW2ExOTWGwLFgGkW2D1GFhGCoDlIo2ZQM5Ab2/vgqTbCxcuREdHnzx5kv6Iioq6d+9eZGTk2bNnvb29pcaUOf+qFqIlAAAAAABYHFY8U7YA6ZZjTsCd1XCVKtX4+PjY2NjIyMjg0FD/wEBPb19Xd3dHZ2dbe3vrp08tLa0fW1qaP/LpI5Lp0kwvUI9Qv1DvUB9RT1F/Ua9R31EPjrCKLfXpTExb9cxSW4i24LOBdAusHki3wCoRxkzg9VOFQmG8btvc3BwfH5+Xl5eYmHj27NmrV6/GxMQEBQUFBATQR6k9Zc6VQsUhWgIAAAAAgMVhxTNli5FuOYQhFGYW4U5OqlQqpVKpUDAy7ujo6PDICNVmcGhogKWfT8CEzPYCxyA7YqinqL+o16jvqAepH5lFtrPLbCHagsUD6RZYPZBugbXCRMbXXnirYd1WI6Xb3NzcgoKCmpqalJSUy5cvh4WFBQQEnDlzhv6+ePGiyJiy5Yvgl9zysRoAAAAAAID5Y8UzZQuTbjmmZ+E1XF7GZcIpsEouMU5pfFyhQDKjxKCcRaWa4GIicGtstRVbiLZg8UC6BdaPEmG/gHVC7gCvovIxZ8lhMHK/svj4+NevX1dUVCQlJd26devmzZsRERFhYWHXrl0LCQkRWlKGlC2XPx/lVqgXAwAAAAAA88eKZ8oWKd3yTAuYkXFnlVxGzGX1XGB2qAVMTYnkWii2QEYg3QIAgOUijHg7ORuIVqVSzavetrW1xcTEVFZW1tbWpqSk3Llzhz4GBwdfunQpNDTUz89PqNuqZlfX8sVR4osDAAAAAAAWgRXPlC1buuWZ1sMUMD/0ddayjRawcoB0CwAAFs2oYpxXb8mD4A7Oq95WVVU9f/6c/igrK3v48OGDBw8yMzMjIyPj4uL8/PwOHz4s1W0pc74s+sN0VwwAAAAAAD4HK54pW4l0K0WfPgjMBBOODbBygHQLAAAWjXC/MmEQg8nJySH9cW+fPHnS2tqqUqlyc3OzsrLSWMLDw+Pj40+dOnXy5Ml2Nr7t5GycBI1AI6bEa8QAAAAAAMBSsOKZstVKtwAAAOkWAAAsnYmJSaF6K9RVFQpFb2+vSLdtamp6+fLl+Pj41NRUfX19XV1dVVXVrVu3YmNjL1y4EBwcnJ6eTifymQjX2yJUAgAAAACAhWLFM2VItwAAqwXSLQAAWAEi9VaorqrV6rGxMWH8hNzc3Jqams7OTvJNe3t7e3p66uvr09LSnjx5kpyc/OrVq9HRUf504WZo0G0BAAAAACwXK54pQ7oFAFgtkG4BAMA6UKpUQvVWORujlkelUo2Ojvb19RUWFnZ0dIyMjPT09PT399MROt7Z2dnb2yu0n5qaFuZJaWJiUgMAAAAAACwTK54pQ7oFAFgtkG4BAMBqmFSrhUqrTgFXiIHA+sJlvFhvCwAAAABgBVjxTBnSLQDAaoF0CwAA1oR0qSwn4BopvHKnCyMkUBpVjC91tQEAAAAAwFJjxTNlSLcAAKsF0i0AAFgfk2q1SH7lNFzFuHJiYpK+5ZTcqalpSvQ3HZQqttKwuQAAAAAAwHKx4pkypFsAgNUC6RYAAKwS6fLbBaV5gy0AAAAAAADLwopnypBuAQBWC6RbAACwYqampicmJhXjygUpttiODAAAAADA+rDimTKkWwCAGSHjLUkD6RYAAFYGnIarVKkU48pRxTglTqilRH/TQSi2AAAAAADWjRXPlGXUSSDdAgAWi4y3JA2kWwAAAAAAAAAAYAVgxTNlGXUSSLcAgMUi4y1JA+kWAAAAAAAAAABYAVjxTFlGnQTSLQBgsch4S9JAugUAAAAAAAAAAFYAVjxTllEngXQLAFgsMt6SNJBuAQAAAAAAAACAFYAVz5Rl1Ekg3QIAFouMtyQNpFsAAAAAAAAAAGAFYMUzZRl1Eki3AIDFIuMtSQPpFgAAAAAAAAAAWAFY8UxZRp0E0i0AYLHIeEvSQLoFAAAAAAAAAABWAFY8U5ZRJ4F0CwBYLDLekjSQbgEAAAAAAAAAgBWAFc+UZdRJIN0CABaLjLckDaRbAAAAAAAAAABgBWDFM2UZdRJItwCAxWLMveavf/2rMWYaSLcAAAAAAAAAAMAKwIpnyotTa7WAdAsAWCzz3mj+Osu8lhpItwAAAAAAAAAAwArAimfKcmi2M0C6lZ/p6em2tvbE5HsRN6IoxcYlVlXXTE5OLlFxfX39rwqL6xsalyh/AObF8F3mr9oYNtZAugUAAAAAAAAAAFYAVjxTlk+5NW/pdnp6OvVR+vkLlxSKcX02U1NTKQ8eXggJValUy1k3fbS1tXue8vvnzj2itPfnw6Vl5XRFspdYUlpO+YeGXZc9ZwCMxHjddl71VmO90i0SEhISEhISEhISEhISEpIwmXqyvlSsCOmW022df9r7z517AgKDdaq3nG7r5OJKNhdCrphcvW1ofL/P7TAn1N6596C65u3HltYnmVnuHt50kK6Frkh29RbSLTA5C9JtDau3Gki3SEhISEhISEhISEhISEgrI5l6sr5UWL90K9RtKf3mdbqtrV1qNj4+fvlqBL+y1bTqbW9f37ETXlQNqhJVTPjV1NTUs+znO3fv37XX7W3tO3nLhXQLTM5CdVsD6q3GeqVbU1cBAAAAAAAAAAAwI6x4pmzl0q2Rui2Hmai3VOeEpLtUAb+zgWNjCgMGIVfC1Wq19Nvh4ZH+/oGBwUHDUXF5y8HBoampKc180q1CMU7GlFSqic+9OADmQcZbkgbSLQAAAAAAAAAAsAKw4pmyjDqJ2Um3C9JtOcxBvR0YHDx2wmvXXre6+gZ9Np2dXW6/HKNEf/AH6XrzCwoPHDrK13/n7v1RMXGidbsc1TW13MJeLh08fLyqukafdEvt5n3an4smwYVrCL50tbfXav9XABMi4y1JA+kWAAAAAAAAAABYAVjxTFlGncS8pNvP0G05TK7eVlZV/7hrn4//OQM7qkmh633wMM3JxZUumc6NuBEVfPnqnv0Hda7efVVUvHP3fjI+esIz7FpkaNj1A4eOHjh45G7KA6l0y0fd/fW4B2d88PBx+njoiHvzxxZ5rhmAWWS8JWkg3QIAAAAAAAAAACsAK54py6iTmJF0+9m6LYdp1duHaelUaPi1yAWdVVn1Zufu/fvcDr+rq+cPjoyM+p45T7lFxcTxe5r19PQeOX6SjLOfv+QP0gVSidz1CqXbwcEhdw9vMk5Lz+CCKhCTk5NJd+45ubievxBi8v3cgJUh4y1JA+kWAAAAAAAAAABYAVjxTFlGncRcpNtF6rYcJlRv76c+ohLpX+NPUakmAgKDnVxcX7zME33V0tJ64OCRQ7+6d3Z1c0fSM55S/sGXrooi4XKBGkTSbW7+K8o2MiqGF3k5xsYU3qf9DUd1AOAzkPGWpIF0CwAAAAAAAAAArACseKYso05iFtKtLLoth0i9Dbp4eUERDD6bz5BuudC3vxw90dfXL/pKrVZfCAmlDF/k5vMfnVxci0vLpPncjI4VSrec8U+uB97W1kmN4xPvkHFmVrbx9QRgXmS8JWkg3QIAAAAAAAAAACsAK54py6iTmIV0OzU19eBhGi/dHnU/2d3d83lZCaVbJxfXkCthooixSwQn3d5NSTX+lPfvP+zZf0hfeFyhFqxQKE75niVjOkVq+SI3XyjdUm6U54+79gVdvBxxI0qUTnr7LFRiBmBeZLwlaSDdAgAAAAAAAAAAKwArninLqJOYhXSrkSy8/Tz11lS6LVFYVEKFXg6NEMUoMEBJabl0ezEeTrrlvu3vH/jlyAlK9Me8+XDG/LpjnWmhMXkBMIyMtyQNpFsAAAAAAAAAAGAFYMUzZRl1EnORbjWLVm9NqNtqZpfQHjvhNTA4qM9GpVKVVbwuLikbGRnVLGzVLbOQ1uhVt8wS3b0HfqmuedvfP6AzjY6NyXPZALDIeEvSQLoFAAAAAAAAAABWAFY8U5ZRJzEj6VazCPXWtLqthpVlz567QEVnPH2mz6bideWPu/Yd9/AeGh7WGIx1S+1wOTRiMbFuqaDKqmrZLg8Ag8h4S9JAugUAAAAAAAAAAFYAVjxTllEnMS/pVvNZ6q3JdVuOwqKSH3ft2+d2uKHxvfRbqpLf2UCqYdKde9wRlWoiIDCYKvziZZ7IuKOj0+3wsf0Hf21t/cQdSc94SucGX7o6OTkptOzp6T1y/KQo8EJmVjYXFUGtVguNqW2Liksb338QZQLAIpHxlqSBdAsAAAAAAAAAAKwArHimLKNOYnbSrWaB6q2Z6LbE5ORkxI0oqsae/YdevMzj5VG6nObmj795naav3D28BweH+FMqq97s3L1/n9vhd3X1/MGRkVHfM+fJOComjo+cy0m0dIEpDx5OTU1xB1UqVfi1SO7ahdJtb1/fsRNelHNaegZvzBZXTWXpC7wAwGcj4y1JA+kWAABWDJNqtVKlUowrRxXjI6NjQyOj//LGn9K2+rBDzYmUknpLTV1HAAAAAACwVFjxTFlGncQcpVuN0eqt+ei2fH2uht+gmlB9du7ef+hX90NH3F0PHOJq6O7hLboKuswHD9PInq7Ux/9cxI2o4MtX9+w/SMZ+ZwNF1/KqqJjyJOPfvE6TZWjY9QOHjh44eORuygPpdmcNje/3uR2m478e9wi7Fkn2nr/7Uil0OpVo/F5qABiDjLckDaRbAACwdjjFdmhkVJr+r7KjovQvb/yh4QIAAAAAWCVWPFOWUScxU+lWo63eXgi5wm3tJWJqairlwUMnF1dz0G05qNqlZRXuHt6cgMulA4eOPn6SqVKpdNrnFxSSAW+8c/f+qJi48XEde5dV19QeO+HFW/563KOh8X1JablUuiXa2tq9T/uLqkFlQbcFsiPjLUkD6RYAAKwXfYqtAelWqOEGtj819RUAAAAAAADZsOKZsow6iflKt5pZ9Tb40lWdui0Hq94+CrkSbg66rRCVaqK/f4DS6NjYvMZ0pcPDI2Q8MDhoOBAtbzk4OCQMhqAPhWKcqwadBdEWLBEy3pI0kG4BAMAamVSruZAIwkRHlOQwTUzSt1NTjJfSquqnVDDyPqm3NLD96bb6MAi4AAAAAADWihXPlGXUScxaugUAWAQy3pI0kG4BAMC6mJqaHlWMSxVbTqudl1ZVv1TD/Zc3/nR8qWsOAAAAAACWFCueKcuok0C6BQAsFhlvSRpItwAAYEVMqtVS0Vaf8TSLvm+Tekv/5Y2/UL19P9q9NLUGAAAAAADLgRXPlGXUSSDdAgAWi4y3JA2kWwAAsBYmJiaFuq1UtFWpVKOjowMDAz09PZ2dne0s9Ad9pIP0lWifAG4FrlC9TegpXsYLAgAAAAAAcmLFM2UZdRJItwCAxSLjLUkD6RYAAKwC4XrbkdEx+sh/pVarx8bG+vr62o2AzMhYLTi9VdXPL7/9n1V+CH0LAAAAAGChWPFMWUadBNItAGCxyHhL0kC6BQAAy0eo244qxoVfKRSK3t5eY0RbIXQKnchnIlRvKeUNNSz7JQIAAAAAgMVixTNlGXUSSLcAgMUi4y1JA+kWAAAsnKmpaZ267eTkJN3nFyraCqHTKRMuN6F6i13LAAAAAAAsESueKcuok0C6BQAsFhlvSRpItwAAYOGMKsb5OAn8QZVKZWSEBMNQJnwAXKF66/YhwUSXCwAAAAAAPhMrninLqJNAugUALBYZb0kaSLcAAGDJCEMl8PFtjdFtW1tbP7C0tLQYr94WjLznwyYg6C0AAAAAgGVhxTNlGXUSSLcAgMUi4y1JA+kWAAAsmZHRMU63VYwruSOTk5MGdNu2traqqqrnz5+npaWVlJS8fPnyEQv98eHDBwPqLR854XxbBh82wXTXDQAAAAAAFowVz5Rl1Ekg3QIAFouMtyQNpFsAALBYlCoVv+SWPzikP75ta2trUVHR69evGxoaWlpa+vv73759m5+f/+LFi5SUlPj4+KqqKn3nco8MDRs24f+8u8qpt+fbMkx06QAAAAAAYMFY8UxZRp0E0i0AYLHIeEvSQLoFAACLRRoqQaFQGFhv+5plbGxsYmJifHy8oaEhPz+/pKSkpqamrKwsMTHx0aNH79+/15cDZc6VktRbioW3AAAAAAAWhxXPlGXUSSDdAgAWi4y3JA2kW7lRdjeW5RbkU6pqVar1GKnJqjyfNStrHNKbl5FmRL8RhZoHyn4ad8qFnTK04FNkQK0coqr26ymX/dbMm1oK0/hj85sBS2FiYlK05FatVvf29urTbcvKymJiYrh1tfTx+fPn4eHhoaGhubm59FVBQcGzZ8+uXLlSVFSkT7qlzNWsRizcr6xg5L1JmwEAsMJQDzWUsD5Pbk3LvN7B2BD7NNedZp7jSiNsdJRe3tBvoJLKlirOrKC61VAtla01Rnl6wDAzbpskLbv/uAC4Opt1FYF1AunWGCDdAgAWi4y3JA2kWxkZa4zet3GVzdq5tHFvdJ3EIWtOPeawXmhm6+Cf3S3JzUgzdXf2aUfbeQs1F8p9qYbOSdLr0E93gvNCT5GDqiubmPZ0SejQ9W2JPzW1b8ky12mRsI3vX27qagDZUIwrRVFux8bG9MVJqKyszMjIyMzMvHjxYlxc3OPHj/Pz88+ePevp6Xnnzp2CgoKioqJ79+55eXk9efKE7PWpt1QEV1ZCTzEn3f78Pt50bQAAWFl05/g72Al8HjvHY6mtBuzL/NdqOWZaaeYR353sot9G61kvLt1mvYN7Rovkd1xlXcyejVqZbNhxvVr606nEbySzMui3n4W+TnROXm7/0UiGamYHyfK7uGDFA+nWGCDdAgAWi4y3JA2kW9novu+yfpXNxj3h5S3s7/wtuVe2k09mdyhduChjLMeTnH67beezGrsZs+7qZHdmGmAfVKZcuJlGWea/hWYOW4NyGjoYs4asoK3MiS4JhiYyJsRipNsy/xndfGusrqaEdAvMAH7J7dTUNHdE5+5k7969e/Xq1ePHj+nb4eHhR48eRUZGpqenFxYWFhcXZ2Vl1dXVdXZ20r9paWmBgYFhYWH19fX6pFvKhCurVdXv15xGpY+MYi03AGA5UJYH2dODzN49oaqbHK3uxpzz2+hhvd4zR+8v1kN1M0tftVOq5xZyltzTWZ1U2VquyyYnYg+5AVsi6mZLL/FnSt+44xLnmzWXR7szv53bumVoya2tSc52rKYcyzqEHY3ZITs2MNW+Uq0l8nJ+I7lwBazf2FoW687kvzWmwdLe6TEHqkM3r7Jx9E0V92OZwSXPpmF21YWtg6M9pFtgCiDdGgOkWwDAYpHxlqSBdCsXNcwizU0hNVoHG2O20sHQuYPsogDxHINbKeCWNrRQMyqUfL6tUY1CM25iY+tdYH6+qsZipFtlASOd7/P33cpMolqkBpBugamRRktQqVQimbWurq6srOzp06fp6en5+flNTU3Nzc2RkZEXLlzIycmpqamhp0BHRwcdHxwc7O7uLioqSkpKCggIePHiRVtbmz71lgriShxVjIsi7QIAwJLRGr1V8uP0WIHvprWrNolU0flgX6yxD60xZNOfukdLltVV+swv6JsvVc0dyfdev8pmi2+JlhfWkuxia7N2T+qcC6fM9aYj9v7lQruWeMbTE5oB41Bme6xdZeNfZup6GEH3fReq6sbt4eVD6s/wigGQAUi3xgDpFgCwWGS8JWkg3coEJ7aeF8tirE/mksr7ZOyLe5J38FuTttus3RAyd7JxZuz0wM47X6zRdmeHB50PydEhOJoe3U7qUGP5/dig80FB52NTJSHh9Ei3ytbq1BjmlPCkfEl4OHYFTTkTAk/ZWpZ8fSZnnaEPdKHM8aa5k2eOsiV2GzMlk07u9Ei3Q40FCeHMhUSnagfgU3ZXFzBR+bq155bdNWwUvG6BKRMdL4fLJCK5QBxHr7+R7JmD6qGGLL2XP0NHDdeqTD6MiR7p1siW7ChnaxWDdznNBKVKJYqWMDo6KhRYKysr8/PzKyoqPn78+ObNmxcvXtTW1jY3N+fm5oaFheXk5NTV1Q0MDChZ6Nze3t7i4uJHjx5dv379woULdJY+6ZaMRXVQzoq5AACwVDTGOEh/I9do2Cf1es9c43+wHrq/T/JSlITqkM2rbLbMOQB6StcMZbgJfy9X5njSo3afVHytubRJ+GMwJzXuvS+qA/fLsc7fjIEhWF/RMabB1PUwgu777u73Z+ZeUq9Y2VJekF/OuMJDjTnRQYzflc37ZuruGYctNkd3nGXGh0xlz7qekCX2OQHggXRrDJBuAQCLRcZbkgbS7ZLCefAec6tnG6IcV9k4Rjdqm5X429qsdb4357kZZ1Z+nvz70wVLVPelQeKkjtVE7NAOEGyz3iFIuAhFh3TbkuauHWxu7YZ9MQ2Cl7ZZJd0loSBVO9jcxj33jAkkwU3qWE28I8lZ51RNKt1KL8TO0Tdnrtbsipv1wl7WdKQ62621FSj7mtYMUYBjcZ25crPKz2uZiVqMUFaHs69nCiIg328tkEq3RrZk9L0rs2Z6gv+CZYcPdDsxMckdGRgY4NXVxsbG3NzcpqYmtVo9ODiYmZmZlZWVnZ1NB9PT0wMDA+/cuVNZWVlbW0s2ZN/V1fX+/fv8/PyMjIyUlJRDhw5VVFTok26pIK5EfuUvLx8DAMAS0X2P+Y1cx/sunKhqeAmtkM9Zcjvz/NUVOJV1bDZdqeY+sW6DrhdcWGfG5lD6TI6sC6djuSUn6fJmwEjESyXMmjlFVSrdzji9+ewybd7N2xrbqGnV9mntHM9rr+zW4UPabbtUhacz0IG5zJSXABl1Eki3AIDFIuMtSQPpdikZSjskej9uVq1LmtvUYqgmwlmy+sMYM3Z6wMwixhrv+++1Z/25DfZ7L2WZYVgvHpGTOhPozTmqZoi7UnV3tvcW7eUzYumWCzZnuy0on7tQ9VB1MhMeTjjFYgXHzZs2bfGk1mBzHqqKYWPPzbPKhoGbsM2soOFkXP8y0coFkXSrbk1gLmTLseSZC1G2FrAB+AQLdsiG6UHv7BlhlKZn67VevVSWn7dnwurxdaZOj2ay3RbN/x9ly6Xr4ltM2ZrjyZ4lXBrMDTxbl5hq7mKpiaJcbLdu26o9nzS6Jdfb2jGXxiwOVivFe20DEyENVtDT08Orq8XFxZmZmdnZ2ZGRkcePH/f19b127VpoaOi5c+fc3d1PnTpFxx8+fPjixYu8vLzS0tKKioqampqysrKXL1/GxMSQTUpKij7plgriSqSiuTpQZUzXEgCAFYHuF5IINfvDpCjgrF4+a8mtZiYulkNUo9iU+5Gef1WfXYQr/M1+lsZoR0H99Sq8mpb4Hbpf9wEG4JrdOzU//NDWb9ez/vAOz9hys192qke63bTZnnyzmaHCuXkbN2yc9Q/VypYsby4s8tzq7LFyX3t2k4xc3u9NOsacuE28EAQAs5kpLwUy6iSQbgEAi0XGW5IG0u3Swe1TIdluQll13ZncSrtvHfZ4e+5x/MZura2De0Kd2Mmf36w8yNZmrVt8BuurfevsEXTeY0bAFYVOMye0nVS1sruxICG1Rqu2rHIqmM+IpFs22Jx4rw9NdegW4VSHiwssigI8lLqXC4NguIrcq5e8LMueJXkTU1u6ZSPWrdcKQ8xcSIabnfZkkot9zPYOF5LYOV6wopZ9zS0hS3tdMLs4aG6ZD1uurWhOWKU9n1Szb2Vu8s/X2jtKmX968yqthl1AS2rVE5gHI6Njoj3KOjs7eXW1qanpzZs3VVVVr1+/Li4upn8zMjJOnjz5X//1X//85z/37Nlz4sQJb2/vmJiYO3fuZGdnc2YlJSWZmZkRERHnz5+/fv26PumWCuJKpKK5OmCnMgDAUsNKt/75OsS4hQQM/bwlt4S63NdO+mydiU67yoaPXsWtrhXvFqss8N9ks3but1hWut2u69nKPXYtLZi+qWFXXrPvGG3Z/ou/7y87OH9Yaw2EOaJHuhX9RFHA+n5am1iIV2dzAb58RftctLK/EOgI3wFWOmYxU14aZNRJIN0CABaLjLckDaTbJWLm12+x7050515x/lbrhSZmqWyBeMYxvxmr4rGOqeANd3Xr/aPMqlWxjGguGDG/Gss5ZkC6Zb1zHW8sssf5WRA785FEnKjRlkF1wwqawg1POClZpJZqSbesAy1dmTu7aYZwnskKo9ui6xqZUpyNmFHUXXeQSLdi9ZlbbMK3GNsUOlYGsZcvMjOuJXdIhzEwOaI9yqanp0UCaxsL//HTp0+1tbVRUVG7du368ccf//73v//AcubMmZSUlOjo6LCwsJCQkNu3b8fFxZ07d+7q1av6pFuCitNAugUALB/KfG99+1AZL91+7pJbFm6rMa03WphXVbbY22tVjHujZZW9d/bMGy3KltygrXbr7e03z0lyzcxPuTodEki3n4N6qKGkIL9K0J4zb3HNJ9ObGD3S7fYkrWDHuoJ1aC9CZ9d081E75kD8DaAb08+UlwwZdRJItwCAxSLjLUkD6XYpmH19XrS/sIaN1GbLhhOtnot7MPNmvdDYKDNOup17AX+WsRwz3uNC1/yKcbjZjbk89jo4MuuLVxmQbtmr3voLu6eZMHm7CHXJmVi3otcq+RATBtCxD8lQupvE8dWSbrm321w8g8S1ctsqWTrBRUWwW2+r7xU2ZWt1LrPFhO8vOxwct3DxakXSrWRGp73/GGcjjYHMvdSpbfaZLQnMgHmlW300NDQ8e/YsLCzs2LFjv/76q7u7u4uLy969e3/88ceff/757NmzwcHBoaGhgYGB80q30moAAMASwWpVOkUoY6VbZYn//EtuWVdBvOR2NoOyIEdBBNKZePT5/mJNueXeXq1wN5tZ7AAAIABJREFU82xI+gbh85SLpK+rJpBuZYN7CUnHL+vmg95Yt1qDeX7pls1H1+4XbPwNyVIGsOKBdGsMkG4BAItFxluSBtKt7Mzotrp2xOKcSMkr6pqxAl/hvsNGmnGLKHXEU5tZ7KlrZYrJETupgm2yNto7Om7/xT8i9bqBVbdDaYfYBciODo66UvhipVt2rc1anUkrZrGWhMrNDb7VXSVH9/RuXUU4Xm+QrNKd21uMzW2PR1B0fND2BUq3XBPpmvXpMPvMlgRmgDTWrTBggjEUFRW5uroeOHDg3LlzN2/e/P333z09Pb28vI4cOXL69GlfX199JyJgAgBg+SkLWq/7LRDJlrB6YN2JeZbcKsv8dS+55RlqLGB+bA4KOh+eVMY8HLvvu0iWSRIdNfdjud9EY7Ibh2brP/siTneqsx6tTfdGteCzqA7dbN4+jEzSrejtKwH4JQDoBNKtMUC6BQAsFhlvSRpItzJDTj8Tr8A5Wdcb5vp3pcg/zXhg97sXYsY5arr8ftZMZzw4k6PtpLIvDDIvFTYrxTYGV93OG6/2M6XbmSix0vWz7ltFO0FLV906xjTMe/UaRnBn9gGz37JJEkCWDZjLvonZLbg6UZ2NXnWrI2KGaFwtpiWBGWB4mzIj8fX1jYiIePTo0Z07d+7evXvz5s3o6OiAgICQkBAvLy99Z2GbMgDA8sP94qjjsaVvAzFtFr3kVg9sDFxbXT6bNiJJjvU3dHgO3Is+3tnmumWBZcHq4Obsw8i66lbXuGVbAGGvgBhIt8YA6RYAsFhkvCVpIN3KCfcm3XrnqEbdLjennekQW7l1strS7bxmM+/pSxbnqvXNB5aZoTJmvUmG1joUbhvoWZdUmeOt49V+8doBbS+W/VY7oAGXs9anz5NuOfF0a6yOJT353uvndhfRiCVUdlnH3vvShTzirmFD3DJLfmhutl60jYlu97pGxzZl80i37Foe7e0s2GtgW3vObDEtCcwAxbiSk00nJia5IwMDAwuVbu/fvx8YGBgXFxcfHx8bG3vmzJlbt24lJibSQVdXV31nUUFciVQ0VweqjOlaAgCwMuB0VcnqWvZdls0G1smyLHrJbXeGp6OjQ4COZ6ut1l6mNRHbHB32SBbhsvuUCh2MMn/WrxAJzlx4/QVpx4A6J83dwdExQqyfs6GNzVoHl0u6ZRV/O36vPB52/wazDhkBTAOkW2OAdAsAWCwy3pI0kG7lg9u/wt6/XL+LyLlQLgnaTa6su85otXPRaY00Y1agSErklv3q1B+XG3ZaorXdLTvDEQR3Y51RrUAEs/XXK91qZkTPaO3GaYjatmrjlvOzZX2WdCvRZ4WU+NsKF/WIJFR2Le2m0wVDQueYCTq8/ps9qXx/sftQr3e+x1agI9XZbq2tSypfG7bOmy9VCXKYCb6xQOl2pom0Qy1z++bpMPuslgRmgFKl4mRT+oM7Mjo6ulDptra21sPD4/r16xEREZcvXz558uQFlt9++23Hjh36zqKCuBJ5+ZivAwAALBnKbA/J0605RuQaadTd+bHX79dp+WJyLLnldMBtl6oEOQ8VMM/WrTHCCEislLzeLVXgbHBPc9HmBKyYa+si2LBUPZR/mjlXIAQD46i7bi9qTOqcXKbTpb9kmxNySbczDrZoDjKUxR40643agGmAdGsMkG4BAItFxluSBtKtTHSncltSbHOT7FUlXHmqLAliQrvafevscT0hqyA/KynCgw1vaqe1ANNIMybC2r6NTMTSHd7RqQX5qTGeO5iPIufVZLQmOTNX4egWlJSdm5Pgz12CYM3LzJ5djsdic/JzC/JzUyPcHG2dXZwNSbeM6LlnI5/t7FnaV/050i232lffPiczsRRm1ziLJVRlWQhTh5mOyC3ITvbfTpUUzjBZrZby5yuppeTyBht3XGJzoE733bFxk7OLw4KlW0HLh6cyWaVed3NYbx9yxVNk9tktCcwAPlgBH2dWpVItVLpta2s7depUenp6UlLS9evXfXx8/P39T58+ffz48V27duk7SzUr1FLRopW/AACwhHCPLZuN2z1i7pNfEXSIdZa0XCP2PRg6GCSI+C9PlFuxV6OrdIaZ30q5Shbcj/UW+wN8iaznYOtw6HxyDu/CGVwBAPQx88P/TGNmJZ1n/ZlV9v5lZh2JXTbpdnZGsN7B7fp9xqOb9brNvQWAaYB0awyQbgEAi0XGW5IG0q1MsC6UvqS9Y1hHwSWXbwU7FG/c+sv1fKk0ZqSZeqgs9tDWjbNmdt86hxR0m4Nuy6KsS/LcupFvig1bve+LhltrhpbBjutlQwWGYt1yDJVHuwl3ed643T9HqFZ/hnQ7lLpXsgRYi5lXMrlVsbok1JYsTq6dSTR/iC6fzW1m/az2q5Gz8RNmI2BolFXXnb9dP7chtXtqS/PCY91yNKcKGpayymhR6zL7vJYEZgC/RZgw3G1fX99C1dtz587dZQkLCztz5szVq1cDAwPpoI+Pj057KoIri9eOKZmuGQAAK4xuLe9I6lcoy4PYBZhzq15nFiQaXnvIrYGdN1JBc47vDoNeDYf2s9X2W5eIcp0ZKxuSvbVcuPDyIbNx4SwM9VC1sDHJbfZIqjb3wBMySrfsjCDc5Rs7rRZogG4LdAHp1hgg3QIAFouMtyQNpFtToVYO9Q9RUhr20Y00I/ffODPTMMbUbUi/+6gcYg2GFrjQRDlkZOMsJ1xHGLjYZchhjvlafrZIc2xJMC/8TmV8vIKxsbHPkG6fPn1669atsLCwCxcu8DuVhYaG6rSnIriy+GgJCHQLAFhulAafbsolvikZLp2Hc+GM8G3M2oWzNFZ6Yxo9cQArGQuYKX8uMuokkG4BAItFxluSBtItAABYJtKYCWq1ure3d0HS7YULF6Kjo7kot1FRUffu3YuMjDx79qy3t7fUmDJXz67wRbQEAAAAAACLw4pnyjLqJJBuAQCLRcZbkgbSLQAAWCbCmAm8fqpQKIzXbZubm+Pj4/Py8hITE8+ePXv16tWYmJigoKCAgAD6KLWnzLlSqDhESwAAAAAAsDiseKYso04C6RYAsFhkvCVpIN0CAIDFolSpRAtvNewzwkjpNjc3t6CgoKamJiUl5fLly2FhYQEBAWfOnKG/L168KDLmHhkc/JJbPlYDAAAAAAAwf6x4piyjTgLpFgCwWGS8JWkg3QIAgMUyNTXNq6h8zNnJyUkj9yuLj49//fp1RUVFUlLSrVu3bt68GRERERYWdu3atZCQEKElZUjZcvnzUW6FejEAAAAAADB/rHimLKNOAukWALBYZLwlaSDdAgCAJSOMeDs5G4hWpVLNq962tbXFxMRUVlbW1tampKTcuXOHPgYHB1+6dCk0NNTPz0+o26pmV9fyxVHiiwMAAAAAABaBFc+UZdRJIN0CABaLjLckDaRbAACwcEYV47x6OzU1zR2cV72tqqp6/vw5/VFWVvbw4cMHDx5kZmZGRkbGxcX5+fkdPnxYqttS5nxZ9IfprhgAAAAAAHwOVjxTllEngXQLAFgsMt6SNJBuAQDAwhHuVyYMYjA5OTmkP+7tkydPWltbVSpVbm5uVlZWGkt4eHh8fPypU6dOnjzZzsa35eMkaAQaMSVeIwYAAAAAAJaCFc+UZdRJIN0CABaLjLckDaRbAACwfCYmJoXqrVBXVSgUvb29It22qanp5cuX4+PjU1NT9fX1dXV1VVVVt27dio2NvXDhQnBwcHp6Op3IZyJcb4tQCQAAAAAAFooVz5Rl1Ekg3QIAFouMtyQNpFsAALAKROqtUF1Vq9VjY2PC+Am5ubk1NTWdnZ30IOjt7e3p6amvr09LS3vy5ElycvKrV69GR0f504WboUG3BQAAAACwXKx4piyjTgLpFgCwWGS8JWkg3QIAgLWgVKmE6q1yNkYtj0qlGh0d7evrKyws7OjoGBkZ6enp6e/vpyN0vLOzs7e3V2g/NTUtzJPSxMSkBgAAAAAAWCZWPFOWUSeBdAsAWCwy3pI0kG4BAMCKmFSrhUqrTgFXyPS03pC1wmW8WG8LAAAAAGAFWPFMWUadBNItAGCxyHhL0kC6BQAA60K6VJYTcI0UXrnThRESKI0qxpe62gAAAAAAYKmx4pmyjDoJpFsAwGKR8ZakgXQLAADWyKRaLZJfOQ1XMa6cmJikbzkld2pqmhL9TQeliq00bC4AAAAAALBcrHimLKNOAukWALBYZLwlaSDdAgCAlSJdfrugNG+wBQAAAAAAYFlY8UxZRp3EXKRblUqVdCdlz/6D/9y5R5bk/NPeoIuXOSUIALCkyHhL0kC6BQAAq2ZqanpiYlIxrlyQYovtyAAAAAAArA8rninLqJOYhXQ7PT2dkHRXLtFWmHz8zykQDQ2AJUbGW5IG0i0AAKwMOA1XqVIpxpWjinFKnFBLif6mg1BsAQAAAACsGyueKcuok5iFdDs0PHzcw3sppNtde93e1dUv/xUBsKKQ8ZakgXQLAAAAAAAAAACsAKx4piyjTmIW0m1//8AvR078c+eeH3ftq6yqNsMMAQAGkPGWpIF0CwAAAAAAAAAArACseKYso04C6RYAsFhkvCVpIN0CAAAAAAAAAAArACueKcuok0C6lQe1Wl1d8/ZVYbEo0UF9wXbHxhRnz1/cs/9gaVnFMtRweWh8/+HAwSMnvX16+6z2vx+QIuMtSQPpFgAAAAAAAAAAWAFY8UxZRp3ETKVb/siCkvT0ZZNuFYpxH/9zOmvl/NPes+cvtrW1i055//7Dnv2HyCD8WuQy1HB5uJ/6iK7IycW1rOK1qesClg8Zb0kaSLcAAAAAAAAAAMAKwIpnyjLqJJBu5YGTbn9yPXA/9RG/5PZZ9vMLIaE/uf5MNaF/C4tKhKdMTk4m371/8VKoNS1QpWuhK6LroqszdV3A8iHjLUkD6RYAAAAAAAAAAFgBWPFMWUadBNKtPHDS7Z79h96//yD6SqVS3YqNd3Jx3ed2uKHx/TJUBoBlRsZbkgbSLQAAAAAAAAAAsAKw4pmyjDqJmUq35pbhvBiQbonp6emEpLtUn7PnLqhUqnlzm5qaGhwcoqugf+lvfWaU7fDwCJmRnSyrXCkTyooypGwpc31mo2NjZENJpZowPvOF1pYrxbCxkQ0FlhoZb0kaSLcAAAAAAAAAAMAKwIpnyjLqJGYq3Y6Ojd1OSIq4EbWgdCMq5hMbUtbcpFtiYHDw2AmvXXvd6uobDJyiUqkePHy8Z/9Bfikx/Z2R+UwkpNLH/ILCA4eO8mY/uf6cmHxPqAtzsXSpCNE+aTrLVSgUN6Njd+7ez2dImYvi1VKhVdU1dBXCML6XQyPGxhSGC5XWlgqKiokbH9eqGH9uW3tHUPBlJxdXvgXSM56KlFkjGwosDzLekjSQbgEAAAAAAAAAgBWAFc+UZdRJzFS6taaACTw3o2OpSndTUvWdMjk5GXEjilMhL4dGpD5KD7kS/pPrz04urhlPn/H5TE9PP3iYRgedf9pLOdApwZevciLm2fMXeSHVeOmWTvE7G8jJtdduRD1MSz8XFEyZ79y9v7LqDX/iq6JiOsIVeu/+w1ux8Vwjn78QwkvG0kIN1JYKlcq+v3me8jzlRwZkRsbuHt7cvmcvXubxlkY2FFg2ZLwlaSDdAgAAAAAAAAAAKwArninLqJNAupUHY6TbwqISqlJo2HV9p3Da5a/HPLq6u/mzGhrf73M77O7hPTg4xB2prHqzc/d+Oviurp436+7uOep+UqhdGi/dFpeW0Ymn/QKEQion1AYEBnNREbizqD3zCwp5G07zFSq80kJ11nZkZNT3zHlqjaiYOH6dLHeuSNKdmpq6c+8BHfQ+7S9SpedtKLBsyHhL0kC6BQAAAAAAAAAAVgBWPFOWUScxU+n28wImUPrQ1Kwzw6XGGOmWakL14WVN6SklpeVU58uhEcK3/unv3r4+Pt6rWq0OuRIuWoXKUVVd8+sxj7BrkZyx8dLt/dRHwuXAHJRJX38/H6aAa9JDv7pTZYRmwyMjBgImqFQTAYHBOmvb0tJ64OARyrCzq1t47j63wx9bWoWWfX39vxw9sffAL03NH41vKLCcyHhL0kC6BQAAAAAAAAAAVgBWPFOWUScxU+nW3DKcF2Ok24bG93v2HzQg3dbVN+za6yZaoCqis7PL7Zdjvxw90dfXb7hKxku3ufmvnFxcj7qf7Ojo1Jfb2JjC+7Q/maU8eGhgQzBRoQZqq1arL4SEUh+9yM0Xnuv5u+/o6KjhChvTUGA5kfGWpLFe6RYJCQkJCQkJCQkJCQkJCUmYTD1ZXypk1EnMVLq1yoAJ3FpRUQgCnbFuGSH1hGd84p3G9x9Ey0j1CbJSPiPWrfNPez1/933wMK219ZNUn+VCKJDZPrfDoeHX6XKE6211Fmq4ttxqX/p3oRU2pqHAciLjLUljvdKtqasAAAAAAAAAAACYEVY8U5ZRJ4F0Kw/GSLcP09KpSuHXIg2colKpHjx8zO3ixaWdu/ffjI5VKGZEUk7/5QPmGsB4JZQ9qKBSOGWWS1QHqgm//5iGjUhQVV1z7IQXb+Pk4up92r+l9ZO+Qg3XlpNu+W8XVOF5GwosJzLekjSQbgEAAAAAAAAAgBWAFc+UZdRJIN3Kw7zSrUqlOnvugjA+gIFTpqen+/r7X7zMuxByhZNT/QOCjFnHKmRBSijH1NRUR2dXZlY2GTj/tJfKvR55S61WSy+WWjXq1u0Dh45yi3C5EMPSQpdo1a0xDQWWExlvSRpItwAAAAAAAAAAwArAimfKMuokZirdmluG8zKvdPu29t2uvW7CXbmMWahLtHd0/HrMg7+Qhca6PeV7VrQQlWucecutfVdHNvsP/toqWFQrQqVShYZfp3a+GR0rLNSYWLfT09OXQyOksW4XJN0KETUUWE5kvCVpIN0CAAAAAAAAAAArACueKcuok0C6lQfD8mJHR+dR95NUn5QHD6enp/Wd0tPT+yz7uUgqnZycDLp4mc4tKS3XMGrpREBgsJOL64uXeaJSqqprfj3mEXYtkov6ysmm+9wOf2xpFZrlFxRSs/DlUn3a2tozMp9RownNhkdGfvM8xZuNj49TBQqLS0SFZj9/aSDogYHaUpu4HT4mlIaNl26NaSiwnMh4S9JAugUAAAAAAAAAAFYAVjxTllEngXQrD/qk24HBwQcP0/b+fJgq43c2ULivl/SUpDv3GBk0/LowwmxD4/t9boeFZpVVb3bu3k8H39XV82a9fX2/eZ5ycnHNePqMO8KHaPA9c35kZFTDqrQVlVUHDh0VSrdqtTrkSjiZ3bn3QLg1GbcpGb9gtq6+Yddet1+PebR3dPA2/P5mBoIe6Kwt1YdqRSdGxcTxWrbx0q2RDQWWDRlvSRpItwAAAAAAAAAAwArAimfKMuokZiHdDg0PH/fwXmhk2wVFv11qOHnRycX1wKGjh464M+lXd37XLzp+IypmfHweRbK7u4dbnPvrcWbxbMSNqPMXLlEmdHpkVAwfc3Z6evrBwzQ66PzTXsqBzIIvX+U27Dp7/qJQHS4uLePqQP9Sffa7/UpnxSfeOe0XICyXEz3pq9+8TlNulLhYt5QePc7gbCYnJ+k4t30ZFUd/h4Zd52Ldnjj5e2/fzH82qfxqoLYiLdt46dbIhgLLhoy3JA2kWwAAAAAAAAAAYAVgxTNlGXUSs5Bup6enE5LuWoF0Kyrd+ae9vxw5cS0y+lNbu75TRKtEu7q7z18I4bYI49KBQ0efPssRrofVsPuJ5eYVcMopl3bu3h8VEydSh6lh8wsKebM9+w+mPkofHhmRlvuhqdnzlJ+Tiyuf4a/HPcoqXvNLYjXsMt6kOymc6soXeu1GFLekl0On/Cqqhr7aLijWrZENBZYHGW9JGki3AAAAAAAAAADACsCKZ8oy6iRmId1qWFkwLiH5J9efLVS6lReVaqK/f4DS8PCIUDwVQV+RAZkNDA5y8W0NmA0ODs0rayoU41y5o2Nj+mwoE8pq3kI/u7YLwsiGAkuNjLckDaRbAAAAAAAAAABgBWDFM2UZdRJzkW5lgX8339KlWwAsCxlvSRpItwAAAAAAAAAAwArAimfKMuokViXdaiTqLaRbAJYBGW9JGki3AAAAAAAAAADACsCKZ8oy6iTWJt1qtNVbSLcALAMy3pI0kG4BAAAAAAAAAIAVgBXPlGXUSaxQutUI1FtItwAsAzLekjSQbgEAYMUwqVYrVSrFuHJUMT4yOjY0Mvovb/wpbasPO9ScSCmpt9TUdQQAAAAAAEuFFc+UZdRJrFO61cyqtzt374d0C8BS8/+zd79PTd373+//kXNDZ5xhzpHLG8zsc65+r68z3mDGa4YZbnDGM3v8Xl4tLXUj2lL6S+lGpLUUf2IVRaTUirDVglsp1VLUQluaWKVBpVCLYKWkFhsRjPwKEMz5ZK1kZWWtlZBAQkJ4PmaNA4tP1q/ErM965ZP3iuBbkovoFgASnZzY2kfH9NP/YXlXM/33n0vIcAEAABJSAl8pRzAnSdjo1iWlt5e++rqzqzvWGwIkuAi+JbmIbgEgcQVKbINEt+oM9+CfV2O9BwAAAIiYBL5SjmBOksjRLYDFEcG3JBfRLQAkohmnUy6JoJ7EHMfU1PT0jPjr7Oxz0cw6NSwm8+j9uqGfDv55dcO9CgJcAACARJXAV8oRzEmIbgEsVATfklxEtwCQWGZnn49NTOoTWzmrnZN1alif4f73n0vE/GhvOQAAAKIqga+UI5iTEN0CWKgIviW5iG4BIIHMOJ360HZ+i6ob+um//1yiTm/vj9kiu7UAAABYTAl8pRzBnIToFsBCRfAtyUV0CwCJYnp6Rp3b6kPbqampsbGxkZGRoaGhR48eDUrED+JXMVP8acr/IfIIXHV6e+7xzUXcIQAAAERSAl8pRzAnIboFsFARfEtyEd0CQEJQj7cdHRsXvyp/mp2dHR8ff/LkyZ8hEM1EY/EQ5eHWqWFl+O3/0/kRpW8BAACWqAS+Uo5gTkJ0C2ChIviW5CK6BYClT53bjk1Mqv80MTERYmirCXDFA5WFqNNbMf1g7130XQQAAMBCJfCVcgRzEqJbAAsVwbckF9EtACxxs7PPDXNbp9Mp3ufDDW3VxMOd3tG76vSWu5YBAAAsRQl8pRzBnIToFsBCRfAtyUV0CwBL3NjEpFInQZk5NTU1PDy8kNxWJhaiFMBVp7e5v52L0e4CAABgnhL4SjmCOQnRLYCFiuBbkovoFgCWMnWpBKW+7fT09JxFEqxW62+SgYGB4C3FosQC5SWbR+8rZRMoegsAALC0JPCVcgRzEqJbAAsVwbckF9EtACxlo2Pjcm47MemQ58zMzAQZb/vw4cPOzs5vv/328uXL7e3t33///SWJ+OG3334LMvZWLFZe/oGHzUrZhNjtNwAAAMKWwFfKEcxJiG4BLFQE35JcRLcAsGQ5pqaUIbfKTHvg+rZWq/XGjRu3b9/u7e0dGBgYHh7+5ZdfTCbTd999d/HixbNnz3Z2dgZ6rHzKcEllE/7fX4/L6e2Bh80x2nUAAACELYGvlCOYkxDdAlioCL4luYhuAWDJ0pdKmJiYCDLe9rZkfHx8enp6cnKyt7fXZDK1t7d3d3dbLJbPP//80qVL9+/fD7QEsXB5LXVDPzHwFgAAYMlJ4CvlCOYkRLcAFiqCb0kuotuIczoGOs2mNjF19Aa5Afu4tatNbtY94JhnM8ew3R5osgdZ6OJx2PXbFhcbFqrx7uo3cwrr+4JsdMT20WltKcnJPmK2Oee7teFyuLfWEaXVjRu8LKO1rpA5Omtys/OqO5fUizCw6ekZzZDb2dnZoaGhQLmtxWKpqamRx9WKX7/99tsTJ06Ul5e3tbWJP5nN5m+++ebYsWM3btwIFN2KhYtVuPzvV2YevR/TwwBgmXHae9tD6EHJjE5G2rOSI4Q2BmsP2s3z9QbNXdZgW+mwdsvNLH32UPYexpwO42cwnk/48jbH9SYiMRHdhoLoFsBCRfAtyUV0G1G21pK05FUrVirT6rTdrdokzmm3nNi0ZqW6WUp2rS4cnLtZR7HfX/2nzDpb1Hd3TrZzmUbblpy+vb7bHn6KJ4Wki9rBtTXmSNtcYgncJGL72HFMerqzzg0ueLtDY6vPit7qLCWGr8yUjYuZTWs5WgqkzXi3OTGujycmHZoqt+Pj44HqJNy5c6e5ufnKlSsff/zxmTNnvvrqK5PJtHfv3sLCwvPnz5vN5hs3bly4cGHXrl1ff/21aB8ovRWrkNd17vFNObp9/f7Z2B0DAMuLtqMlzraN1iDtA5yM5MlzBpTOhgGbFbcHXrvo5uU3D+hOao6emuwUv4Ws2VTVNa7buPG+6q0pmmaWxDg/LbpAT2JmfRx0h43Yu70vkrjosWN5IboNBdEtgIWK4FuSi+g2chwdpakrVyWllTT02dyfog92n8tPT1q5KrW8W92s99QG0VFLfbfG0i8NB+g3l20SHffVmRdsYTaz93oG5PpPF4rcmxEX4ZQca+ZUqjavpb40N221e9dKOsJMYeWlBUlRo8BpbTlRWm0O0qmO4D46uupLKxuDjfCNrOhHt+nFjapXZmNNofs1vCopq05/obtIrK2VpVUtwS7zlxJlyO3s7HN5zpMnT/Rh66+//nr9+vWvvvpK/PXZs2eXLl06efJkU1PTjz/+ePPmzWvXrvX09Dx69Ej8e/ny5YMHD1ZUVNy7dy9QdCsWIq/LOjX8Uf9lsfbRMX0gAQCRJ3e0VqTmn+t0d7Rsfa0HNoiz7erC1oBnTnuPUU+prbFw/aoVyflNUlfJYe0watNamS1OZOsre7xrby9xrz1lU9m1Ppu7Y9ZRLXXzknL9e1zWusxkKVOu7Rhw9wb7Wo5In8SnHuvyO/fZGrLcG59RanY3G7ZaavPdy8+o6Y31N1SWoq7yddpehzyWOeiQ59hw2lp2S6+ctPRUolvEAtFtKIhuASxUBN+SXES3EWNvynVHeA1+35531t9yAAAgAElEQVRztBSIfnlek9Kpd3YUJ+v65Y6O4rWrVqw91uUKs5mRriOi87q+rDtoo0USIGx1WqX5G6rDe+nFIrqdW2T3cVFFP7rVL9xh2r3OfZndFn+XUkuNvlrC1NTU4OCgOmbt6emxWCxXr15tamoymUwPHjzo7+8/efLkoUOHWltbu7u7xVlAPETMf/r0qc1mu3HjRl1d3b59+7777ruHDx8aRreivViRvMaxiUlNpV0AiBprdcaqFclZ59Qfv42bPV2jsN6EOo+t1X2yrjXcmO0Xyxqt3eWwlKxfsXJdWadvjqlIdPzWF7f7neYG6rOSVq7KbvRlvI62oiTdR7wDZ91DR9XNEBr5WzXx1kU0ZGvIkr6EdKLD7pS+P0d0i0VHdBsKolsACxXBtyQX0W3ESN2vrEZN90tKx1Yf6PD+PliXKZqVdGgebNotxb62MJvpaa80Yitg2OpoLXJ/i80zgtgx0GE2dWjHRUgjZTrkMnbSiJjG4nTf+FbvMIq5H+t9uPTrYMe5E6UHSmvUX0i093U01IqZpQdqG3UF6aShzT1BDmeI+xjKuoz3RWx9V2ON+yEn6ky6Qni+XXNYLfVVniUbprFOsS91laXu3W/odG+VNrod7hMH1l25z97XIm1kk/q9YbjPIm+G++HWOavWBohuXa6+mjTxEi31f22Lfbwmb1vVubY+TaGJkPZR2XhlN40Ol6+ZZqa8WMOHuOSShY3VATYvVhxTU5pqCWNjY+qM9c6dOyaT6datW7///vvPP//83Xff3b17t7+/v62traKiorW1taenZ2RkxCERjx0aGrp58+alS5eqqqoOHTokHhVo4K1orNkGhzfMBYBokU4fa49o89aB2g1hfiJob9i6akVyXlOQSrX6D8IDrN1lb84VJ7Uis2f1jtZC0X/bqg9fu8vWuj+SH/D8KkeNms/7xWxzYbK6GUIkdcbSa3pjvR0hsDXk5zd4+lf66NbXFbT3tUodj5oWpWfitHk6hLWtxnWW1d2Va92xq0+FeEd0GwqiWwALFcG3JBfRbZT1nkpfsTK9us/7u9ynL9B8tU/qcSaX+uK/EJvpxNOQW1ewcbLtJaoCZFIz3aADdfanL2EW+mO9D8+qvnDMW6LO+6fx7spNKf5LXp1W2qEtKKzL0MPfx1DWZbAvA5fz/cvqrVqztaZX9fV0T/xqbvQvq5eSfcG/KIC1ebtUw0G96l5NdCttcHG9b1HeAn+OLm3Z5VVJaaWWoN+SDxjd6j6W0O/jipScBtXmh7SP8sabreeyVgc5XJ5mqsKFAxdyNLuWWuRfn1p76NybV90T+1HDSqHb6ekZec7IyIiSrvb19bW1tT148MDpdD59+vTKlSvXrl1raWkRM5uamg4ePHj+/Pk7d+7cvXtXtBHt//rrr/v375tMpubm5osXL+bl5d26dStQdCtWJK9RGfmrxMcAECW2C+7PwtVv4B5yqBp8CK3afIbc6s7pPlI/QflGVICP3r29BeVrWB0Hkg2HW8qRrurbWgiJ8fiJOOXrY+ijW09X0CQN01b6bBm1fS6rfy8oOf2A/8hug+5K8oayRLkvKyIrfq6UIy6COQnRLYCFiuBbkovoNqqc3WWpmu/xOSyl693fpDP7euW2r4t0VxEhNvMXX0NuXUFiTbt0+6/cy3Zfs7ni1wBLCz26XZ2UvH57fbfN4R6VIA0a9ZSZyzzlvZ+Y09ZStN5/8M78o1vNPoawLu2+yGX1kjaUmuSRuE57V727EJ76KZZ2bd3atesLr3lGwto7a6Qqe6rxRPLrcKWvjcPaWpi6LiNjnT66TUpOcdfdG1eOkvtq2V2RLaumy7tA2zWpnrIyyMhIwOhWumZWrrG9hQuLWryjje3d0varxhyFtI/Sxqemrl+z1budDqupdIN7y9UfgWii2+5jYu1rcxt75RbiCJ8SO7va+6y5XOMdxanui58Dbcqq67anzj1caxHoixU8fvxYSVdv3rx55cqVlpaWkydP7tixo7i4+JNPPikvL9+/f39+fv4HH3wg5n/55ZfffffdDz/88NNPP926dau7u9tisXz//fc1NTWizcWLFwNFt2JF8hrFquVtEBsTuyMBYFkIeFpxmt1n6lA7P/Macutyny/EySvtVJ+2qfxZu9INkAbh6j56F/qq01XbHzDhdQ2c3eSuwBAvn8EvEfJhL2o0ncjLeMEdX65J3VRY2xH3w04DRLdr16WKvp/npSI6bO6Pq9ekeHtBTseA1A3zG50dqLuyckO17jULxMuVchREMCchugWwUBF8S3IR3UaRXAFNd/cMp7WpYMMaqVuZW5C3MTXFXfHqiFnbvwyxmUqcDbl1BYw17WZ3/9L3PcHFiW5XZZ71H4jqdNj6zOcau/2eHin+Vl1NzTe61exjSOvS7ItUVk97VxNXV/l69UWdvGsZ/heTcmqsvPDkX7W7b5WuG3XR7drd2kBWbLqpvtH/1tjSpW/QonLG19hOeVSsqizguLWrsU5z3zDplax9+oLvo7zxK9aWWPy2Xi6tq6o47B/dSktO97+qsXVd6x7w7qz0PVzd/yk58A19hFd0jI6Na+5R9ujRIyVdffDgwc8//9zZ2Xn79u2bN2+Kf5ubm3fu3Pn3v//9xRdfzM7Ofu+994qKimpqas6fP9/S0iI3a29vv3LlSmVl5YEDB6qqqgJFt2JF8hrFquVt4E5lAKJNOq2UmAx6QeEUDJ3fkFuX9yYEa0tM/u92cnXaFSuLTJ6zj9wr0JTEdTnMJWtXqirgS9HtxrMGN82UT3kGg4sRhDTyWvpazPqNb5YUv7kpVRqgGsvbooYkQHSr6T6ZpU/W/T4v147Olror64o1PTi5p2dQvgPLXXxcKUdFBHMSolsACxXBtyQX0W3UyLek0NyAws3efU7KZFVfaHoho6Cud3xezRRxN+TW5e2Absgtlaq7uqeS3E3rpZ1anVlv9WsW9eh20zmDSySd8dbt84lu59zHUNblvy/SdYjBdzOl+cr1nlH46Bkc5H2s3L8vatG9EKUb6+kKJpiDbbKXo+XdUKLbdZlFymEpLcxO/5tUGMHgP4W/3k/TdU9f8H30bLzBeCipme/y2D+6tV/Oc4fan3YHKF8rDZIyiAOk+RvrYluLUHOPMkETsD6UKL/+8ccfd+/ePXXq1ObNm19++eX/+q//+l+SPXv2XLx4sbq6uqKi4siRI//617/OnDmzf//+48ePB4puBXmNRLcAFovDVBTovBN6dDvfIbcSuV/n+w6K56sw61NT/TZM/saM79skTsdAW2lG8urUVNWnkv01GcblF4hu58Vp7203mzpVx9Pz3aa5YvoYCxDdajoYRsU6/Du6UrfE4D7G1N+AsXi4Uo6SCOYkRLcAFiqCb0kuotvo8HzVXf9pv6PjgPsLTenF3q9++74Fr24cYjPVci0l8Tbk1uWNNXVTWn5Dt13bLOrRrdG3LF1yd7/Vfe+ygpy0dE+2GH50O+c+hrIu/32ReuoZb/qiT89UlLVW9SjjXZOG8/iVAzbKGaVCzLroNsDlor2vo8V9L6+i7PT0tBfkYmpzRre66f/eVNZmcKXqsHab3HfeKMndlJ6WmuJXjzikfQycO8tfZVUOsmYfHR1lUmG4pBfSswtqGtr7bH6hsvTsZ+Rpn4LSosy1c+z+Ipgzug2kt7f3m2++qaio2L59+9tvv52fn5+VlZWTk/Pyyy+//vrre/fuPXz4cHl5+cGDB+eMbg03AwCiQTqtGIZQoUa3om8295Bb6eQS4INwh6U0PcnvvOauum4q0Z4RdFXUdfXlpbUYfnuD6DZinNKt4ZJLLPE78DZgrVu/F/Pc0a20nN0Gn71L9Td0H35j2Yv5lXL0RDAnIboFsFARfEtyEd1GgSe3NbqPk/Qtb1UlTS/pC3e+sqchNvMJdqURQ7qw1dFRvFY/4CVm0a3qBlkpqenpG98sqWysmteo2zn3MZR1+e2LPCB0TWp6WrrRdCL06Fa6dDG6ptU+NlB0q7rxhXt7NuUVn2isDGnUrf7p0326oLp7W9ILYtdyCktrzpVummd0a3Ct6/8M6ps5bZb6kuxU5Q5yKRkFzZ5PR+TaeSnrjZ+C9KrYRrf6WrfqggmhuHHjxpYtW1577bX9+/d/9tln77//fmFh4a5du955553du3cXFxcHeiAFEwAsPkvpauMv0Bjf2VVPvtdr8CG3c38Qbu8zuz+CLS09cKLO4j4x2RqyjD4fHexuqJU/7atp6bN7t99b8MHWmBkga9Pe3hYL0FW+LuAn93EhQtGt3F0x6qzySQAMEd2GgugWwEJF8C3JRXQbcdY69w2UUkv0ua0ryE02rHUbV65KKu0Iq5lXfA65dRmGrfbLeUkrV631+8p8jKJb6euK7q809qsv9zRZ7Xxq3RrsY0jrMhh1qy2UrF99iKNuDb5GpzvCxumnVHJXdYsz1WPDrHUrlYj1f7IcpiLP3dvUw101OxV6dKv/tEO+PPb9lwkysliqR1z9rvr7ldITNHccEBvBb1MWouLi4srKykuXLp0/f/7f//73Z599Vl1dvW/fviNHjuzatSvQo7hNGYDFJ3+iaXBaDHQDMX8LHnIbgFQDNylYP0Gm6a5In6qm1/Rqm8m1jPQ1jjAf2m8XxZ2Ijro1et1KRyC0imFYTohuQ0F0C2ChIviW5CK6jSxrY3aKlNAF+Nqe1NMy6kJJBUz9o9u5m3nE6ZBbl3HY6uyTokD1HW/lgTCl/jmgnBiGFt3O9VjD7M/RWmTwFXvtyIV53aZMt4+hrcu/vy79de0R3UWm//f+Qok1pZE+qlt1efjf7doVINaURzNpRwbJ15bh3qbM0VKw2v/GfcZFYzXDZEKPbv1v4iFtqHQ3M1+kazDq1v8B8vcrPUm3tJtrtXeKM3hULExMOuTYdHp6Rp4zMjISbnTb0NBw8ODBM2fOnD17tra2ds+ePadPn/7888/FzC1btgR6lFiRvEaxankbxMbE7kgAWB7k3o7u4zSpNO26uT69XvCQW1tzYXp62j7dnTxbi5L8vg7VXbkhPS1bNwi3z/0Jbkatr2NnKVnt3xeSyPcvjcceXVyzXc5PS0+v1HbW5FuqxnMOHqnoVuquJCv3ylNI/eG4LhmB2CC6DQXRLYCFiuBbkovoNoLGO4rdBWq1txVWc7QVSfcuM/vdFslpaylYp66EEGIzuW28Drl1BQhbPXunzpqlC5jVhdd8lyoDZ7OSVmqyP+OhKKE81jj7k7rC2X733RUHc/28at3OtY8hrUvTXxf7K3YtSxO59p7asCJl/QHvxWNIsaY03FVTJVm+3UoIo26lI+B/e2LPPVjCjm6V0cdKGOodEax+ncvj1ucV3YrL4MoeVRvPf8miFmUIvN8+2preTPH7q/shrYXJfmUrxFHKrPX/L+2+Ak9JLdVewC8yx9SUHJuKH+Q5Y2Nj4Ua3d+/eLSgoqKqqqqysPHr06M6dOw9J/vnPf27atCnQo8SK5DUq8bGyDQAQNfLnf+uL21Xvvv017soDGTW+qNRpM9VWNfT4vUNHYsitnANuKOtULdludp9lMmp6VWcxKUpenduovmWW9VzWau3pRgpz/U7NTrtpt76bhxD0VOn7OfY295Ou/0w3nkQqupU/QtDeBtZ+TZoZ1zdqQ2wQ3YaC6BbAQkXwLclFdBsp3vsdrc0q0t3UqLS63Xsh4LQ2bHVX1VyTkVdc22hqMzfUluRKD/Trb4XYzBXPQ25dgWJN7/x1ZZ3eGfJX6VemZLxZIg5X4aaUFamlBwq02Z9csWvNJvcRbuoP47HG2Z/3XnDba1vFETa1NVbmpidlZmVGIrrV7mNI69L11welQdzJ6bmldS3Ko/wvTkKKNb0x8ZpNJeeuieW0nivZtCY5r8y/pGyA6NZhKV3vvsVKfo20DeaGE3lpyVmZxnvtE6Doh/xJgy/Ftl1wJ8hrNh1rkBbeUl+yMWVdZmb6/KLb7SUlqeJwnXD/lzE1Vkn/ZVZn1quCV/99lC91ktLyq92HxfcQVeEFm/Q/cXVabql06OTdn+MTmsWhFCtQ6sxOTU0NDg6GFd0+fPjwgw8+aGpqqqurq6qq+vDDD0tKSnbv3r1jx47NmzcbPkSsYsob1IpVa0b+AkAUyafFlSkbC2oaxLms1OANWfrehubrOJGpcuv5ZNFzUjZeu5v8qaFnI0X/rWije5v9E2d5jUekc3pa3oH6VlNjTaFU+V3bzUNIPP0cz8G8VndA6i8FKl8WNyIW3aq6K1VSh0rq6S2BI4DYILoNBdEtgIWK4FuSi+g2UqQgaUWAya+/5bR31RdlpPj+mvRCVnFjt137xe1QmnlGoMTlkFtX4FjTV/bUF0Gaj2307uyaTcdMNqPsz2kzHdkk37V541nfpdKcjw10mzKXtbkwQ7k/lXhslcVuXnitW+N9nHtdRv11e0d1rvp+1ikbS1rVg0pCi27dLyfLiay/JXuXk7KpstMR6m3KnNamgg2+m2WLx3bY9TfU1ghYr3m4OVdsxtoSk+dawtGl3rDk9O2N1oH51roVG6+6HZx7U8vM/rVLdPtoa/O9eOT/ZdqHiENXm+dbppSAt8TBu6ZyizB1udsnT56EFd0K+/fv/7ekoqJiz549x48fP3jwoJj54YcfGrYXq5DXpWTHYordYQCwzNjMZVkvKKfFNRlFDf5vyI6OUmkApm/Uq2dAYvCxh/IY2Dk/CO9vLd6kOpXr1u7hf+4WZxZx3jRq5+hV9/SSX8g80aHtDSJE2m5zSkZBXVdcjmtQiWB0q+vpSUegl9wWRohuQ0F0C2Ch5HeT7xaG6DbmHOIJGLbb5+pUhdgsMbh3ds7RJk6HfdigUUiPDbTS4UAPnjO6jeC6jG+55nnYsHtyLPCKzn3o5rucSG2DoYVsmEydyXqWFsarwTEc5Hnx28L5vcaiRLlTmVKvYHx8fB7R7dWrV0+fPl1RUXHo0CHlTmXl5eWG7cUq5HUp1RIodAtgsTmCdo0cUX5TCr52hXziCOG04Yje6XX5We4Hc+EdKiwDS+JKeX6IbgHEEaLbOSXwCQmLSh5MHbnoNhjpLtXG0S3mFGjIcELT10yYnZ0dGhoKK7o9dOhQdXW1XOX21KlTFy5cOHny5N69e4uKivSNxcLFKuR1US0BAABgyUngK2WiWwBxhOh2Tgl8QsJisfe2tVa/u35RbhjiGOgwN5RuSPK//TTCsCyjW3XNBCU/nZiYCD237e/vP3v27A8//PD555/v3bv3+PHjNTU1paWl+/btE7/q24uFy2sRq6NaAgAAwJKTwFfKRLcA4gjR7ZwS+ISExSKVSnDfnqt5IOpfOpML5roL4HYtj8oYkbcso1vBMTWlGXjrks4RIUa3bW1tZrO5u7v74sWLR48eraio2Ldv3549e8TPH3/8saaxfMqQKUNulVoNAAAAiH8JfKVMdAsgjhDdzimBT0hYNI7QStRFZl328GqzQksq7rYMK7vNzj5XUlSl5uzMzMzw8HAo0e3Zs2dv375969aturq606dPf/bZZ5WVlRUVFZ988smRI0fULcUCxWLl5StVbtV5MQAAAOJfAl8pE90CiCNEt3NK4BMSAKipK96Kn+WZ09PTT548CZ7bPnz4sKam5s6dO3fv3r148eL58+fFr4cPHy4rKysvL//oo4+UlmJRYoGa1YlJWR0AAACWhAS+Uia6BRBHiG7nlMAnJADQGJuYVNLb2dnn8sypqangY287Ozu//fZb8YPFYvnyyy+/+OKLK1eunDx58syZMx999NFbb72ljLed8lZFEAtX1iV+iN0eAwAAYD4S+EqZ6BZAHCG6nVMCn5AAQEN9vzJ1EQOn02kPXPf266+/tlqtU1NTbW1t165duyw5ceLE2bNnP/jgg507d/4p1bd1qobWKrmtmJSMGAAAAEtFAl8pE90CiCNEt3NK4BMSAOhNT8+o01t1rjoxMaEvnvDgwYPvv/9+cnJydnb23r17PT09nZ2dp0+frq2tPXTo0OHDh7/++mvxQGUh6vG2lEoAAABYohL4SnlZR7cD1j8st24/f87YCiBeEN3OKYFPSABgSJPeqtPV2dnZ8fFxdYDb1tbW3d396NEjcSIYGhp6/PjxvXv3Ll++3NTUVFdXd/36ddFe9XDfzdDIbQEAAJauBL5SXqbR7dDQk9LDR1/K2vLiK9lv7yjo7bsf6y0C4EZ0O6cEPiEBQCCOqSl1euvw1qhVTE1NjY2NPXny5MaNG4ODg6Ojo48fPx4eHhZzxPxHjx6JX2dnZ5X2s7PP1csU0/T0zOLuEwAAACImga+Ul110OzExcbK6NvPVnBdfyVZP73+45y+bLdZbByx3RLdzSuATEgAEMeN0qpNWwwA3ROphvIy3BQAASAAJfKW8jKLbqampL768/OqW1zWhrTK9lLXlcNnx0dGxWG8psHwR3c4pgU9IABCcfqisHOCGGLzKD1dXSBDT2MRktDcbAAAA0ZbAV8rLIrqdnZ1t+8Gc8/pb6qD27R0Fpus3+vt/L9pdIldOkKfMV3Nqznw+Nd9xHAvndDq7un+52W4hRMYyRHQ7pwQ+IQFAKGacTk38Kme4E5OO6ekZ8Vc5yZ2dfS4m8bOYqU9s9WVzAQAAsHQl8JVygke3z58/7+zqfntHgTq0fS3v3a++vqKEs3Kb7e/tUrd5dcvrXzVdUddEWzQTE5MfluzP3pZ3//5vi792ILaIbueUwCckAAiRfvhtWNNCii0AAAAgDiXwlXLCRrfPnz/v7/+98IOP1IFs9rY3/nW2bmJiQt9eHpn7Wt676vY5r7914+ZPixzgEt1iOSO6nVMCn5AAICyzs8+np2cmJh1hJbbcjgwAACDxJPCVcmJGt4/+spUePqoug/DKP7ZVfHJyaGiOJ1Kqh/tV9rY3NKUVeu71Pn/+fHE2nugWyxnR7ZwS+IQEAPMjZ7iOqamJScfYxKSY5KBWTOJnMZPEFgAAILEl8JVyokW3z0ZHT1bXZr6ao65du/fAxwPWP0JfyMTExGfVta/8Y5s6wH3/wz1/Dg5Gb8tVaw87un3+/PmzZ6PDwyNPn9qDjxGemZkRjURL0T54GC2WI5YmWoqLHf1fx8bHxZ/EosQCQ9xIIBREt3NK4BMSAAAAAADzkMBXygkV3f5yt2fbG2+r89aXN+dca/l2fgNme/vuv/6mX/2El7K2nDr9L2eU6yeEFd2KXTOZf1TXecje9sYXX36lv83a0NCTw2XH1aF2zutvtf1gVke9Yo1ivWLtYt/zd74vN2v/qUP9p4d/DqpHNIvVNTVfjUlRYCQkots5JfAJCQAAAACAeUjgK+WEim5dRqNuX8rasvujfX/ZbKEvxHDUrTztO3jYcBRqBIUe3T5//vyLLy+LHRT7Kx5S+empgx+XvbrldbGdh8uOi+UoLR/0//7aG+/It2grr6gSLQ8cKhM7KB7bfPUbpZmcz777XuE7O3aKvxbvOXD46PGfu35R/vTPwg8KP/goe9sbYr5YSH5BkXyEv/v+hygdDSw3RLdzSuATEgAAAAAA85DAV8qJFt3K9LVuM1/NOXLsxOjoWPAHGta6/eeu3fsOfhyH0e2dzp9f+ce2vHfye/vuKzNHRp7u/mifOpOdmZk5dKRcbPzR45WTk748t+PWHfHwHQVF9mfP5DlyPitaFu85oDlWyp8+2ntwfNxzn7fZ2dnzF74QM4t2lygzgYUgup1TAp+QAAAAAACYhwS+Uk7M6NYljUjt7//9n7t2q0PYV/6x7V9n6/TFBFxSCtn2g1ldeUBMuW9uN12/If7U0Hgp3qJbp9N55NiJlzdvvXX7juZPPfd6N+fkquNUsQviaGjS2ImJiQ+K96pXJOezW3Pf+n3AqllmoD89eTL85rvv5bz25oP+3+exs4AG0e2cEviEBAAAAADAPCTwlXLCRrcyJXJVT5ryrM+fP+/s6t7+3q4g5RHiMLp99Oiv3De3F75fPDamHUos5oj529542xr05mzPno3uLPpQH92KtauLLaj/pF/dPG6qBgRBdDunBD4hAQAAAAAwDwl8pbxcotvcN7fnvP6WOpZ9Le/dnywdvw9Yi3aXqEsrvLrl9TfffS/+o1s5S33tjXeOn/i08tNT6knMEfP1Sxgfn7h95+fP6y8cPnr87e0FclXcsKJb/Z+IbhFZRLdzSuATEgAAAAAA85DAV8rLJbrdd/Dws2ejF7+4JOeVhlPmqznHT3z66C+bPqiNw+i2/aeOQDui3J/Ncuu23Hhk5Kmm+K84DjuLPtQkvES3iDmi2zkl8AkJAAAAAIB5SOAr5WUU3cqR67PR0ZPVtZmv5mhSzpJ9pf39vz9//tzwUXEY3fb23c/e9kbxngOP/rIND48YTvKmigWKvRMb//aOgtbv2myPH8/MzBiuiOgWMUd0O6cEPiEBAAAAADAPCXylvOyiW9nQ0BNlFOo/d+3u/uWuHNoGelQcRrdyrdsdBUX2Z8+CL1AOebe/t2vk6dPgKyK6RcwR3c4pgU9IAAAAAADMQwJfKS/T6FY2OPjol7s9yv3KgjwqDqNbsRliY17evPXHG+2aPz0bHTWZf/zLZpPz6DudXaJZ6cdH5cG2ij8HB1/Le5foFnGF6HZOCXxCAgAAAABgHhL4SnlZR7ehPyoOo1vh5k+WV/6xLe+d/N6++8rMmZmZuvMXXsraosSsVusf2954O/et7dY/HirNRkfHDh05xm3KEG+IbueUwCckAAAAAADmIYGvlJdLdJv5as6Jqs9GR8eCt5+amvrq6ys5r78V8+j2pawtr+W9m/dOvn6609klt3z+/PkXX14WLcXeiYdUfnqqvKLqjbd2iO3cmvuWkuc6nc6qk6ellPaNw0ePi2biX/GzaPn29gKiW8QVots5iRMSExMTExMTExMTExMTExOTeor1xXq0JHh0++XlJvXtyF75x7Z/na2bmprSt5ydnW37wfxa3rvq9oOTxgIAACAASURBVKUfH5WDWsut25WfnhLTF19+tTjRrXozNFP7Tx1K4+fPn5vMP6o3+6WsLUW7Sx4+/FO9zMnJyc/8b872/od7+n8foNYt4g3R7ZxifjpkYmJiYmJiYmJiYmJiYoq3KdYX69GS4NHt7Ozsnc6f395RoI4+s7e90dR8VSlx+/z5886u7u3v7VK3yXn9rctNzZOT2gQzPoldePZsdHh4REz61FUxNTX98M/BX+72iMbq27IB8YPoFgAAAAAAQJbg0a1sZmbmuzaTUgZBnl7Le/cnS8fvA9ai3SUvZW1R5r+65fWaM58/Gx2N9VYDyxHRLQAAAAAAgGxZRLeyycnJi19cenXL64EKEWS+mnP8xKeP/rLFekuB5YvoFgAAAAAAQLaMolvZxMTESf+qr3J92JJ9pQPWP2K9dcByR3QLAAAAAAAgW3bRrWxo6Enp4aNynYR/7trd/ctdar8C8YDoFgAAAAAAQLZMo1vZ4OCjX+72KPcrAxBzRLcAAAAAAACyZR3dAog3RLcAAAAAAAAyolsAcYToFgAAAAAAQEZ0CyCOEN0CAAAAAADIiG4BxBGiW43nAAAAAAAggFhftUcd0S2AOEJ0K4v1uQ8AAAAAgKUk1tfx0UJ0CyCOLPPo1vD0MwsAAAAAAHSWQ4ZLdAsgjizn6DZQYusUEwAAAAAAUAuc4cb6+j6SiG4BxJHlGd0ahrbKyWjG37QyAQAAAACwHHgvhDU0KW5CBrhEtwDiyDKMbgOFtp6g1mtKTAAAAAAAwC/U9WW4+gA31lf8EUB0CyCOLLfoVpPbyrURZryDauVTkkMyKSadCSYmJiYmJiYmJiYmJiamhJ4MODx8Qa4S4CZcekt0CyCOLNvoVj3YVg5txSnIHc5OTIxJRsXk9YyJiYmJiYmJiYmJiYmJaZlNPmMe4pLZHeR6A1z18FuiW6JbAJG3rKJbTW47o8ptxblnfHxcnI+ePn06PDz8eOjJ48ePbcoEAAAAAMBy470odht6Ii6WxSWzuHAWl8/iIlpJb2cSK70lugUQR5ZPdGtcJ2F62jE1JY+0FWegH2/cOPTx4U3/+6X/8//6bytWrpKnR7Ynsd52AAAAAADiiLhSFpfSDvXYW//KCbHewPkjugUQR5ZpdOuf246OjY2MjLR+++2m//2SktgS3QIAAAAAYEhcKY9K9RPU6S3RLdEtgAhbbtGtOreV6yTIue0PpuuGuS3RLQAAAAAAGuJKWVxKiwtqdeUEdXob6w2cP6JbAHFkmUS3+iG37vuSORzj4+Niy22PHx88eMgwtyW6BQAAAABAQ1wpi0tpcUEtLqvFxbW4xE6YgbdEtwDiyLKKbjWlEiYnJ8fGxoaHhx8+fLhp04tEtwAAAAAAhEJcKYtLaXFBPSYNvDUsmxDrbZwnolsAcWR5RrfykNuJiYlnz549Hhp60P+7+r5kRLcAAAAAAAQhrpTFpbS4oBaX1e6Kt0YDb2O9jfNEdAsgjiyH6FZTLUGpcjs+Pv7Ubv/LZuu7/1ug3JboFgAAAAAADXGlLC6lxQX1U6lmglLxNgFqJhDdAogjyye6dee2s7OeagnSkNuxsbGnT58OPnp0r7eP6BYAAAAAgBCJK2VxKS0uqMVltbi4lgfeemomzM4u6YG3RLcA4sjyim6VQrdSdDs6Njby9Ong4GDPvXtEtwAAAAAAhEhcKYtLaXFBLS6rRzXR7RKvmUB0CyCOLMPodmp6etLhGJ+YGB0dHR4Z+XNw8NeeHqJbAAAAAABCJK6UxaW0uKAWl9Xi4lpcYosL7SmiW6JbAJG1HKNbb6HbZ3J0++efRLcAAAAAAITOE93++ae4rBYX10q5W6JbolsAkbTco9vh4YdEtwAAAAAAhEOObsUFtbisJrolugUQLUS37uj211+JbgEgLKJL7piamph0jE1Mjo6N20fH/tPsEtPfO1xv/+Ke6gdjvYkAAACIGnd0++uvRLdEtwCia7lFt9Pe6HZsfPzZs2dPiG4BIBxyYmsfHdNPK1pcmuk/zWS4AAAAiUmJbsVltbi4HvNGt9NEt0S3ACKI6Facae4S3QLAXAIltkGiW3WGe+hBrHcAAAAAkSOulO8S3RLdAoi2ZRfdTk9ro9uHD4luASAI0fuWSyKoJzHHMSXdQ9jdNXd3yq2T7un6iHuY7aEH7soJBLgAAACJyhPdPnyojW6np4luiW4BRMzyjG4niG4BIASiyz02MalPbOWsdk7WSYMM9z/N7vkAAABY0vTR7QTRLdEtgIgjuiW6BQBDM06nPrSd36LqB92JrTq9/e3ZTGS3FgAAAIuJ6JboFsBiILolugUAvenpGXVuqw9txXvp2NjYyMjI0NDQo0ePBiXiB/GrmCn+NOX/EHkErjq9rXu4JLvyAAAAcBHdEt0CWBxEt0S3AKChHm87OjYuflX+JN5Lx8fHnzx58mcIRDPRWDxEebh10jf89j9Mzyl9CwAAsEQR3RLdAlgMRLdEtwCgps5txyb8qtJOTEyEGNpqAlzxQGUh6vRWTKYnS7JDDwAAsMwR3RLdAlgMRLdEtwCgEH1sw9xWvH+K9/lwQ1s18XCnd/SuOr3lrmUAAABLEdEt0S2AxUB0S3QLAIqxiUmlToIyU7xtDg8PLyS3lYmFKAVw1entm91Lsk8PAACwnBHdEt0CWAxEt0S3ACBTl0pQ6tuKt805iyRYrdbfJAMDA8FbikWJBcpLvj7iK5tA0VsAAIClheiW6BbAYiC6JboFANno2Lic205MOuQ5MzMzQcbbivfPzs7Ob7/99vLly+3t7d9///0lifjht99+CzL2VixWXn7p/edK2QQAAAAsIUS3RLcAFgPRLdEtAAiOqSllyK0y0x64vq3Var1x48bt27d7e3sHBgaGh4d/+eUXk8kkTgoXL148e/ZsZ2dnoMfKpwyXVDbh/7N40tvS+0uyZw8AALA8Ed0S3QJYDES3RLcAIOhLJUxMTAQZb3tbMj4+Lt5XJycne3t7TSZTe3t7d3e3xWL5/PPPL126dP/+/UBLEAuX11I/6GLgLQAAwJJDdEt0C2AxEN3Gc3TrsPVZ2swmMXVaHc4AjZyiVYdJambpswdcVmSbLT6nwz5sd092R6w3xZ/YsP5u+YiZ2jp6bbrNG7fLWx7wGQxrXfJBGJ+7bQTWMhyJQx23Txz8TU/PaIbcivfMoaGhQLmtxWKpqamRx9WKX7/99tsTJ06Ul5e3tbWJP5nN5m+++ebYsWM3btwIFN2KhYtVuPzvV3Z9JKZHAcBy47T3tstn8O6BOU9T3hO64eQ5yztCaGOw9o7e4SAb6RjolJuZu6zBttJh7Y7HLtxSFPIxXwJ8+xL0ZQbMC9Et0S2AxUB0G6fR7Xhf9dYUvy1Jyanu0fUd+xu3p61WN0tKK2mx6ZYW2WYx0V7i2arMujjZIsHWdmxjivYFs2bTMZNqEy0lnvnF7Qten3IQSjoWvKzABusyPftSYln40uLyiYPexKRDU+V2fHw8UJ2EO3fuNDc3X7ly5eOPPz5z5sxXX31lMpn27t1bWFh4/vx5s9l848aNCxcu7Nq16+uvvxbtA6W3YhXyuuoeUvEWwGKztZakJavO4Mnp2xutQdorJ3SjKevcoLTM+qwgXUp1T0C79pWr0/KbB3Sf8jp6arL9exprNlV16T/B1fUbRTML+e28hHrMlwLdvqxO291qW/hgAsCL6JboFsBiILqNy+jW1pC1esXKlOwTHQPSMI0BOSJMzmtSf1o+3looOv3JGw5c67O5m9m66vPdlwGppRZH1JrFSvwlgAP1WUmBXjbJWee8V39Et/H2xMGQMuRW9LHlOU+ePNGHrb/++uv169e/+uor8VfxFnrp0qWTJ082NTX9+OOPN2/evHbtWk9Pz6NHj8S/ly9fPnjwYEVFxb179wJFt2Ih8rqsk9RMALCoHB2lqeLclJp/rtMmOlq2vtYDG0TXa3Vha8BOj73H7P2SjXpqLFwvzvv5TVJO6rB2GLVprcwWp8L1lT3etbeXuNeesqlM7nT1d1Tnp4tORVJus1/caq3LTJYy5VqpQzjY13Jk0xr3Zh/r8kvf5H7j6oxSs9RvtFpq893Lz6jpJaQLV6jHfCmQ9yU1v7rdapdfZu+uF12y1JKOeOjaIzEQ3RLdLh7xkurq/uX6jzd/7bk356vKZnssWt5st4yqbuIBLF1Et/EY3XYfW7ty1doj3X4z+2oyxMxy30xpZIf2GkMe7pF72R6lZjETbwngcGO29xWS+m6NqU9c+Nl622q2p3oHLBeZ5UNJdBtfTxyM6KsliPfJwcFBdcza09NjsViuXr3a1NRkMpkePHjQ399/8uTJQ4cOtba2dnd3i7OAeIiY//TpU5vNduPGjbq6un379olzhHibNYxuRXuxInmNf++gZgKARWOtzvD7nNVt3Fy8dtWKtWEmdJ3uPltqeXewNlKfQRXLGq3d5bCUrF+xcl1Zp2+OqWj1ipXri9v9+mbyJ8fZjb6+maOtKEmXxw2cdXfh1M0QglCP+VJgb8pdvSK5qMVvvLCc8m+ojscrNixJRLdEt4tnYmLyw5L9L76Snfd2/qO/gl1aihffkWMnRMvsbXn37/+2aFsIRA/RbRxGt3KKekCbznUUi+3JalTepKRM0PMFPR9r3caVq9Yc8T04ss1ixj8BtPd5R7J0+FUg8412MavKvDmsXdfqKktLD5SWVjfqytEO93ke0uN+hFjyuROiZdW5tj57kIs3s3d7NNd4PVVp/rmnX3TrtPe2yVtS02JYh85dj6xV2oDSA7WN2lp1/tGtd1NLq68F2NThPktjzQFpdQ3t2jbK6CF34TN7X0utu5n7y5Wa6NbzJ3Houo2/YRf88BpFt45+ZVBSx8DSug5KUI6pKU21hLGxMXXGeufOHZPJdOvWrd9///3nn38Wb/t3797t7+9va2urqKhobW3t6ekZGRlxSMRjh4aGbt68eenSpaqqqkOHDolHBRp4KxrLazz0wBPdih8AILr6atL0n5G7XAO1G9wfY7eFPiTR3rBV96Uona4j61asXF+mrC3A2l325lzVR78uR2uhOHtu1eeF3WVr3SNqBzy/OloKxHk2p0GzDQ6z+9tUvmYIQajHfCnod4/5yKjV1gBxdDeKDtu5Du8uSt1gd1fQabPUV4k/VdZ3KHWffb3i9sB33cDyRnRLdLt4lOhWTE3NV4O0/H3AujX3LaJbJBKi2ziMbo3JvckC37DY3lPpK1amV/f5N2svSVq5KvOC71OoyDaLGU0CKA1ykUoTlFh8XUl5rIR7vnJFNHA537+WnK6cnC8Pbe06sUFdAyEprdQSoLSZ/XKetzaCZjiDy+F/jy9fdGu2nsvyKyWcWmT2/15ks6bWsLa8mm9TzdpyDalFJr9rNkfXCen7feopZVNlp+9y1Ldh1zqKPYOFpexeFd22dFdl+NUB3FDW6T8OJfTDq0S38tf3pJaZ9cGqCmLRKIVup6dn5DkjIyNKutrX19fW1vbgwQPxFvr06dMrV65cu3atpaVFzGxqajp48OD58+fv3Llz9+5d0Ua0/+uvv+7fv28ymZqbmy9evJiXl3fr1q1A0a1YkbxG0xNPudu/x8FHRQASm+2C+zNyg2/DyKFq8CG0avMZcus5M2bW6ztX0of0a491yb/Jp2OD79nYzmWKc2hek2eJHQeSDb/aIke6SjOEINRjvgRIL/JN5+bsZ0mvRlVX0NOrbBl2WErT1V3NNVsb9bWYAaLbpRrd/mWz3brTOb/n5rcH/b199yO+SXNSR7dFu0vEiy1Qy7rzF+RmRLdIGES3SyW6tV/O035Xa7AxM3lVUladryNl767M1I3+iGyzWNEkgE5p+IN7zjrfMBZnR3Gy30xPJTspJfxbWnpa+nolzcw41addcsaGDN2z7xv8oiGNZfAmvPnVbX22ACGvkpBmZmbpXl2rfcUoxtWd5tV/S31B6S4nKUOtfQchK1O/qarLQlWwm5Kanp6Wpixtg5LOKxuWkbHBuxBNdLs+NVW7FvXrIbzDKz9xqt2k1Fr8GJuYlKPbGafn///jx4+VdPXmzZtXrlxpaWk5efLkjh07iouLP/nkk/Ly8v379+fn53/wwQdi/pdffinOBT/88MNPP/1069at7u5ui8Xy/fff19TUiDYXL14MFN2KFclr/H2cO5UBWCTG3zQSnGZ3eKopOBvQvIbcujx1sdJO9Wmbyh/SK9WKpEG46s/svfqq01XbHzBtdA2c3eTXTcKcQjzmS4H0Ine/lmzmqtwNUj8w+YWMghqLJuOX+mlr127YXt/t/nqW0951yt2HTEpJWZNV0yW/toe7q6ViyuEMSMdyQXS7JKPbwcFH7+bvfClrS1Pz1XCfnl977m3NfeuVf2zruHUnSpsXiBzdis1+eXPOy5u33rptvAH2Z892FBTJzQJFt+Kl+fSpfXh4RPwrfg6+3pmZGdFOTOIHw4U8eza6RF/lWEKIbpdGdCsPVNTdbsLRWZX5wmrRFUvLLirMTv9bsjtGPNej7VdFtlls6AZvdpWvk+f4Ln66vUNxPSNW7C2709PEHq1cV+z79mFRkl8b1ZJXrs48JXVbHdaWovXemSUm4yEG2sEI7vD0hfTskjqLXwkH1Q2pk7OqO6WLwWGzL6X1Xh9Kl3ZygnzMc0tou9LMOzJIv6lOu6lE2VTvYBClDm9y1jnv/0i7ucQTs3q/Bqi6U7ZyQzyb3aGOblcliV673LpfGSqrfPkuzMMrnjinb9wxuW1cGR0b19yj7NGjR0q6+uDBg59//rmzs/P27ds3b94U/zY3N+/cufPvf//7iy++mJ2d/d577xUVFdXU1Jw/f76lpUVu1t7efuXKlcrKygMHDlRVVQWKbsWK5DVypzIAi0ZOtYzO79K41xCLs89vyK3L+0nz2hKT/4e+cnXaFSuLTJ4TpDzSU1MS1+Uwl6yVP4uVT/HSWXvjWYPRlfIdCyJQan8ZCe2YLwG2hix3Z6xB+ix/TUZecWmJN8D13zs5uvXrlVnPbdTtbLgD0rFsEN0uveh2YmJi90f75EGp4aa3cm4rP3bbG2//PrCo36CUo9vsbXlHyyvFBhw/8anhlt+6feflzVuLdpfsLPpQH93OzMw0XmoSWy/vhTQy9w0xRxPLtv/UIf5UXlHV2dX9xls7NAN49Qt5Le/dth/Mc6bAwLwR3S6B6FYeqKi9nYWbre2YO2xVbe2a1Jwys/aKI7LNYkP/vXslqPWWHpNqPviHuXrd2lq0viWn1/QqzeRhF8pA1AD0R0zOVdUVA5SEVL1VjtYi/92Rvu3onqO+P4nL1piXlp4upu2XbQE31TNIx7ep0lfk9MdB7oi7rwlbHH4bpi2354tu/QpoSBUA/Z+CsA7vxqpz3pTZb3A34oDmHmWCJmB9KFF+/eOPP+7evXvq1KnNmze//PLL//Vf//W/JHv27Ll48WJ1dXVFRcWRI0f+9a9/nTlzZv/+/cePHw8U3QryGoluASwWh6loVYBbcYYe3c53yK1E/nJMkjKq0Wnvqs9P9XzZxbdhjnbpY9fUohb5U2GnY6CtNCN5dWrqOl//RPoakFH5BaLb+QjpmC8Bcgbt/gZVYavvtWHvOOYuhJWquk+DXDDBrH+s/3+QwIO7scwR3S696NblHXWrpLdffHk5lCfpTmeXkttmb8u7+ZNlkZ9aJbo1Xb+R93a+4c3K5BuUiZ26eq1VbqyObmdmZio/PSW2/5V/bDtwqEz8LP4VP4s54md1eitHtzuLPsx9a/urW14/+HHZsYpP+n8fMFxI8Z4D4mex0n+drXM6ucxFVBDdxnt06xmoqL3XrUtK6NwfpG/19vuFQfOBDdrGkW0WMwZ3u5K/vKZElkon1X+YgMPa1VhzYHfexnR5iKjyzOqyRb9LNeniba7o1rOGwT5TfVVh9np1bdnUUs/4BV/BBPVllWalvrTUk6uGfBAMNlVZY9IL6XLyK09/SzZupr3e09ymTL929fzQD69vympYMlc+y8Wc0W0gvb2933zzTUVFxfbt299+++38/PysrKycnJyXX3759ddf37t37+HDh8vLyw8ePBh6dPsfpiXZvwewhEhnQMO6paFGt472krmH3ErnU+2QW+8CdN/dScm+YDWVaE++Axdy/CvXr04r7eh1Z7J+BRMMh0MS3c7P3Md8CfD0ijN0oxl6T/nfi0+Obtv1jyW6RUiIbpdkdOsKP72NeW7rUkW3ffd/O3mqxvBmZfINyra/t0vsoD66bb76jdhZsePir8pMpXyE+KsyU45uxXTik5PiBa1ehbyQwveL/7L5egtW6x9vby945R/b7nT+HOHdBiREt3Ed3XpyW3dvXvcnqdir+mNz2bi5WH0P3Mg2iyGj1FIZZuuuGKtUCVBtraO9VHMTrTUvKFVfIxbd+jhtplLlRmeea8Iwo1vDQUDBDkKQ6DbAtPpAR+ANC7Ixuug2vMOrmtbuDlBBGDGir3WrLpgQihs3bmzZsuW1117bv3//Z5999v777xcWFu7ateudd97ZvXt3cXFxoAdSMAHA4rOUrja+g5PulrABSNnWHENuHZYS4yG3Cnuf+dyJ0gOlpQdO1FmkD6HdX3LfWKftdA12N9RKzUprWvrs3u33FnywNbrP2rsN3jqN70CLUAQ/5kuAvSl3lfGzL5U+8PX9iG6xMES3SzW6dYWT3sZDbutSRbf37//Wc693c06u/mZl8g3KxL/qxvKf5Bq44lG/3P1Vs+Q7nT+/8o9t6qXJ0e3293aNPH2qbikaiGbiaOiLRbSZrovDeOTYCQbeIhqIbuM4uhWd/vXuqqb1RjVkAnehTLulgY22KDSLIcPUUrlXWEGr7XKe3MBbidVdmazQEyyu315r7h20O5xGueR8oltbU75nKGuZ5pjJdziRVlrZ454RUnQbqD6Dw24fliZHGJuqVAE2/PqkIoTo1m8IsK/Ig1zHNtzDK17J+fne25r5yuMiHgS/TVmIiouLKysrL126dP78+X//+9+fffZZdXX1vn37jhw5smvXrkCPUm5Tdn2E6BbAIrFLfYZCfUIb6AZi/hY85DYAqQZu0tzpmJSs+XoC0qfv6kpKHnJ4F/TbPAiV5pgvAVJv0OjzCWvdRnVxZKJbLAzR7RKObl2hpbdxktu6/KNb8SLbu/+Q5mZlI0+fbn9vl5yr6qPbX+72vLrlNTFT/Emz5LGxscL3i8VfRRt5jlLrVtNSXsihI+X6fPbRo79y39y+o6DI/uxZJHcbkBDdxmt0K3+TbnXmqT7jLrfchTIYZOFoKdBlspFqFkPGqaW1OkOamZyXu1UXfSrFcNUP6fTOXNioW0uJpziApmyrp0TaSt9BCym6VXZENFPdaUS5d1nmBZvRo4w3VclYk/zGDTkG2s2mNrOpvc/uDLxhLnX8uto9nNn78JYCbz0EebHhHl5pGFFXufemaslFLf63Z0EMTUw65Oh2etpT4mlkZCTc6LahoeHgwYNnzpw5e/ZsbW3tnj17Tp8+/fnnn4uZW7ZsCfQosSJ5jfWDnuj27V9idyAALBNyrqobXSuddtcFGScrWfCQW1tzYXp62j7tZ5jSrT5V32R3dVduSE/L1g3C7XN/bu37oNrTJ9mgHV8pfxsprOwYIR/zJaC9JGnlquxG7fNvb8zx+9yC6BYLQ3S7tKNb11zpbfzkti7/6NZlNMpVPUcf3QZKY2VivviraBO8sTz/re3/rPz0lGY6Wl65OSf3zXfeGx4eicr+Y3kjuo3P6Fa+f0Wq3/1eNaSwLznrnP8hd/RUubtWvqIBkW0WO8appereWfK0VdVFlYYVSKNEi5rk+HW4o2yDUo91YQUTuo95I9pVSWl5xSfqWhprDhRs8hVH8x600KJb9wggb6mB9dtrW7s6u1tqlTGq3m0IcVMdHe4yF1L2mlFqHnCP27VayrM8y0+t6g2yYS51dCteEuliY0xtrdX5Skk+71Xl/A6vs7ss1XvcuJ6MG46pKTm6dXhLOY2NjYUb3d69e7egoKCqqqqysvLo0aM7d+48JPnnP/+5adOmQI8SK5LX+PYvnui27uGS7N8DWFLkzyP9q/n312j7PE6bqbaqocevLxaJIbfSLc5WbijrVC3Zbnbfkzajplf1ebAUJa/ObVSdpuVSWpqPP6Vg0e+zZKfdtHudX0lThCbUYx7/5B6X5i7H1rrMZPfH5ybldUF0i4Uhul3y0a1Ll95+Xn9Bfs5+stzK3pYXJ7mtSxfdqsfYil8143D10W1D4yWxI+Jfw4XL0a3y10DRrbyQIFPOa28+6P89SkcAyxnRbRxGt7ZG+fYIG3JL5TJb6qlZW8g1+YXMgqpz18yma3WVcnTo30uLbLOYCRDd+uWM2sEFvqGsypSUlRWJggmCo6t8Q1Kgl43qoIUY3YoLg6Z31xstTVUxI+RN1Veh9U6+y9QQotv8woLVmiUkZSlXM/M9vL7UWz2qF7E043TK0e3omOfCVLxPDg4OhhXdivfSDz74oKmpqa6urqqq6sMPPywpKdm9e/eOHTs2b95s+BCxCqXu/3+aPdFt/xjloQBE32Bjdoo4E6VsLKhpaGs9V5on9YL8+jyeAkTJpaoMKzJVbr0JWnpuaV1LgLW7jXe481zPRpobaos2pqwyun+sw3LE/QlrUlregfpWU2NN4aaUFXOMAEAAoR7zJcDRcSxN/zLT7AvRLRaG6DYRoluXUXr7k6UjrnJbl1Eaq1S2FT9rqt9GadTtjzfaxfzjJz4dHh4xnEaePp2ZmYnG7mOZI7qNw+g26G2mNB0pc1nWC6oAMSXjzSqTPmqMbLOYCBTdeoauyFNOg+ZSymYuk65e5GnNpqqucSXojMBtymwdNYUbXvALcJNfyCxp7FIFkqFGty73GJmu+qKMFFUS+kJWWdtcjwq0qdpnc/XfskpaVP9BQ7pN2XjfOd9425SNR8w2dao238Mr3d1Ym3EjfrrrfgAAIABJREFUhkS/Wo5u1eVunzx5ElZ0K+zfv//fkoqKij179hw/fvzgwYNi5ocffmjYXqxCXpdYqZzbigkAFonN70S5JqOoQfPdo47SVL/PLOWaBnMNuZXHwM75zZL+1mL1OVS3dg97R3WuciJ2dwwqOwwX7OhVdyFEb+REh50PwuYn1GO+FIiXmf+L/Fy3/74Q3WJhiG4TJLp1+ae36ilOcluXURr7+4B1a+5b29/bNTw8cvJUjdjapuargRoHqXU7MTHxQfHe0Gvd7jt4WLzIo7WfgBGi2ziMbsPmdMg3s3IE76NHttkSMi7d6St6X3PzHjH7cGRGZDjs0tLskVhaRJ5NR9AlRPvwYlEodypTaiaMj4/PI7q9evXq6dOnKyoqDh06pNyprLy83LC9WIW8rtL7zyl0CyA2HEHPYo4oj7UMvnaFfDYPoWPgSLAuXAyFfMyXgBBfZkD4iG4TJ7p1GaW38ZPbuozSWPEiO3LsxEtZW85f+CLv7XwxPfrLFqix/dmzHQVFm3Nyf7n7q2bJYo6Yr77DWKDoVl6IerEKm+2x+fqNkadPI7jLgILoNhGiWwBYGH3NBPGeOTQ0FFZ0e+jQoerqarnK7alTpy5cuHDy5Mm9e/cWFRXpG4uFi1XI61KqJdTHyTB/AAAAzIXoNqGiW5d/ehtXua3LKI0Vbt2+8/LmrfIGnzxVo2ytYePmq9+8lLVF7KDYTWWmvMtivvirMjNIdYXGS02iceH7xX/ZfN9dnZycPHq8UjzkxCcnldumARFEdEt0CwDqmgnT054CTRMTE6Hntv39/WfPnv3hhx8+//zzvXv3Hj9+vKamprS0dN++feJXfXuxcHkt9YMuqiUAAAAsOUS3iRbdurxRZrzltq4Aaax4yRXtLnnxlezNObk993qDN56Zman89JRo/Mo/th04VCZ+Fv+Kn8Uc8bO6Rm2Q6Fa/kMNHj2/NfUvMEcfNZnscnb3Hckd0S3QLAIJjakoz8NYlnSNCjG7b2trMZnN3d/fFixePHj1aUVGxb9++PXv2iJ8//vhjTWP5lCFThtzWPYyjziEAAACCI7pNwOhW+OPhn13dd+PtmTNMY4Wm5qsvvpK9d/8h5fbHQRrPzMw0XmrK3vaGqijEG2KO5t5iwe9ppl9I5qs5h8uOj4xQLQHRQnRLdAsALmng7ejYuJzeTkx6qvuJnsnw8HAo0e3Zs2dv375969aturq606dPf/bZZ5WVlRUVFZ988smRI0fULcUCld6RUuWWIbcAAABLC9FtYka3CU+8NJ8+tQ8Pj4h/lQpu816ImLhrGaKN6JboFgBk6oq3M94yTeJt88mTJ8FzW/FGWlNTc+fOnbt37168ePH8+fPi18OHD5eVlZWXl3/00UdKS7EosUB5yddHfKUSDj2I2V4DAABgHohuiW4BLAaiW6JbAFCMTUwq6a3ob8szxdtm8LG3nZ2d3377rfjBYrF8+eWXX3zxxZUrV06ePHnmzJmPPvrorbfeUsbbKt9ksk76ctu/d8RuhwEAADAvRLdEtwAWA9Et0S0AKNT3K1MXvRXvn/bAdW+//vprq9Uq3l3b2tquXbt2WXLixImzZ89+8MEHO3fu/FOqb6vccNU66Y5r5dz2P0zPlYwYAAAASwXRLdEtgMVAdEt0CwBq09Mz6vRWnatOTEzoiyc8ePDg+++/n5ycFG+z9+7d6+np6ezsPH36dG1t7aFDhw4fPvz111+LByoLUee2Yro+EoudBAAAwMIQ3RLdAlgMRLdEtwCgoUlvlbq3Lqki//j4uDrAbWtr6+7ufvTokTgRDA0NPX78+N69e5cvX25qaqqrq7t+/bporzxcXSdBTPWDsdg9AAAALBjRLdEtgMVAdEt0CwB6jqkpdXrr8NaoVYj30rGxsSdPnty4cWNwcHB0dPTx48fDw8Nijpj/6NEj8av6lq2i9y4W8s2fk0pua3qyJLvyAAAAcBHdEt0CWBxEt0S3AGBoxulU0ttAAW6I1MN49/w69R+m59RJAAAAWNKIboluASwGoluiWwAIRB4qqw9w1SUU5ny4eIh6CfdGHNbJaG84AAAAoovolugWwGIguiW6BYDgZpxOTfwqZ7gTk47p6RnxVznJFf1zMc2432ln9ImtvmwuAAAAli6iW6JbAIuB6JboFgDmpB9+G9a0kGILAAAAiENEt0S3ABYD0S3RLQCESPTAp6dnJiYdYSW24iGx3nAAAABEGNEt0S2AxUB0S3QLAOGSM1yH++3UMTYxKSY5qBWT+FnMJLEFAABIbES3RLcAFgPRLdEtAAAAAABhIbolugWwGIhuiW4BAAAAAAgL0S3RLYDFQHRLdAsAAAAAQFiIboluASwGoluiWwAAAAAAwkJ0S3QLYDEQ3RLdAgAAAAAQFqJbolsAi4HolugWAAAAAICwEN0S3QJYDES3RLcAAAAAAISF6JboFsBiILolugUAAAAAICxEt0S3ABYD0S3RLQAAAAAAYSG6JboFsBiIboluAQAAAAAIC9Et0S2AxUB0S3QLAAAAAEBYiG6JbgEsBqJbolsAAAAAAMJCdEt0C2AxEN3OGd1GajPso2NMTExMTExMTExMTExMTLGdInWRS3RLdAsg6ohuFy26BQAAAAAgYRDdEt0CiDqiW6JbAAAAAADCRXRLdAsg6ohuiW4BAAAAAAgX0S3RLYCoI7olugUAAAAAIFxEt0S3AKKO6JboFgAAAACAcBHdEt0CiDqiW6JbAAAAAADCRXRLdAsg6ohuiW4BAAAAAAgX0S3RLYCoI7olugUAAAAAIFxEt0S3AKKO6JboFgAAAACAcBHdEt0CiDqiW6JbAAAAAADCRXRLdAsg6ohuiW4BAAAAAAgX0S3RLYCoI7olugUAAAAAIFxEt/Ee3d7r62diYorGtJj/kYluiW4BAAAAAAgX0S3RLRPTMp0W8z8y0S3RLQAAAAAA4SK6jffoFkACILolugUAAAAAIFxEt0S3AKKO6JboFgAAAACAcBHdEt0CiDqiW6JbAAAAAADCRXRLdAsg6ohuiW4BAAAAAAgX0S3RLYCoI7olugUAAAAAIFxEt0S3AKKO6JboFgAAAACAcBHdEt0CiDqiW6JbAAAAAADCRXRLdAsg6ohuiW4BAAAAAAgX0S3RLYCoI7olugUAAAAAIFxEt0S3AKKO6JboFgAAAACAcBHdEt0CiDqiW6JbAAAAAADCRXRLdAsg6ohuiW4BAAAAAAgX0S3RLYCoI7olugUAAAAAIFxEt0S3AKKO6JboFgAAAACAcBHdEt0CiDqiW6JbAAAAAADCRXRLdAsg6ohuiW4BAAAAAAgX0S3RLYCoI7oluk0kjmG7fdjucAb4s9NhdzdwLOo2eTnsdmntflPATV004wZb5Zlic5xUYvp8AQAAAAiO6JboFkDUEd0S3SYS24WspJWrUsu7jf7osJSuX7Fyde5l+2JvlpvtXKbRCyw5fXt9X1SyyfGQomFLScBXfma9Lbw1yknr+Ly3WMfRWujekhJL5BYJAAAAIFKIboluAUQd0S3RbUJx9lVniGdtQ3Wf7k99NRniCc2sCzOPjBQ5us2pbDOblKmxKjdt9YqVqzPrrRFfn5TJZp0bDKVZenGjaqu8k8UaZqQ8WJcpjnBJx7y3WaejWCxwY91A5JYIAAAAIFKIboluAUQd0S3RbaLpPpa6clVSVqN/RCsnp0aR7iKRN0A3gNTZXZa6akVyiSXSlRPCiW7nbhaSKEW3MUvbAQAAAARDdEt0CyDqiG6JbhOOpzBCYatv0Kj9cp5BIQWnY6Czsbq09EBp1blr3TZteGrvbTObejTVFRwDHWZTW59d/WuHe3iqrb2uUiyqtiNAOYYA0a3L1Xsq3SA8VW+bWJ1hsDvcZ6qvOiDanKgz9dn95reZK7eqhtNq98IntOjWdyjsfa1GWyUdh8aSNPFfZmuVNGi3Y8Dh25jeYfcjW2rFA0ub+qUFmtWHUbWmHvcG93r+QHQLAAAAxC+iW6JbAFFHdEt0m4DGzcVrV61YW2JxqH5NLbWoCwBYm7e7ixWoy85uKOtUt5ByQ+0YUk0CK/2aWdNwJD1JXkjAnDFgdGspEZuR1aB+mH7bUnKqe/zKFwxcyFnj/0JNLWr1pM/tJdqXceCRsKFFt/KhaLWUendTmpLSSi3j6r1TT95lShtTXN+YneL5U3G7e3ZX+boVK9eVdWpW1F3mfuKOdTlV6yW6BQAAAOIS0S3RLYCoI7oluk1IjtaipJWrMk656yN0lWsH4brGO4rdZQo2HGizyjfysnfWbU/VVFQIObpNXp2Umn+u0+ZelCNQfdgA0W1/XWbyqqTcZt/400DblpzXNOxtIxWFWJvb2CuvzWnvOpWV5H8HtogWTJAOxdp1qVk1XfI2OKwtRetXaAYyGxZMkKLbpOSUjFLzwLh7NLHnzmn97tLDa4/4j4PuPLZWzPQtk+gWAAAAiF9Et0S3AKKO6JboNkHZGrLco1mrr1VlrPTPRl2ugdoNK1auKzb7x6xWKXnc2uhtGXJ0uzLr3Ny3GfMU2811VxvwTMVvblizMiWjoK53XLNt68v8I01PVuvNNG31WStWpvvX7bV1XeseUC1nwbcp81Y8UA5FclGLavnuKr1rV61Ir+lV5gSObtfuNusibav7hnK+AbZuXUfWudNz37sI0S0AAAAQv4huiW4BRB3RbWJGt0Ptnul+revX455psMUzc/pZrLdvUchRrDtzzGrwSzD7qtOl0FD7AEdLgWif16QutBpKdLuxbmDurdGXFJArIazf+GaVyZdNSttmEFZK870rsl/OE4/N/LTbuAauJJzo1nBSP1Y6FAWt/vGrvSnXfxxx4Oi22GywaimAXi3XT3CTs+CMGtXBJLoFAAAA4hfRLdEtgKgjuk2Q6Hb8D3dKeyPXdfl/uBrWhDS1bnDnuUPtcy98yer9NN0dcZ7VjImVAsHdBmniwNlNqtGsode6DSVbNCqY4LD1XivNSF61IrXEWzRWWmlG3gHV4FxpKspcq3q4o6NMKoab9EJ6dkFNQ3ufTTeoNZzodlN1t90+rJ0cvlzY8FDIjw0tujV8lQ03ZotdUNpL1RKyG9XDo4luAQAAgPhFdEt0CyDqiG6XdnT7+Karo8B15X+GGtcaTpf/hzvzHfgi1jsTedK4Tl1uaG/ODXDnLv/20Y9uJQ5zia/Aq7xtKevT0tONpirfw502S31JdmqK94WaklHQPKAahBv5WrcRj27lcbvJRSaHvLTVK1bmNAyrGxDdAgAAAPGL6JboFkDUEd0u1ej28U3XDy8vKLHVT1f+Z4IFuMbRrRwI+le/lfWeSl+xcpO3cO0iRbcup9m9oqxGm7JSbWmCoJwOW5+5+l3tTcOWQnTrcrQVJa1cXdjmcDk7ipP1O95RmZ6elt9MdAsAAADEIaLbhIpuxbP18OGfX1+59nn9hfv3fxNPYay3CIAb0e3Si26jEdomaIAbILr1G+ypIt04K7nE4hm72qFKVL0c5sLkSEe3jtZCX5QsbZv/zbs8nMF/lQrFqgr4LonoVj6eSUVmu5LhAgAAAFgiiG4TJ7oVT9+RYxUvZW158ZVseXr3vcKHD/+M9XYBILpdatFtR0EUQ1tNJdynd2O9twsVILp1OVqLklauSi3pUCeF9mvSTN/AVTls3VDZ453htJtK1kuvighGt47eT90bmVHrGetrv5wnNiOz1r8+b19NxsqU1FKztMG2pjdTViQXtYyrGoy3ujNl1ZZ0la9T1e0N6P9n7228orjyvd9/4q71rLvuuvfoOj7Xew48Tg7nzDmTmWGezIQzZoYZJ+OEJGNiIorKaxBEEUVEEdoXbBUUhaBCQCWgBtswiEGIIviCoBIQEVSkVbRVoHltBe27q3Z3dXW9dFc33dDdfD9rL5dU7dr127t21a797V/9tiulWxrtQeA5a1u6JXZmETsjY+P9eKK5mQl9qya/sA5OtwAAAAAAAHgikG59RLodHx/PO1TAibZcSkpOHRgQf64KAJhSIN16jXT7epCRU6dGt+Vi4D45P93VnhRy0i3ZUx4VMGu2X3BsfnldQ31dbYlq8bzZ/OXCGKiKOsv/3dBkdaZaFRvsNzdMnT6pgAkhsfzFx5Ijg99lVxsLyW+16J2cbeqSamJbQ3luXLA/MSPMHMnBJD3PDU4qZDPUa/JjmVXL/GIrLKOqoZEJoTs3OC5drS5slB1tWfn1vdBUtWhhNHXmWU4+VibdmuoYsIhprqoeus2edEtXJyN5ArPaBHvYcApzlAjQAAAAAAAAgKkH0q2XSbfkqty7d//0mYq8QwX8tDsrZ9nK6C+XhS9dEXXyu9NXrjaGR8dR9TY1TSXIXHzs25bWtvHx8WmsCAAzCki33iHdDrQzQupU6rZcunNguivvPPLSLePR2ZQb9nN/7kIHLEwu7RwRZDJ0liUFm/L4BSeRDJOMdStIfj8Pjkwva9aJvE2biuOCLbbNmbdYVWN9b+nq9i8KsGSY+25YdoPACp7xaQ1yZrHyq0yyaLUKpVtiVkP2YrpymjlksF3p1siGepDUZ3s1ocT+IHUT4igAAAAAAADgeUC69Sbpdnx8PP/wN/yQCOK0PCLmdntH/8BA4vpNNrLBIReAqQTSrRdItw/Lp0e05VJz8nQ3gduYMOj79CQZxLFleRjsZXALZtv08sKlgWawkYMtZKqNH9HrhSK4DdgQwwuLeiR3ThimoeUBAAAAAAAACoB0603S7bXrTbZ1W5pi4xNTtmTYzUbSsZKy6aoLADMKSLeeLt1Oo78tP7XnTHM7AF+FDZgQWoaAtgAAAAAAAHgZkG69Sbot13xPJdfViRsEMRAcShtTt9JyduzaSy73dFUHgJkDpFuPlm5fDxrPfTD9ui1NXh73FngYhp7mhvrqosSgOcIl1wAAAAAAAADeAKRbr5RuJym5uqoc5fT3D1y52nitsWloaFguj35w8Oq16yQbyTwFJtngSW/v5SvX7nZKrNhCbozWtttye8nN03Tjpgur8PJln9y5gHcB6dajpdtLS6dfseVSxa8YF2AAXIKhNoXeYgGL81oQyxYAAAAAAADvA9ItpNupkG5HR8dUO9TkjAVFxyS7FOlw+Ye/IRkyd2eRLjgFJtngdnvH8oiYlM3pw8NCofnp02ex8YnEzq2qnaRSgr0Puh9GxsTHr13/8mWfSyxpvN5MzpVzMN8lpYFpBNKt50q3Ldvta6mXlprSZIIq1IaYCrHr4Utyvh6ctgYBvoSyKMMAAAAAAAAAjwXSrXdLt003biqPk1BZ9QO5qpLlTAF3O7vCo+NIkvQhvd1+Z0VkbFTs6vsPpl+T0g8OrktOJabeu3dfsIsLNxy9KkGrfSTYe6GunuzanZVD7h+XWALp1meAdOuh0u3II1sSanOyceCO8JAn542Xljmg2J77gFkATSDFjjw23smxJQQj6C0AAAAAAAAAAEi33i7dcluUJPFRUyndkp5UUnpS0q92dHRsq2on2fXd6TOe0OGIDQdyDxF7LtTVC3Yd//YEbbolYRHXrjcJ9uZ+fZjsOldd4ypLIN36DJBuPVS6bdog62n7vNHWgU/OK/LAbd5oq5DXg8arq2QNgOMtAAAAAAAAAMx4IN1Cup26ZcoGBvRJyalLwiIuXLzE3171w3myMWVLxuDQkOAQYl5fXz9JpHe60BJSmu0yqf/sgdxD/BuASszLI2L2ZOeQvUcKi63KHB5O2Zwu9tUlJQwODpHT9Q8MjI+P2zaM3HWklUhmel1sS7dUJrNbWeAJQLr1ROlWzuXWWjYd0g+e/U6THB2/6svlJBXsz+199JjZMXDHjnrbZXpE8A/fp8o0Hc7RvBGOtwAAAAAAAAAAJIF0693SrVb76PKVawpTa9tt+iH/dEm3hPqGK0tXRCWu3/Ti5Uu65ZlOl5CYvGxltMCJtb9/YG/2gdDlkZz0TI5qbROu3pNzMJ/sarzeLNguED2p6hoeHUdKyP36MC3WhjcradjoVQnrklP1g4Pijc03bpGiBMFw7927L9hIbh5S35i4tVwVSDULio6NjVkFyaUHEvM6u+4lbdxMc9IaSUq3pOnIWZaERZSeOGVXCwYeAqRbT5Ru5VxueUESOtvvfBoU/N6/BgjSiW+OMrufnJfVba+usnF4wf5cK0tqQ+B4CwAAAAAAAABADKRb75Zup7ccJxgfH9+bfYCcuqT0JO1eBUXHqH8rX4XU6Z6vTdpItsfErc05mJ93qGDDprQlYRHLVkZfvnqNX6CD0u2q9G2ZpJy161PIrtIT38nZyeXv7LrHbbxytZGaOjg0lLI5XRDuljrqcq64pGqnz1SQc4UujyRFkSrs3XeAFEjyZGzfRe417kAq3RKT1qzbSCpILCQ5f2q9La6FEbqt1wLp1uOkWzmXW16Ig872O2LVlUtH9h1kMknGvWVVV3L4n/7rN3KHZ2fstBjzvBGOtwAAAAAAAAAAxEC6hXQ7pdItoadHG7NqDQ0sQFcni12d2Nv7lMtAumDm7ixiXu7Xh7mouNSDddnKaHIsKYHL7JB0S7ZExa6+03FXiZ1HCosFgWvpFhoAl/9/Iy887pWrpviYt1p+ItYKTjc0NJy+LZNkKyg6xt1aVLolG8kuksFGLfr7B9IydkC39UYg3XqcdNtVJK2WjliiGUg6zPITE/rgSY1EIT/tIIev+nK57cNvXOWF05V0vCUbAQAAAAAAAADMYCDderd061DAhLudXXLlTEtFUrZkkLQkLKLqh/P8vbdaWpeuiBKHvuVcdEtPnOI2OirdVlb9oNDIa9ebiG27s3JolAkaypbztKV7uWC4+sHBdcmp3F7SqqRtxVF9jWblOi4h6ekzHd1Cpduo2NUPeZK0uBZU9iVlFh0tgW7rdUC69Tjp9spXElLpuQ+4/XXVNbaFV5JUSSlMVnHE2+eNtj12adoQHWexp6tYWkpGzAQAAAAAAAAAmMFAuvVu6da7linjYAIObMmgNqRl7OBHDyAc//YE2U6MFB94u71jeUQMP56so7FuBWuI2eDp02ex8YlcuNsH3Q8jY+JJIaQo8V4uXi1/b/za9S9f9gmKJbfW7qwcvseu4FjJWkC39XYg3XqcdCu5wtilZdz+I/sO2tVePw0KZrKKYyYoO/xP//Ubiz1yMROenBdaDgAAAAAAAABgxgDpFtLtNEi3RnM8gRWRsbfb7wh2yamxhL6+/vg160ki/7GdefLSLfWcXR4Rc7u9w2gOZXv82xP8vVyB56pr+HttqLFGc/tz2rRd6XZ75h4aZoH8K1jiDHgLkG49S7p9fk1aJ2UDHVBUSSl2tVeSmKzOSremw00myUi3TRumtGUAAAAAAAAAAHgSkG69W7p1KGBCa9tt+u2/J0i3YhGWYltjpUfx97pPujWaG+pMRSUNZbt0RdStllbB3nPVNWTvvpw8/l7x8mLiYrm9dqVbkpaERSxdEUlOUd9wRbn9wHOAdOtZ0m17jrRO6qDX7Sfv/5HJ6lbplhfDwXMw9On1fXrDhMzuCYOeyWCYUptcikHvRvt7qlXh4aoaYYAcZ5nQ1qgiw1W1PXKXA1Bot1R2VfVdzfV1DSS1au0dMKJne7t0kr5HTDeI/B1k0LayZ69v7NIruazUhhGZvfR0Cms+CZi7xt5ZDC1FseFxhS2OGGOw2VYuPJEPM9JWGB8ZW9yG5vBW9M2F8SE/9ycvSwHhGlcNHjMDdH53MCL7WGZfn+THIy/HjSOL9785gykA0q13S7fTW85kkJNujR7jdWs0x2fYnZVDTrcuOVUQAMHGXtd63S6P+Krh8lWS6LpnnV33lFcBeAiQbj1Luq0LldZJecuCTSrW7cCdG1cbHYt1+/C0tEnMymmPprRxFKA7FTZ39pygnDapnYYm9fxZs/1iK/RTbZbL0JWEkj6panJL4drChUyHD8rtck153UULmTtofl6Ha8rzWXpLQ2fPCS3T2cmmq00P9uM9mvyCkzQ2ZPEmlewzbdbssJJeiUM6C0Lk9xo6iyPn8QvxX5Bea9PmkdoUfzanSuKtSd9WFB7A7g0ttVfzScLeNXbOYqhJZo1ZW6X86aArC5NrSdeeyK249dcg+2evTWW7U1KlhzSHz+PID0UKSmvLDmKeRT8PS81MTi3xxBdAzwWd3x2wA5/EY7mnjHk5nBusbvIQ6ZbeiS4zxp0ji6E2Zbb73jyBjwDpFtKtx0m3NmLddnbdC49eJY51e4W/UDuLwLPVOemWLj4Wv3b9tetN5FhuyTL+XpLI2amGy+21EeuWuug6GuuWHnj6TMWSsIi1SRt1uufKawE8AUi3niXd1obI66RPuFyfvP9H29prZ/sdaW/ZrmJy+LK/fmL78Bv8B9fVVbImPb82pY2jhIkuVn8MKRTLj12skuh2ncituFW6NRpaSjPVpa2um0u0lqkzy+BSZA8l0q2hOZORSOYnlrXpyHyvt6tGHcJMRJNr5ZpX39FA/XOtkyZl/pxZ/lJigZYxQ066pfPeoLVFTd2M41JPY1Eia096o9z5DfVp75meogLpdkJXk7aAnUUvCPIU6ZZUvzZPne+Qy7lT0q0zJ3In7n2k2GdCW5Orzqv2lObwfRpVs5T8UKSQrqLg2XMCsyR/KwX2QOd3A5LSraFRxYw1QSpP0W2NpnFf8ndNJ3HjyNKcTkxdVNrjjrKBrwDp1rul26YbN/MOFcilQwVFjx4/UVLO1GNDur3V0rp0RVTKlozBoSH+dtIXS0pPErOPFBZzG6nOe7igiN9TSU9Oy9gxeemWxklYHhGza082jY2gcC+NhLskLOLCxUuCMnt7n8auToxelaDVmjzpFEq3tF4Z23eRLeRfwdpuwMOBdOtZ0q2cSEpS+wEuV2f7HRvC65F9B5lMzRvlohyQw4P/8zd2PHYpI0+kl03zWOmW0LafvKPPDdNYz02pQiEl6XoT062zAHegQLrtKQ6ZNdsvtIwCVKcQAAAgAElEQVQ/LaPa6HvZLY6cq2V/oLRbuq48zG9WoCp9rZR021cV6y+SiXs1of5zZi0skpzOGZrV5DYMTVMtEs5OyYmYb6sX5TbrJ9gJoYdIt06U65x061ngkTLDcK1069rSAJg0YunW0KgOJkNVUGqNR/VTl0u3bmRqRmrg3UC69W7p1vYyZYLYrDbKmXpsSLekC2buziLm5X59mPyfbiQdsb7hyrKV0TGr1vT0WKZVN27eItUk28le2llHR0f35eQtj4iZvHRrNK9ORpLksTb20nXYomJX3+m4y20cGhqmC44VFB3jbi3l0i1Bp3u+Nmkj2fjd6TNeenPOTCDdeo10y4Y74DJ2tt+R9L016bZyAWrNjrdyh2dn7LSyx4bLLUkPy6e0cZRiCoyQwhOa9BVxEoEUJgw9LZpCtTpTnV9S3aYTfnuu76xrqO8QeCcaepob6uu69Pw/m5mwo7rG0jxSVHGzra/VJkiZbDZyxjpBtFAlp+PpLH1dNcWkHHVeWUOn8CMKi1X6rlq2gkU1XBkTulZNUSZjaq3gQIO2ub6uuccg2NhWzp4os1gjEV/V0obqQk2b9bEWMwQlmgzILa1pEc0F+rrq69gakbaqNmWr71L2CaCt5uWVX5YvWx0WfVdDSS6tUXOn8Mx2rjjvWEFrSOdhep196barcMGcWYH7WwU1YkNSzE1tUOzXrC+PmjPLP65S2GHoDcLcMpIuS6xwHFIofLobWk+RWpQ2iS8O/Yx6YVGnVjw71ZUnJZWbinJ0QmjQtTSIuih749RZdxHSycnGFh2bkSfd9po6M3PXCMzmOp41Ni6oRbrl7iklfVXyRFy3VFCC5T41aJu4ziynIPM6fJN1yWw5mnTStWZH5rFO2U22AygzN3stbQ2Jx46Td67guWf503R/5ZZarNKb6pJX1iz7qDFfYqkb0Fw4Z+FZ3m8h8sOBobdNunFI+1u6Ga8dZJ8wTj6ZJSwUPd8U9Aq2+ociyVtNcJqmXnzX2D6jYIikdVdQmkOtp/DZa1WrDqtngqUdepvZoookHlCC0lzSZ6yuiOSTijOvobXXYFW4APl71igzTNO7T9jIjjxVzIXbHO5tVdmqFEVDvN70DlPZLX2s0nHfGuEQRsYgfzLqhZVIuqMqeB+wbZLlcljuX/mizAcxfU+jCibDX1Q+e++YL6h04+g7G6TvL/ptjelOEYwsjjyQhe8k7L3J606QboF9IN1CuvU46dbIEyhj4tbmHMzPO1SwYVPakrCIZSujL1+1ckAbHR1T7VDT6kTHJsQlJJE85NiKyiqXSLda7aPoVQmkKH6UBiV7ufgGocsjyalJFfbuOxAevUrsM+uQdGtko0ZExa4WNwXwZCDdepN0WxtifG1x+R/SD5YVHt0QHRf7RRhJ2Rk7ex89ZnbYdpXlScCVp05LHM5hI8qtyRE4Z+paxiFGGtID58wKVDUZeH8GqZv4r9PaqkSryKHk5T4k22qFB/ZtVegTIXBSo6pQUXkW8wG4ncCdWo0puCeXrNxAFJ9utqqGepFYipqfWKEVHhVaWs9+5M6FRl1Y3CW0wX9BJu+Dd5EXoaFJvWCu1e3gF1rQZTlgpDlT2IZhhR0GgRn8BumpSLK2fM7ckP1WIRpYN670akHJfsHqZjsCpZ3mZarTmrt4nnV1gpOqrMLFjrTlLQ6wfgJItq3UFRcfK44GO6GtTLJqUib0Xoc96VanIRnmSrjnmCVd2y3DIedyywalnRvLxMiTkm5ZP1lHPpZkY+bOz26TcSyyNLjDE0K2i/ql8yNR0VPMXmDlUN/G1DS4gG4y9cOms0lBNu532vH4JUtdUH5nMN0vjVVs7AjejZZjM0iI6EQ9p6yDCJNrlFor+iVJ0AhhJQ2CDh8QfkogTog7/JygtZYOz5ZjtddWJxQ/MAVndPLOFTz36J+1Tar5/HswpVZvEDz0AiLLeZeCXuJO+lm07A1ICy8tjzJfVu68tocDfVUs2RKlEcge+oo4kjPcslnqCZPGv5ROPpmlLQyI5D1slfQKtvpWyaa3te026eXiq9grTWHrKX32Ch8XgkcWbYfCU/vNvUXOL94NfYZ3RUR9w7S5MpbkjCzv4xfOfzzauWeNcs7+IvdnR58q9od76SovzrNeF0vpEF9m6ajcw1B87Lyook4HQxxY9Qct+3D2D5OKwmz3blVkkulydDSnB9kpigd9keMns8EyjdOaI/mFTVt2IO83XcHIovCBLHonYcJKCN9JIN0C+0C69W7p1nbABJLuP5B4jnq+dEvo7x/Ym30gdHkkp0Qnrt/U2tZuO+eSsIjUNNXjx09cskwZd6AgSoPCvdRTOCZuLVeFZSujC4qOjY1ZSbSOSrcEUuzSFVFYssyLgHTrQdLt82t2pFKq3vJ8byUge23rtiSRDE9qbBVC6Cq2b4zHSrfsAiDkZXQhq9205gidcI0j7Hu2f0hmnZauRKxvKWX1F35EBcVaqr/f3KCkkhYdU5RBRqagfoiBceXmqZC+rSjUrJc5drrZ84OC5idquqjlBi1dvWp+ZrO1Zhr4XlCIup7OB3prU5jaBcwLmJ9SzVZ5wtBTncpMWXkfvAvmhNRVeWFWs8mzZkJXkzrfJMmx+ytjyXlDshvNNaBnCeKcQ4UzbRpvbi6xinpzTOhby5KoDZ3cJIedbwQGzg8taNObK8gaz53XueblorWWttJps0FLI65apMwJbUmYH40naz51Q2aIn3Xnkbnissdamc12RWYKbXKxITakzg9cGBJoWzWT/yq5Po20TJyyVW7kXG4NNcl+ZHJbzl53KenW3DMndPW5cQvfZeaBc98NSSlulp6askGlg+j80M43oY5PCNkCA3nqM5VIBO3TWbCAJ+bS22F+UHBqOfU5mjB0apIEnV8475W4oKYbjbug7P3yXlDQghSNyfvM0KUxPUZsjISCE7EBXgJjNZ20S5CbooB0VFurKdLzknvEdC8zj68i1rPM6uKKO3y9RHxkZQETzKGWuTOSG6yQaR9eTZ27cyWl28D3FhKz9fQ8tGrk2RVW2KLnNRHf39x8iQMWpFfbe6T7+80jj6Bu5lDT09r+cGCoT/XjKW4U9obi3X1yDc77scTJJ7OshbwrrrBXKA1xoGiIVFiagtZT/uxVJN36zfVnw4IzvpAGg7SC5p4+w7W2oYFZpFEgWPdpwklp8oO+kntWkXTr+FPF3nAvWWV2qUleB1M+xM/1D1iobugZsVwguWP5g7gSLP3BZLDoVxAWBXerIpPMo0BAcJp5WO9rK1nLDPQLC2zG55IcHGUah35hIwwqzf4WaxkNpaRbuw9kyXeSuUHzAyHdAgeBdOvd0u30ljMFEPP6+vpJIr1TSU6x+jntkFtocHCI2NY/MDA+Pj7d5oDpAdKtl0m3XNzbEVG4cLJFMr6tXCKZxYUYWfH30jJFJTRtmIJWcRY2dufssMLq/IWit3/2A/D30gUfmtOPuy1zLeVaqsy3eHzY1/Rg61d5XUtta7f1J2mKTieaErChSHmWm63iz+4a2CmB1cf1dElii/QgmBOyU6DUGn4jGbrq67rMH7iyBlvHPzV0NdR36cxTZcFMW8usIBeoqrceM3uOh1l5J9GpiyCsagvfiVIKu81LJ9KhpVY+tiYdVtVEJzZ1jNwfetz6Wpo8uK31aNEVZ48VTYzpdeH6Hp23C2yY0NJrale6TW+Q2CO3mrYEMi63hgZVIC+KrkSBrM9vYJaG1VYCFsarMtPMAm6YoD3N1eFWg3G5dEsdjRcUdZrNZ/pw6P7sKL4gQkUZzhlZMs41lZMWW66j9bxXujOw1eHcn6nXquBmpAcuOi7/RLA+EVuItcuwUdda3dYj/2opeV69hvl03aJzSXd4cXxkZdIt+5V0iWA9JbZHWfqtc3eutHSr4n8h0XN8MVPfYv7ZBf7mOumbiH2k8x56psKFjyAFwwG9rFZOlOztbCmcbXCRzER/3+KesU4+mVkLRQo4lefMd7SiXmFUKt0qGyKVlma39Rx49iqSbkVFSTD5PmP7ikgI1uzl8Eupkxn0ld2zSqRbJ54q9oZ76S5haFTxHgIODPGBacK+xRwbJAwKxAqL79n87UeyImElHV3sb0tzYs9KCb+K7lZFJpm+XRB0SzoO+qfW2/jiQF66FTWO2RjroEmtWe+JfzwTSLd2HshK30kg3QL7QLqFdOvR0i0AvgGkW6+UbjkP3EvLGAWW/HvuA8eO5RfSfsCUftrhWDkeLd2a55mMy4zJo9CM3GfmggmzYi1Vybfk9KPR0PxWWQcS5dKtwH1JbLmUVVJzbMlPTbk/6Td6KWflXtfpx3qplbK6ofVMm65FLv5a31CbwndEYu1MsZ5umFrPxoIe9prXUJsqUax1FoFcwsG6cHJTNckrzh5rloBFZarqJ2zZQP1GbcgfhrrUWYJv+c0olm5lXG6pNyVv5iZRIPdlND8AxYS+KUfoo0TQnQqby5/eu166pZfDbOFEc7o/MxFlu65Zd2A7A89Bib1kFrXXvJWdcgs/LzX9SS+ctZAhQkofUbD4jPUE23T1D7VJR41Uft42KyGVdjYJJzvhbTiJZco68oNF0q3Dd66kdJtm9TOF8EpJmE3/FF8v+n266QaULFzpcDDBPu54fVUgw7EN7ie+SemFMP/u4tyTmbVQ4jZht5tLU9Ir5E4nQuEQqdiHl71P5VvPkWevIul2sf0fUyffZ+xdEeFvG6aHMF/Os+r8Cu9ZJdKtE08Ve8O94DczySwODPHCXyLZYyU6Ervd1i9hItj+4DcvwBwlgO/wa7FIwd2qzCT6dJIb1iV/cDUhL91KHiUMFkSfSDY+HFHwQKZGKngngXQL7APp1iul25hVaw7kHrIdKsFG2pi6FdItAFMJpFsvlm6nPXlwwARK56EFUg44kpMxBta9i5v9Ko91q+SN1tBEo6P6vxscnsqswaITvC47EOtWrLPQ1/rMZl42gVWOS7fGXlPAtXlBi2PVpTUtWsGXpzoNjaYXELQ4LrOM70EsZYbsnERbsog3JxSHHJVtHD52mlfBfF5ehW/gT4Ekrzh18wxLYZdr46fYhZYWlrVBborIwbaJ5LeuCqVb6hsldrllHYis3FHlpdsQoSo00cX4AfGVCNbL2MrNxw3SLVWjTK3B/J9Vdpg2NE1rRdNy6ZvUpnSr6CcZaQ3FQenWaGjODqYxKBaEJxeVN3YJHwyOnNfa7U6qs000WDvLOyLdGrStdcwKRenxi4MXzKdhIgXSreN3rmSsW6v8SqVbqetlJfRLG6NwOKA+blxRrAzHc4Kj302HpgqfAJnxIbxWcu7JzFq4ME5Ysjo1NNDSCEp6hdzpRChtE6XSrZ3Wm8yz194oJsuk+4y9KyKU+1kPR+tv3q0KV3jPKgqY4PhTxd5wL9slBDY4OcSzGxfGi26f1LBAOw8QIWx/mEMD9XaeYqMiqIThthXdrcpMcn5YtyHdSv1Ma3JU5/KzPwxYebJLxrq1+UBmb2clxkO6BfaBdOtN0u21601LwiJsrEvmaDr+7QkvvcAAeBeQbj1IujXaW6bM05LHS7dSc35bjmDW+V0r3bK5G0vTw+dzK2PMW5haaXlpVnw6Kc8Xa8tdJN0a2WWOzeFNWf/ld0NzrZZg0nfV5sWH/Ny8jsfcd8N4i5ZYmWFyQpGYk1jX0UkBiC1IvnlZlyLb83mhV50Fq6aTvOLssf7vBi9YIJWSKnU2bRDLK8Laq2W+wVfkHGqOCyFyuaVBaa31XAnplt4vUr3OWuOgMXOtz+IO6ZYKIqyQwRhgcnZmNrIOX+x3ylaubU5It/KdQVjCpKVbpka6pjJVeBC3RlPAwuQqYSQKZeflepF8hxe0uULplrekD9vPw5PVhcfVizxKupW6XtZtJWWM0uHAJGeY4jbQmMs8GY5tcL+fB0s+ARYkVkxCuqUWBsyXebzku166Vd4miqVb+ouLTOtN5tk7Oel2Mn3G3hUxmp6Qpk/aqVxovdKUVeEK71mFy5Q5+lRh6yU/3Nt3n5/UEE+PnRckffsE5zos3ZrlWgO74KFf6Cmr66zkblVokmx/szusOyrdUn9w89DWpBLFj3ZculX8TgLpFtgH0q03Sbfj4+N5hwpcpdumbE5/8fLldNUFgBkFpFtIt86nh+VT2jiOIy3d0tdQqbUv2IkW54PgeumWw9DbVV/MLt9hiaTmgNdtvWgCJrEuk0ukW4vF+p4WDV03RtL906DXtmrUC61WxZHwupU61voj00lItxZjRM1rmjbbCpknCJDKK038ybOk163tj0lt2GBX/qDT5mRxuAdW8rB3XhmXW1152Bzx9DUowLIxr5l3Fin3NCufHVZfFsoZwe9aNiZViWro5ISQnbWm1hjYZjc3C7ORNAX9NFu8EpcTXrdSnUFUgiukW44Jg66roZBd4kbsIq3kvNZet1KdjX68bPGeUyTd0lCkc8OKWvnOe4Lp/bRLt1LXq0nNRDwv19kwRuFwYDSFm2S/UBZHJ5COVyBkEl63Ere/ddEu97pV0ibKpVtbrTeZZ+/kpNvJ9Bl7V4SBXV2KFawlxwix1639e1apdMuh7KlifUbxcC/bJQQ2ODnES37d7xTCXx9pUCB/q/D0iu5WZSbJXjV2QBRIxlY4LN2aQuozYUYkhjlnpFvrr7V4NAi6U3Oe9AgOgAVIt94k3RLIVbnd3nH5yrVJppu3fhob87gVvQDwVSDdert0W7bmZ6uC39n2+TtDx52RXys3znP+8OfXprRxHEdGurVyXuDBzi0tEUvZd9wwjdXbKl1IxDnpdoJNPNhvSLmXfsWnE3ruiC13nXQr0IiFC2QLM9BVccyTN2szWP3RejUeFnZya/kM0Gnp1nbz8n2++AZ3NNTXtVE9ivVA4S36YYKuNsM1i/QVZ48VxyC2Nomdy4ltYNUQ2/IHdZtNrREsMiNYYNrWsSKXW6OuMknCmUhKupVy8GGga8SbfX6b8yVck9wj3dIZbHqFJpanFLAqT1hJBS+cAr8FHJNu5TqDvrOuob5FZ+vLZWe8bq0zULdieeFYkUgn0+FN60FZOpsi6VYkYlpO4UHSrfh6CVtS0hiFwwFnCTmLRYW00Cb6ftlkg8hsh5/MrIWBwuWSBIW7VLpV3CYOSLd0nSvp1nPg2euvtu6rbGlOS7eT6TP2rojlLKSyFg2Xj3Xhyu5ZSbmNbVuB163teklha7iX6RIGbRN5JHbRLJMY4oUBymVMUoDEhyPa0lB/3uKZRmV3qzKTTMsDiq6a9dudFI5Lt6bV1VIb9JyGa+NYJQ9kth1EdTQ0qd5Tfl8DQIF062XSLQDAG4F061nSbV2oQ+Jp54F57/1rAE1h7zssv1ZutByu+vydGSPdMiqPOAKavjrVetkl09Qur8O8YUJfz3x854x0qzsbN4+8als5SbAfmAvmpUpOx7i/Wa0IrK9TBYrXZZqsdNuWF+QnXOKjizcHa8kP8hcuaN5ZEMILMyowg9Z3fnojrxEm9HSjZYbjlABkv3lNgVmtXG9MK5hzIgKtnXXbGjvymY0WtVrmitO1xdMarJaFGalN8ff7ebjGVD6ZPIvcf0yzSnvTJIkeO6EtFEgPE7r64vzyDokVwJU6W8kFz2VrJ2iZnjImjKDERJ2POwImGE1uaIGB1h97UuHA30+03pEz0q1kZzA0qPjaiiukW11lfIBQlGe6ja1mUSTSSXb4ia68hQIdny7KpGRBNutfjCa0JewC7p4k3TJxlvWiLsp7Rkkbo2w4YGHFrOD4uIXiG5be3YGqequ+xzyF5r4bWd7Ns9PxJ7O+Io4R7wTyENNFA4LUDXZ/SLAqvM16iXkZlLaJI9KtrdZT9OylvyH5pVRbmrjnOHOJJyHdOtlnlFwRU07m58wFsUwQVbFV1oUrvGcbVXMFZncLBhEnnir2hnuZLkHa33q5OaeHePIgYsZrgZLOvFEEzM/kWlRqjBMgOYSx62fy4rArulsVmUSfTkxr84uiw7rUCmm8Gkt9TGNbujUpwpGx8X4Sy6I6Id0yH98wVyel2tIvdNWpQf5+Vr/wTehbNfmFdVBygS0g3UK6BQC4HUi3Xi3dlq35Gae9kvTpL9+5oVZ0YO+Recl/e4d/bGyw49LtyKMpbRzHkZNumRfWqAAy5QiOzS+va6ivqy1RsZEc+X4Z5ukZE/EtWZ2pVsUG+80NU6eLJQMl2hOdOPkvSCyurWfOqMmLZZbV4s9LlZ5uUX5est+8xaqSajnLXeN1y+qwc+Yt3s82UUNNmWoR45JpnoPReebsgEVZmnqrNrRefIZvBl0IxX9BbC57SHVp+uKAWYLZoHMCkILmNTTvD+bn0eSHB82xnmea1jozt21DeW4cewh/Li13xbljUws1Vs3Fn8caGlVMGIeAxellteY8frFZ1jFDpaE91lR+TZk6llmFxi+0zGIZ67km8EqTc7mVRWbdM1Pt5gYz69GRC5fJNq/gfpHAYemW/bRW6FgnhgqOgg+QzRslw1k4Kt1aqpxUaOoMkUHWVXaJ1y0VRLizkG5Jr6xkWBK75+X3IlOHN3c2rmR+n+HagfSrTLW6Um4A79WEskVls32b3rmBoWHBHiXdLlKlh9l+MMoZo2g4YDH3MSkXe67BU4rlnm9OPpl5FqrlHk1KpVtDM/N7FXkIp6kzi5vlv39X1iYOSbcmP33J1lPy7DX9hsSEbY1Xke6aQpo3SJ2ZPAnp1gV9RvaKmCvNKnQkRYmdPIWFK7pnqezIBHOPS1eT6hOb52eqU/kXwomnip3h3lJlLk9tSVrIXIHg7vwQzztWXVrDH8R55UuNcUJkhzAa9NbckgruVkUm0WXK0lVhc62GdeHQLwV9iAUsYt73qmwGjOLBfmozS9Id2BnpllhRm8J2p7nvsh/KvOvH9OEGq+cG9ftWEBAGzGgg3UK6BQC4HUi3niXddhU5JJ4OHZ8XHPBvfAWWut+e3ciIs5KH1GXM2/b5O4JDSKrc6KBuW/PRlLaMU8hLt4wfQVNuGLe+FruIR2mncKJu6CxLCjbl8QtOIhkmEeu2tyF7cYCla/m/G5rVoLPym1B8upGuwiiuKL+fh+U32XUzdCJgwoS+1WIPnSumlvAdXvRtJUmshCfdhlJm6Jvzwt61HBIQklLWpcDrREHABPvNazR0lKYstORhFlUTaRc9mtSFAXN4bbu/3qoCtq54TzWds5nLD44rFJWvb84P5daBIdO23DaD3fVMKBO6+ixejyVNp7ESCQzNatY31hJzw+Qnpdjl1ig77zXVjm85udattgIfsjgs3UqFDZGCriEjcB6k97uoJZ2Tbo3s/SjoDFY3mqsCJujq9lt1m3fDshtsNYBSkY7QrRF0eImSmX5lWoJMaik8E4YWfr8lTydNT7eHxbplHoxteZaHAH2EKjNG0XDAtgMbfVU26Gd3bbrVU2hBbHEzz6nTaemWtbA4zuppvFhVw3vhUt4ryGMwMZheSomw6Y61iWPSrem2lYsSa+/Zy1azwXKzzFvMZJjsMmWT6TM2r4gZupikZBBYqcKV3LM63mAXsJjJILoQjj5V7A/3RtEYxHQJjXDpMyeHeNOxhbFWbxSLVLVW3z2IxjgxskPYSHO64MdaO3erIpPM/Y23kCMrmgubThLLdTSHo7Er3dLQ85IqqnPSrZGuaKeOXcxIt4vi8+t7Rc8N+tNdkLrJBbGIgc8C6RbSLQDA7UC69SzpdqDdUdfXzgMS6i3nhLsq2JLC3pdQbGnKDnPc5bZl+5S2jJuYMOj79CQZbIZUM9jL4AAjertnVHo6WpRtt8fJY24i2RMZ7NdI5hA3zAMUNK8pj97W2Q20yk4ZaLDdXDSP3tnyTZdD5kiD26dW1HKX3Q4C2Bmj3a+5p5jJdAaHz+KO0yjo8Gy/sn9qJX17OrCSRCd9c026e4+47fnGPY0nXbZBYV9zVZvQk0rG6BTkUVBBpcbbwsV9xsU3rpJ7VkErOPxUsTvcG5V1ickM8bbfKFw+xim5W+VNsvqpwODUM3zEoSeqVKBtlyOIY25kLrq7Bn3gK0C6hXQLAHA7kG49S7olfP9LR1XU3iPzYoNlZVnbKTjg3+oyHBRtaXpyfqpbBgDg2zCOQjaXdgFAAke+fgDTBhswQRyjc3pAnwEuQLGXt4toEYmqk6S3trBC+LEF/dAhRdo5HgBpIN1CugUAuB1Itx4n3TZtcEZIZePefvJLxwRc1ecOr2xmSa8Hp7plAAA+Tc/xxR6j7AAvAjKcZ9PXxUSDVYdYrwA2vaDPABcwVdKtoae5ob66KDFojnABukmV2szGTQ4Iz23uoWUadKa4GQiPABwE0i2kWwCA24F063HS7cNyJ7VUNtVlzNvw0TtyIRRoWvb+O2Vrfua8aEtSXehUNwsAwMcxNKkXBOfYjGgMgASQ4TyazoIF5kiyVcLQqNMG+gxwAVMk3RpqU8yhjfNaXCqp6pvz+AF/zbF6K2XDngMgDaRbSLcAALcD6dbjpNvXg07ETBCnzgPzKjfOOxLzDpfK1vzshnqyxZrSw/KpbhYAAABACibsp7ujEQOnURK5dcpBnwEuwODO4O8cLg05LcbQ3VZfXZqnVhdqGpq67C4/CoAEkG4h3QIA3A6kW4+TbgntOa4RWN2UquZPQ5sAAAAAAAAAAPAkIN1CugUAuB1It54o3brI8dZdCS63AAAAAAAAADDjgXQL6RYA4HYg3XqidGv0YMdbuNwCAAAAAAAAAIB0C+kWADAFQLr1UOnWYx1v4XILAAAAAAAAAADSLaRbAMAUAOnWQ6VbQlfR9Au1glTz0bS1BgAAAAAAAAAATwLSLaRbAIDbgXTrudItoWnD9Mu1XPr+l4wvMAAAAAAAAAAAAOkW0i0AYAqAdOvR0u3rQcbRddpFW5oG2qezKQAAAAAAAAAAeBKQbiHdAgDcDqRbj5ZuCSOPPCLoLULcAgAAAAAAAADgAekW0i0AwO1AuvV06bp49NYAACAASURBVJYw0D7N6m3L9uluAgAAAAAAAAAAngWkW0i3AAC3A+nWC6RbI+t7Oy2RE77/JfxtAQAAAAAAAACIgXQL6RYA4HYg3XqHdGtk495O8aplVfMR3xYAAAAAAAAAgCSQbiHdAgDcDqRbr5FuKV1FU6Tb1oUyYjEAAAAAAAAAACAFpFtItwAAtwPp1sukWyMbPMGt7rd1ocbn16a7kgAAAAAAAAAAPBpIt5BuAQBuB9Kt90m3FHcIuBBtAQAAAAAAAAAoA9ItpFsAgNuBdOut0i1l5BETQqEudLIxbVu2Q7QFAAAAAAAAAKAcSLeQbgEAbgfSrXdLt3yenGcU2JqPFMm13/+Scdp9WM6IvwAAAAAAAAAAgINAuoV0CwBwO5BufUe6FfB6kHGkJenJeUaipf8faJ9uswAAAAAAAAAA+AKQbiHdAgDcDqRbn5VuAQAAAAAAAAAAtwHpFtItAMDtQLqFdAsAAAAAAAAAADgKpFtItwAAtwPpFtItAAAAAAAAAADgKJBuId0CANwOpFtItwAAAAAAAAAAgKNAuoV0CwBwO5BuId0CAAAAAAAAAACOAukW0i0AwO1AuoV0CwAAAAAAAAAAOAqkW0i3AAC3A+kW0i0AAAAAAAAAAOAokG4h3QIA3A6kW0i3AAAAAAAAAACAo0C6hXQLAHA7kG4h3QIAAAAAAAAAAI4C6RbSLQDA7UC6hXQLAAAAAAAAAAA4CqRbSLcAALcD6RbSLQAAAAAAAAAA4CiQbiHdAgDcDqRbSLcAAAAAAAAAAICjQLqFdAsAcDuQbiHdAgAAAAAAAAAAjgLpFtItAMDtQLqFdAsAAAAAAAAAADgKpFtItwAAtwPpFtItAAAAAAAAAADgKJBuId26nXLN918uC6cpdHlk/Jr1R4+Xjo6Ochnu3bsfHh3H5aGJZOvr6+fykI54velGUnLqkrAIsjcqdvXpM/8gnZXLQDKTQwSFkGJJ4fyzJK7f9OLlS8Gpt6p2jo6OyRVCU87BfMlDOAYG9MS8ZSujb7X8xG0cHx/fm32AHE4aQdwypFKHC4rEe/sHBoidKyJjO+520i3k7CRb4/VmJS2m1T6KXpUQl5DE1ZT8h/xJNpJddMvw8HDK5vTlETG32zuUtx53EWNXJ2btP9hjLg3YBdItpFsAAAAAAAAAAMBRIN1CunU7VLqNiImLW5NEEvkP+XNj6taBAT3NQGXBZSuj4xKSaB6StqRv5zKQXnj6TMWSsAiSYuLWkmwkMylkx649nH5KxUeqKnKFJG3c3P2wh38WclTeoYLx8XH+Rk6HJWck56XHLo/4imSOjk2gf35TfFzyED71DVeWroji77rV8hMxNSk5lauLgBs3bwkOkdwoKd3KtRi5h7fv3E1KuNXSajajlfxJSrhQV88vIWVz+vDwsPLW485ImoVquJrvK730GTHFQLqFdAsAAAAAAAAAADgKpFtIt26HSrecYynpZmkZO5aERdTVX6ZbbIihlI67nSsiY6NiV9/puEu3DA0Np2/L5BdCxUeBry4fTrpdtjL68tVrdk8tUEsF5UgeQm6ezN1ZxKoLFy+RP0kGkm3piqgrVxvlGoc62PL9WzlX3MqqH+SMsdtigjY//u0J6jB7IPcQvaUv1NWTP48UFjvUetwZSSE3brWQK8J3DQY2gHQL6RYAAAAAAAAAAHAUSLfeKt2Sy/Pd6TM0eoDdtDtr/9DQ8HSZKpARxVvsCpFHCosFUiah+cYtvjOsQvFxZWTs8oiYhMTkZzqd7VM7Id0S7nZ2kb3UzfbCxUvkAmXuzuIHdpCrHdcaVMyNil39sEcrZ4zdFrvd3kGquWPXXnI7jxkMGdt3xaxaE5eQxLnZ5n59mNh27XqTQ60nOCO5Inz9F9gA0i2kWwAAAAAAAAAAwFEg3XqrdGvkhRGwrdvuyc4hV3Ya7RQItVz413PVNXQLlQVT01S9vU/7+vppIt2R7qXKY3j0qs6uezbOQsXHVavXPeh+yBUyODjE9WBOfKyu+XHpiihiA7HE5dItOV1B0TFyYGHRsaTkVL47rRxUZuUKpNESqOoqZ4ztFiPoBwfXJafGr13/8mXf06fPYuMTD+QeOlZSRu2hgW7JRrLL0dbj19quggw4IN1CugUAAAAAAAAAABwF0q0XS7dGBerttOu2RrN0uzF1a96hgoNfH05Yl0z+5C8XJrnoFrcsGA07YFcDlVxoi68qcjrj4NAQsYSGNXC5dEvo7X0auzqRGlBQdMzuLUSFVFpBLloCp2tLGmO7xYxsxziQe4iuQnbtehNT2bp6GvGWlPyg+2FkTDxfHVbeevxa06Mg3SphZkq3Y5BuAQAAAAAAAACASSCQbscg3XqXdGu0qd56gm5rNEu3/LQ5fTuNV0ChsuDa9SkXLl66fOUaTXc7u+hes3SryOs2Knb1D+druUJa226Trsw/C9UZdbrna5M2xqxaU3uhzuXSLaHqh/PkinBhGexSeuIUdUym0RL4/rCSxthuMQqNZkvKPFJYHL0qQat99PJlX/za9buzcmp+vCgIYeFQ63FHUQkY0q0SZpx0Oz4ulG6fPIF0CwAAAAAAAAAAOAQj3T55IpRux8ch3XqNdGuUUW89RLc1WgdMoArgmnUbnz9/wWVwLtbt/QfdeYcKztf8SP90NFrrtetNy1ZGR8TELV0R5XLp1tFIAnQdNpK/4fJVYk/W/lxOM5U0Rkn5Wu2j6FUJ6dsyN23JoDlJmbuzctYlp+7NPkAdcrnMzsW6pRJw7teHldRxhgPplow0dyDdAgAAAAAAAAAAjnAH0q0PSLdGkXrrObqt0Vq65QIClJSetB1Hlc/t9jsrImPj16zvMa/cRWqXsX0Xqa/T0i3p4vmHvxFHBuCYSumWehaTOiau30QqVVd/2bYxSsqnZS5dEUkKPP7tCbrxXHUNrfK65FT94CCX2Qnptrv7YUJiMrGZXB0ldZzhzDTpdtws3Y6MjAwODfVBugUAAAAAAAAAAByHSrdkWk0m1yNm6XYc0q3XSbdGnnrrUbqtUbRMWU+PNmbVGpI4HZbKgmTLgdxDeYcKaDpaUsqtu0W64+GCIlK1ZSuj07dl7t13ICp2NSkzY/surqZUfFwRGbsvJ48rpOCbo1zIArH4ODCgT0pOdU66FVjLKchy51LYSiTRtcVsG2O3xSjHvz1Bjlq6IupWSyv/QLKRHMi/txW2Hmn/uISkuDVJMXFryeUgiXQ5L31GTDGQbslIQ/rhL979FaRbAAAAAAAAAABACW/evr3TcRfSrY9It0ZWOrn/oJtcxek2xAqBdEuMLCk9yV/CS3LRLYEHKOmOdZcaYuLW0r3LVkaTw/k1lVxoi7+4maScSv15nZBubSwRJncu2zzs0VI9+nBBkfiuU7JMmdhnlq5Llrh+U//AAN0yMjKamqYimS/U1fNzKmw9bhdp/83p29tut3vpA2LqmenSbX9/b29vR2dnyMefQroFAAAAAAAAAACUMDw8TKbSZEJNptWQbn1Bup0JDI+MDAzoSe+cbkMAcICZKN2+fj1mMIyMjg6x0u3TZ8/u3bun2rYD0i0AAAAAAAAAAKAE7aPHZCpNJtRkWk0m12SKTSbaZLoN6RbSLQDAlcxA6fb169cGg2F0dHRoeHhAr9fpdN0PH577oVrO8Xa6zQcAAAAAAAAAADyIweHhn1rbyFSaTKjJtJpMrskUm0y0X0O6hXQLAHAtM0u6ffOGL90ODw8Ts1+8fPn4yZO7nV3HS0qXhC6DdAsAAAAAAAAAAMgxODTU2nabTKLJVJpMqMm0elgg3b55A+kW0i0AwDXMHOmWc7wlYwk/3G3/wMAzna5Hq23v6PhH5dkM1faPQj6FdAsAAAAAAAAAAHCQCbVeP3j/QXfzjZtk+kwm0WQqTSbU/EC3ZLrNd7mFdAvpFgAwWWaCdGuUWqmMc7wd0Otf9vU9ffasp6eno7Oz5afWy1ev1l2qb7hypeEymxou1yMhISEhISEhISEhISEhzbBEpsOmefGVK1evNV5vbiZTZjJxJtNnMokmU+kBnsutb6xRZoR0CwDwKGamdMvETDA73g4NDQ0MDLx8+fLpM92jR4/uP3hwt7Oz/c6dtvb21rbbSEhISEhISEhISEhISEgzPJEJMpkmk8kymTKTiTOZPpNJNJlKD5ldbg2syy2kW0i3AAAXM6OkWznHWxo2oa+vT/f8ee/TZ4+fPNE+etTT0/OQJpZuJCQkJCQkJCQkJCQkJKQZk0yw82ICmSaTyTKZMpOJM5k+01AJNlxuId1CugUAuIAZIt0apRxvTRFvzeotqUJff//Lvr7nL16QoUin0z2jieUpEhISEhISEhISEhISEtKMSSbYeTHD8+dksvySUW37yfSZ6rZkQs1FufUNl1sjpFsAgEcx06Rb6bAJrHo7NDSkHxwc0Ov7Bwb6+/vJaESGpJdcAgAAAAAAAAAAZg7m6XAfK9cyDAwMMKrt4BBPt5UMlQDpFtItAMA1zFDpVqTejo6OjoyMUPfbwcFBquEyiaUfCQkJCQkJCQkJCQkJCWmGJRPs7JhMkxmoaDsyMirSbRnhFtItpFsAgGuZOdKtUex4y4ucYDAY+ALuEOuEO8glAAAAAAAAAABgpmGeFA9RP1u+aMvGt6W6LSvc+ojLrRHSLQDAo5hR0q1RpN7y494aeAIuo+GyMi5lGAkJCQkJCQkJCQkJCQlphiULoyaoaMuotnx/Wx/SbY2QbgEAHsWMlW6FkRPMAi71wGU0XFbGFTCKhISEhISEhISEhISEhOTTSQKDiVdm0Zb1tpWIkwDpFtItAMCVzDTp1ihSb/nut9QDl/LKrOQCAAAAAAAAAAAzmtcWxjnR1iTb+pRua4R0CwDwKGagdGu0Vm8FAi6n4XK85hIAAAAAAAAAADATME+EBXATZ7Fo6xu6rRHSLQDAo5iZ0i1FUsDloigAAAAAAAAAAADAwhsLPinaUiDdAgA8iJks3RpF6q1AwwUAAAAAAAAAAACH5CR6umf2LgbSLQDAg5jh0i2H5PADAAAAAAAAAAAASaZ7Hu8uIN0CADwISLcCpnvsAwAAAAAAAAAAPJfpnrW7HUi3AAAPAtItAAAAAAAAAAAAAAXSLQDAg4B0CwAAAAAAAAAAAECBdAsA8CAg3QIAAAAAAAAAAABQIN0CADwISLd2eap7iYSEhISEhISEhISEhISExE/TPVl3F5BuAQAeBKRbu0z7cIiEhISEhISEhISEhISE5Glpuifr7gLSLQDAg4B0axcfHpAAAAAAAAAAAAAn8OGZMqRbAIAHAenWLj48IAEAAAAAAAAAAE7gwzNlSLcAAA8C0q1dfHhAAgAAAAAAAAAAnMCHZ8qQbgEAHgSkW7v48IAEAAAAAAAAAAA4gQ/PlCHdAgA8CEi3dvHhAQkAAAAAAAAAAHACH54pQ7oFAHgQkG7t4sMDEgAAAAAAAAAA4AQ+PFOGdAsA8CAg3drFhwckAAAAAAAAAADACXx4pgzpFgDgQUC6tYsPD0gAAAAAAAAAAIAT+PBMGdItAMCDgHRrFx8ekAAAAAAAAAAAACfw4ZkypFsAgAcB6dYuPjwgAQAAAAAAAAAATuDDM+WZJd2OjY0NDAw8f/786dOnT1jIf8ifZCPZNd3WAQAg3drHhwckAAAAAAAAAADACXx4pjwjpNu3b98ODg5ycq0cJAPJRjJPt70AzFwg3drFhwckAAAAAAAAAADACXx4puz70u3IyIhd0VYg4JJDpttqAGYokG7t4sMDEgAAOM34xITh1avRMcPw6NjQ8Ih+aPjXDUaSPm02JtxmUlnvdJsIAAAAAADchg/PlH1cuh0YGFAu2vIhB0637QDMRCDd2sWHByQAAHAUqtjqh4bFaVaNUZB+3QANFwAAAADAN/HhmbIvS7f9/f1yyuyjR4+6Wch/5PKQw6fXfgBmIJBu7eLDAxIAAChHTrG1Id3yNdzdD6a7AgAAAAAAwHX48EzZZ6VbOX/bx48f19bWajSahoaG8+fPn2Rpb2+H7y0AngCkW7v48IAEAABKGJ+YoCER+IlsMbx69fr1ONn75g2zboF2jEmX+xk3290PmMgJEHABAAAAAHwVH54p+6Z0OzIyIinF3rt374cffnj+/PmLFy8GBwfb29uvX79++fLlvLy8urq6x48fiw+Zyri3o6NjfX39NtLAgP7Nmzck581bP21V7ST/ToFVb9++PV97IWPHru7uhy4pkFRBq310+co1khqvN/f7nD6u5Oq4vFV9Bki3dvHhAQkAAGzz5s3b4dExsWJLtVq7aMckNNxfNzDbAQAAAACAV+PDM2UflG7fvn0ruS7ZgwcPzp49S3YNDAw8evSopqbm9OnT169fv3XrVnV19dGjRzs7O8VHkfykwKmxvFzz/ZfLwm2k+DXr+/r6J9682Zt9gPy5a0/2+Pg4PXZ4ZKR/YID704WQkjdtySCn++bo8cmX1trWnrAumV+pJWER6r37XrzwynuMNDhp9mGevq/w6ri2VX0JSLd28eEBCQAAbDA+MSEWbeUyk5e3N/Lvb2W9jGLLV2/vD7r+DQoAAAAAAEwZPjxT9kHpdnBwUDJOgkajOXr0aH5+fk1NzcWLFzMzMzdt2nT69OmmpqaKiort27dfv35d0leXFDg1lnO+qDSlZexYHhFTrvme29J04+YrdpbS3f3wSGEx32Ez52B+eHTcvXv33WFYy0+t3xQff/FysrfB5avXlq2MJolYe6ulVad7fuHipZQtGUvCItYmbSR/usTaqYQ0OGl2Uh3+RoVXx1Wt6mNAurWLDw9IAAAgx+vX43zdViza0jgJE28m9CMjzwaHOnQv7jx++vDFYPfLvp7nfRXnqg2vrcRZ6oHLV29LH0/RT/UAAAAAAMDl+PBM2QelW4HL7aNHj27fvn3y5EmdTjc4OHjw4EGNRvPjjz9eunTphx9+ePDgwePHj6urq9VqdUFBgaR0Swqcloo4pMa6Vbp1CfcfdEfFro5Ztabjbid/+9u3b0+fqVgSFpG5O+uVvPuMZyIp3Yrx/KvjOUC6tYsPD0gAACAJ3992aHiE/Mntmnjz9vXbt2OvXvcNDY68Moy9Ntzvvnexruby9es3Ojob2ztv9zzpePJ0SXjkM71++JVhdGJ8gueNqx2zuN/+sv4tQt8CAAAAAHgpPjxT9jXpdmxsjK+6/vTTT3V1defPn6+urm5ra2tvb9+9e3dBQUFLS0tfX9+zZ8+ePn1Kg96ePHly27ZtTU1NkuotKXbq62JD73v5su/ylWvkX+7/fBfdu51dXM43b96QEr4tO5V3qID8+/jxE378h4mJida22ySNj4/3aB8VH/uWZDtf8+Po6Cj/dFrto2uNTUNDw/yN5JCbt346Ulh86Mg3DZev2m4icqKs/blLV0TVN1wR7yVF7c0+sCIyVqDqDg4NEWOIScQwYiSN88vx6tWrphs3SWXJ9utNN4gZJBupBa1gX1+/5vtKcmxFZRUpR1xl8p/e3qe0ZchZ+Hn4PH/+gpYjaD1aDmlw0uyk8Umzc02k8OrYbdULFy8JLgS/yu137tJspEyvk7xtAOnWLj48IAEAgBi+bjs8avWyMTRmeDIw9HJ07JGur/flyxf9/devXMpYFxu3KDgt8tP8HcmFueqamupbHe1LV0Q8Gxh6Pjz8hKSREb3BMm7y1VuS6l/C9xYAAAAAwPvw4Zmyr0m3AwMDnN56lYVsefDgQUtLy+PHj58+fXrlypU9e/bcvXv3+fPnr169GhkZIf/evHnz7NmzR44c2bVrl+RiZQPTsZSWDem28Xrzl8vCyb/c//mJcwJ98fLl5q3bBIFl8w9/wwVdHR0d26ramZaxo/TEqdDlkVy2mFVrunjnLdd8L7Dk/oNuQcjayK9WN924KVeXp0+fxcYnknONjkorvG232/MOFdxqMS3t9fbt27PnqpdHfMU/RcrmdH54gb6+/vg167P2HyQHcnmWrYz+8ULdlauN/GP51aFVJqmm9gLJzOUh+cmBfF2btNLR46X8ZiGtdyD3EBWpaTl887gmUnh1lLQqyXC96Ya4yuQiEmO4bEnJqd4YbkISSLd28eEBCQAABLx581ZStx01GB4+ffagr+/By762np76W7ev3bi1NyMl/E+BK377s+j5v1j8q/+15Nf/uuHTwDULf7lp6cKIxX+7p318/XbHw5f9N7vuNbV3PNG9GDX/8MlXb7FqGQAAAACAN+LDM2Vfk26fP39OxdYHDx7U1dU9e/ZMq9WeO3euqKjo0KFD33zzzc6dO7dv315VVXXlypXm5uaOjo579+41NDScP39eo9GsXr369u3bYumWFDv1dVEo3cplHh0dU+1QLwmLKCk9aVYbR/fl5JEtdfWXuTxbVTuXR3yVuH7T/Qfdb9++JTlJfkH4AoHIqNM9X5u0kWy5cPHS+Pj4mzdvmm/cilm1hqSeHq1kXW61tC5dEXX82xMK606j4m7YlNbd/ZBa9d3pM2RLypYMzj2W6pjE+N1ZOS9evCTZbtxqiYpdTU4UE7e26cZNYhhXnaz9uRPs95W0yisjY0nO8zU/UvtvtfwUtyZpRWTs7fY7tHBeGIfsp890RtYF+NARRjAtKDrGKbySAROUXB0lrSq2iqtyxvZdnFXkmpLT8a3yaiDd2sWHByQAABAwPDrGxUngNt7Xdv9w+eL3l+qu3O346UHP3YfaqzdbL/54PnbRX1I+nb8v/OM1wb8K/11AzPs/S/3brzI+/U38H/9jQ+gC3YsnzwcHnw+N9I+NsaEVXj8fGOSCJ/DV2/g2XxhPAQAAAABmFD48U/Y16ZYLdNvd3d3Q0HDhwoVjx44VFhaWl5dv27Zt+fLlkZGRSUlJe/bsKS0traioIHmaWUjOAwcObN++/dKlSx4S7naS0u34+HjH3c6a2gucjy3hYY82KnY1JzVSHZMvDhrZr/K379wdG5/49OkzukUgMpaeOCUOfXDlaiPZSHJK1oUafKGuXknFR0ZGU9NUCYnJz3Q6buPbt2+/O32GFFJZ9QPdQnXMNes2Pn/+gst28jsNyUMs5LYMDw+nbE5fl5yqZ5eb47xlBabe7ewideQU3qfPdHEJSYLwu+T/ZEv0qgSt9hHd4kLpVrJVqVXkclAzaJVjVyf29lo6ZP/AQOL6TaSOpKZ229bzgXRrFx8ekAAAgA8/VAIX37ajuys9d2d46upNOVnHamuKTlecr7+y+0D+rvQt8X/7w8mN0VVbYguiP8sN/+hA+IKimI9OJ32xa+kfYv7yy5qaE/cf3+948ODFwMCz3scjo8OPdbrXrw0Tb0yvSZf7LWETEPQWAAAAAMC78OGZsq9Jt4IFygg0AEJPT8/Nmzd379795ZdfhoWFffHFF8uWLduzZ8+pU6cOHTpUUFBQVFRUWFi4c+fO2tpayXC3U1+XSUq3kjzp7Y2JWyuQbsWq35HCYn5pfJGRKqGOCoWXGi4LDLbB7faO5RExxAbBdhp1Yceuva9evTaadcx9OXl8b1NiquBEtI4kJ8nP/ckXpimkTFJyXEISjclwoa5+SVjEtetNAhvIdlL+lauN9E9XSbcCfZljYmJid1YOJxbTKpMtE7wVWqjlXAW9HUi3dvHhAQkAAPgMDY9Q3XZ0zEC39PQ+Tt675c8RHy1ZF/PF+oS9J09sycopP1eTvmd/SuKaHVFf/rB703l14vkda8+mx2pSIys3hp/dGq5JD08L/SBm9YeFlUVfrVv3Y/3lbZs3PrzffuV6U36OuqL21Au96adi9b23XNgEAAAAAADgRfjwTNmXpVtJ2trazpw5s2PHjtWrVyckJMTGxn7xxRfkP1u2bNm5c+e+ffuqqqp8SbodGxtrunGz+Ni3u/ZkxyUk0eiuAulWHIJW4BDK/1NSMLULNfhMRaXyzJw8yjE6OrolfTunGlNLBLKpQumWlCNYAYxw/NsTXDVJOUtXRKn37Ms7VMBPqh1qvseuq6RbG6168jvN8oiY2+0dclWm5UO6hXQLAAC+hOHVK87lltt44HjBB0v+PP/zP/4l/POP41aEp61PyNjS1Hk/Q52TkZKStT7mh+yttXtTzu9JPrc9oUoV90P6V9WZ8T/u33Bw3eIlKz/IOLI7cXP6iTMVRwu/1j2+f6ul5fDR7NV7viqpPU7L144ZP24yqbfqewibAAAAAADgNfjwTNnXpFsuYIJtOjs7k5OT09LSjrBs2bJFrVavXbs2MzOzoqJCnN8bAybwV/oKXR4ZuzoxY/uu0hOnxF63Dkm3Wu2j6FUJYvXQNnKOtJKcq66RdNEViLCTkW4lF0zjV5OYuiQsgrRV3Jokcar64Tw9xFXSrY1W5dcI0i2kW6NPD0gAAMAhDpVwrq76r2GfBX/24a8/DPz13/7790v+9kHox5FJCY/6+jO3ZmRvWPP15rVnd2+p2rn+XGbS2R1rKlWxVRlfVWeuOZeVVLB1+R//8h+rtiVuzcrJzT9SrflW/+zBna7WPce3f7k99MP1fz93rYaepazXCMdbAAAAAACvw4dnyr4m3XLLlNmlqKgoNzf3+++/r6qq+uabb8if5N8dO3acOHFCnNkblynruNu5IjI2ITG56979N2/e0I0C7c9pr1suaoFC9IOD65JTE9dv6h8YkMzw48VLcWuS6i41cLU7V10jyEOjCnAOs5ORbsWhCQi5Xx+OjIl/0P2QlsP5utrAtV63kq3K+gKv6uy6J1dlI6RbSLdThUHX1VTXUE9Si9YwIZNpguRqrmezNXXpZctSmk3f2ciesa65s2+S5ruTEb2+T683SO80MP1RZp/HwtRosjZbOkxdW4/XtQCYVl6/Hhe43Ope6KJTohet/vL3n/3pg8/++qeln4dv2bwkYf2yuNUtt2/vXbNKo9p4aNPaA/FRqi8+3vb5X46uCzuaGJr5xR/2r/hreUb0sS3LPvj9vy2I/Ozr098Vnays0xeBKQAAIABJREFU+KGu/fZPh04fXZK+8osdK0OSP4/bsfZ5H/Oyx1+v7LIvjKsAAO/B8trT1mN32KTvHjLJ9J5mUJBH4uw2X7omDD0tNFtDq9aWlQZtm/03vRmOrzbmhIHpY3j3A1MOpFuvkW4HBgYUSre3bt3asmXL3r178/PzExISdu3a9fXXXyclJRUUFIgzD8gIjm5lktKtICorReDd6YR0y8WEffpMxz9kaGj4WmPTvfsP5KpTeuLUkrCI02cqxDEBBoeGUrZkRMWuftij5YzkVgzjoGL0gdxDtITJSLekHFIa/0C62Bcn6d5qaV26IopbEo1DYJKrpFu5VqUrtsWvXf/yZZ9clY2QbiHdTgEjXYVRAbNmz7GkgMjCDtELWbcmMdiPn21usKpGJypNWTZdrSrYn3fG2X7BSVU9cpLxdKIvj2JroZIM560rCZ0zK7RU3AyeTJOK1EgljPatnN6G7MXWHWb2nHmL99d7VyuA6WN0zCCIclteUf6bD3/9x8Xz/xa6MHrD2lXbt+0pLs3OLT6QdyjvwL7SHVsrd22tyttbuCFh5/LQfVFLj3y1eM8XH276+x+2h/45P/aTI199+sF77/z7n36ReED9ZVru72N3Hj3/476Kb5bviv08PXTxli8XfPXn09Vn6LlKHyPiLQBgqhG+9vgvSNRobeRnR2q5FFbSy5ZZFiafZ046b5qo8KXL0FEUHiAY3PNbR0TGid4bSbYmb5Acp5IeTZJ1m88JWquReNH1tsbUt5k7ibe9/QIfANKt10i3Y2NjCqXbx48fZ2RkfPfdd2VlZenp6SqVKjU1NT4+/ujRo+LMpNipr4tD0u2RwmKBlyjNwxcfx8fH8w4VTDLWLeHCxUtLwiJIUaRAuuXt27ffnT5DNtbVX5arzouXLxPXb1q2MrqisorzAmZtGN2Xk0esKig6RjVZUuze7AMk5+Wr17hsr1692p2VQzbeavmJbpmMdEvykNJImZz9p89UEPtLSk9SGwYG9EnJqQmJyU96e/kNSAz7Kn5tl7kpqMosWDdMydVR2Ko1P14kG7mWcVq67dE+OnGqvL9/gCv56rXr/6g8x3Vs8h9yBclGh0IYuwNIt3aZjgFJVx7mN2t2QHhucw/rptFTt38ReSfzj6vkO2WM1KaQF1D/kMzqLh2TTddaxr6SBqmbDA5nMzSqghiBeHE2zdbdXJi0YO7sOXNjqzzuZbW3NNQ0y0qtl3AvmHHSraFl/0JmKhKwMLmopkVLLnFnoyYvlrl8s/zDSmzNQwEwwbncvnljGpU2qFJ+8cG7nywL+cunf/zz5yGfxKzMy8+J+ftfF//2vz77hd/GD39bqd5Sm7/vdMaa48kxx9ZFa5Kjv4n+LCfms4Kk5adTVxZ99fm/+//TnP+cFfDnf38v4vP5q5O2Hvl67debPkld/LcNHy9K+/yT5I+3ZW+h59KOIWYCAGBKMTSrmdeeoKSSFh150dJ11WaGkFcvv5RaWb9FfYfJW9M6aVLmk9E2qZJ9WzJom6Xy1OaFk2F6fp55aqL0pUtbGurPasrF7Athb1dN1uJ5jNn7W60ER/re6LdQ3cC+N2qbipOY8hcWdXriD/DTg74ijmnhEFVJo1ZPG1MdwmxJFlxyr2rMCV1NGttzghcEQboF0wGkW6+Rbo2Kw90Sdu/efeLEibKyso0bN+bl5e1iqaysFGSblkC3Rgel2ytXG5euiIpfs/7g14ebbtw0mqXS5RFfHf/2xOUr1y7U1at2qOPXrud7iTon3ZLMO3btIQakbMkgxV5quJy1P3dJWETG9l0jI8K1v/jcf9AdtyaJHEjj7eYdKti1J5tG492TncM/9kH3w5hVa8iuI4XFxPjzNT9u2JRGsvGVzclIt0nJqRtTt5IyScnE/v0Hvw5dHrk2aaNOZ4mMQQohBkR+tfro8VI5G2hp5Nid6r1HS0qHR0YUXh25ViXNSC4TbVWxVc5JtzRaBTEp9+vDXPNGxsTzo1Kcqagkf3LxIqYRSLd2mYYBqW1/4Ow5gVltVhu7ihaSjTmWjaxnh3COQd09Yiv0DmbTFi4Uy3yGJtX8WbPfy25xSa1cRk9xCLEqXZU6l9SrTjzFmmHSraE5M4iR5rObhRq7rjY1SGKCB4AQcbSEtvbWD0L+8P6f39+zP2dVeGhSamrR92dPf/P1ruXBqR8GbF7wb/FB/7I7/K+1+eqaPZsrUuO+T42r3pbwj00rjsZ8XJYUdio9Zs1nf/qnf/o//h+///N/vvNPv/77rz5Txaw5tH1Z5vI/Jf/lo82ffLz148+2fBwa/ecH99vpGT9tRswEAMCUIfXaM9KQHjhnVqCDg2YL884WlNNmK0+fJtxKllX40mWoT/WbNXt+eqPVq05PWdjc2XPCNZZB31BH3ojmBKma+fl6jjNvevxsM5u2bObiquqtHJYNNcl+nMe0aZM3NaauPIz55X5RbrN+ojkd0i2YDiDdepN0Ozg4qFC6zcrKOnHixJEjR3bu3FlYWFhUVJSRkXH+/HlBtkFRUNSpwSHpdnx8/PSZf1AZdF9OHvWdvP+gO3H9JrKFps1bt93puDvJWLeUsbGxgqJjy1ZG05JDl0dm7c8d4q0BLcfo6Cg5kNpJ06rV6+ouNfD9cCnPdLq0jB1LwiJotvDoVZrvKznN1DjpZcq0jx6TBqGFk7Oo9+7jnFI5SANSuZYmYva3Zac4X13K48dPUrZkUAtpRFqFV0fcqqTko8dL+a26N/sA3yrnpNuJiYn8w9+QOpIGpFs4Wf9WSyvdQv5D/tyYunVgYJpfAiDd2mXqByQqtmYKgwGw72RhGu6djBX7rF43GbSli2bPmZdlOVhRtq6iYLFYTNBXxZLJRmqDJ4XO6ipcMGfWgqJOQwPjTSzhFCwj3fZ11ZflZ6rVmcUa6+hmBl0bG/JMcICOjXHWpjNYF9KkKWIKUReVCwMQG3qaG+qbmaIN2uaSXJJHXahp00nOACd0rbSc3NJ6NoaaQLpl3Xaambh7vbSoIrkv9Vghe07ocUnfWjIPfM9KoyeNUNcgDKhn0DIRcjusTzCh76wrzWNqml9S16WXrIVsk+o7G0iTSgSHoy5LnZ4295nxGF69EkRLKDtZMv8v73++6MPd27btTEs5XFhU2XDt1LHiY8lh+5b8eufn/7H6v/91w8JfVWWnVW7fcCblq4rN8ZqNkeXrlp5c/YUmZeW2yEX/Hfjz//uf/8e//Mc/z/33f/7X3836a1LIbs2RL1XL/5j4lwXrPvx000eL1v41ZEnQ9xUl9Iy7H5ikW/IfAABwLzKvPeyQKvmrsBxsBCfBR1EiWrPIWDw/mzubwpcuQ20KefGLEuuFrAq5sKjH9KehJpm8QkSWCwd39jXJkm1mo28uJK8rZ4UvS9SVgRfIwrsaU1eelFRumnuJpVvLe6m+q7aQfXet4V7NuBfR4lrpOMtMUGBNIX0PrJZ5mwUA0q13Sbdv375V4nj76NGjw4cPHzt2bNeuXXv37i0tLc3OzlapVBUVFQKX22n/hFw54+PjAwN6vr5JjB8cHOrr6yf/urwi5ET9AwOkcIeWLCO8efOG2EkOFEjGYkgGko1kFmu7zsFXq7nGsW3G8MiIXRtIHupyawPx1ZHL5lyr2oDUdMxg9do3zsLfQjLYtW0KgHRrF08ZkOgbPO+rrs6CBbNmLyjsss7WqJo7e07oKcubm6JsjSpG/isT/1TPvggG7m91WTUmDevesrCYefluUvlJvF5LSLeG1lz2A0N+RLm0WstrKPtB4lyeLG76XM4/rLzXRiFz5garmyzPIdN5609FWmULiCy3nikYWvIXWcWtCwg/pa23lm7ZuURY4an95qBsIvHdBCtk+6ua5F6pe2vz+HMV9kKnNwrysAEo+IGDtRpBZL1ZQanWwZHtNGlrzntS/trU5wVewB4HF+j29WvTqJSRkf75Fx/tSIjOT0/dm6PevHdX4blzRUcPn81KOhL9J9WS96P+9OvQ3weqY5ad27m+PCnqdEJE6YpPS1Z+/O3qL0o2hC4P+eNv//t37/zX//p//23W7Hf+ad7v5ixc/eHJK2d3ncj9PDV8QdwnixI/XrD0twsW/e+8w7voGetfmsLdfioZwhoAAFyH7hTzG7lwNDSaRVXbLrR8nHG5VfzSJR6dzeYz7xuz4ypNJTZn+ku6W1IVkssGJBC9JHtbY1peqMTSrfm9lHXT5t7WFhZ3CV/z/BdkWnt2G7VVgkUymK+7WjzJkQN4DJ4yU3YDPijdGpnFnUbsSrc3bty4ePHitWvX9u3bd/DgwV27dmVkZGRlZZ07d46fbcSeHge8CzlHY+AhQLq1i4cMSDREl9W3Wr0aVnAstSywoG/LCxV5fyjJxoZoCC4Q6LtmvXgyy2e5GtZ1JaSQdjR2yiSa/AilW/ppYdDa0lZaX4O2no1uxp9rsZ/CWcJKGGqZaAyhZRbNlUzzmFBiYUWt5kbTVTPhCHguyex5A98LDEqtoS6oE/rWgjBh6Lq+qlgmbl1YYYtpm76lKNQ/ZOFCsXTrN9d/fmIZ6/c7YRAuS206mPHQmSUM0yaPEul2oi07iFQkrrzLVKq+rYjpQrxa2G/Sbja+h8CliL1eDkyJwVQxPDpGpdtxcxz5NQmroqKX56WtP5SeuiTs09998offfRx88EDm8QPbMrenbti+PfijRf/i95+fzv/dP3YnV+/ZVJWWcGb18vL4JSeSlqaFfjjv/5vzi/d/szgi9PPI5X/58u8LQv/64VcfFdRUltY3V93RFl68tk697fcf//YPi96LXPMlPePDEaxUBgCYIqQ/SCJMNDD6l9Io/0653BoVv3TJDvHsr7ac/bIKL3m3Wcz8jIpRV45u0S/3XtyYMtJt4HtBIep6U1epTQliPAbmBcxPqWY/HZsw9LBvs1YOxSPN6Wwkrsw60+dl+pbSRObAEKEjCAAeM1N2B74p3RqZZaYGbEu333333a1bty5cuFBUVHTkyJFDhw7l5ubm5eVVV1dzeUgh01gF4A4g3Xo4kG7t4hEDEl2nQrRCgqElP/Rdv1n+7waHp6aEL/g5eQENTirpEL7k28820ZzuLw4BZortNWu25Gpg0wH9YI17MZ0QfDNIsZZu2UNEi63pK2P9rLwnJrqYwHOBKmbpNho9NrSUv+iwQddVX6axXtOZnbNZ9FbqBSN4r6V5UmvMDchO4d5Ltw5BYWhQBc4WS7dyYRB4sHMMiemfHEqkW6kydS21rd1mmxU1KRvIz9rB1kp2B57E0PCIYI2yxZ9/tGzZ34/s3Zq3df3iLz76338L+tuK0HVbt8ZvTY1J3/7F5rTAT7/4v2b7fTL/dyd3JJ3Zua5i+5rylKj/n713j6tp3fv+/35ev+f3e5593/t+9r3vfe/9sDeKclhZFjkfokWElqzFEjrRUUpJpFJS0oEolaTUUipJDmFRlswIhZaQQppakUOiw6xm9bvmuGo05qk5JTUbPm/jNV9jXvMa12kOXd/rM7/je6W7r43esOy7YX/763/+l97MaVOXLVlgZb3Eznad91brbY7bD4YcuXjt7O9V50pe7QiPmG86a+qi8fpz9WiN2KkMANBv0CBFAgW/iX5KwNDeudx2qG90UbtCdrvRLpuhaz5lZu2VigwGuWgAgFBXmBQaHBrgZKqvNXTYGLNYKdNuEA+mEulW5ieKfIkdKB0JTdahuHNLCZlgaULGVlQQvgN87WjESvnLwFvpllBbW6tMt62qqkpPT79///6NGzdSU1NPnDgRHh4eERFBXs+cOUPzkMsHtv3gSwDpVsOBdKuSgZ+QOn/9lrXdCTV5ERJNlvNA0xgDu/35sisOdbJRP8pur1Jx3f00D4OhhgYGGuR1S/eO4LoeM2qgTDgIKelWlOuj8KFIJn2YP1ckKokwGDrMJL68LN5UfqWksDk5m+WkW+PEMulMTOgA1m7uCtQrWxSjQctKt2aq28A4t8r5HQuzJbHJOEdS1xZm6ki31M3HPPa+EvNczSGty7KTyqZYZwcagcweZSKRaOkCQ2uLlQcDPX8JcHe2XTVvxTKXfeHrg4JXeHobOWyavGLtuLmL/nPICMMpE48Huidst4l0Xr3fZnmo+fztK2b9n//9P/7tP/46cvqsBU4uxs5us9ZYmNg4Gq/52clnc8Ch2KNXi45fubNs9Vp7l/VLfpo7arx2U5PEPIB0CwDoL0QCH2W2jfrSbW9dbhnUNLpEtwIMaMyizqd5RJV5oSa6OgYGHNNCsSUgQePVxgGBCpo0CIC+eUBqIXfkBvFgKpFuV6ZK2V2KgnVIO6EzlqqCUGmaGjICDDQDv1L+YvBZuu1Q7nv7+++/FxYWvn79Oi8vLzk5+fbt26mpqVlZWa6uruQE/rY8hsa3/RKRf0GfAOlWJQM8IYmFKVYK9hfu6HqEf4x99yP8HdX5waaymdXMJtnSKtSYEwxLcQzWAUXR3hEl8s/gS0m3jKk909xHWsokh4upnPFKRsCQCVMgEXAVtqCuvChHsjGXj42xsVGnGi4t3cqt92jU2i6DmDGs/eSlKdo12Vi3SuLbcmBUV61QmSf7mFq4B9sqtWLdigrDmTuBcdNOyCoqk96qTd0hpa5GbLGMd5Lm7c4MJMhIt62tLXuCAv2CQvx3+Gcd3ncs3D8hI8Mx7MCa4L0/7di10NndyG3bXHuXfxsyatjQfwa5rE/ycYrbZhu2blnAqu8tZ+v9x7//6U9//uvQsRNHLTSdZeUwxcxq+fYdNv7+dltcdm7beGDvjuTjx4yXmUyfO3uI9j/H60+UkW4nC2AtAAC+LIxWpVCEUle6Fd0KUO1yS+doxeEX1DW6KmUC6A/VMQotKuMaCUwtCoMRabzaOKBIdPAIyd4DXN+IQTyYSmPdSt3MqqVbZZYqDRkht3kG+OqBdDtYpdsOJu6t/K5lN27cqKqqamxsvH79+m+//ZaZmXngwIHDhw/7+/vn5uYivi0AAwWkW5UM5ITUqdtKrHm5jxgfRgO5HZ8a8v25vo1qZuuirjw/JZqR4aJTCyU2XE2mldwv9gMFIwUOUXhIPZgvZaoyTq86E4yMjYwVHO5npVdnjLxIDNOYUrnaOTs2jDEwNjJz9o/OipH3uu1ZuqUOrYpiqBUq2qZMtXRL4+L1FJWPMcHZOG5qblNGGnAr1d/GkF0ujjHxye66B9UeUkaP1u188FPJnnJAI5CPdXvtbGZcbPR2T4+0Y7EnkxPDklLsdocvdff+0S9wlqXDN4tX6P9s8ecRun/929/NFs1P8HONdLPcs85kh6XJwqnj/+M///7v//XP/9abOHfT1lkOLnM3uC7evN1wnd3PGx1t15ltszA54OO6YJHRtDlz/6mlNWvu97RGeN0CAPqNwlAdxY+2yG0JqwRmxlfhcisqDFDscsuirtFVXZKZRH8lTcwpr+tqf1fAh5oscyVam+KNagEX5omr7gACg3gw+0i6VW6parx4DQYGSLeDWLrt6HS0/MAKuBUVFbdu3Xrz5k19fX11dfW7d+/OnTt38uTJoKCgvLw8sRhbTQMwYEC6VcnATUjE6Jc4gXI3y+pG+UYKAj+JBZZZ8ynZlMGEY9NSdHn/wzyAP8zERdbZ09/GUPr5fXmvW/VMbbo9l66hwTTZQLedkVuHdu3q0IW03qq2160CpZU+vvfp0m1nLF3lkiizWXa3W67a0i2LqLpckOTBPLDZqY+rP6RMgAsdrzxRZ1w/9bdTA/2LvHR7M/OY1w8mG01+OJ7yy+H0TKtdYTahkQ4RsYu2eM1et2G6pd1sO5d/TJjx7/9Xa8KEiV6O5hHbbCO3rrf5cfGIkVp/GT1+9PzFo5eYjv/Zctb6DZPXrF+0YYulf9BK9y3GZqvWrTQJ2LTG8Ps5+tNn/3OElpm5Ba3xei2kWwBAP1F31pnMhl7yk5KyDcSk+WyXWyWoa3TJ2BvMj/QKYjHVZTtJRdsHipBRPAfvYPap162i+5YRr9WI5QW+MiDdDm7plqWpqen9+/fPnz+/d+8eafHr16/fvHlDTshrVVXVQLcOAADpVjUDNCHRJ+l0zOPLFVuJVG5T+ui9tHSrMlvNBS9jY6MgmS0JJNFLO6W3gYcRT3UVbZjGBCbjbLkgbaqWKHlOX+5HQybErY7T2TqyotOS2SKMuuHIDiO14z9JumUcauR7IbOp9CdIt/Q7GjbNT/a7ox8K/CQest3fIDXZM6TaSCMIS0m3YtnxoburdboOqT2knatQn/y6PM25kYACGptEVLptaWmlKYWXsqM3e+dd+u381fyIjGz3Iyk2ew4YObnPst242H273nKzCSssJ/5sN229i5GLp+5co3HffLPc+Pu/j9DVXWAy+odVo0xWfWvluNAncM4GV0M7l+XeAbPXb/h5u4+dn++mjXaBDstnTB7/rf6kvw8dscVzO60xrbpTunV9MHADAQD4SqC6qtwPilKTnVI+2+VWXaOrJMbU2MhGzgm3XGL2mCR1WynMcy2msj+p0meVPkk75i91uQFGxsZOWXIOC+J8GcVz0A5mX0m3jHGrwN6mdnhAIZzugDSQbnki3QIANBxItyoZkAmJ7l9hEFCkXOuiJpRVivSQi0pjJVptdyQENbNR503T/cWcCuvyJdujmSSWaYKVJqvPcqEuq6wrhLSpSn1ppwUIpMxtUY6njpa+XSY7LMzOuVqdgQVqMq10yKBldiunjEEsva9u5+YhnybddlBdWPqbpe7VvZRuu6Jq6JhEFtVxvylx3f14yV0k5UFMpXyT2O7vlH7LHOm25rzzGLJ0lFrPSoaruz1qDikDswy2c3LRgbmvyYiam6l0S05oypPHpcfjjybEJ8QmpbiFx6zdEWSxO8whKm6pu9dkM6sZVnaTVltPWe88zc59tsPW2bZb/vXdjP/55/8zfuFP49fYfr9p+5yNW+d6+M9y8pxs4TDFwm6WrcsKz13LNm9bbGtrtW7NVvNFkyaMGzNB76//GHrkaCKt0fVBp3SbWoVYtwCALw2d16SD/lckSptGZL6rESTFZpZKmR594XKrrtHFzKE6UoIjnfR1fXK44QYZMVfLijPdi+tkf7v9yqHaq4GM6dJRmSyxlLg6+KAdzL6Sbjt9AmTWIHWXmMSeb3vwVQLpFtItAKA/gHSrkv6fkGqy6JYUpk6hcjtBhV5gVxSiW6FGusz2uJ6xKZfyBZdSYzzNJBdy91tQO5tEu5RkM3YKTc3Jy00JdWaustKQB6NofFVlAbZoLIUuP1BZU1VUFCHpi56ZV1KWIE8yAv5mekOkrFJGqx3K6ayUktvB7mBm5JGYQ0rIy8+MJuNjZW7+ydItq7QaOcVmSorKinEy1jKI2O/TW+mW0FAUTOPw6pk6+dH7xMec7qJm4JMj1aC6bCdJupa+lRfJ5kd6oWMeGiAVMKEh14u5E9yTcgVsC6WXoGoMaRclNHzwsGnhMPc1l1axmEq3H+s7xYD3795mJsWdSk8+ciJzQ/hBu30Hf/b2W+SyZc46x0mrreZscJtiaTd/q+8Pu/auDo35OShq1s/W/+Mvf1+8aZvR9oBJFvZ6Kyynrdu0YMvORZu9h842MnTcvHDD1uVbfRc7bFxlY7nux4V6E77R0Rv717///c69e7TGqfmd0m1FPTR+AMCXpzrLRk+yOdhKz8RMJWYPY3uQxFDOvmF9E+VWXaOroYj5eZU2Mj8zyUeyrZaCrWs79xfVMnIOTssVZCV6KZuUv2KoVwRjKUkGMyctlo6SlEorYZAOZp9JtxKr2F6PY6nmpgQwCweDgELsTwTkgHQL6RYA0B9AulVJ/09IjAml7JDad7ijOn+/lT5nh2I9E5dYgbzep2a2ilwqwLE7U2VqyPdJN1ubJrfZGgt1puj0ilVkqkp3TbJYSur2UaXWvIl0bLvO+AmseCsWZnuadu/yrGcWU1Qn+ORYt51FZXKK0jLyyBb2dpuy7jJrCpN8TPR1uvtIFifR+TXyI9ZQnuLRtau1rrF7WrlIPtYtuWGkhkvfPFyuqB6HlEN5gvEwNZ4/BQNJW1s7lW654W5Li6/nXcnY90uifWiU/d7o1TsDrcMiFjm7TfrRbJ7T1lnrnebau0+1cZ1h5zbN1m2c0Q//82//+M5kxSx715nOHgt37F7kEzLfw2/Sj2v/9t1MA0cPs6AIY5ctBivNFhjPWzZ/zhi9MaNGj1ppZkbrIpVS3ZYcAADQT9RIWUfyZo+oKNRA6nfcLofEnn0Pqdumyofr1TS66ooSnIzZRmrpWxHzQ1E+UVmaj4keZ+KOVjgpf9XU5Mc6mXBMFz1DG3nzRsJgHMw+lG4ljsaF0VYTdDkLB8/UMui2QBGQbiHdAgD6A0i3KhkEE5JYVPeujhyins1KNbOJJHnqeGmfNTBde/cZbhN0cFSOoTp0fh197cNB+1inqlhJ7aryNKjR2c8fUqAZsDuVsTETHty7FRexc5v3tkU/r51vZr7E0fl7exdDB6cpZtZzHLZOtbD/3tV7kc+e5YHhy3cfWLhhy/Aps+etd55qtfEbs/XfWW6YuWGbsVeIge3G//2v0Utdtk5damqyzMR7k11cgMs+93VTJ47WHj3ycHw8rSv0STsC3QIABoaezR7RF57g1DS6qM2gcnIn5fWVlcJjROqaLl/7YKq5cABfN4NgpdxbIN0CADQISLcq4fGEBAAAFPmYCS+r/wjx9bqedSzjUJCb3erxkyd9b2VraO4w2czW1D/caNPWqWvtplpunLDaduIaR5Kov8LC0GbTXKdtC32ClgTs+zE0+odd+78x/flPf/+n3UYXh/VrMw4F/xofmntk16m9m1caTV+9du2Lrh1r2WgJaep7mgMAAAAAgAGFxytlSLcAAA0C0q1KeDwhAQAAhRszoaWllSZWVzy5lR557ah/dtT2YwHO06d+q7Ng+bdmdt+ssNL7ca3R5h0/Bkb+FHLA7MAhs70HVwcfmL/RY5bNpkklyPbSAAAgAElEQVSrbccvt/h29brlvkGz11r9+z/+ti9s57H9u84n7MtN3HvlyJ4LkdtiPSxOnUyjtaRVdyBaAgAAAADAoIPHK2VItwAADQLSrUp4PCEBAACLqLlZxvGWUHH7cl6sb/a+zYm+tk526xa7Bky39VyyNWiJh/8EM5tJazdMt7Kfa+30nfGyMbPm6U6fM2XxstkrzI2sHH/y3GHq7T/xh5X/PXxYTGRgemTAqZg9F4+G5SYEX4reUXwhla2CdblNrWofiH4DAAAAAIDewOOVMqRbAIAGAelWJTyekAAAgKWtrf1jfQNVbxubOoMANta9uXs2PiPQMcxljbGJ6Q+bg8avcJy4xnGWtcscx822u/ftiDjoGrx/qoHBmFEjdbSHaw8b8q9//uOfQ4f89MNCx/VmS5cu+k5PNynU76TvtuN+7ucOBV6K3333wvH6d69o+WyUW7jcAgAAAAAMLni8UoZ0CwDQICDdqoTHExIAAHDhRrwl5zTx3Ysn2Yd3u6wwmjBl1hIHr3n225Z5B1r57F63ye1sYmxBSnTWXr+p40YO/++/DPnbX/72X3/+z//889///CcP0zmZ7j9l+lhcPLApc6tVgv7cX2YuPebpVHA2vrb6OS35em13qISwZwPWawAAAAAA0At4vFKGdAsA0CD68E9SB6RbAAAY5NQ3NrHqbVtbZwSDV8+f/LI/bJ31Op+gkM1bPfZH7k1OjLmYelSQGHE5dGv8xrXf6Qz77//zp7/85d/+8y9//s//+LcJw/6x23rZ+QC7i0EbLuyxyfa3yjD/IdFoztlwv9fCMlqmsKlbt/2paOA6DAAAAAAAegWPV8p9qJNAugUAfC59+CepA9ItAAAMcrj7lXGD3jbU1T66LbicEftbelReWtS1jOibGUdvJR88t9Npj9lS3eH/9z/+9P/9+d/+37/8+X9N1B5y2MP6TIBLTphb9p6NZ3aYZ+1cfcJzeeGJg3WvXtDShE0SuZbqtpMF7axGDAAAAAAABgs8Xin3oU4C6RYA8Ln04Z+kDki3AAAw+GlpaeWqt1xd9bWw7H7+uSunDl/OPHwlI/baydi8pD2Ze32WG00f9o+//PVP/89///v/mvSv/z61Z8v53a4XD2y7FO11Oczp+i97Ku5cZQvh6rbkuF47EJ0EAAAAAACfB49Xyn2ok0C6BQB8Ln34J6kD0i0AAPACGfWWjXsr+ahZ9Kamqqzkdv7FlN/OHrl6MuJKyt4T0V77fWz9N63ysjBxWTx/t/WKTL8Np/e4FmQcrij8ranuHXs5N04COdKqB6J7AAAAAADgs+HxSrkPdRJItwCAz6UP/yR1QLoFAAC+IGpu5qq35K1Mho91b6sqSkrv5Ny9kpZ/JvK3jJDfjvoe3WazbfXKEA+3R9d+rf1DakZoa2snhVz+o4nVbQVvEScBAAAAAGCwwuOVch/qJJBuAQCfSx/+SeqAdAsAADyiVSxm1VtlAi5Lm7i1rbVF2adcN97AR82TBe2IkwAAAAAAMKjh8Uq5D3USSLcAgM+lD/8kdUC6BQAAfkFdZeUFXG4IBZWXk0u4JTyuFQmbvnTDAQAAAADAl4XHK+U+1Ekg3QIAPpc+/JPUAekWAAD4SKtYLCO/Ug23sUnU0tJKPqVKbltbOznIOUmUV2zlw+YCAAAAAIDBC49Xyn2ok0C6BQB8Ln34J6kD0i0AAPAUeffbTzp6DrYAAAAAAAAGHTxeKVOJ47fPA9ItAKBvgHSrEh5PSAAA8Em0tbW3tLQ2Nok+SbEllwx0wwEAAAAAQB/D45UypFsAgAYB6VYlPJ6QAACgd1ANV9Tc3Ngkqm9sIgcVaslBzkkiFFsAAAAAAH7D45UypFsAgAYB6VYlPJ6QAAAAAAAAAACAXsDjlTKkWwCABgHpViU8npAAAAAAAAAAAIBewOOVMqRbAIAGAelWJTyekAAAAAAAAAAAgF7A45UypFsAgAYB6VYlPJ6QAAAAAAAAAACAXsDjlTIPpdvnz5/fuXPnNsPVq1evXbuWkpJy8ODBmJiY5OTkx48fP3v27MWLF0KhsLq6uqam5h3Dmzdv6OurV6/Ip5WVlaQc8kqykfQB6QgAXyGQblXC4wkJAAAAAAAAAADoBTxeKfNNun327FlxcXFRUdHNmzdv3Lhx/fr1y5cvJycnBwQEREdHx8TEPHr06MmTJ1VVVVS3ff369VuGN2/evGZ49erV06dPSTlPu6isrCQZ+r8vAHyFQLpVCY8nJAAAAAAAAAAAoBfweKXMN+m2oKCgsLDw9u3bAoHgypUrFy5cuHjxYlhY2JYtWxISEuLj43Nzcx8+fPjs2bM//vijurr6lSIqKipIhidPnpSVlT1+/Pjp06fl5eX93xcAvkIg3aqExxMSAAAAAAAAAADQC3i8UuabdHvlypVr167l5eVdvnw5PT09ISHh+PHj3t7efn5+ERERubm5cXFxd+/effTo0fPnz4VCIRVwyeurV69ev3798uVLckJSnjx58vTpU/L6+PHj0tJSSLcA9A+QblXC4wkJAAAAAAAAAADoBTxeKfNNur3IcOrUqRMnTkRFRR08ePDkyZOOjo4+Pj5xcXEFBQWBgYG5ubllZWXl5eVPnz4VCoVVVVXktbKykvXDJSmlpaVUtyXZHj58eP/+/f7vCwBfIZBuVcLjCQkAAAAAAAAAAOgFPF4p8026PXfu3KlTp5KTk+Pi4vbt2xcQEHDp0iUHB4e1a9eePXu2qKjo8uXLBw4cKC0tpeptRUXFixcvnj9//uzZM3JeWVlJ0skl58+fj4mJiYyMTE9PJ9kePHjQ/30B4CsE0q1KeDwhAQAAAAAAAAAAvYDHK2W+SbenTp1KS0tLTEyMi4sLDg729va+efPm7NmztbW1c3Jy7t69e/v27fj4+IKCgnv37j169KiioqKqqopKtw8fPjxz5szhw4ddXFzWrl27cuVKR0fHhISEJ0+elJaW9kPjGxub3r2r7eF4/76ura2N5Lx77/edAXvIaz+0qr29/XLub7uCQioqnvdDdZTW1lbSW3KQkx6y0RH78OEjaWQf1k4GmQx1fUNDD3kaGhoPHzlKDnLSh1UrhI5Gz+3hDZBuVcLjCQkAAAAAAAAAAOgFPF4p8026TU1NTUpKioqKiouLCwwM3LJly+3bt+fNm6enp7djx46HDx/evHnz5MmTeXl5RUVFJSUlz549q6ysvHfv3unTpyMiIiwtLRcyLFu2zMjIaMWKFSR/RUVF/3jdZmadWWNp08Ph4rb13btacVvbvv0HyduQvftZZbO+oUGl0Nk7SMnevrtIdUd/Se7zwpXx5MlTGwfntVa2eYLryvKIxeLwiGjSsJ0Bexobm/qwdjLIZKgjo2J7yPOo9PE6OyfL9Q73S774vUFHo+f28AZItyrh8YQEAAAAAAAAAAD0Ah6vlPkm3aalpSUlJcXGxsbHxwcHB+/YseP27dt79+61sbFZu3btzZs3c3Jyzp07l56enp+fX1hYSMXc6OjozZs329vbGxkZTZw4ccqUKXPnziXnERERL168ePz48Z07d/qh8ULhi+s3brKH364ga1vHzKwzbErhnbvNzc0kZ0XF8yMJSVw32MioWBsH5ydPnn6JhhX/fv9oUvKbt/3334CKlWssbXbvCaNdlud5pdDeadNASbetra1nzp0nx5eQy2WAdAvplguZkHDgwIEDBw4cOHDgwIEDBw4c3GOgF+tfCr5Jt9nZ2RcvXszIyDh+/Livr6+bmxtp3+XLl52cnCwsLKKjo0+dOhUXF0c+zcrKysvLi4+P9/LysrW1tba2NjAwmMQwbdq0efPmrV279sGDB/fv37969Wpubm7/9+WT1NgvKt32P6x0u87OqfRxmcI8qekZ1Bl5QKTb/gTSLaRbLjyekAAAAAAAAAAAgF7A45Uy36Tb06dPX7p0KSMj49ixY66urrNnzz579ixp4q5du+zt7S0tLZOSksLCwo4cOeLh4WFhYWFnZ7d27dq5c+dOnjx5+vTpM2bMmDZtGrlqyZIlR48eLS4uFggEV65cuXr1av/3pQc19u3bd9dv3CSv7DnXRfdxWTmbs62tjZRwPC0j5nA8ea2q+oMbFlYsFt8veUCO1tbWSuGLpGPHSbbLOVcaG6XitwqFL27eKvz4sZ6bSC65e+/3IwlJh48czb9e0NTUl+IpFSu9fXets3OKi0+UD2Vb+/69+1bvTe7bXNy2yki3PXeZ5cPHj6SnJA/pNRkxGkSYwkq35EJSlMJhYYeOnHSoPZKUTx069aXbL/ql9A+QblXC4wkJAAAAAAAAAADoBTxeKfNNuj158uSpU6eOHj0aFRUVEBBgbGwcGBh4+vTphIQES0vL1atXOzs7r1u3ztbWdtWqVTY2Nj///POUKVPGjBmjp6c3ceLE6dOnz5o1y8TEhOQhHSsoKLh+/XpeXh457/++9CDd3rpdtMbShryy59yD1fjevH27Y2cg96O1VraxcUfZZ/wbG5t2Buzx2xWUmp5hbm3HZnPc6FbOqTcz64xMS54+q3Dd4skt2W7DpsI7d/uq71SsJK3avSfM2dXj5asamQx5guukLxmZp0n7udKtyi53MBuvnb94ydp2AzcbuYqNCEGl2/CI6F+SU8nlbB5nNw/Sce7QsVWrOZIKh47kKb5fonI0VEq3vShZA4F0qxIeT0gAAAAAAAAAAEAv4PFKmW/S7blz506fPp2YmBgREZGUlLRt2zY3N7eUlJRDhw5ZW1sbGRnNmzdv2bJlK1euNDMzW7p06bRp08aNGzd+/PixY8dOmDBhxowZxsbG5ubmq1evTktLu3btWl4X/d8XNaVbZZkbG5sCgkLXWtmmpJ6g3peNjY0HImO4e39RwdHadoP7Vu+nzyra29tJTpKf5AkOC2eDzMpItzU1rzd7bCcpv1291tra2tbWVnTnnuNGN3JUVgr7pO9UrCT1Uok2+8Kv3E+bm1uCQvY5u3pUVDyX0U9VdplwveCm5XqHbd5+5HLa5dT0k+bWdmyXqXRLGuAfGFwpfEHzxCceI+WER0RTN1uF0q3KkZQfunvFvzu7efQ8dOpIt70rWQOBdKsSHk9IAAAAAAAAAABAL+DxSplv0u2ZM2dOnTp15MiRdevWJScnh4WFeXh47N27l7waGxsvWrRo6dKlCxcuXLFixfz582fMmEGDJEyZMoWGuDU0NPzxxx/NzMx27tzp4+MjEAjy8/PJ6/Xr11XX3dd8pnTb2tpa+rgsJ/c3rsMp3dqLFQGp4LjOzunBw0dsnubm5t17wpxc3F++fEVTZKTb1PQMi3X2gvwb3CbdKLhFEklOhX35+LH+5q1C7iZs5BAKXyjrOyvd0sAIMiERaC/i4hMbGxu5+qk6XW5oaPTxC3B193xV0+3JKxaLow/FsX2k0q3TJvfq6pdsHnqhs6sHdc5VKN2qHEkydJbrHe4V/87tLHlLEo8kJPU8Gj1Lt70rWQOBdKsSHk9IAAAAAAAAAABAL+DxSplv0u3JkyfT0tKio6PNzc1DQkKSk5N37Njh4eGxdOnSNWvWrF692tTU1MjIaO7cubNnzzZkMDAwmMfw/fffk9fly5dbWlpu2LDBzc3twIEDt27dun37Nnnt/758pnSrkD+qqx2dN8tIt147/OvrpeLYHklI4pbGlW5JTpJf/pKeYbcd4x7KdN4OjnTbwYiSMpuVUe34XvF9Gf1UnS4/eFhqbeuYfDy9h9ZS6TYsPJI62LJwB1mhdNvzSNKhk28tTff1360wMG6HGtJtr0vWQCDdqoTHExIAAAAAAAAAANALeLxS5pt0m5GRsXfv3h07dmzdunXLli2nT5/29fW1srL64Ycf1qxZs3jx4oULF86bN09fX3/27NnkhLwlH5HXBQsWGBkZGRoakhNzc3OS2cfHJz09neq25LX/+9In0m1TU1PhnbtJx46H7N3v7Ophud6BGwxXmfQp42bLfUtlzQORMQr3/lJGa2tr7fv35Fru0YPeypVuSx+XcTcro364Pn4BDQ2NCtvfc5fp0N0o6EmLZ7cpk0lXKd32PJK02E3u22IOx3OPg9GHHTe6kY9Ihh5GowfpttclayCQblXC4wkJAAAAAAAAAADoBTxeKfNNur18+XJ4eLilpWV8fLynp2dKSoqVlRV5SyPbLlmyZDHDzJkz582bt2DBgmXLli1fvnzFihX29vYWFhYkheQhl7i6unp5eZ07d66QYTB63XI34zK3tnPa5L5rd0hqeoa81+0nSbdC4QuHja4qt8z6TLjSLQ07wG5Wxo1+K9N+dbp88VKOzNDJ84WkWzp0pHnObh7yh6//7vfv63oYjR7GvNclayCQblXC4wkJAAAAAAAAAADoBTxeKfNNuj137lxSUpKrq2t0dPSJEycCAgIsLCysrKxWrFixZs0aU1PThQsXzp07d/78+cbGxj/88IO5ubm1tbWtre3y5cvXr1/v6OhIzu3s7DZs2LBt2zYa5fbmzZvkpP/78pnSLXVWdXX3LH/ytK2tjSbKiJK99roNCtnX3NzSp92VgivddnDkWhkZV6b96nSZDt3FSzk91P5FvW7l4zCoORoqvW57UbIGAulWJTyekAAAAAAAAAAAgF7A45Uy36RbgUBw9OjRxMTEHTt27N69OyQkxNnZ2dHRcePGjVu3bv2JYeXKlebm5itWrFi1ahU5sbW1JXmcnJy2bNni5ubm7+9/+PDhzMzM8+fPX7t27eLFi48fPy4pKen/vnymdPtbnkA+MoCMz2wvpNvm5pagkH2seMpCNyJ78vTZZ/S4Gxnplg2SUHjnLjd4gkz71ekyfRseES2jcpJ0cmFt7fuOLybd0qEjHSHd4eYhfWGF5h5GowfpttclayCQblXC4wkJAAAAAAAAAADoBTxeKfNNuj116lR2dvavv/568eLFkwz79u07dOgQOQkPD9+5c+f27dtdXFycnJwcHR0dHBzWr19vY2Pj7u6+efNmX1/fY8eOnT9/npRALr9y5Qoth5zcuHGj//vySdLtkYQka1vHBw9LZfLQwAKU1tbWmMPxnxnrlvDb1WtrrWxJUaRAmtLe3n7y1GmSmCe43gc9l5NuO7q2Jtu4aQt3yzKZ9qvTZZKyb/9By/UO1wtustkaGhr9dgWxevQXkm4JF369TEYpPeMUV1F98PARyXPocLxYicyqUrpVs+Tm5uZfL+UW3LzNximurX2fnpFZzrnHHj4qPZ6WQSXsAQHSrUp4PCEBAAAAAAAAAAC9gMcrZb5Jtz/++KODg0NcXJyvr++WLVsOHz5MTshbW1vbzZs3k1dra2sTExNjY2MjIyN6Ym9vb8ng7e29adMmcpWHh8fOnTv37Nmzf//+sLCwyMjI48eP939fPkm6vVFwy2KdvYvb1qhDcYV37pKUN2/fum/1trbdkHw8/fqNm7/lCQKCQl02b+WKgL2TbknmoJC9pAFevrtIsdfyr4dHRK+1st21O6ShobFP+i4v3T6vFNo7bSKV7t4T1tzcrLD96nSZ8KziueNGN3Nru+jYIyTb5ZwrHp4+pP2nTp+lmuaXk27p0JG6/AODSb2kdkZz30C6Vlb+pOfRkN+FjBynTp+jkSvUKZnG+bVzdCEjQFOiD8WRlC2ePnUfPnQw3s2u7p4khaR/8nfWR0C6VQmPJyQAAAAAAAAAAKAX8HilzDfp1traevHixfb29gsWLJgyZYqVlVVwcHBcXNyqVauSk5PJSWBgIEn84YcfSDZbW9s5c+aYmJhYWFjY2Nhs2LDBzs5u06ZNGzdu3Lx5s7u7OynH09OTZCNX9X9fPkm6bW1tPXX6HN2h60BkDJUgnz6rcN/qTVLosWNn4KPSx58Z65bS1NQUn3jMcr0DLdnc2i48Ivrjx/q+6ru8dCsWi6lAzHXslW+/yi5Tqqr+8PELIKXRbDYOG7Mv/KosPC7L50u3HYzr6/G0DPpN0WObtx9ptsrRYPNzD26NKksm5/ZOm8j4vHnb+Rct60w2GYSw8AiqhpNXck6+zV8v5/bQni8KpFuV8HhCAgCAXtMqFouamxubRPWNTR/rG+o+1k/N7yDHT0Udrg8kR1r1QDcRAAAAAAB8MXi8UuabdLt9+3YHBwcnJyc3N7fZs2dbW1tv2LBh/vz5pqamS5Ys8fDwiI6O3rx58/r161esWEHykAzk3N3dfeXKlTQkLinB39/f29vbioFkIIl79+7t/770gtbW1vfv69g4Bh1MKIMPHz6+e1dLXtnH5Puwutr370nhX3TLsk9F/S43NjaRbGTE+j8gLDt0MlLvly65lYGb0iQScUeJDEVjY9+4TvcOSLcq4fGEBAAAnwpVbOs+1ssfQ3I6ZI6p+dBwAQAAAAD4CY9XynyTbn/++WdnZ2cHBwdTU9NFixYtWbLE0NBw7ty5JN3Dw2PZsmUHDx48fvz4/v37fX19165dO3Xq1GnTppE8JL+bm1tERERCQkJsbGxcXBzJQzInJSUdOnSIvPZ/XwD4CoF0qxIeT0gAAKA+yhTbHqRbroYb9mygOwAAAAAAAPoOHq+U+Sbd/vDDDy4uLsbGxqtWrfr+++/Nzc3Xrl27aNEiBwcHW1vbJUuW7Ny5k7Q4JSUlNjbW19eXddH18PAgF27ZssXb25vkoY63np6ePj4+5HIbG5v+7wsAXyGQblXC4wkJAADUoVUspiERuAdJETU3t7S0kk/b2iRPkwibJMf1WombbdgzSeQECLgAAAAAAHyFxytlvkm3Hh4e/v7+a9as2bBhw5QpU5YtW7Zp0yZLS0uSYmtra2VlFRUVlZKS4urqevDgwUOHDqWlpUUwxMbGJjBER0cHBwfTwAvuDKtXr964cWP/9wWArxBItyrh8YQEAAA909bWXt/YJK/YUq1WJcImBRru1HxJOgAAAAAAGNTweKXMN+nWzs7OxsaGSrcELy+vbdu2OTg4LF26dMWKFd7e3kFBQevXr1+wYIGnp2dSUtLRo0ejo6NTUlISEhLi4+OPHDlylGEXg5+fH9Vzjx071v99AeArBNKtSng8IQEAQA+0isXyom3vikqrlii2XPX26YdW1ZcBAAAAAABNhccrZb5Jt5aWltOmTVuyZMn8+fPt7e3d3d0tLCxcXV0PHz5MXm1tbbds2eLh4TFr1qzdu3dfunQpJyfHxMQkMTHx9OnTJ06cSE9PJ+d+fn4rV678/vvvly9f7uzs7OLi4uXl1f99AeArBNKtSng8IQEAgDJaWlq5uq28aNvc3FxfX19bW/vmzZuXL19WM5AT8pYkko+apS+hHrhc9Ta1qo93cwUAAAAAAP0Gj1fKfJNuDx8+bGdnZ21tbWtr6+TktHfvXm9vbzc3N3t7e5JoZmZmYmIyY8aMiRMnLlq0yNLS0tjYmKRs2LDBxsbm4MGDR48ejY+Pj42N3bdvX2Bg4P79+0mBCQkJN27c6P++APAVAulWJTyekAAAQCFcf9uP9Q3kLftRW1tbQ0PD27dv/1ADko1kJpewlwubut1vJwvaEfoWAAAAAGCQwuOVMt+kW8KJEyf8/Px27drl6elJQ9wuW7ZsLcOqVatMTU0XL168fPlyS0vLJUuWjB8/3tjYmLwln5qbm/v6+oaEhOzYsWP79u379++PiopKTEzMy8sbkI4A8BUC6VYlPJ6QAABAHq5uW98oFZW2sbFRTdFWRsAlF7KFcNVbcgjewvcWAAAAAGDwweOVMg+lWwDA4AXSrUp4PCEBAIAMbW3tCnVbsVhM/s5/qmjLhVwu7vLe5aq32LUMAAAAAGAwwuOVMqRbAIAGAelWJTyekAAAQIb6xiY2TgKb2Nzc/O7du8/RbSmkEDYALle9dSmB4y0AAAAAwCCDxytlSLcAAA0C0q1KeDwhAQAAF26oBDa+bUtLi8ogCUKh8ClDZWVlzzlJUaRAWvL12u6wCQh6CwAAAAAwuODxShnSLQBAg4B0qxIeT0gAAMDlY30D1W0bm0Q0pbW1tQd/26qqquLi4itXrpw9e/bWrVtXr149w0BOnj592oPvLSmWlh/6pJ0NmwAAAAAAAAYRPF4pQ7oFAGgQkG5VwuMJCQAAWETNzazLLZtYpzy+rVAoLCgouHv3bllZWWVl5bt37x48eCAQCIidevLkyeTk5OLiYmXX0imjgwmbsLywU70NfYKwCQAAAAAAgwYer5Qh3QIANAhItyrh8YQEAAAs8qESGhsbe/C3vcvQ0NDQ0tLS1NRUVlYmEAhu3bpVUlJSWFh4/PjxM2fOPHnyRFkJpHBaS1p1BxxvAQAAAAAGHTxeKUO6BQBoEJBuVTKAE5KoprwwL19AjmKhSKwkk5jkKhIw2QrL65SWJa4ru8UUlVdU9q7HSoUlqksbaEQVnY0U5JVUNqjOP8gQi+re1dW9E6nI1lAnyfYZ3efzMIokg6P0fw2Qo6WlVcbltq2t7c2bN8p028LCwsTEROpXS95euXIlOjo6MjIyLy+PfJSfn3/58uWIiIiCggJl0i0pnFTRIb1f2fXaAR0FAMDXRrd1VFKpatbtnHaVHJ0zjkiNPApq79E2E4sqi2m2/PvCnlo5KEw4DUKZudWZLneovEM0B9oF+RYruYdV20u0wEE0AqC/gHQL6RYA0B9AulXJwExIDeUJ9npDhg7rPvTsEkrlLKaKLHcjHW42LaOAnBrZXDW5AUa6nKKG6hh5XKiUt9LkKh1jFluoYca/qDRVpstMd1Lva1g7P4tbAUy/TBN6+v8kTDBhuh9Q1IsaeD+MNWlWQ4ZapVQPdDsGD41NIpkotw0NDcriJNy7d+/ChQsXL17cu3fvsWPHzp07JxAIdu/e7eXllZ6enp+fX1BQkJGR4e3tff78eZJfmXpLqqB1pVYh4i0AoL+RtY50jd2zhD3kLwwYJj1vco/OGYeZfZRm87+lvHYltpmoNNFGT6oQYpvdl/+1dTCYcJpFda5/pyEUUCj9ibIv0TxNzstnH1QAACAASURBVMLWSOpKuu4Z81TpFtekmPd09/ZEdar54BkB0J9AuoV0CwDoDyDdqmQgJqSaTCtiTerZRBdVMj+GV+ZFrCRGmK5zNtcpoyHXixj9uqbBl8prJNlq7qd5SJYBBqGFHI1XdCvAQKL8mu2n2SqKEjyMtYYO03K6UKegUh2T0HymUmFhkofkQpPEMo1xXezsi66+eUBqTrGQNPL+pVR/K33SnSEGAYW88RvtlG6HTQsvUZqnOGLa0F5Kt1/DMEK6/VRYl9u2ts6As2/fvpUXWx89enT9+vVz586RTz98+HDmzJm4uLjs7OwbN27cvHnz0qVLpaWlL1++JK9nz54NCQmJiop6/PixMumWFELrEjYhZgIAoF8RFYVKpkIDj5TiGmJo1ZTnBptKrCCvXKWOhXWl+V2PqnCPLC9DMqV6ZDNGlUhYpChPbowNmbINY0q7alfTNhOmmusymnISYxBWl+eEm42RNDvivpRtNghMOA1CXHc/yU4yjHrGRtMUSLf3I2cOGWrsnyX7PRb26PKsEYhrcvyYG8nI2ECBdFuyn/TXOCBT9v4sUu1yDukWKAHSLaRbAEB/AOlWJQMwIZVIVDlZ2a480YQkRnYnMuKU7BqDego4nWUtf8Y3U9cqRcqPRFQYYDhk6Mz9xZykPB9i6hkEFHGLq0yWlGaTpRluG9VZkgWMnl2K3F1WmWalSIwetHRJt0N0fQSKjWmRwKfLZ/ZTpduvYxgh3X4S8tESmpubq6uruTJraWlpYWHhr7/+mp2dLRAInj17VlFRERcXFxYWlpubW1JSQmYBcglJf//+fU1NTUFBQWpqalBQEDFbq6qqFEq3JD+piNb4UxFiJgAA+g1F1lFDvv+0YUOmyaiiqmB+STWIVP5TK+Fdlo3U9KqmbUbnekP/W1KmAJ2subbZIDDhNInCUB3GxzmrUky9UGWkW1GOpwI9dzBQk2lFWq63MrqoTlzkLy/dinK9evu0FqRboAxIt5BuAQD9AaRblfT/hEQ12WBZy4oxwqyyWKOJeXBPTpwSpq4cOmxMeNfF5YlGCp036y44kVWET36XlU/tVLtMmVBronyJY69JYuVndqkPoAuYmf75CrVM0n4dBREGRML7WYnBoaHB0ak5xXLm5rtyQV6+JLqcuK7sUmc2gWx4uLqyvHxBqSSxrjw3geQJjU3JK69TuK5Ts7q68pwkUk5otrL/Lox0a+PirKVs0UUXgS7ONgpNcE4z5LrzJYdRul+M5xHjx9GVnnCpe9xqirOYwUzMURiPTyRxBI7pebQlBeenRDMlZ8nGKFQo3dYUU68ZrGNlETU3y0RLqK+v52qs9+7dEwgEd+7cef78+e+//04s0YcPH1ZUVOTl5UVFReXm5paWltbW1ooYyLVv3ry5efPmmTNnYmNjw8LCyFXKHG9JZlpj2LNO6ZacAADAl0WJdVSZZCr5UTxPfefKukx7uYei5LgfPnPIUMP9bG1q2mZUaLOXtwMY38lu20zzTTjNojDcLKaIDqpC6ZZJNE4sG4i2fR41mR4emZ0mnCLplpFfjeLL1SmLa2LViCHdAqVAuoV0CwDoDyDdqkRTJiRqwXt2O9mWxRsPGWqcIGOA3QrQIqZVRg37VklwLsakmxZxv+ttsK78c1UdXesB5+wBF7to9xW0sOvzkixiX6YUdTe08qyHdBS5YVqmEVLh4ZjB8b9UFCwV9VXHKJTrt8IMVEBuYajkATROTOFQmcAC6laXlsUGrePGvJOC5syXWZtx6pKsLWfuL873l5Nu5ZshFRTvyw2jXL86xdN85mHP7msTy8TCTKl4fDIDrqDGIXp2mTLhBxtKYsykg0HrGruf7c4kL91SNyUZpyRAYQPdtrS00pTa2lpWXS0vL8/Ly3v27JlYLH7//v3FixcvXbqUk5NDErOzs0NCQtLT0+/du/fw4UOSh+R/9erVkydPBALBhQsXTp486ezsfOfOHWXSLamI1ih42xnu9qde+QMBAID61GRIfiNXMAtTUbVnF1ouvXG5Vds2Y8QyRT6SVHBkbTONN+E0je7fgxVKt7KuEoOJ7q4pkm7pjZehqmdiYbaHnNFbCukWKEZTVspfAEi3AAANAtKtSjRkQqo7K+eDyTz5rmWV2r2pRV1JjLm09wcTe0HBD+xUwmOtVaXLg47KZDOJSqj2KuZLoawjSqBR5LRMQwU0MJm47n6aXNw3xoSdNs3QPL6E+nWKhLleBsOkXGM611EzDawS79NRFQlzfAyHSC/V1K9OS1dPEoquQbJXr9L9fKkYeouVaGXHokvSLZKRbhU0g4nm1r1i/GLDKN8vRjydOc3ANDiPMfTFNXTcxujpGfjkUifZrgHv9vPtCj7ok9MVUa6uJNFcxm9ILEyRBPUzdE/r/uKYzUa6vzgZ6Ra6bc/UNzZR6bZV3Pm9vn79mlVXb968efHixZycnLi4uC1btvj7+x86dCgyMnLPnj0eHh6+vr4k/fTp08Q8vXbt2u3bt+/cuVNSUlJYWHj16tXExESS5+TJk8qkW1IRrfF5A3YqAwD0E4qfWyKImd9E1Q0c1CuX2w61bTPGCZf7m30X5QnGnPZrvgmnuSiSbumw+2QJop1N9CU/7Y8xMPNKKqoZZFGDFUi3ZClBuuOVkR/jYjpB8hu5noGZT0KRrBp7P5KxcrtMNWr3TjMxnQbpFihCQ1bKXwJItwAADQLSrUo0YkKi+1TIbTchKo41J2alrr6RjY+XjTGxw7SMPFJKOUa+uMifXDgtQCDjIppMN8/tCqXK2P0rkxVsrEyD5yr1D+03GH2wh81DpGGiyCnpdbf8TTVHmUVRscyCirF9dX1yuEWJ6T4P7MN0n1DdND/FoQqk6JJuO111ZNZjTAuZYmWkW4XNEBUGzOxe4H2xYZTvF71zpKx8uiSWDuAryvWRis7cILyflZojfScy697uNTYN6mcuc7sy9zA7VlzpFrqtSj7WN8jsUfby5UtWXX327Nnvv/9eXFx89+7dmzdvktcLFy5s3779p59+WrNmjY2NzdatW318fBITE9PT03Nycmi2W7duXbx4MSYmJjg4ODY2Vpl0SyqiNWKnMgBAv8FItwECBWKcIl9FZfTO5bZDbdusU1iUCYnbIcoPYPYp7frVU/NNOM1FkXTLeF4zT/wYrnQJ8HcxM2AeKpJylRgEKLiTmcf1hlEx2skvwMnMcAzz8JN5GufmYe5YcqFUZ8VCZqAg3QIFaMRK+csA6RYAoEFAulXJwE9IDUX+BvLbWUioyYsw1+c+7E+sMbv9+VJ2VefeU6zTaKfjpKGBAcdarZDsgabQINMQu1+U5/MJzVD2wCP1Z2FXUAp1TOpt0a2HMravrM9LXbYTZ/Q+pTp/dWQpVrqloWmltE4arJY+/ygt3TLN6Nmj9ssNo3y/mDvHTPqmVf74Xo+LgbLDxhzplj4B6pPToxDLSreVGRK/Y+i2PSOzRxlBRmCtYmDfvnjx4uHDh/Hx8evWrbOwsPj5559XMQQGBp48eTIhISEqKio8PPyXX345duzYnj17Dh48qEy6JdAaId0CAPoLMpMq24dKfem2ty63DGrZZl3PvnQ/iSIWVeaFmujqGBhwftHUeBNOg1Ek3Yrrym7lC7iR/bseG1Ih02sWiu7kd+WFefn3uc7m1bJPm9Ef1OV/46ceu5BugTwDv1L+YkC6BQBoEJBuVTLAE1LXs+Ey+wt3MJHaiN0/xr7L7idU5webymcWycRpHTJUzyZDKAiQDZigMLibptj9asbn4mRWJJIKU1ZyvGW7FVIuMq6sskEJKIXc0fus6pS3n8lJPUy7XVyp/07nHibSbVNHGu6/YVS4UZi60q1IWCKQbIwW4GRmbGRAY9qyRTELrZWpPe+7wtRu7OUn0W2HGH7iduFfHyqlW2WUlZVdvnw5KirK3d3d1dXVw8PDysrKzs7OwsJiw4YNu3fv3rdvX2RkZEhIiPrS7WRB+wANAwDga4GZxBUGgVVXuhXdClDtcksfB1EcfkEN24yB/gApEyC+jDvDar4Jp7kojHWrCPq4lW5A4aAxJ9T+EYJxHpd+aMlM3lmE/pwP6RbIA+kW0i0AoD+AdKuSgZyQOnVbiTUv9xFjRBrIaVIN+f6K9rZiN4oNjk4tlNj6NZlWHP2rJksSKM1PgUqneDO0/udTdg6hrgGK1irSNnofSbefV50iuDnFUpuVSUe/lWqb8mZw6L9h7K10y9l/TEvf2MjYzis0MSXUjFMUMyCqViN0vUr+75iYMJ4y8LrtEflYt9yACepQUFBga2vr6Oi4Z8+eI0eO7Nixw8vLy9vb283Nzc/Pz9/fX9mFCJgAAOh/CkN1FOtTclvCKoGZB1W43NKARQpcbllU2GYs1SWZSUy20MSc8rqu9ncFfNB8E05zUVu6lUSAnak4PrKGor7/uJRZpbSb1dimDCgG0i2kWwBAfwDpViUDNyERo99QNgQVi/JdKQR+EhfFzJ6NKybOGieIqkzwVhYaGUDFw+n9AtPCaUrdJ+su+RgZG/vnMq4tjBrYHT61G2ZnD3ZR1Kdet72tThHSObvlWmkZV6HXraJmcOm3YeyddEvDQeiYx5fUiJQVxSy02A24lUA3SXPKEvbgtw5Yet6mTE38/f1jYmLOnDmTnp5+4sSJI0eOJCQkBAUFhYeHe3t7K7uK3absei2kWwBAP9G5X5O8QqveZp6f7XKrBFnbTBnMPNg9mWq+CaexfIJ0y+jgvJRuGaOuKyc1nxT83qBGeCvwdQLpFtItAKA/gHSrkgGakOiTdDrm8eWKTW4q3SpwsqCRQLuk25oLXsbGRkGyW0iJcn1I4V553cmFATqSLS9kVit0s4JPWnh8MRgFU4mQLS6XbKg11C6T+r8w8Wq7ogpwYOLBaclEGPh86fazqlOETM6uIAl1MsETZNqmpBkiYZEgL7+s66L+GsbeSbfSonAXMj4gzNuu7Vm6qSvLkwSnE8nXrjxaNKA0NomodNvS0kpTamtrP1W6zczMDAkJOXbsWHJyclJSUmBg4NGjR48fP04SbW1tlV1FKqI1plV3SreuDwZuIAAAXwlUV5XzrmVC0yrSraT4bJdbdW2zkhhTYyMbOSfccsksbJLUPaVpvgmnqSiQbmvOehgZG8fI2n1MaOPBpIPLW1w12R7GRsaxsjo1vU/Y/wtFoVrSdxeFbnEG6RbIA+kW0i0AoD+AdKuSAZmQ6P4VPT7lLZSobLpWKdJDLiqNlUi63Y6Z1NY03V/MKakuX6JkmSSWcV0vmZWA1P654jqBH1l4SCm8A4moKJjZS8E9S9qgVLB9hCjHU87RUlxHE7vXUX0l3X5WdYqQzUl9UU1NJN84d8symbYpbAazKTD3qn4axt5Jt10etdw7U5hqrjtMqij5e7Vrx212sSFbO3PJEIOAQuntvAFF1NxMpVtyQlPq6+s/Vbp9+PChp6dnbGxsTEzMgQMHtm/fHsawbds2MzMzZVeRimiNrg86pdvUKsS6BQB8aRRNcBWJ0haUZGYUJMVmlkpZQX3hcquubcZIyTpOWdwts5hHSXR9crjTmeabcBqKIq/b0lgDORujLk/ypSv4MVtzUWBxlUXLPcwnf5+IS/bL/9rdaYlBugUKgHQL6RYA0B9AulVJ/09INVl0SwpTp1Aa2ox7XGBXFKJboUbEkNLVN/eMTbmUL7iUGuNpJrlQob2la+wUmpqTl5sS6sxcJe+BKCoMl+yYoWXkHJyWK8hK9GJCjmpWkFDhBXcDGgXVyosOiKedgZ4kxWDzBa6R3VGdZaPH9Do6S5AnGRx/+e70mXT7OdUpQj4ns4kESZwWzl0ryrWNNmOo3srwrmaY6ijwse2PYexlrNvOzffMIjJJdXn5OWkBK/VmmpvLPKXI3qseCZck2TKj7QyklVn52ru285ZajAFKq1hMpduP9Z0j2NzcXF1d/UnSbVVVla+vb3Z2dmpqamxs7M6dOwMCAvz8/LZs2bJu3TqFl5AqmrvE4qn5ndJtRT2+IQDAl4edMT0TM5VYR8xDHiQxlCPt9U2UW3VtM/rUSGcj8zOTfFZK2iwfAmgwmHCaiMKACTReWddgXkoNdmI2lBtkv/4qsrg6bycdI6dQsnDISQt1MtKRv09EtwIkNpWemT/pfqclpuMUHroS0i1QBKRbSLcAgP4A0q1K+n9CYmRBZYe0fVmdv99Kn7NDsZ6JS6xAPg5XRa5/19ZP5Bhj4pOp+IsSlaX5mOh1laarbx5dVKdpKoq4RhDeqTN2dsfAbn+eIlOyriiGOzh6pl5p0tEn+lC67X11ilCQk3Gylo0SoKhtNdK3BGlGlsLYCF96GHu7TVmH6H601QRd9iY0ds8SViooSvpeHaozwSq2kOPdpKj2ruDRyYibIEtbWzuVbrnhbt++fftJ0i1hz549JxiioqICAwMPHjwYEhJCEnfu3KkwP6mC1kUqpbotOQAAoJ+QnjHlrSNRUSjjgNnt9crENFDlckt9YFVGKlDTNqsrSqDSYecGnlYxRQoLHgwmnMahJNatuO6+lI2hZ+KZen+QBZ5QEuu2riTF03SMlFFXIn+f1BXFmuvrsN1fGV0iwjZlQAmQbiHdAgD6A0i3KhkEE5JYVPeujhyinm10kSRPnRouAyJ1ShtoaCPrVPqT0F6/6y+/k36u7rOboaHDqOYtrX77gSrYncrYmAkNDQ29kG5//fXXo0ePRkVFhYWFsTuVRUZGKsxPqqB1hT5pR6BbAMDA0LN1JPrCE4yathmdFtWY7QaFCTdY4O1gdlpZKm4ncm/CxAIqGQQr5d4C6RYAoEFAulUJjyckAACgyMdMaGtre/PmzSdJt2FhYQkJCTTKbXx8fEZGRlxc3O7du318fOQzk8JJFbQuNlpC2qDZvBsAAAAA4GuHxyvlr0u6JUb5q1ev0tPTTUxMtLW1R2prT/pu4vJly3x9vHNz8FAcAAMPpFuV8HhCAgAACjdmQktLK01sbGxUX7etqKhITk6+du3a8ePHd+/effDgwcTExNDQ0KCgIPJWPj8pnNaSVt2BaAkAAAAAAIMOHq+Uvxbptq2tjRjxO3bsmDVrlpaW1vDhw0eMGKElObQkDB82csQI/YmT4o/Et7a2DnRjAfh6gXSrEh5PSAAAwCJqbpZxvO1g5gg1pdu8vLz8/PySkpKTJ08eOHAgKioqKCgoMDCQnO/du1cmM50yKKzLbWpV+0D0GwAAAAAA9AYer5S/Cum2paUlODh4ypQpOjo62traWlpa2oxgO5Jh1KhR5FXyEfM6WV//wQPENgNgYIB0qxIeT0gAAMDS1tb+sb6BqreNTZ3B7VpbW9+9e6eOdJucnHz37t07d+6kpqYePXr0yJEjMTExUVFRhw4dCg8P5+YkBbI/27NRbuFyCwAAAAAwuODxSpnn0m1bW9vjx49//PHHb775Zty4cbq6uqNGjdLV0R2jO5qcjxkzZhzD6NGjx41lGDOWfETSBQLBQLcdgK8RSLcq4fGEBAAAXLgRb8k5TWxpaXn79m3Pum1VVVViYuK9e/cePnx48uTJ9PR08nbfvn379++PjIzctWsXm5MURQqkJV+v7Q6VEPZswHoNAAAAAAB6AY9XynyWbtvb269du7Z48eLJkyfPnTuXvE6YMEGfef3u2wks3038bsL4b7/77ruJEyeOHz9eX19/vJ7ejBkziLk/sO0H4CsE0q1KeDwhAQCADPWNTax629bWGcGgubm5Z9/b4uLiK1eukJPCwsLTp0+fOnXq4sWLcXFxx44d27Vr16ZNm1h/W1IULVPY1K3b/lQ0cB0GAAAAAAC9gscrZd5Kt21tbS9evDD7edXs2bO/nz9/gdGCyfqTjRj09fUNDQ3nzZtnwDBnzpyZ02dM1tefO3fuzJkzScqsWbNIorGx8YcPH/q52e/e1bq4bV1jaUOPW7exegBfF5BuVcLjCQkAAGTg7lfGDXorFovrlMe9PX/+vFAobG5uzsvLu3Tp0lmG6Ojo5ORkX1/f7du3/8HEtxV3efIKmyRyLdVtJwvaWY0YAAAAAAAMFni8Uu5DnUSzpNtnz54ZGhrOnDVz9uzZxsbG06dPJ2+XLFlC3s6eOWvRwkVLOSxcYDR18iSTpSaLFhmTz01MTOhraGhoe3u/mu9UuvXbFXT9xk1yvH37rq2t7f37OpLew9HY2NSfjew1ra2tte/ff/jwUeGokkTyEeks6TJNaW5uUdm7+oYGmdEgVaiz1xwtXOYgpfWua30F6aya7ecrffgnqQPSLQAADH5aWlq56i1XV21sbJQPnkAswKtXrzY1NdGoWaWlpcXFxUePHk1KSgoLC9u3b9/58+fJhWwhXN2WHNdrB6KTAAAAAADg8+DxSrkPdRINkm5bW1t3+u2cMXPmpEmT5s2b973h95Mn6RstWLBo0SL9iZMM585btHDh4sWLl3SxcMGCSd+ONzExIYlTpkyRSLezZi9dupRke/P2TX+2nEq3kVGxMimsH67CIzPrTH82Uh6qyarUPZ88eWrj4GzvtKms/In8p42NTTsD9pDOki7TlFu3i1T2joyV/IBYrneITzxGlm09XEgLlz+8fHdVVf2hqsdfCtJZMkRkoAaqAQNOH/5J6oB0CwAAvEBGvWXj3nYwT1k1NDRwBdy8vLySkpKXL1+SieDNmzevX79+/Pjx2bNns7OzU1NTr1+/3sAxV7hxEsiRVj0Q3QMAAAAAAJ8Nj1fKfaiTaIp0297efvHixSmTp3w7fvyUyZNnzJgxderUCRMmzJ49e/r06RPGfzt96rR58+bNnTv3e4b538+fM3vWN6N1jYwWkLfjxo1bsGDBjGnT58yZQy45cOBAfzreyku3zc3NhXfuUidccmRmnbG2dWTdcukhFL7otxYqhGqy3Gb3kG2NpQ1pf0NDo8ynvZZuyYCQPOxonL94ycPTh1wYHBbOxrCThxZ+IDKGvfBa/vWIqEPm1nabPbbX1LxWr+t9DKTbPvyT1AHpFgAA+IKouZmr3ork5ncy49fX1799+7agoKC6uvrjx4+vX79+9+4dSSHpL1++JG/Zx3o6mFAMpJDLfzSxuq3gLeIkAAAAAAAMVni8Uu5DnURTpFuxWGxpbjF16tTVP6+ayGw+9s0334wbN46cjxv3jd43euPGjSWfTpw0aRqD5HzCBJ0Rw2dMn07OR43SmTx58sTvJn777bdTpkxZ8dNPPch/fY68dCuDmiJpP/Op0i05UlJPyGjivZZu5bVO8pVFRsdarLO/c/eesguVFX7h18trrWwHypEZ0m0f/knqgHQLAAA8olUsZtVbZQKumnDdeAMfNU8WtCNOAgAAAADAoIbHK+U+1Ek0Qrptb28vuV/yrd74bVu3TZ6kP27suG+//VZbW3v06NE6ujq6ujqjR+uOHKk1bty4MWPGjB8/Xk9Pj5yP1tEZNfxf478dP3bc2BEjRowljBlD0smn3333XVVVVb+1v3fSbUtLy517xYV37nJV5o8f62/eKrxf8kDMea6w7sOHgpu3nzx9xqZIIsGVlScdOx5zOP5yzpUPHz8qrPf16zdZZ7JJnuNpGVVVf7CqKymcVMH1BSaVkqp7aPye0H27dodYrne4V/w799M+lG4J94rvW6yzP5KQpOxCZYW/fPnKycVd/isgI0PGh4wAGSsyYlzPHYJQ+IJ2nGQ7m32BDlR19Uv5ensecFa6bWxsZKsjb7kyN3XEpm24XXjn8JGjJE+l8AXNQ0aPflOkGcq+TU2mD/8kdUC6BQAAfkFdZeUFXG4IBZWXk0u4JTyuFQkHx5YBAAAAAABAKTxeKfehTqIp0q2Ls8tkff0rubn6300cM2bMuLHjRowYMZKiNXzsKB1treHkdNSoUeRTXV3dkaNGjhk1cvwo7dFjdEeNGjlixHCSqDNy1NixY0czpKen91vMhN5Jt6R5B6MPyyiYN28XrrWydXJxf/nyFZt48VLOGkub3/IE9O2bt2937AzkRnq1tt1w5bc8bn9bW1t/SU41t7Zj85BiSXU0kizVW7kl9OA0yjb+6bMKe6dN7lu9SQPYT/tWulXpCKyscHph9KE4NoWMxvmLl8jIcLu5a3dIbe17Ng+VXEk2x41ubB4yaFlnsrmDqXDAyVVsHlpOTu5vzm4e3AFP/CWF3buM3iThEVExh+O54X3JF3ej4Ba3naQx5YPNgbcP/yR1QLoFAAA+0ioWy8ivVMNtbBK1tLSST6mS29bWTg5yThLlFVv5sLkAAAAAAGDwwuOVch/qJBoh3X748OFbvfF79+7Nzs4eN1biTTtGR3fE8OEjtbRHaWnvdLKx+8lEa/jwESOGa2tL1NsRI0YMGzH8++lTgl3tRmqNGKU9YuTw4TojR44aqaUzSocwcuTIxYsXy7hYfjl6HTCBCrUXL+WwKUcSkqjqRz6iKWKxOCw8khVzGxoaqffryVOnm5qa2tvbKyqeb/P24/rDksRTp8+SQoLD9r98VdPBOJ8ePnKUpMQnHmMFx08KmECz0bgEMYfjWUWyb6XbBw9LrW0duQqsDAoLb25uJpfIeARfL7hJUsjIkPEhXSZjRUaMpHBj6ZJyLNbZ223Y9OvlXNIjcsMU3rlr77TJcaNbZaWQ5pEf8KfPKty3enOro+U4Om8+l32R5il9XObs5rHOzomc0Dz0JrG23UC+zTdv3pI8d+4Vk7rohaReUju5NiX1BBnh8Iho8aBal/bhn6QOSLcAAMBT5N1vP+n4nGALAAAAAABAA+HxSrkPdRKNkG6FQuG4MWPPnDmTlJSkqzNSW1tLR3vk8OHDtEZoTZsw/v6J+KBNdmO0R2hpDR8xYoS2tvZwwrB/Oq768U5G/Hdjx2qNGE5yjtLSksi4I8nlEsaOHcvdjPiL0mvplj7mHxYeSXW6+vp6rx3+u4JCNm/1YoMGvH37zmXz1qCQfc3NLeRtnuC6xTq7C79e5pZTWSl03OjG5nn5SCXQygAAIABJREFUqsbZ1UNmvy9yTlIcNrqy26P1QrptbW3dt/+g5XqH6wU36ad9KN2SwmMOx6+1siV9VHYhLXy7z06Skx6kKEfnzeQQ5N9gVemGhkYfvwAPT5/37+vYa8mn8YnHLNbZ3yu+T1NII+UD+GZf+JXr40waQ5p08tRpbh46JgejD9NEheXQC0+czKJv6U3itmX769dv2DzkU3JhanoGm0LvgS2ePnUfPvQwgJpGH/5J6oB0CwAAvKatrb2lpbWxSfRJii25ZKAbDgAAAAAA+hger5T7UCfRCOm2rKxs7Ogxp7Oy0tLSRo8cqa01gvwbrjVMf9y4w75ba0uvn9gbsHDWNC3tYSMk4u2w4cOGzZw4PsTV4dX96142FpO+/UZbS2vkCC1treHaI7W1R4wYI9FzRwiFwv5pf6+lW+pR67J569u379hsv129djD6sNcO//p6SfBZGv41+8Kv8vllynF29aChDH7LE3D9dllI+hpLmxsFt3puVc+Nf1VT4+ruSQ5y0vFZ0u3GO/eKyVX0eFT6ODhsP2n2rt0hDQ2Nyi6khcsc5CoyJmSIWF9g6r0r3waazsqpNNovSeTmoQNOr5VxeVaGwnJkxo3eJAciY7jyLtV8SafYFPnxHBT04Z+kDki3AADwdUA1XFFzc2OTqL6xiRxUqCUHOSeJUGwBAAAAAPgNj1fKfaiTaIR0KxQKdXR0wvfuS4iPHz1Sm4mBoPXT93P9HazDPFy2bLRxMjcL3Gg36ZsxY0ePJh/p6Y4M8XB2XGk6feI35JijP2mczkhtLa1RI4YP19YaOWLE5MmTSd6HDx/2T/t7Ld12MHFsWT9Qck69Yn/LE7BOqcnH09lzqus5bnQ7GH2YdTulxyb3bWw2+vx+6N4DMnkCgkK5omrvpNuOrlgE+/YfbG1t7bV0q1CBDd13gBuLVh75wtva2iqeVwaF7COXnzp9lgqjNBvpr8wIkDEhI8P2hd1eTL6/tAraO1//3Y2NStXknsuRkW5lRhvSrTwdkG4BAAAAAAAAAICvAB6vlPtQJ9EI6bapqWne3HlGCxYYzDHQ1dZaPGeGns6orevWbrSx0hk36kerHxcYGRbfuJIRu3e70/rt9tan4iMr7l0NC/L918h/fjN1vKHhnNjIiLlTJ+toDx/+ryE/zJ83b57hzOkzBoV0+7xSaO+0Kfl4OnXw3Bmwp7GxSSh84bDR9eKlHPrgPzmoI2rdhw9bPH0s1zs4u3o4u8keHtt3VDyv7GAC5q61snV03iyfhxxssIVeS7dsZANSVK+lW+oVe/3GTXqQq2rf9yTa9lw4GR+/XUFsOAi6sZuDk6vCETialEyvUind0gGnX0oPrYJ024d/kjog3QIAAAAAAAAAAF8BPF4p96FOohHSbXt7+5nTp7W0tHRGjdIdNSLOd4vz6h+3bXbZts1jlJ72xHnfTZjz3Zs/yltel9UKf/8gvN/8przlbXlE5O7pS2fOWjF3/vIFDx89Ctzqqq01fOJYnTA/z/nz5y+cP//pU9ldsL4QnyPdUqnOa4f/80qhy+atycfT2cSw8MjSx2XkQprIzUxjKShD4fP7n9QqldnevH3rvtXb3mlTyYOHfbhNmUp6KPzEyay1VraFd+6y2dh4tcpQ0+tWZeRZSLd9+CepA9ItAAAAAAAAAADwFcDjlXIf6iSaIt22tLRscnEeNWqk5eqf7p86mhMbln/yl/PnT+9OCb1Udjkj70TL+4rWd88aX5XWPLlDTlrfllc8uSkovVZUVXQqN6PurfDnpcbaWloHtm8KC/BaaGT0w9Ilr1+/7p/2f450S0hNzyCfZmSetrbdwO6glXw8nSq53G21OhiPWnunTc8rpcL4kgFsa2tj33LD43Khm6Gp2SqV2e4V/2653mG7z04PTx9NkG65Y0XdluPiE7mBZTuY6AoyoWZ7lm47mAFfZ+dU+riMm6e5ubnwzt0HDx/RYYd024d/kjog3QIAAAAAAAAAAF8BPF4p96FOohHSbQejqbm5uo0aOcrOxrwkO+X4LvcnuSfePC95UCp4/KzgpbC4tfZp67tnpQW/XkpPaKl93vruafPb8peV98hR96o050LqWJ1R340bLTiZNH/eLOOFxkbz5zc19fSQex/ymdIt3TvL1tGZu//YveL7lusdLNbZybh8UsE0Mjq2ubmZTayufuns6rE7eC8Nyfr+fZ2Hp4+ru+cf1dVsntbW1n37D25w2VzepTBSfTMsPFJG0lWz8e3t7SmpJ2iY2gGXbisrhaQNZBBevpJsnkYGJzgsnFTx8FG36zFtsLXthpu3OjdwU0e6ffDw0To7J5nN0wT5NyzW2aemZ6gs5/Ol20rhi/SMTDYEMOlFwc3b57Ivsrc3OTl56jRJlNGp+5M+/JPUAekWAAAAAAAAAAD4CuDxSrkPdRJNkW7FreJVK38eNUpHZ5TWL7H7s/b6nwr3E716JH73tFVyPKFHy9vyP0oLWmsrxLXPxBIxt7zl3ZNHd36bO23C+NGjnf9/9u7ELYoszxv9n/De+8w7y3un32m9Y5U1re10O9NdVTPj7ZoZ3naq7aa7rbK7pqrtKhQtwAVxQ1yQkkIUWRQVERHZFFlERBDZQcxUlmRHZEdSBJM1gUwyISHvyTgQREYuJBJAknw/HQ8NQWTEicCKPPHNE7/45qvtn/1uw4Yf/2bLr7d99vmiNX6e0S0tqPr1TiduisrOvHb9JjeSIwtERMZ84+jscdLrcVbOs+clSckPXPYf2vnt3mfFJexipWXlu5z3k/m34xLIMrl5BSdOe5O1hd2MHB+felgzTQkddrlcCLx0+27CiEIx18bTCrNGo9tTXt/zHhFGJtIMusw8o1vuykNvRJBDQfaCHIHMrFx2ybb2V/sOHCEHgSzzVPyssEjk6xdIjhs3hLUkumUP+OFjJ7Nz8snBjIiKJds66nFKJuuZdT3zjG7ZfwbXb0Sw++Wy7yCZk5WTR+c8TM8gP5KZ5FdzPZ5CEfCUpEV0CwAAAAAAALAC2PCVsoA5ibVEtwqF4sOf/XzdunVr137wkw0/jg72vXnikLy1QtPfxua2UzHuQLOmv0mjm9M63tfS3VSWmRR5OyRw/Qfv//iDtf+w9oMNGzZs/uX/SU66t2iNn2d0q2XuyufVZp2cnLx2/eY3js4lZRLewhMTE9m5+S77D9ERrzQ5lVRU8gZdtra107iWTruc98cnJnPH6hKdnW88z5wlv3Xae6CpueUdGk9etcf1kGF0a3RiVzLP6JY3kV27EHipsamZdwTeymR+ARfJMaSLOexyuR5+a3h4pkywJdGtlhmwnJqWQQ4RXQ9ZofdZP7JyS9Yzz+hWo9GER0STLZIG0AVolWFubQ3yDfnxlNf3g4PyuR5PoQh4StIiugUAAAAAAABYAWz4SlnAnMRaoluVSvXJL37xox/9aO3ate+99/7776/Z9PONkozEMV1WSwfY6iZlT9OI7OVwdz2ZyI9j/S3kt9Wlef/6s5++x/iHtR/8+Mc//tV/fTo2NrZojaepnPdZv2fPS8jEFj1YUBMTE4ODcrJpU6NlKfJbsgxZklsM13AZ8ytZ1pTKUXIEyCFghxu/G/aAkxUK1TZLTE5OjqpU3DnjDO4cssA8926eBDwlaRHdAgAAAAAAAKwANnylLGBOYi3RLZGSkvKjH/3o/bVr33/vvffWkP+9d3Lvt+qeZja6He1prijKflVb3lgiTo8JU8t1A3IVb5vOeR7+l40/mYlu1/84Pc1coVXB0eiWHQTKHUQJsBIIeErSIroFAAAAAAAAWAFs+EpZwJzEiqJbwtvbmyaw77//vi6+ff89Z8c/d7fXMnUS2tQDra8iI/rDbwyEhzWnJ4wPvhofaK0ty/+j/Raa9r63Zs0H76/9/vvvF7nZ7HhMOqnVizfgF8AaCHhK0iK6BQAAAAAAAFgBbPhKWcCcxLqiW+LgwYPc6PaDD9b+9xefP3+arR54Nd7f2lP7/PWDpKaUO4Ovqsf6W6WNzw8673j/PV1y+94a3UjdwwcPLW37AVYgAU9JWkS3AAAAAAAAACuADV8pC5iTWF10S3h5eb2vC2/ff2/a+h//yGWXQ9WzLHVfC1M/oa2vvUry+G5JdMh/2386tdD775EXLnXbAVYiAU9JWkS3AAAAAAAAACuADV8pC5iTWGN0SyQlJn304YfvM/ktE+H+PZnOH9iTGxFcnp1ckZFQFhfa+jCmu7zwj7//9fvvr/nwww+TEhOXutUAK5SApySt7Ua3mDBhwoQJEyZMmDBhwoQJEybutNQX6wtFwJzESqNbYnh4ODAw8KMPP3zvvffWrl3z8c//aecf7JsfRLemxrSkRLWkxcpqCjWD7Z7ubtG3bpKFl7q9ACuXgKckLaJbTJgwYcKECRMmTJgwYcKEaWVMS32xvlAEzEmsN7plZWVlXgz0P+Vx1OnrL+pTolofxLQ/ujvQWK5R9EyOKZa6dQCA6HZ2NvyGBAAAAAAAAPAObPhKWcCcZBlEtwBg5QQ8JWkR3QIAAAAAAACsADZ8pSxgToLoFgDmS8BTkhbRLQAAAAAAAMAKYMNXygLmJIhuAWC+BDwlaRHdAgAAAAAAAKwANnylLGBOgugWAOZLwFOSFtEtAAAAAAAAwApgw1fKAuYkiG4BYL4EPCVpEd0CAAAAAAAArAA2fKUsYE6C6BYA5kvAU5IW0S0AAAAAAADACmDDV8oC5iSIbgFgvgQ8JWkR3QIAAAAAAACsADZ8pSxgToLoFgDmS8BTkhbRLQAAAAAAAMAKYMNXygLmJIhuAWC+BDwlaRHdAgAAAAAAAKwANnylLGBOgugWAOZLwFOSFtEtAAAAAAAAwApgw1fKAuYkiG4BYL4EPCVpEd0CAAAAAAAArAA2fKUsYE6C6BYA5kvAU5IW0S0AwIoxrtGo1GrlqGpEOTo8opAPj3xU40umbY2hbu3xZEroLVvqNgIAAADAQrHhK2UBcxJEtwAwXwKekrSIbgEAbB1NbOXDI4bTDyRHedNHNb7IcAEAAABskg1fKQuYkyC6BYD5EvCUpEV0CwBgu0wltmaiW26GG/Ame6n3AAAAAAAEY8NXygLmJIhuAWC+BDwlaRHdAgDYonGNhpZE4E5kjkqtHhsbJ7+dmJgki0nV/WQSD7ck9JYFvMne1hiKABcAAADAVtnwlbKAOQmiWwCYLwFPSVpEtwAAtmViYnJEOWqY2NKsdlZSdb9hhvtRjS+Zv9AtBwAAAIAFZcNXygLmJIhuAWC+BDwlaRHdAgDYkHGNxjC0fbdVJfSWfVTjy01vW0ZkwrYWAAAAABaTDV8pC5iTILoFgPkS8JSkRXQLAGArxsbGubmtYWirVqtHRkYGBgZ6e3u7u7u7GOQb8iOZSX6l1n8JHYHLTW/v9pQs4g4BAAAAgJBs+EpZwJwE0S0AzJeApyQtolsAAJvAHW87PKIgP7K/mpiYUCgUfX19byxAFiMLk5ewL5eq+9nhtx9Wn0XpWwAAAIBlyoavlAXMSRDdAsB8CXhK0iK6BQBY/ri57YhylPsrpVJpYWjLC3DJC9mVcNNbMj2VNy36LgIAAADAfNnwlbKAOQmiWwCYLwFPSVpEtwAAy9zExKTR3Faj0ZDz/FxDWy7ycs306F1ueounlgEAAAAsRzZ8pSxgToLoFgDmS8BTkhbRLQDAMjeiHGXrJLAz1Wp1f3//fHJbiqyELYDLTW9dW+8u0e4CAAAAwDuy4StlAXMSRLcAMF8CnpK0iG4BAJYzbqkEtr7t2NjYrEUSpFJpK6Ojo8P8kmRVZIV0zeLhFrZsAoreAgAAACwvNnylLGBOgugWAOZLwFOSFtEtAMByNjyioLmtclRF54yPj5sZb9vZ2VldXV1QUJCenl5aWvrkyZM0BvmmtbXVzNhbslq6fv/OTLZswtLtNwAAAADMmQ1fKQuYk1hLdCtXjsmGlP0K1bBSrVCpR9VjSvWYQjU2PDomV6oHlep+MinUsmFVl1zVOah63a+S9o229Sob3gw+q2oUlVaXSGok5XWt4oLB3PjB7LvdZU+XZEcAViABT0laRLcAAMuWSq1mh9yyM+Wm69tKpdLi4uLKysqmpqaOjo7+/v4XL16IRKLCwsL79+/HxcVVV1ebei19y9AyZRM+e3mNprf+nZlLtOsAAAAAMGc2fKUsYE5iFdHtyOjYW/nomwHl6/5RMnXJR3uGVb3Dqp4h1dsh1ZtBlbR/tGN6etU32t472tY72tqraO4ebnjdX/nyVXVpeevTgrasByPPorTPAsbSLtZHBNUX4L45gMUg4ClJi+gWAGDZMiyVoFQqzYy3rWQoFIqxsbHR0dGmpiaRSFRaWlpXVyeRSOLj49PS0lpaWkytgaycbiWhtwwDbwEAAACWHRu+UhYwJ7GK6HZQMdo/PNo7PNozNPpmYFTar8twpX3KV73K9v7R9j5lW6+ytWeUTm100s0Zqe/orWvprK5rrMt9XJ0Y9To5Qp0ZqEk9rko+K7oe+PTqucXfF4AVSMBTkhbR7ULQqDqqxaIiMpU3mXkGu0JaW0QXq+tQmV6sv1lCFyttlmvMbVTeL5f3m1nRolPImSaZnuRCtrYjx9fJyTdPanqJqUOkN6nMHFIA6zY2Ns4bcjsxMdHb22sqt5VIJDExMXRcLfmxoKDg+vXrISEhRUVF5FdisTg3N/fq1avFxcWmoluycrIJrf7zysTDLUt6GABghdHIm0ot6D5RZrsiU30AlQXLGNm62T7eTFdQXCs110qVtI4uJmmWW7L3YBHa5RO0nym8ZdFIsEWIbi1hFdHtmwFF96BCJlf2yJXdcuXrAWXngFLap9SFtn269JZ8bdVltboMt52Z/6pX0dI9WNssrax9WVfyvDIpuiAitDEx8tUt79GbB1UPzpRe9qo6t3/x9wVgBRLwlKRFdCs0Wb7vlvVrVq1mp3VbvPNlBv1+yfXtG1ZzF9voFNvM77tpZHne9mu5i623d083lk125ftsWccs4ytZqD2bM4kvdweNTQ4JMsG2Jo3aqlun3fVmk4uU+hprxrqfOfqm1Al/vUSuBK0rSQeboxxV8arcKhQKU3USqqqqMjMzs7KyLl68eOfOnUePHolEovPnz3t6eiYlJYnF4uLi4uTk5NOnTz9+/Jgsbyq9JZug27rbU0Kj2/0tcUt3DABgZeH3ski/KNXMZ7bmuyKOd7uYdSY6mumr+JSa3jrp43lkdhh8BqxqiHHaqLeSDdvDaxUGjVM0R+3ZyFtMgvx23uR108dfyH6mwJZFI8FWIbq1hFVEt28HddEtmboGFJ0DCmmfQtqvJFNHn/IVmZg6Ca8HdIUUdNOg8q1cKZMrmtqkVTUvyiQVlfnZhaGBBSFBosjQ8qCDfdHH5PHHKs86l592WPx9AViBBDwlaRHdCkpVHmi3es3aLb4pzTLdB+lddXc9dNmrXUgdd7GmyG26kPFojKSdGdPRLr68nfTd1zkkcztvKonvZqYffzWPWVtHaYy7Lp9d55rO6ddr5LWxLroUeKP9lk3WFd3KG6bGmzBTqo89aZ5LWBFnZrnZgShzpKpO8A9MMHJpxGKi2y3eqTMNyEkIO+n4M91l2DqHSIPofF5kdx2s688BtocdcjsxMUnn9PX1GYatL1++fPbs2aNHj8hvh4aG0tLSIiIiMjIynj9/XlJSkpOT09DQ0N3dTb6mp6cHBASEhoY2Njaaim7JSui2pOr+s+3pZOvDI2b+qwMAEAztZa2y87hbresXyZrz/bfp+kWe+SbfwPW7IjN9Es/Na1at98hg+lMqabmxZfLDnMj7+Oawhumtl/rqtr5x++WcZpmu81YexfTx1rpm6sWt0gSH9UymHFveoesKNucFM5/W212t1Qt5ZSmOusZvDRTrFuuXSmI9dOvfGtOE+4He2fSgh7Vb7O2sNhVdFo0Em4bo1hJWEd32Dyn7h3VT35Cid1jZM6SU6cJZ3QhcMjFx7WgnE93KhkbJb3uHlN39g+WVVSUlpaWlJWUPExPOnrjtefi276l0r32hh1zSD39ZcOxPL05tW/x9AViBBDwlaRHdCkme4apLJ1P0bqBT5Z0kXXO3DLZfryn3WW/QNVeV+2xas2rT1Vp2TnvMVtKrc0zQG82hKPexYxabnikJXMcM+kjt0Fh5VmgFzWOiW4dEgx6yvPzybNd+c2cF+ws2zbBaglqt7urq4sasDQ0NEokkOzs7IyNDJBK1tbW1t7dHREQEBQXl5+fX1dWRdwHyEjJ/cHBQJpMVFxcnJCT4+fkVFhZ2dnYajW7J8mRDdIsjylFepV0AgAXD3F6z3vEud5StQjzVfZrTSaj66iaDj9X5+lOd9GJZY1uf+pT9k8vVM3NEXqRHsdmnVK9H0ZHouHb1GqfUmYxXVeSl+2jft5y7XEecbvwvdzGYC1mKo+4+ti+vl8tJZ9tKU9Fl0UiwcYhuLWEV0e3gsGJwRDGkUA6TSTk6ohglX4dHVWQaUo4OjowOKJhHlnGiW2l3T3Fp6fNnIon4iSQr9Vbgeb+jh4JOn34QGR0ZGn7lT58m/enjh9sXaV9GFIr+/gG1eszob8l88lulcnRxGjMfpJEDg4Pj4+OmFiB7an4BMDQ5OTk0NEz+DXCnwUE5Lc9nGwQ8JWkR3QqJ6YE5pvJ6YMyNeOv8y6d/7kpwIIv5lvNeLPJmYt/pFzdF2utfDEyRp7vpQsaiqa6+JHh7WDnt4lt5VjhL8+TN4rvXA/0DA6NSy5v41yyqjvKpIboqafn0YnW8MhTMqJlyc2XvTEW3hCLfc72xaz9drbrUqECyxfC7OfwtklY3FYlFDXJd5bucGNIq/8fS6ZbojTKW6A8vljeXp8Tq9sI/NtV8CTwAU1RqNa9awsjICDdjraqqEolEFRUVr169qqmpKSwsrK+vb29vLyoqCg0Nzc/Pb2hoGBgYUDHIa3t7e0tKStLS0sLDw4OCgsirTA28JQvz2qCaDnMBABZKc8yW1Ws2BfPz1o7Ybdx+kQXkKXvWrFrvlmGmUq1WWxv8yarVmy+zWzOxda0803X1mrVe4qnNq/I9SR9vj2H4Wnd5k+5j+46pH1V5Jw0/7CezxZ7ruYvBnMhSPDxSpi5rrDYVNd/ImR6vvDmf6X/G5LFFkDWy2lSmtxmbb7zO8iy9VoApiG4tYRXRrWxwhExvyVe5gky9Q4q+YeWgQilXjA4pp2LcEWYi35OZcoVS1j9QU1tbkJv1KDmpIC46Iiw8PCQs7WFWTV3djUuXo3b/Ls/xZ/WuP12c9oeEhn+90ynsZqTRTLO0rJz8NiU1bU7rXJLAlzTSaa9bS0urqQXInppfAAyRP+L3vhfIvwHe5LT3QGpahm3k4AKekrSIbhceE8LaR7ElWGm3/iRvhCeTbK4PZJNNpjrbVBU2PUz+uIkdKjLTLVu20a2iLmz7Rv3Scpv1S/oyr3VIECW76BUI3uiSwlmKiciNHTGWmeh26s/ESdgJaab7VAVhtqbetsvV3L8b0+f2TUhha9Uxibxh1byZjRrZ2XVbAssR38JcsYVux8am3tcGBgbYdLW5ubmoqKitrU2j0QwODmZlZeXk5OTl5ZGZGRkZAQEBSUlJVVVV9fX1ZBmy/Nu3b1taWkQiUWZm5v37993c3CoqKkxFt2RDdIvsyF82PgYAWCCyZN0H4dzKs1NoqGp+CC3Xuwy5NdOFYHoC7F1TJj6en+4FsfdglfuvNxos0kiXc6sWzMlMr9hqo1vzjZzu8TLDtNmO4tbYZq00Va+A8np7f/2R3Rb0WgGmWNWVsrAEzEmsIrptbGuVDQ5LZT1vBoa7Bka6B0feDI50yxVk0pW1HVL2DCt7h0f7RpT9dBpWvO6WVVVW5Kbdux3klx92KfX+g8rq6nbp6xcNjQE+fnlejm+Pr8n+ctXitJ9Gtzt27xGJnxv+9t2i23d71Twhul0INLrd43ooOzf/2fMSOiWnPDx45Dj5E0fG3JmcnFzqNs6XgKckLaLbhaapu2zHG86pkgRu1t1MJ57pmMsee/EuJGpDPtELfNkX53utMndVsNyiW430rq7W22b3xDo5c4hUUrFB6TrmtZs+2WTnlUfHqGrktZGOvAJz84xuteWBZIVfxk2HwbQ2xfpt/kVS+nRpeXWCO5mzehvnj8L0udev27AtUNSua5hqpodsdH+nCts5RE7trK7emdfmOQ4XAtAxLFbQ09PDpqslJSVZWVl5eXkRERHHjh3z8fG5ceNGSEjIhQsXPDw8zpw5Q+Y/fPiwsLDw6dOnZWVlFRUVdXV1EonkyZMnMTExZJn79++bim7JhugWyaZpG0aWw61OALCsmfxIWyPWvRfzCs6a9E5Dbok6XeC7JdJIt8yT+5BYZhCuwcfzRHOUPaf9JhNebUfcdt1NVxYH0WCCFUe3M0xEt5s+sSMdy6l/Kvmeus7nxg0bN3vmMD1Sjaojx4uWRZ4ZnW1RrxVgihVdKQtNwJzEKqLb7y94FIgzY+Iv54uyuwfkMvkIO3XJFV2DiqkYd0jRQyf5SKv0zdOiJ2lxUZlBZ1LDr5UW5jU3NXZ0dj599uzUMa9kh59W7P/7K5++vzjtp9EtmVwPuXd1dfN+i+h2haPR7cEjx/v7B7jzh4dHzvic3+N66FWHuQfRLgsCnpK0iG4XFi2CZlBEVSPNOLltw+o1G+y2u550+9Juo67oVbBY786mUt+1q9ds8har9F/IBIJrVnmJDa4KlmV0S2u9OcTp/1fJL11HX8vrfTJXX6u98qYPxHyjW/3rKOYGzE98eIdZyiwzcyMkHWvjKzLylCZj+6tRyZrFd1Pr9FbKDO0xev0GYMbwiIL3jLLu7m42XW1ra6upqamurq6srCwpKSFfMzMzT5069cUXX3z99ddOTk7Hjx/38vKKiYlJSkrKy8uji5WWlmZlZYWFhfn7+4eHh5uKbsmG6BbJpmkb8KQyAFhoTHTrKzI9+GkiAAAgAElEQVRyD/hcQrp3G3KrnX5QgcE7Pq1OS3ojoqm3dvruzyuJq1WJfTetZnoytNPNdDm+jDNySUJv3DEyuBjmZjlHt7zerFjXfV2r1/Pnj862rNcKMMVqrpSFJ2BOYhXR7X9s+fjr3b/ef+iLx+lnet8+6x0c7Bkcamxvyn2anv0krePt217d48t0U7O0o6ym8mXry+Ly4vi7tx9Eh5fERz69c+v1s9yulsb6ly8lldWH3Y7t+8XaAPt1Rz9Zvzjtp4FmzJ34nd/u9Q8KVutXWDMawo6Pj1fX1sXeiQ+7GZmaltHT08v+irxcUlF5Oy6BvOpKSNiz5yXkR7pOqfR1SalkePoBIFRfXz9ZhvyK+yP52t8/kJScQtbf2jYThJENZeXkkZm3omIrq2p4d+sLFd2a2Tt2BxubmicmJupfNpKW3LwVTdqsNlaZrqurOz4xma6HKSg89Vreqrgv0Wg0tXUv2INGkW2RZtNVka+dnW8Mx7qSOWQZ2uzcvAKlUkkONTng7LFlV0W2yC42NDxs/miYim4J8rcgf2XylW02mcbGxsokFeSYPHj4yFQBZWsj4ClJi+h2IdGnUvCeQaEjr7vLRLece5o+3noyoYl7PTA1HJUzQrO/7u7RzavsNtvZzqhbkzcGTpX6reO81j6mSX8ZZmDyTO9W0OiWGR3DfWqc8QYzfW5vsbHVWfznUOS7I7qFueM9o4zgBaydDPbH169f19fXR0ZG7t69e8eOHV999dWfGOfOnbt//35UVFRoaGhwcPDt27fv3Llz4cKFa9eumYpuCbpFRLcAsFhUIi9T76qWh3TvOuSWQTt1ax1jaunLNfLaRA+71Zvt7PQapir11fXTZu4TUnUUBW5dv87OjtNpYR5Fa7RDguhWIMs5uv0yQa/YsbHuq/4gdAt7rQBTrORKeSEImJNYRXT7o43/8H9+/fNgv38rz/sX3zMOdfX1rR1t7qcc9rj9weHbLWGR/mXVZX2Dw2VVZae+P7D/yNenffaH3gwOCb0cGRb6KDH+eUKMrDClpUpSU/eio7MrKODS8d/+f5e3/vyA3c8Xp/000GxobAqPiP7G0Tk1LYP7W8PotrWt/fCxk9yypw67XMiraJjY3z9Ab6VnJzb1Mxqt8tZPf0xISt534Ah9OZmjZeLU23EJZEPcNXuc9JLJethVCRLdmt87dgeDr4bSw2WqMYYN3uN6qLikjLyWNIO7KvZHyjAq7e3r++77c9wmke2SrXOTa4VCSZrEbc9Rj1PPnpeQ/eX+7QxXtct5f0FhkZmiB2aiW+7fji5GVn419AZtBvlxWTzdTovo1gLW8IZE++5rHRM6eCNEVOX+unua7H1ypu5pmu79GyysKPfnVa3SVXdlbgy0kejWWA+VYoYYTI9Wnqr8Zez5bwJHt2sD6YE1mckydzKyhSzKTfwttOb+HBp5U2m+7mFrJ1222Nv/bP0aExUwAMyZNbo1pampKTc3NzQ01N3d/fDhwx4eHo6Oji4uLjt27Ni/f//58+cvXboUEhISEBAwa3RrtBkAAAuByaqMhlCWhnSkYzb7kFvaGTBefkElCbRfy+2Vrd7olCwV+fLf7jt4pfmZovZN3F4KsxWj9XkR3QpkOUe3vGbPHt1a2GsFmGINV8oLRMCcxCqi2/f/8f0/79h85vTnH238wb//yz95e5/1ueDxX7/9xSebf/rxL370X7/7J4e9v7pw+cSlkLO/3fZLZ9cv3dxdzgVeiIiOTEtPy8t8nJ2S2iAqbG1pefO2p7unL/72HW8Xx5xT3yZ4uS9O+9lAc3BQ7nHSa4/roabmFva3vGi1t6/P/fjpnd/uzc7Np9Fhb2+f91m/3S6uDY1Npl5FWR7dkvXfvBU9MDg4ziDzU9MyvnF0Jhvqfqs7z05MTOTmFZDFgq9e10yXpZt/dGvJ3tG8dZfz/rPnA2hjhoaHr4SE8Qq/Zmbnchs8Ojp6N+Ge8z43svI5RbfkR1+/QLIq8nKyEmaOkmyOzCkSPaMvIRslm6bDnOkoWtoksrkdu/ewx1ahUJI2kwbcf/CQrIq8qr391YnT3mROVXWNqWNiJrotLBKRjT5Mz2AX27Hb5eDR4xVV1eTojapUy6UMroCnJC2i24UxldtuCZQYjEWTp7qQTrxrOv+igLnnzqDmqUbeVJQQpntWbGBYYrmuooIs1cRNdssxumUeuGy0Y63XT12M6JYWEXZIZn5La9UZi1P1r6nmHN12pHtsWT91vWdnb//lQd+w1HCMuoV3YFjrllswwRLFxcXOzs779u27cOHCrVu3vvvuO09Pz9OnTx85csTb29vHx8fUC1EwAQAWnyRw3arV2+8adn+MP/3VEH0erPkhtyqJr/Ehtyx5s1j34SvpmF1PkOi6HLIUR2MfQnfVpcQyiwXG5DXLp9s/XfCB6csZzdr4z7aFd7SSoltLe60AU5b8SnnhCJiTWEV0+9OP/9HR4ff/+e8fbf38P3/x7xt/smHdL3/779scPndw3P7lV7/d7vD7b/fuuBDkk3gvLv1RWlZuzvPSkqrauhcvG9s7OqSvO5uaWhobm6Vvut/29nV2yVLvJQWcOHjttMft4KDFaT830HxR/3K3i+vZ8wEKhZL+lhetqtVjFZVVz56XcFM5MocbERq+irI8ur12/SZ3SCnZ1luZLCsnr7dv5r8KtVp9/kIQN1Kcf3Rryd7RvJVXF3hgcND9+GnP73xGRkbYHw+7nyTNZpche0T2i+zdnKJb8qqGxqa8/ELuAXnVId3jeoh9If3R+6wf+1fTMkEtmcM9tkWiZzt2u2Rm53I3R/4N7jtwxC/gkqniBqaiWxoEs6E2XYwcXl79h2VBwFOSFtHtQpAmOKxfs8rO1zC31Zp5zoY04cuZUZ+m6WrgGnvC8rKMbunTGAzv8JoKUn3EnMUWNrpVibzWzRSho51pY4NumGsq9tJxjtEtc4Ok7ibKdu4FppmVAJhk/jFlFvLx8QkLC0tLS0tKSrp3796tW7eioqL8/PyCg4NPnz5t6lV4TBkALD55uhvndhwOUw8Q0zfvIbcmMDVw187+Js7ryTAfXRtUgiJ7meGqV8cf3tVKim4t7bUCTEF0awmriG4ddv7+pNsff/cbu09/85sP1q/7fNuv7Lf90nH/fx869K3r3h3+504+eHCvqqJM2t7S0fKypqay8ElBTl5O4ZPC2rra+vr6kmfPJZLyV687u2Q90jfdj+4nBXu6BR4/cOvShcVpPzfQnJycvP/g4dc7nchXGl9a8sCxmtoXu5z3CRjdPi+e/cOs8fHxwItXhI1ujeLtHc1bg4JD2NG+Wibz9Qu4xDamqrp2x+49cfFJvFXR+XMtmGDoTVfXPrej7AtpzdnCIhFvMTqftpy0lrT54NHjfX16H47T+W6HPbixuGF7Dhw61tb+ijSJThWVVZ5nzpKVh92MpJkyXeyMz3mlUml0PdZMwFOSFtGt4KSpThuZeM5Eb5HpbBnrRTXHbOFEt7LHXlvs7f35TyNT5Z1ct2o9+zQMruUY3dJ6tWxgyqJBKtslXfDodmqU9Eyvl7l2MnKcpVFbyXxfydTZdG7RrX4ePc30WAkAM5SjKhqbjo1NfVA6MDAw1+g2JSUlICDgzp07cXFxsbGx586di46Ojo+PJzOdnZ1NvYpsiG6RbJq2gTRm6Y4EAKwMNFc1GF3LlKb9xMw4Wca8h9zKMj3t7bf4GXTL8r3W6t0yVRe2zX6Lk8Eg3GbdZ7dbY2c6fxLfdQbPX51+cumcsmMwbkVFtxb2WgGmILq1hFVEtxGXj/t6fP6TH//DD/7uvb9//4c7vv23D/7hg9/85sPTJxy//vLz0x7fuHz9ucuXfwj180y47nvvztX42yEpiRFPCjJqayprKqtE+QVVldXSN12d3T2vXnfdjbp1yetYkJdH2KVLi9N+XqDJjqZ8Uf9SayKEHRoeFj8rvhUVS5Z0PeROK7oKGN3S+rY89FFdDx6mkwYfPe7pvM+NW0jX1PrN7Kkp5vfOaN5KV8425nlxqdEAurv7retB93eIbkdHRyUVlbF34gMuXnY77LHz273c0bv37qc67T3ALXNBvahvYENnutp9B45cu34z7GYkdzrkfsLMYaEv5JbHZUsAk0NEaziwiy2j+rZcAp6StIhuhaUo99HVseU/WZhLVeTFPLtMLOd2pDSyvJOf6BVMoN33rVdrOUN35WJdwrjV+NCSZRnd0osZfpHfhvCtekHqQka3GlVHjq+uiIH+X425GOM/Yk6ew8ycGbNjJro1NnCGaYCT3pN+yYXiZtS6hXegUqtpbKqafkboyMjIXKPb+vr6kydPhoeHh4WFXbly5dSpU0GMEydObN++3dSr6P06Wk58rDL24FMAAEExn16v3uxTynlnbY/RVR7YGjMTlWpkotjwlAa9EEuIIbfMI85Wb7tczVmzXKzr9W2NaeL0YZgoeZ1rKqezQR88u94rj3szlmH/RyMXeX9ipHYWvIsVFd1a2GsFmILo1hJWEd1mJF497fqp087tP1y15q/+6v/62T//0PHP9sHn9oRfOfydh4PPqT/b/9uPP37vh77HdtwIOHwnzDM69PvEyIsFmckVpc/LnhdnPUh9UvCk9ZW0o7O7Xdp5O/JWWFBgRMi16IjoxWm/YaDZ1Nyyx/WQx0mvwUE5L1rlPn1r57d73Q57BFy8fOduotPeAwsa3XKfHrbX9fAJzzOxd+J9zvkLG91asneWRLd0uKvhXvBea0l0Ozk5+TgrZ5fzfpqWuh5yP3s+QPcYN86o21tRsUb3i8xhH1MmHxo6dtKL7pTbEf7kceq79ldGnmzEtof8e8jOzX/2vIROlVU13OIMWkS307SIbgWkKr/MPFVsk6MXU91Mb4oqnb4W0EhT9mwki23Y6uYTmyoqEqfE+royL+R1uaaeZbzFzT8xX5ST4O9qv9boc8+mLM/oVquSBOv2a8N237s5Yt3RuO5mEKQKGd1y/zqeTvZ2G6ee/xbVwLtSkjF/pnVbXMNTikjD8u/6btc9dUSvDoa5Wge0vtiG7brNZdD/yKafUOcemy/SrTM1jPxNHRwdEN3C3LHFCtg6s2q1uqura07RbWdn55kzZzIyMhISEsLDw7///ntfX19vb+9jx47t3r3b6EvIJtTTQS3ZNG/kLwDAAupibmxavfHLkzEp5H050LDDQO/mITMDOf0NYarcTpXDWm/vGpiQZ2LrOvRT/KlGkj6e15e6NusnznSLTP9nqpuXGuO5faNhVxDe1cqKbi3rtQJMQXRrCauIbq8FHP79r35x6rj7v/3iJz/55x9+/ptPbvgfvvSdi9uuz1y+/p3jf2+x/4+PP1y/dq/DHy96uUVf8oq7celhQnTpsye1VeUlT8XpCQkp9+7X1L1sl75pbG5NjLtzzd/v5sWA0ODgxWm/0UCTPhYsPCKaDiDl1kulT9/q6upmC8JyI0JK2OhWoVB6efvu/HZvVk4etyQrNy01tf5Z95TLkr2zJLqle0Gf38XV1NzitPfAnKLbhsam3S6uh91PNre0TkxMGH0haRtptqSikrc57t+Orpatxms5Swo4aBHdTtMiuhUQM15jlYlJr8ulkdcmem3dOPPbtR87+qTWyQ0y2Y4c3y9nFtu49WSqidxWu2yjW52OVO7RWPczx6simcFrBYpu9ab1H2/Z7uZv7MjraOSS644/W889/glNej1gs2VqNTJR8Hb6jOmZx8pJMz23bmQbsGF7uEQuRq1beAfsI8K45W77+vrmFN0SFy5cuMcIDQ09d+7ctWvXAgICyMzvv//e6PJ909WK2OyYTEt3GABghZGJLzt+vJZ9G93qlaLfjVWVB+oqIDnOjHqdGpBofuwhHQM7a6WC9nyf7Zw3cYOtT5GXRzEft7N9vLByoytWNXF7g+s/drhebrxDAnO20qJbS3qtAFMQ3VrCKqLborQrf/zDb3fs/rnLgY3bd/7jAbf/+ONvt3z9x62f//q/fv+rX/7ml/+5dcvm32/ZbP/pL+0/Jd98+oetv//mT1995+WVkJCU/iA1I/Jm3M2b5ZU1Le0d9Q2NqSmpV6/dvBUZc/VKyOK032igqVar/YOCd367N/hqKDdajYtPMrw3n5ZwtSS6NUwYE5KSZ41uaZ2BKyFh3KeH8crLaoWIbi3ZO0uiW6n09d4Dh89fCFLr3/NIVmL4mLKz5wNGVTOfB3e/lbkd9mBXVVgkMqy9QNfProe2MCIyhnt8NBrN9RsR3GN7Kyp2j+uhVx16n2WTl7CJsFGIbudEi+h2SanI36BfLp+tX0UXU9l6b17VzxwNaxttolHJ++dx/HUv5+/S1N/d6nYVlhn2SWVsvQKFQvEO0W12dnZ0dHRoaGhQUBD7pLKQkBCjy5NN0G2x1RJQ6BYAFpvKbPdJtcAnJfNbZ9H+gwXv9ar5dDMAuObZa4WVYblcKb8DAXMSq4huE6MCPv9s61//zQ//x//4q//5P//2pz/5ufep40H+/i7Ozt/udty9a8efv97+5X//Ydvnv/vtb35lv+VT8v9f/3m7m+v+ayHXHianPE2Miw8PL6+saW599aKh+VFGdnjsvbDoxCuhtxan/aYCza6ubtdD7rRGARv/kW927N5TUVnFLkZr4/KCWqPP6Sopk3zj6BwUHMIGmi8bGve4Hpo1uqURJy8JfVZcsvPbvcJGt5bsnSXRrUajCY+IJjsbn5hM2zw5OVlRVb3vwBEyk30tjTt3u7hW1059cE0WpnkrbwBvRmY2u6Hx8fGwm5HcCJisx9cvkByN3LwCmsOSr+T7Xc77yebYlldV15BlQq6Hcw8j+Su7HfY473/R1OPF5hndkm1l5+QXl5SxsfLAwGBSckoz569Q/7KBHCgy38z6F5SApyQtolsAgOXJsGYCeTPt7e2dU3QbFBQUFRVFq9xGRkYmJydHREScP3/ey8vLcGGycvbTU1RLAAAAAFh2bPhKWcCcxCqi2we3rx7b4/i/f7DqL//y//mLv/hff/u3qwPPnrkR7Hf29AmfE0f279qx/Ys//OF39tt+++tt9r/e+dUfyZyjrntPHD0SEhycmpBYEhv2MDamvKKqpq4hr/BpXNzd20lpt27fi4i8vTjtNxNoisTPd+zeww0uW9va97gectl/6GF6xrPnJbl5BSdOex8+dpJ9HBbV09N75NipXc77L14OefDwEa1yMDgo9zjpRdZGlg+9EXEh8BJZ4GrojVmjWzYJ9Q+6/FT8jGz3VlSs60F3tyMec41uye4EXrzCe04Xmch+Wbh3lkS3Wiag9D7rR/aF7CNp517Xwzu/3Zuekcl7bWZ2Ltkv8iuya+SYkN96njl7wvMMu6revj7346fJSuLik0iTCotEvn6BB48eJ3vKXY9U+vqwu64WsPM+N7I58pXsSEZmNrfUAzmMEZExZHPkr/A4K4esLSn5AdlZsvVnxSWmDto8o1ta9tdl38G29ld0Ds2mj530kg8N6Q7U4CBtOZlvZv0LSsBTkhbRLQDA8sStmcDmp0ql0vLctr29PS4u7unTp/Hx8efPn7927VpMTExgYKCfnx/50XB59kNTsjlUSwAAAABYdmz4SlnAnMQqotv02CBvN6fVq9f89V//4O/+7v/9m//1Q8dv/pSXEV+Un/0kNzPr0cPH6Q/vxETdunE9NjLi+uUAt71Of/riiz9+9tlxd4/42Lic2MjMlAflFTUicUlMdIzfWZ/Tnj6njh0/4bpncdpvJrplB3hyY1lJReU+t6N0NO43js6XLl+rrKrh1bolauvq6YPF3A579E6XcuvsfON55ix9rcv+QyLx85IyiSWPKVMolFdCwugDxOhryyTlV0NvzDW6pS83nNgtzrp3Fka3WmbA6ZOnYi9vX7cjHmd8zte9qO/r6+e9lhzhBw8f0aeQkc0FXrrS+aaLF5W2trW7Hz/NNvW778+9bGg0ViRXmZqWccLzDNnchcBLHdLXhjWIJyYmsnPzydFj10bWQ3aZW2mBZ57RLU3DSfvZfwO0jHJQ8FU6+Jd8Jd+TvyxpmJn1LygBT0laRLcAAMuWSq3mDbzVMu8RFka3RUVFYrG4rq7u/v37V65cCQ0N9fPzO3fuHPn+4sWLvIXpWwbFDrlV6ddZAgAAAABrZsNXygLmJFYR3YrjLvp9d+CHP/z7f/3wn//81W//8q9/8G//+gtRQab09WuFclQ9Nj48MtLV3VVd9Tz38d2M+2Hxt69FhIdeDTgTE3nzYWp69oOHhbkFJWUVj7PyYiNvXTz3/f4d/71n+1bPQzsXf18sNDExMTgo7+8fGFGYq0s0OTk5NDRsWPyUzCHzzcSFppAXko0ODA6Ojy/g7YQW7t074NWo5W2R+wQ2HnokSZPmdNwMaxBzN7cQO2jUOIM7Z1Sl4u4FaY+pcg2LQ8BTkhbRLQDAsjUxMcmmqGzNWfIW1t/fb0l0GxcXV1lZWVFRkZCQEB0dfevWrbCwsNDQ0Bs3bgQHB3OXJCtk3xnZKrfcvBgAAAAArJ8NXykLmJNYRXRbcDP4mz9/9n//xd/88bPPvU65/+B/r/ns95/VVJS8lnYMjShGVaRHPtw/0P/6dWvJs7T8x1FPCx7USAqeFyS/qClrbm4uK3lWUlJcWibJzsm9FxcZc90/4sKRy2f2XPI9uPj7AkLp7e3LzM7lRZbPi0sNSwALor391ZOnYl6qS5+KVlgkEnxzNkbAU5IW0S0AwHLGrXhLvqczx8bG+vr6zOe2nZ2dMTExVVVV9fX19+/fT0pKIj9eunTp8uXLISEhZ8+eZZckqyIr5G2OTOzmAAAAAGBZsOErZQFzEquIbssz0gIuuvzn5g/yHt9/9PhUUMh/ZGfeLC3Nq39ZNTIy3Nff+/Ztl3xITqaurk6ZrKtT2lxbllUlTnmaFf00927mw1t3oi4X5KQXi3KeF6Y+z7udlRwcfuVESMDRxd8XEMSoSnXe/+I3js6XQ66/lckmJyfV6rHCJ09d9h/a43qI1tUVUF9//7ETpx12udy+mzAwqHvYl0KhvP8gbZfzfm6lAjBFwFOSFtEtAMAyN6IcZdPbiYmpz0TVarX5sbfV1dUFBQXkG4lE8vDhwwcPHmRlZUVERNy5c+fs2bOHDh1ix9uyDwslK2e3NWJwixIAAAAAWDkbvlIWMCexiui2rqbMcfevYmPOtTS+2LNvh53dT9tb6tub6irEmS8riyTijOqKp63NL15LW5teVrY01bY215eX5NeV51SIH+RnRDx+cCUnPfJB/KWUu8G5j248iPeOC/e8dvFYsP/Jxd8XEMrw8Mily9e+cXTmVtR12X9IUlG5EJt7K5N99/05XgHfw8dOCh4T2yQBT0laRLcAAMsc93ll3CIGGo1Gbrru7ePHj6VSqVqtLioqysnJSWdcv349Li7uzJkzp06desPUt9VwhtayuS2Z2IwYAAAAAJYLG75SFjAnsYro9klR0fof/9P9eyktjS+++uqrTzf/prO9pb2htlycW1P6tOx53tPCB89Fj8vEmaVkKn4iKsoVP81vbqzreSttaSitLc95mn8vIdY/+qb34wdXblw7eM7762sBR6/5eSz+voCAJicn38pkT8XPbkXFPniYXveifqFL9Eqlr3PzCm7ein6cldPS0krmLNzmbImApyQtolsAgOVvbGycm95yc1WlUmlYPKGtre3Jkyejo6PknbexsbGhoaG6ujo6Ojo2NjYoKOjSpUuPHz/mVnXnjrdFqQQAAACAZcqGr5QFzEmsIrotLZNs+fTXVZVVrzulBw847/jTFy9rqwfl8lft7fUvqp+Lc54Uppc+LxA/eSx+mpeb+zglJV4iKe3t6yWXA7oLgN63jS+rnuSniAriKySPCwri4+74xl7zvvDd/sXfF4AVSMBTkhbRLQCATeClt9x0dWJiQqFQcAPcoqKiurq67u5u8kbQ29vb09PT2NiYnp6ekZGRkJDw7NkzBee5oNyHoSG3BQAAAFi+bPhKWcCcxCqi2w6p9MiBfc+fldS8aEpJjr8adEZS/Lyj47WkrOy5qDA58caTvPSsR8mF+VnJibcT46Mfpt5ramoalA8NDysGB4cGBgZ0uzI0KJf39fa+6ZF1dHa2l4gKSkvEi78vACuQgKckLaJbAABboVKruemtarpGLUutVo+MjPT19RUXF3d1dQ0PD/f09PT395M5ZH53dzf5kXsHzMTEJHedZBobW8DbcQAAAABgQdnwlbKAOYlVRLdEW3NTblrSg4Sb9++GiZ7klj0XF+RmJUaH340OuRV2Lios4MG9O5HXg+7cCs/Lza6rq337tmdoaGRkmFwKDKnVqnHScx8fJxcACsXIqFIxqlSOjuJpFQCLRMBTkhbRLQCADRnXaLhJq9EA10LcYbwYbwsAAABgA2z4SlnAnMRaolsAWL4EPCVpEd0CANgWw6GyNMC1MHilL+dWSCDTiBKf0AMAAAAsezZ8pSxgToLoFgDmS8BTkhbRLQCALRrXaHjxK81wlaMq3a1TGg1NcicmJslEviczDRNbw7K5AAAAALB82fCVsoA5CaJbAJgvAU9JWkS3AAA2ynD47Zym+RRbAAAAAAArZMNXygLmJIhuAWC+BDwlaRHdAgDYtImJybGxceWoak6JLR5HBgAAAGB7bPhKWcCcBNEtAMyX0ZPL72aD6BYAYCWjGa5KrVaOqkaUo2SiQS2ZyPdkJhJbAAAAANtmw1fKiG4BwIqYOr/MNbdFdAsAAAAAAACwQtjwlTKiWwCwImZOMXPKbRHdAgAAAAAAAKwQNnyljOgWAKyI+bOM5bmtHNEtAAAAAAAAwMpgw1fKwiW3iG4BYN5mPdFYmNvKEd0CAAAAAAAArAw2fKUsRGY7BdEtAMyXJecaS3JbOaJbAAAAAAAAgJXBhq+U55fW6kF0CwDzJeApSYvoFgAAAAAAAGAFsOErZQFzEkS3ADBfAp6StIhuAeJKdeYAACAASURBVAAAAAAAAFYAG75SFjAnQXQLAPMl4ClJi+gWAAAAAAAAYAWw4StlAXMSRLcAMF8CnpK0iG4BAAAAAAAAVgAbvlIWMCdBdAsA8yXgKUmL6BYAAAAAAABgBbDhK2UBcxJEtwAwXwKekrSIbgEAAAAAAABWABu+UhYwJ0F0CwDzJeApSYvoFgAAAAAAAGAFsOErZQFzEkS3ADBfAp6StLYb3WLChAkTJkyYMGHChAkTJkyYuNNSX6wvFAFzEkS3ADBfAp6StLYb3S51EwAAAAAAAACsiA1fKQuYkyC6BYD5EvCUpEV0CwAAAAAAALAC2PCVsoA5CaJbALAuiG4BAAAAAAAAbJ4NXykjugUAm4XoFgAAAAAAAMDm2fCVMqJbALBZiG4BAAAAAAAAbJ4NXykjugUAm4XoFgAAAAAAAMDm2fCVMqJbALBZiG4BAAAAAAAAbJ4NXykjugUAm4XoFgAAAAAAAMDm2fCVMqJbALBZiG4BAAAAAAAAbJ4NXykjugUAm4XoFgAAAAAAAMDm2fCVMqJbALBZiG4BAAAAAAAAbJ4NXykjugUAm4XoFgAAAAAAAMDm2fCVMqJbALBZiG4BAFaIcY1GpVYrR1UjytHhEYV8eOSjGl8ybWsMdWuPJ1NCb9lStxEAAAAAFooNXykjugUAm4XoFgDAttHEVj48Yjj9QHKUN31U44sMFwAAAMAm2fCVMqJbALBZiG4BAGyVqcTWTHTLzXAD3mQv9R4AAAAAgGBs+EoZ0S0A2CxEtwAAtmdco6ElEbgTmaNSq8fGxslvJyYmyWJSdT+ZxMMtCb1lAW+ytzWGIsAFAAAAsFU2fKWM6BYAbBaiWwAAWzIxMTmiHDVMbGlWOyuput8ww/2oxpfMX+iWAwAAAMCCsuErZduMbtVq9YPUh7/5ze9WrV5jybRu/T9WVFQuVWsBYIEgugUAsBnjGo1haGtq4UmGqd8m9JZ9VOPLTW9bRmQL02oAAAAAWAw2fKVsg9GtQqFwd/ewMLRFdAtgwxDdAgDYhrGxcW5uaxjaqtXqkZGRgYGBnp6e7u7uNwzyDfmRzCS/Uuu/hI7A5aa3d3tKFnGHAAAAAEBINnylbIPRbXxC4pxyW0S3ALYK0S0AgA3gjrcdHlGQH9lfaTQahULR19f3xgJkMbKwhvNyqbqfHX77YfVZlL4FAAAAWKZs+ErZ1qJblUp18NARGsj6nD2nUCgXvw0AYCUQ3QIALHfc3HZEOcr9lVKp7O3ttSS05SIvIS9kV8JNb8n0VN606LsIAAAAAPNlw1fKthbd9vf3/+73n2EgLQBoEd0CACxzExOTRnPb8fFx0vWca2jLRV5OVkLXxk1v8dQyAAAAgOXIhq+UEd1al76+/mfPS6pratnLCaMam5rJYi2tbVpdbV/lef+LTnsPlEkqFqeRFpqcnHzZ0EjaSVq7QJsgRyk8IsrRad+jjKwF2oRRarVaUlFJds3UJJW+Xsz2gCmIbgEAlrUR5ShbJ4GdSd6FLayQYB5ZCVsAl5veurbeXaLdBQAAAIB3ZMNXyisluiVd8wepDzf/1xYrr37b/VbmdtjDaa9bc0urqWUGBgfdj3vu2L2nqrqW/EiWJMt/vdPp+o2IRWzp7Pr6+g8ePU4a5uXtO//KFUrlaH//gFL/Tkky5+AR3SbOng8YVanmuQnLsds1NaWkpi1aY8xQq8dIU0cUitkXtVGIbgEAli9uqQS2vq0lua1UKm1ldHR0WJ7eiodb2LIJKHoLAAAAsLzY8JXyiohuFQqFu7vHsnhw2eTk5LXrN7/e6ZSQlGxqmYrKqh2797B56Pj4eOK9lIuXQ3r7rOufaZHo2TeOzmRf2JR5PlJS0wwjUXK4cvMLz/oFtLe/muf654RGt3tcD2Xn5lvzqNvSsnJy0EJCbyx1Q5YMolsAgOVreERBc1vl6NSns6TPYya37ezsrK6uLigoSE9PLy0tffLkSRqDfNPa2momvWVvdfLvzGTLJizdfgMAAADAnNnwlfKKiG7jExLnlNsubb0FXjLLMzk5GREZYz7btQYajSYoOITsyHn/i6S1pM2k5fNZodHodqnQ6JZM5Julbos5iG4R3QIALFMqtZodcsvOlJuubyuVSouLiysrK5uamjo6OkiH8MWLFyKRqLCw8P79+3FxcdXV1aZeS1ZL1y9V93/28hpNb/07M5do1wEAAABgzmz4Stn2o9uRkZFdu51oIOtz9tzQ0NDit2pOaD2E3S77GxqNPOOYViEwX1GBi94yb1hqYKFJpa/3HjhMduRlQ6PrQXfyDdkvM8tPTEwMDspJO8lX8r3hAgsX3b7DIVrQ6HZO7RlRKMiS5KgZLY48a3RLy1As/j+PRYPoFgBgmTIslaBUKs2Mt61kKBSKsbGx0dHRpqYmkUhUWlpaV1cnkUji4+PT0tJaWlpMrYGsnG4lobcMA28BAAAAlh0bvlK2/eh2OT64LC4+8eudTuSr4a9oFYJzF4LY0mxK5ej3vhcMw9yBgcFLl6857HKh1VfJq7y8fTs4N/LTFHjvgcO8u/tpSEp+RRbgzr8VFWt5eJqRmU0WJi/RaDTBV6+TrZOWG11yfHw8NS3Dae8BtlCsy35dIQI2wKXt4U2lZeX0tyGhN9gfzQ9Jpuu5dv0mO/531kNkioXR7UK0h5Y2Jn/xzjddgZeu0JIUZCIHkBxz9qDR0NZMBV6yWrJy9uXkG++zftZWc2P+EN0KTCGtLRKLyFTaLNeYWEajkjWXi5jFJM1yk6vSqDqqxXSxWqm5QtVkdRK60WqpytRGF5+iLuqgi2di8+LV2LYGGpW8Xz7zV+D9CCCcsbFx3pBb0p3o7e01ldtKJJKYmBg6rpb8WFBQcP369ZCQkKKiIvIrsVicm5t79erV4uJiU9EtWbmGyYi5zysTD7cs6WEAgBVGI28qpb2juo5ZexgKOXkXNjVNvTurLFjGyNbLm/qNbHB6MYu7cNK62TuEwGK6VXK58UO6zA6m2X0BWDiIbhHdLqqGxqbdLvuPnfCS648RpjHo1zudsnLy2JlGo1uZrOeoxymy5D63oyGhN0JvRBw97vmNozNZrKKymre2wiIR+0K1eswv4JJhgdqRkRHP73xMjQXmoU3a5bzvRX2DdjpuJtvSaPiX+OPj42E3I8nmdn671z/oMvmefCXfk+XDI6LoSFJJRSWZf8rre7IY+Uq+J1Nr21Qkx41uCdJmo+UmyI9kJvlVRWWV5YfIFMtH3QreHhrdnvA843nmrNPeA5euXCNHw+OkF41fC588pYuR40Pm+/oFkvmH3E/QgyaZ/vff1Nyyx/UQWf6Ep3d8YjKZ6BrI18HB5dAbsBiiW8FoZHne9mu5hWXW2/vky/iLtae6b1nHLT6zdotvnsFSqoYYp416NWo2bA+vNXycnqI5as9GvWo2G12iGqyiFyhLdWGa5CtZ6pYsqlJf3f0rpSZ+BBCOclTFq3KrUChM1UmoqqrKzMzMysq6ePHinTt3Hj16JBKJzp8/7+npmZSUJBaLi4uLk5OTT58+/fjxY7K8qfRWMf1Uz7s9JTS63d8St3THAABWFlm+75b1eh0t91SpmeUlvmaq/zne7WLWmehopkIg9x2cv/XV67Z4ZHYYfDr7zl04spjEpi4yBCavmz6wDgn8jvNyO5jm9gVggSG6tbXoVq1Wh9+M+Mef/JMldW/XvPfBAbdDg2bv9xcWjT65uR7V3f3W9aC722GP7rcy3sLc6JbsnX9g8DeOztGxcezg3MnJybyCJzu/3cuN5wqLRLyBn3QTdCQmd9gvTQw9v/MZGZkpOWcKjZ7ZhU0N7yUys3NJO496nOrq6mZn0mCRNLWquoadaapgAi+6pZEomxrzmsSm4ZYfIqMsj24Fbw/9Q5BdPns+gI2DJyYmkpIfkJm8jNhowQT2UXj3Hzxk/+5shs79VMAGILoViEoSuFnXifdOberSDdOQVScwEe3my3WcpRT5nqTTv36bf06zTDeaQ1ab6KG7DLALlHDjVmmCw3rmgiS2vIMs1tWcF7x9AznZ2l2t1btCkKU4kk1sdLrOLNYv7yi6+iXpCK53yzAzEmTRaKR51wOjxCusR4roFhYLO+R2YmLqfcro08levnz57NmzR48ekd8ODQ2lpaVFRERkZGQ8f/68pKQkJyenoaGhu7ubfE1PTw8ICAgNDW1sbDQV3fZN33oiVfefbU8nWx8eMQwkAACEpyoPtNP1hTzuVst0Ha3mfP9tpBe0zjPf5CfW8oapoa/6U6rnZtJZ8shgLh1U0nJjy+SHOZGL3M1h01cnqlJf3dY3br9Mu3Dt5VEeug/s17pm6l0Rza0Lt25roJjpwkklsR669W+NacKdOoamh0es3WJvZyTuXFYHc5Z9AVhwiG5tKrqdnJwMuRY61weXubq6sXXQFgEtOMB7uhdNWnnDVw2jWxoLcosqUIa1C2hFWu7w3pIyCVmAbPfg0eNktWwJ1KycPFoAwZLG04IPbJUAtm4A2SnuYjTWJE19Uf+St4bc/EK3Ix5JySnsHAujW4Js17DcBJ3JNsnyQ2QUjW7JGq6EhNEBrdzp9t2EEcXMxZ6w7aHR7R7XQ6869D6Hp/m4y76Dbe2v2JlGo9vpfzAHmppb9Ocrh4aGzez1coToVhjyTFdyGtyTqtd9p0Etp0/PjOzgX2PQ4R6u6exSKpGXLvP1KdVbrCPRkfTznLhbqLu6afWaTcHcbJj8BxCzlcwM0Z8JiwbRLSwKw2oJ5M2RF7M2NDRIJJLs7OyMjAyRSNTW1tbe3h4REREUFJSfn19XV0c6pl1dXWT+4OCgTCYrLi5OSEjw8/MrLCzs7Ow0ld6y78IjylFepV0AgAUjjdq6ZtV6x7vc3r1C7LNpzapNvFR0NtW67pOd+Z5Sf6qTXixrbOtalcR386rVn1yeuffP0i6cqsiLzLHzLecu1xGn6xA6pVrxYNGlIUtxXLNq9cYvr5fLNeU+BnHnsjqYs+wLwCJAdGtT0e3AwODnn/9xrtHthx/9S319/aLtyKsO6R7XQ9yCs7SUgeFQXMPolian3DIILBr+sgksXSd3TCj5Fc1Sg69eZ8fJajSaoOAQXgkFU4w+Zo20mbycF02SjZJNcwNiMyyPbumh4+bRhtUeLD9ERtHo1rCYLJ14o3GFbY+p4c9G62YYjW7ZQhnXb0TwkmLbg+hWGExC55DM633J7jqQjn4gWzGAuXFv6ga9GdKEL1ev2RA8/V+oKt/TMAXWqbu8STeCoINdOxME+5fzFmM6go6pVtARlDcViUUNBvvR3yxKDPcPDPSPTTVZjExXJC41iiwTGH63iFs1WCXTFY8rNyxvR0fN1HaZLRahIU1KCDOyWuPN49WnYzZhsGmyfJFYwi5pJrqV65Y0ckDogRIvi8JsYC1UajWvWgJ5y+MGrFVVVSKRqKKi4tWrVzU1NYWFhaSH1t7eXlRUFBoamp+f39DQMDAwoGKQ1/b29paUlKSlpYWHhwcFBZFXmYpu2fdWtg0qW3+jBICl1xyzxfDjaq22I3ab7kPxIstLRclT9sx+f1Jt8Cd6N06Z2Dr95H6tl3hq85Z24VR5J0mH0CWF1waVWPeRP6enBwxZiodHytT1imHcubwO5iz70lEuFpXr+pTy5nymGxyTx3YPNbLa1Bimg5pvvM4yt/OcUyfDh6pgAqJbm4pu51T9dqlK5dK09BtH55KyqWCEJoDuxz0H9Es3GGZ2NM309Qs0HBBKi59yszxuJEojRRoL0sSQhol0RKfhg8uMoiktL5CVDw0dO+HFy3ONBoumWB7dqtXqcxeCuEEzzYi5wfGcDpEhGt0eOHSsrf0V+Z43DQ7K2ceFCd4e9jFlvLzb8uhWO12Sgvxql/N+8s+s8MnTgUWsB7KYEN0upOYo+zWr7GPY/6SbIu1XrbaPatZfqtR3LTf27UpwID05X34iOxUEr3bLMJ/w0cuGk6bvHlw8TJdUb0dUtdeZ2wY5k91Rgzpx0kxeOWBuAV95upuxYRTyDFdjHXe91abyas+tsvPSrzJs2Dy9MnZMVm6QvNPUPlHG/dHEqFvmys1wcJDR0dMAZrGFbsfGxumcgYEBNl1tbm4uKipqa2sjPaXBwcGsrKycnJy8vDwyMyMjIyAgICkpqaqqqr6+nixDln/79m1LS4tIJMrMzLx//76bm1tFRYWp6JZsiG6RHfnLxscAAAtElqz7uNrIXSw0VLX8ZqN3GXJr8F4/g+nqkHd2+pOlXbhy//VGh1vSFHK2nt4KNNNxMow7l9vBNLcvzL8ThwQRM0yb7YtujW3md2LX2/vrj+w20nlev+1yNd6dwQiruVIWHqJbK41utQZP96IlFAxHg/IyO/qjqQGhdDp7PmBUNXWyo1GgX8AltXqMfk83QWsp0DK4NI3llsQ1ha2just5v9sRD+5E5nBLBGhNp7FGWR7daqdHqrLlJsgeccs1zPUQGbK81q3g7REkuiU6pK+9vH3JPzB2E+7HPatr62b9Ey8viG4XUN1VO14k15XqsH7NWseEmbBSXhfmoD/6g9ZeMJK9MkGwYXSoT57uxq+rsGT40S29YdDuaEIt3VmVVBS4TVfti7uzinIfO6YccJGUPtZZXp3gbsc5RHQYBW9IC3OVtYpXb45LU3eZrGSTW0rzdARcF6P7W3BeYtg8WoyMvcCbd3RLBwdx76zUYYb2fHIZyS3MhWGxgp6eHjZdLSkpycrKysvLi4iIOHbsmI+Pz40bN0JCQi5cuODh4XHmzBky/+HDh4WFhU+fPi0rK6uoqKirq5NIJE+ePImJiSHL3L9/31R0SzZEt0g2TdswYsGNQQAA82H8viVCI/Yx3wHQ805DbrVTH7JuiWzmL0o/L2efyGphF85kwqvtiNuOLoFZBnHnMj6YJqLbTZ/YbQsUTf1Tyfe00xVY2LBxs2cO0zHWqDpyvGgl35kBxaY6z6u38ceLAFjPlfICQHRrvdEtHetKH0pGR27yRq1SvMxucnLySkjYjl0uT0XPDAeE0mloaJhN6GjBWdeD7t3db7Ny8thxvnS19Db/W1Gxs5Z/pUhTSYPNRJDcugELNOqWbQYdoUwH/NIdpL+d6yEyNNfoVsD2CBXdUmr1WFNzS1x84uFjJ8mSO7/dy47ytg2IbhfKVC/KK0//ET6q6nCHj9etWv/xFicvTyf7n61fs3aLx90GbiefDs3g1VPTqsS+m1YznTAzfzH6cAxreSyDfnRLI1eHBP0xtiqR9yfcNJMJNzfz+9k0BJ+KUGkhOb0BtvJUl1nul2R69ryLLll1fm379EuMN4+WvPCVMDPnH91q25lKxNw0X8OvgwFgieERBe8ZZd3d3Wy62tbWVlNTU11dXVlZWVJSQr5mZmaeOnXqiy+++Prrr52cnI4fP+7l5RUTE5OUlJSXl0cXKy0tzcrKCgsL8/f3Dw8PNxXdkg3RLZJN0zbgSWUAsNCY6NZXZKR7M5eCoe825JbQlPuQTsImX5H+2Y4WVF212ks01ZuwrAvH9Em+jNNfiL6eef4BSuSbZjy6XZ4H00R0y+tqinU9yZmiHDr8AcV0ZICPmDcOlwm1jZTvgJXOKq6UF4atRbeGlm90yz7dq7BIRAM7L29fhYL/qDRTtW6zcvIs3BBZ/htH54InT4OCQ7iRIpm/y3lfSZnE8zsf7nwz6PBSOoaX9yuaEXNr9S5QrVvt9OBfui06ZJj3bLe5HiKeuUa3ArZH2OiWNTExkZT8wNTfbvlCdLsgNNK7jkaeU0HIiq7qolvODU0b7Fwui/Xv26dPMbbzyqMVVDWqjqLArevX2dl9Ym7U7VRYzL9gWDp60a0q30v/aWzT9G51ZIalGLkAY+Z/mTCVb9ISEzP3LdJBNOyFkzF0IIxDeK2JDixtnpmnVGsFiW71s2Ad5jJya6y1/M1gueA9o4y8h/IC1k4G++Pr16/r6+sjIyN37969Y8eOr7766k+Mc+fO3b9/PyoqKjQ0NDg4+Pbt23fu3Llw4cK1a9dMRbcE/aAU0S0ALBaVyIszuFWP5dHtuw65ZdBbc9Y6xkzdmqOR1yZ62K3ebGen1zCLunDM57jGyi9Yf9q45Az+3Mv4YJqIbtnuLmWsWIf+IHSmk8xW7ZhhrSUjYKkt/ZXygkF0a73RLVFVXbtj9x6/gEuxd+K5t9hzGWZ29FVGI9HaunryW142xy5/8MhxbnJH5wdcvMxWVDDfWjo02NTjtoiEpGTyW7bwAlsA90X9S96SufmFbkc8kpJT2Dk0uo2LT+QtaTS61U6X3A2/FU0mbslg3i5beIh45hrdCtied4hug4JDuDHx+Ph4dW1dQWGRRv+p2WRDjk6WJunLBaLbBUCfOLzOIZGfx8mSdf3+DXum+/1El9h/m7GHESe78IuuBpY3GY0OKdNh8dLRi26ZDvR2I7EyvdVx6u5C5iVb3XQPYdCbvBw2cS6N6EhVtrPLDJCZrVasShKsq35AxztHpZY3yfQOlMnm8ZeZZ3Q7NUCYncNcIpot0QtgzKzRrSlNTU25ubmhoaHu7u6HDx/28PBwdHR0cXHZsWPH/v37z58/f+nSpZCQkICAgFmjW8NmAAAsECarMhpCWRrdqkp9Zx9yywzh5A+5nV6BJNB+rV7fbKNTslTky8+UZ+/CMVsxWp/X6tPGJWd81O3yPJgma93q/WOePbpl1uMtNtwAUzLC4BkbsOIt9ZXyAkJ0a9XRLX1umMMul53f7t3jeuhVh5Erb8PMjszx9Qv8xtE5OjZOzXkyslT6+rD7yR279zwv1jvN0wiVFjTgDmulFRvofEsGhNIHqdEKD0YXoLEjd4HM7FzSzqMep7q6utnFWlrbXA+5k12uqq5hZ5I2k2Z4n/XjjTs2Fd3SndrlvO9bF1ejz3ab0yHieYfoVqj2zCm6bWpucdp7gKzhrWzmL0KrN5Al6182sDPHx8fDbkZyg3XbgOhWaFO5Lemm8zNUGjjaGTylSiH2MXrLfFddSiwNLqceLysJXGf8bsGp3FZ3CSHkrsyXXnRbG2JqyDCn50rHxm7cvMXe3tgUzl4aMWubuvGQ6ZrzC8gaJStN8HHazF5QbdjqlTF9wEw3j/NyIaJbvadR0xswcS8bzJ1hrVtuwQRLFBcXOzs779u378KFC7du3fruu+88PT1Pnz595MgRb29vHx8fUy9EwQQAWHxMF8jYJ6yWPp2V3vVifsgt6cIZH3LLkjeL715n+mbXEyS6/oAsxdFgmKR2ti6cLNXBRNZm/Hm2MMMg7lzGB1Og6JZ2no1V+7X68BqWBqJbRLdLE91qp0eqmrmT3WhmJ5P1HPU4RV61z+1oSOiNsJuRPuf8d367l8wh34+Pj3PXwHm22L4X9TNxnkajCQoOIfN5KzeFDozllQLgosNyuWVz2cSQtM0/6DL5nnwl35NlwiOiuO3s7etzP+5JlnTe53bY/SQ7UNdUdKudrkJg9Nlucz1EPDS6ddjl4nrInfc0NjpFx8YtUHvmFN3SRJh9alzBk6da5s/94GE6OcLsMQ+9EUFr3e47cKSt/ZWZHV92EN0Ka+pRV74Gua3W3IMURN66HljKLCNGjPXndEwO8l1qhqNujT0sgl50TfW5y30sugCbuj+OqTPAHBb7GH6Nc7NUXc2iWA/mlsapJN1k8ziEiW5prV5a3oGp/GC+SgOAUeYfU2YhHx+fsLCwtLS0pKSke/fu3bp1Kyoqys/PLzg4+PTp06ZehceUAcDik6e7Ga9rZOoBYvrmPeTWBOYj2LXGunb6eF045rN8I10XeYarrnJuHvoFJhnGncv3YAo66tbYv1smvJ7lljJYgRDdIrpdsuiWRnVmnhJmNLMjBgYGL12+5rDLhX1EmNPeA6lpGUZDyZIyCdkE9xliVFZOHnmhJTfR01K2hqUAeDIys8kKz10IYseWkm8ePHxE2jZrO1vb2ml6yx0dbCa6bWhs2u2y3+iz3ag5HSIuGt2aeRqb0fKygrRnTtGtlom8vc/6kb8Ld0TtxMREdm7+Prej7IbIRv0Dg7mDc20DolsB0Vvk7LzyZUY/mqHRrZFxAbQWFRvd1oVts9/iZDCCo5kNK/Vey9y+t84hstn6uqb6jymrM17UVVXkxSlcy/SzNxkMTCb4c6RRW5mhyu1GD4sxGv5KmGIF03GtiebJG8SiojpaXIGJbtf5659KmUdDzCm6pbu8zrNIPpPhAsyRclRFY9Oxsam3v4GBgblGtykpKQEBAXfu3ImLi4uNjT137lx0dHR8fDyZ6ezsbOpVZEN0i2TTtA2kMUt3JABgZaC5qsGHu3pv5SbNe8itLNPT3n6LH+85ULpC+Wv1npJqaRdO4rtOd/MQL3BmCkAZzeBgmpH6GMv2YAoV3TKdZyP9SaarzH2+AgAD0S2i2yWLbudJrR7r7x8g0+CgfGJiYqmbYxJpG2mhJe0cUSiE3RdrO0QL0R6lcpSsznC09dDQMN2WLT2ajAvRrVDogynWOiZ0mOwh0S6U4139Q65qCNdFupyCCcx1yDrXVE4vjZZEWO+Vx3u0sZlBvktPP7rVNE/tPjcd1TSHbdW7mpKnu+mSXF6Eqrvm2WgXqHfJxBSNtXc9uG3WQgeE7LHbBnJxpXfFp8o7uW7mtUabx6tlwQySJdeNcvZP3J7gsH7NXKPbqdIZe9xcLRqqA2CESq2msalq+lPekZGRuUa39fX1J0+eDA8PDwsLu3LlyqlTp4IYJ06c2L59u6lXkQ3RLbLxsYpTxQgAYGHQd239mv7tMbwelPb/b+/cf6O4sjz+r2ykkeaHGe2uWK12M9JK80Ok+SFStEITrTQSP4wURSPtDygTzU5GSiJEeCcxIWTBEIsEzIYEsoGQBT+xCY6Nsd3t7na3+2l3d1X1w9gYTMC0sQ37rXu6L5f2O4MHd/n70VdH554691FllFQdl2/N3ew+3XAh/tRt0bN45VZ94uyFVw+HjJGnZ1RYIwAAEbVJREFUetzPw25tTBo3fqu9hVPF3KduGuemut9z+xqFYLKQxbY2rtWL+axKt/IrhOrHgal2FVz+nz3ZlLB0W8Ol24VsqtItIZsZlm6fCSX/f7/slvB+/fsddQs+sdXoqzwHlPrr3LRfvvj7txu+bO/pbj97/O1t7tar1RVDv/sw8MKW373deKGr58LpHb/b8rOFnyC7eVG+g/Hq9uoZoZbqNz6eA0+XbvVV2rJt97nO7q6e7osN21/+xYKtHm5e+M8t7mbB2+vcS4TTP/aGumivVf/Bl7xP8cLq9oq93/muO8grfz6tpu66eHy7+7ER8yGtvDydc7HhDy89fdnnIodfkk1y39iNi+z+7H7zQd2ONZduy492P1vlFr2ELERvVqD3mZ2ZmVlr6TaXy+3cubOpqens2bMNDQ27du3au3fve++999Zbb73++utL9dJ/EoSpq978JYSQdaRw8Q9b9N1R55d1i9weqJ3rEawz/sLx2exy+9hWv6z95Svb6852LDG7y+pu4fTXU3/+8hsf4KboYuO723Dzs2F/Gb9xWPSrdDV6MZ9Z6da4eW644N7ldn65Vz1fvLTXx73oyQJYumXplqVbQmoPlm6fCfIdgCX09DuhhZ7Dr71ofKF4y9Y/NnQvfGl0yn9y+5MPGf/8xdeO+6vrk+q+bSntXW5blr8R1aVbl8zFd7du+TvjvA73LNiEZG7Kd1o9EenviW3b27HIv1PZxWzVe8Xiym97MrVbQP+4p2pri1L8bNXyqi/7TWOQLdvcxa95r1uF2p9hrVv0EqLRnwgzt7u9devWWqu377///v8q6uvr9+3bd/To0Q8//BDBXbt2LZqPKWQuXTuGnt9lIIRsMm4+dRP191t3XKj6SyZ/nfoTqCdvvZZfSFz+3UN5bXPFP67PdO42biQWzl5mFbdwsrTkuR1btxi3Jcf8U/zb9hVYtHT7uDYv5jMs3aqb52Ov/fOTm+ctW98+m2TdliwGS7cs3bJ0S0jtwdLt82GuNDU5BZWWv62UtKmN/dLAkixWuhXuT618XpVLtHRW6afsFStTL3/lV1xe6a/+oax+i15ClkB/qUzvV3D//v2fULpta2s7depUfX39wYMH9ZfKjhw5smg+ppC59G4J3OiWEPK3pqT+N71UWaq0zv9RWn52zapv4UqruSEkq2OzX8xVPl+QzU0NPCn/VDZj6fb27Tu//e1/LP0+1+L6l3/9VTQafd5rJ4SsAZZuyXohn2Vbv71c1YYJNbpXrNowYeUteglZhoV7JszNzU1MTKypdHvw4MGTJ0/KLreff/75N998c+LEif379+/YsWNhMgafq7zhy90SCCGEEEJqDg8/KW/G0u2jR4+OHK1fa+n2j2/+Sb+OQQipCVi6JevAVLKr8+R//WadPhAxFXc3q/3g1cU+KLzBKdm+rp6O0395abHPZBOyJsw9E3T9dHp6evV120wmc+bMmR9++OGrr77av3//0aNHGxsb6+rqDhw4gObCfAwus2A67pZACCGEEFJzePhJeTOWbh+r7100nv6fF3/1b6sp2v7DP/7T7t17i8Wx571qQsjaYOmWrANqq4QXfvHyX1qsZ/8XW6mTr8hGZq/8+VKNbThQ6txR2b23IcxfdJK/mtLMTNWLt4/VbesqS7ddXV09PT2RSOT8+fOffPJJfX39gQMH9u3bB/+jjz6qSsawegr9yq3eq4EQQgghhGx8PPykvElLt4SQzQBLt2Q9KK3nFr2lFfbA3cDIBnmTtbh0shGZn3+kq6h6z9nZ2dlVfq/szJkzgUBgcHDw7Nmzp06d+uyzz44fP15fX//pp59+/PHHZiYGxLAyvt7l1qwXE0IIIYSQjY+Hn5RZuiWEeBaWbgkhpHYxd7ydrWxEOzMzs2L1NpfLNTY2BoPBaDR6/vz5r7/+Gs1Dhw4dPnz4yJEje/bsMeu2M5W3a/V0kJ6OEEIIIYTUBB5+UmbplhDiWVi6JYSQmube9ANdvZ2ffyTBFau3oVDo6tWrcHw+33ffffftt9+2traeOHHiiy++2LNnz5tvvrmwbovB9Vxwnt8ZE0IIIYSQn4KHn5RZuiWEeBaWbgkhpKYxv1dmbmIwOzs7tfS+t83NzbZtz8zMdHV1tbe3X1IcO3bszJkzO3fufOedd/Jqf1u9T8Jjo0YM6RoxIYQQQgipFTz8pMzSLSHEs7B0Swghtc7Dh7Nm9dasq05PT09MTFTVbdPp9LVr1x48eDA/P59IJOLxeCgUOnXq1OnTpw8ePHjo0KGmpiZ01IOY79tyqwRCCCGEkBrFw0/KLN0SQjwLS7eEEOIBqqq3ZnV1bm7u/v375v4JXV1dkUikWCzi3nRiYmJ8fDyRSFy6dKm5ufncuXPXr1+/d++e7m5+DI11W0IIIYSQ2sXDT8os3RJCPAtLt4QQ4g1KMzNm9bZU2aNWMzMzc+/evVu3bvX29hYKhR9//HF8fHxychIRxIvF4sTEhJk/P//IHBN6+HD2MSGEEEIIqU08/KTM0i0hxLOwdEsIIZ5hdm7OrLQuWsA1efRoyS1rzdd4+b4tIYQQQogH8PCTMku3hBDPwtItIYR4iYWvykoBd5WFV+lu7pAA3Zt+sN7LJoQQQggh642Hn5RZuiWEeBaWbgkhxHvMzs1VlV+lhjv9oPTw4SyOSiV3fv4RBB/BhRXbhdvmEkIIIYSQ2sXDT8os3RJCPAtLt4QQ4kkWvn67Jq242QIhhBBCCKktPPykzNItIcSzsHRLCCEeZn7+0cOHs9MPSmuq2PJzZIQQQggh3sPDT8qLFmH/fSVYuiWE1AAs3RJCyGZAarilmZnpB6V70w8gKdRC8BFkxZYQQgghxNt4+El5qVdo11q3ZemWELLhYOmWEEIIIYQQQgjxPB5+Ul5mA4Q11W1ZuiWEbDhYuiWEEEIIIYQQQjyPh5+UlynFLqzeLp/M0i0hZGPB0i0hhBBCCCGEEOJ5PPykvHw11qzerpjJ0i0hZGPB0i0hhBBCCCGEEOJ5PPykvGJBVqq3q0lj6ZYQsrFg6ZYQQgghhBBCCPE8Hn5SXk1NdpWwdEsI2ViwdEsIIYQQQgghhHgeDz8ps3RLCPEsLN0SQgghhBBCCCGex8NPyizdEkI8C0u3hBBCCCGEEEKI5/HwkzJLt4QQz8LSLSGEEEIIIYQQ4nk8/KTM0i0hxLOwdEsIIYQQQgghhHgeDz8ps3RLCPEsLN0SQgghhBBCCCGex8NPyizdEkI8C0u3hBBCCCGEEEKI5/Hwk/KzLN32RX03hgd6w32uIv3QjWGfqDeCeL9rIwN9Ub/ZhJDQHxvsjfhEN4b9pgPbHx3sG/aL4PcO9cOWgxFf/7B/AM1hvy8a6Av7RIj4Y8EBHBoeFLnB4UF/NOBzbVA0GHOFYCAWQjyApuu7NhgLBmLwXWcwOjgUD4ViQfihGJxQ0I27CieGcGgoFgy7CYFIYiiSQDMQjgfhDCfdJoSj7qF4KJoKq2YQh+QoItGkKxwVxVKR4WQYiioHVg07hFngYygE0ZQxyyPDqQjriSQjQzEcCg/Fw8FYaDg1HE6EIaw8nIyIQvGhshBXGkpEgu6phYLxIVFA+QGlQVyiaAA2EA9L0+9ePdf6cKmjAb/rl+Vzr+0QLrg+BNuPK49DKgIrP0FfDH6gXzli8bMzhfHxU1ZpaPq17R/2+d1k/PT9/rh7VNQf9Q3EkOAvH1IdB+PBckLUH4i7P/RAPBRM4BxD/uigigS0/LFBnRNIuEJ32GByCKNJR7GhZFj8EK5nMhJMhHFB1CVyr1gwEQkpBXHFYpgrDA0lo8F4JBCDHxGFEtFwKhaMD4vQNB3YoWQslCgL/mAsAivBYDwqQbHB2LBoKBGLjCR0LygQG1Y5cbGmEImkEqF4LJxKoKltGDaZiKSSQ4l4dCQ1nEpFkklYKJxIQJFEIjY6Gh0ZQQQWR9GMoZlMRlMpOLF02o2ooNg4IiMjOAonro4mMpmyjxylZCaTSKeT6Uwqm4UPi2bCTRhNZa34aDqZQSSTGHVzxGqlMrDpEXRMp+FDidHRtG0jIsFRy3JlW6lsRjRiZUU6WG5abhckjyghnkhjARmkQUhIIllZKJFJp+ysVtLKjDhWIpvWPixy4CCSsNJJOwMbz44m4NiZmHJg47BWuizbVTyXHc6OxJwMFEWkYiPWaAyH7HTETkfhOBko4mSHrHTYyUAhOw0N5bIhJzOUt4JOJpjLDDrpUMEK5LPBghUsOoGiPZDL+AvWQD4r6s9n+3KZ/oLdV7D6ijZ0o2j3FqxeOGO5noJ1vWhfLzo9Rbun6FxHpOh0wx/LQ91Fp6tgQT8UbajbPeT8gGDRvoZ40Ya6x3K6eU2pC2k3C9fKTSTnvi863xeca3CU7SrmYSvKd+Ssa24k/30xd7VgI/ma6gLbkbdEV9Ecy3cWbFFHwWnPWbCdyFH2iQq5K3lE8pJwJW+btj1vXyk4bThUzMFRTTi5tpzdqnQFHdHMO7CtOUs1nZac1Zq325BfdA9ByBSr0uxmBwkO1II4IspHUIRICw4hWMiLbUaXnNNkZ13fsRBEpAnJsDa62KbcSC6n4hjTuWxZrYUCItBl227O50VNjiOSQ64qQR25jCaGUoL/f5YFW+5eOQoLXbLtcqbj6rKNQfKXLKwHK3F92Mto5vLliLKXVQIkzuVKvil3nKwlaeWOltNs5y5nkZyHD7U4eURETYgjAfGs7foISkIlKMmwrbkCrM7RehKpjCl+OVnilYgeX/ymjA01Zx1XVq6srKODLXbebEpaq1Mwm085Vs7tUhkK/uW01WrnoRaVACs+bDOGVUKzzRwTM6YtSRZrChHpq49qW3YytjmdRERm/ElTnZ1emDlgqzp9mUtHXD+ba07bolYrjybUZuVblW3OoIvTNGq5PhKQjAiSlW3JOKaacX3c0axyczTbbhcQkSBGELVgDUqtWINSG5bxdKTKx1CwSIP0UemiJnXMZORIUPwWrBbrxzKwKpyCsojAaXUX6WaKRdwUujSPZCVNd5QuOKRzJEHiEoQj40uC2wvxUasdlzTjwF6x8rCIoNkqRysd9SxtSjgkXZAsvo6I7zpqDeVJ1WhtRveWShCZZlNmwUqkqQdfOEtb2lV7JtecysJCaLaO2hIU2zJiidC8ks3jqBZ6SbJYU4hIX31UW3FwyJxOIiIzrptwzIUZA7oJsC0j2TacGk7TjTjiIyjSETjtafsKmvgZoVcyA78Vp4+juICprLauRspyE7ByxFUTvTpwuXCOKngFV0ZJ58shSAd1pMrHULDSXR81JzWTkSNB8SWnqqPupdesB9RCF8xrrkcskjswGvwRC84VrH/EVVsy256yIDgQIvA7Rh0dhI8gbGc6B6tztHREBtS+JIuvI3p88WVSGcfsroOyEt2UNKzEbJqOnkUEvzWR0dOZCbI8fdbmmBB6mWOaklWZZ20uowNOMtuJGZGsmm4kkRWV40lLgtKEIxFp6gTYzhEHFgkdKRuSiPhPxqxExJEuUFs8A1/6yiDampIEHUevq6M5PQVGEOHQjbE7UN/NKVH/+N2qSJV/vTAJi7SB8bv9CMJXFrpRvA1fCxHkSLDsj93pRXP8rh5WIn0qXzJ1vin07S1M6mG1RTIO6Rw99Y3C7fKSCrchvYC+4h0IkYGbd/vHpmB94z/CujljU3JU50gEViS+JIuvI+LDEV8mlXHM7jqINLMpaViJ2TQdPYsIfm9+Uk9nJsjyymf99JgQej01pqH+wh0fVpW/PVB0fdO6Dk4qP4kElenmQH0YTck3dldlIn5HNafEkYg0IWnC+tQgSNBxnWOMWY6II12gG7lb8KWvDKKtKUnQcfTyY/GVKTCCSOfLIXMiHanyMZQsWBamT8o8o3Jy/rYPVyk3OVAo+7BowpGIWEmAxHETVNxNqMhfnLrh3EIcQlPb/twkDukcSZC4BOH0qwElQQclGXZw7C5sP64qTgTrr0hHYEXi+3Fezq0BjImhlPVjRuXDER8JkiMJIvg6iDSzKWmDWJ7RNB09i2gQV8me0NOZCbAyO1Q1JoRe5pim/h+9FWuYItcbKwAAABR0RVh0U29mdHdhcmUAWWFuZGV4LkRpc2tOX/iRAAAAAElFTkSuQmCC)"
      ],
      "metadata": {
        "id": "8yi-EK3OqwBl"
      }
    }
  ]
}